{
  "cells": [
    {
      "cell_type": "code",
      "execution_count": null,
      "metadata": {
        "id": "686cqo3reYT8"
      },
      "outputs": [],
      "source": [
        "import networkx as nx\n",
        "import pandas as pd\n",
        "import matplotlib.pyplot as plt\n",
        "import tensorflow as tf\n",
        "import os\n",
        "import pickle\n",
        "import json\n",
        "import numpy as np\n",
        "import ast\n",
        "from wordcloud import WordCloud\n",
        "import infomap\n",
        "import shutil\n",
        "import tensorflow_datasets as tfds\n",
        "import tensorflow_hub as hub\n",
        "import tensorflow_text as text\n",
        "from official.nlp import optimization"
      ]
    },
    {
      "cell_type": "code",
      "execution_count": null,
      "metadata": {
        "id": "6eqkrqTj6y3W"
      },
      "outputs": [],
      "source": [
        "G_weighted = pickle.load(open(\"Data\\\\G_weighted_largest_component.pickle\", \"rb\"))\n",
        "verified = json.load(open('Data\\\\ser_data_verified', 'r'))\n",
        "username = json.load(open('Data\\\\user_data_username', 'r'))\n",
        "days_of_collection = json.load(open('Data\\\\day_dict', 'r'))\n",
        "user_text_data_misinf2 = pd.read_csv('Data\\\\cleaned_user_text_data_misinf2.csv', usecols=[2,3,4])\n",
        "user_text_data_misinf2['Number_of_tweets'] = [len(ast.literal_eval(tweets)) for tweets in user_text_data_misinf2['Cleaned_Tweets']]\n",
        "edges_table = pd.read_csv(\"Data\\\\user_retweet_network_data_full.csv\")\n",
        "sorted_communities_louvain = pickle.load(open('Data\\\\base_louvain_sorted_communities.pickle', 'rb'))"
      ]
    },
    {
      "cell_type": "markdown",
      "metadata": {
        "id": "3ZUlxTM76y3f"
      },
      "source": [
        "# Data overview"
      ]
    },
    {
      "cell_type": "code",
      "source": [
        "average_tweets_per_original_account = np.mean([len(ast.literal_eval(tweets)) for tweets in user_text_data_misinf2['Cleaned_Tweets']])\n",
        "print(average_tweets_per_original_account)"
      ],
      "metadata": {
        "id": "6tM2u6Pv8io_"
      },
      "execution_count": null,
      "outputs": []
    },
    {
      "cell_type": "code",
      "source": [
        "plt.style.use(\"seaborn\")\n",
        "plt.plot(days_of_collection.keys(), days_of_collection.values())\n",
        "plt.xticks([0,4,9,14,19,24,30])\n",
        "plt.xlabel('Day of collection')\n",
        "plt.ylabel('Number of posts')\n",
        "plt.savefig(\"D:\\\\M4R_oskar\\\\Figures\\\\tweets_over_time.png\", bbox_inches='tight')"
      ],
      "metadata": {
        "id": "go_3lCmO8guM"
      },
      "execution_count": null,
      "outputs": []
    },
    {
      "cell_type": "code",
      "source": [
        "# wordcloud for dataset\n",
        "text = \" \".join(str(ast.literal_eval(user_text_data_misinf2['Cleaned_Tweets'][i])) for i in range(len(user_text_data_misinf2['Cleaned_Tweets']))) # all text from all tweets\n",
        "cloud = WordCloud(collocations=False, background_color='white').generate(text)  # generate wordcloud\n",
        "plt.imshow(cloud, interpolation='bilinear')\n",
        "plt.axis('off')\n",
        "plt.show()"
      ],
      "metadata": {
        "id": "e0wjlfn-BI5m"
      },
      "execution_count": null,
      "outputs": []
    },
    {
      "cell_type": "markdown",
      "source": [
        "# Misinformation classification"
      ],
      "metadata": {
        "id": "-vMbgnOZksuR"
      }
    },
    {
      "cell_type": "code",
      "source": [
        "def build_classifier_model():\n",
        "  text_input = tf.keras.layers.Input(shape=(), dtype=tf.string, name='text')  # input\n",
        "  preprocessing_layer = hub.KerasLayer('https://tfhub.dev/tensorflow/bert_en_uncased_preprocess/3', name='preprocessing')  # preprocessing\n",
        "  encoder_inputs = preprocessing_layer(text_input)  # preprocessed inputs to the encoder\n",
        "  encoder = hub.KerasLayer('https://tfhub.dev/tensorflow/small_bert/bert_en_uncased_L-6_H-128_A-2/1', trainable=True, name='BERT_encoder')  # encoder\n",
        "  outputs = encoder(encoder_inputs)  # run through BERT model\n",
        "  net = outputs['pooled_output'] # output of BERT encoder\n",
        "  net = tf.keras.layers.Dense(1, activation=None, name='classifier')(net)  # classification layer\n",
        "  return tf.keras.Model(text_input, net)"
      ],
      "metadata": {
        "id": "ktkoHpCNgdAV"
      },
      "execution_count": null,
      "outputs": []
    },
    {
      "cell_type": "code",
      "source": [
        "loss = tf.keras.losses.BinaryCrossentropy(from_logits=True)  # loss function used\n",
        "metrics = tf.metrics.BinaryAccuracy()  # accuracy metric"
      ],
      "metadata": {
        "id": "xAMbqh88gyrS"
      },
      "execution_count": null,
      "outputs": []
    },
    {
      "cell_type": "markdown",
      "source": [
        "## Hyperparameter tuning"
      ],
      "metadata": {
        "id": "_hOuuIg1ny06"
      }
    },
    {
      "cell_type": "code",
      "source": [
        "early_stopping = tf.keras.callbacks.EarlyStopping(monitor='val_loss', patience = 3)  # set early stopping criterion\n",
        "\n",
        "epochs = 25\n",
        "\n",
        "learning_rate_list = [0.001, 0.0005, 0.0001]\n",
        "batch_size_list = [16, 32, 64, 128, 256]\n",
        "\n",
        "for rate in learning_rate_list:\n",
        "  # search over learning rates\n",
        "  for size in batch_size_list:\n",
        "    #search over batch size\n",
        "    tf.random.set_seed(12345)\n",
        "\n",
        "    batch_size = size\n",
        "    init_lr = rate\n",
        "\n",
        "    AUTOTUNE = tf.data.AUTOTUNE\n",
        "    # training and validation datasets\n",
        "    train_val_data = tf.data.experimental.CsvDataset([\"train_bert\"], [tf.string,tf.int32] ,select_cols=[2,3])\n",
        "\n",
        "    train_val_data.shuffle(buffer_size=len(list(train_val_data)))  # shuffle dataset\n",
        "\n",
        "    train_val_set_size = len(list(train_val_data))\n",
        "    val_n = int(0.2*train_val_set_size)  # size of validation set\n",
        "\n",
        "    train_data = train_val_data.skip(val_n).batch(batch_size)\n",
        "    train_data = train_data.cache().prefetch(buffer_size=AUTOTUNE)  # prefetch for faster training\n",
        "    val_data = train_val_data.take(val_n).batch(batch_size)\n",
        "    val_data = val_data.cache().prefetch(buffer_size=AUTOTUNE)  # prefetch for faster training\n",
        "\n",
        "    steps_per_epoch = train_val_set_size - val_n\n",
        "    num_train_steps = steps_per_epoch * epochs\n",
        "    num_warmup_steps = int(0.1*num_train_steps)  # warmup steps\n",
        "    # initialize optimizer\n",
        "    optimizer = optimization.create_optimizer(init_lr=init_lr,\n",
        "                                             num_train_steps=num_train_steps,\n",
        "                                             num_warmup_steps=num_warmup_steps,\n",
        "                                             optimizer_type='adamw')\n",
        "\n",
        "    classifier = build_classifier_model()  # initialize model\n",
        "    #compile and fit\n",
        "    classifier.compile(optimizer=optimizer,\n",
        "                            loss=loss,\n",
        "                            metrics=metrics)\n",
        "    history = classifier.fit(x=train_data, validation_data=val_data, epochs=epochs, callbacks=[early_stopping])\n",
        "    history_dict=history.history\n",
        "    print(f\"Learning rate {rate}, Batch size {size}\")\n",
        "    print(history_dict['loss'])\n",
        "    print(history_dict['val_loss'])\n",
        "    print(history_dict['binary_accuracy'])\n",
        "    print(history_dict['val_binary_accuracy'])"
      ],
      "metadata": {
        "id": "7NZVIM5GiKJe"
      },
      "execution_count": null,
      "outputs": []
    },
    {
      "cell_type": "markdown",
      "source": [
        "## Final model"
      ],
      "metadata": {
        "id": "GVVHV-ki74G1"
      }
    },
    {
      "cell_type": "code",
      "source": [
        "tf.random.set_seed(12345)\n",
        "\n",
        "epochs = 25\n",
        "\n",
        "batch_size = 16\n",
        "init_lr = 0.001\n",
        "\n",
        "AUTOTUNE = tf.data.AUTOTUNE\n",
        "# training and validation dataset\n",
        "train_val_data = tf.data.experimental.CsvDataset([\"train_bert\"], [tf.string,tf.int32], select_cols=[2,3])\n",
        "\n",
        "train_val_data.shuffle(buffer_size=len(list(train_val_data)))\n",
        "train_val_set_size = len(list(train_val_data))\n",
        "val_n = int(0.2*train_val_set_size)\n",
        "\n",
        "train_data = train_val_data.skip(val_n).batch(batch_size)\n",
        "train_data = train_data.cache().prefetch(buffer_size=AUTOTUNE)\n",
        "val_data = train_val_data.take(val_n).batch(batch_size)\n",
        "val_data = val_data.cache().prefetch(buffer_size=AUTOTUNE)\n",
        "\n",
        "steps_per_epoch = train_val_set_size - val_n\n",
        "num_train_steps = steps_per_epoch * epochs\n",
        "num_warmup_steps = int(0.1*num_train_steps)\n",
        "optimizer = optimization.create_optimizer(init_lr=init_lr,\n",
        "                                          num_train_steps=num_train_steps,\n",
        "                                          num_warmup_steps=num_warmup_steps,\n",
        "                                          optimizer_type='adamw')\n",
        "\n",
        "final_classifier = build_classifier_model()\n",
        "final_classifier.compile(optimizer=optimizer,\n",
        "                        loss=loss,\n",
        "                        metrics=metrics)\n",
        "history = final_classifier.fit(x=train_data, validation_data=val_data, epochs=7)\n",
        "\n",
        "final_classifier.save_weights('final_classifier8')"
      ],
      "metadata": {
        "colab": {
          "base_uri": "https://localhost:8080/"
        },
        "id": "eqlSQuPl_Os8",
        "outputId": "5ae66285-5384-4782-c58d-3b3131ad8fd6"
      },
      "execution_count": null,
      "outputs": [
        {
          "output_type": "stream",
          "name": "stdout",
          "text": [
            "Epoch 1/7\n",
            "458/458 [==============================] - 39s 66ms/step - loss: 0.3965 - binary_accuracy: 0.8378 - val_loss: 0.1721 - val_binary_accuracy: 0.9366\n",
            "Epoch 2/7\n",
            "458/458 [==============================] - 31s 68ms/step - loss: 0.1663 - binary_accuracy: 0.9406 - val_loss: 0.1181 - val_binary_accuracy: 0.9656\n",
            "Epoch 3/7\n",
            "458/458 [==============================] - 31s 68ms/step - loss: 0.1149 - binary_accuracy: 0.9653 - val_loss: 0.1293 - val_binary_accuracy: 0.9716\n",
            "Epoch 4/7\n",
            "458/458 [==============================] - 31s 68ms/step - loss: 0.0975 - binary_accuracy: 0.9739 - val_loss: 0.1148 - val_binary_accuracy: 0.9732\n",
            "Epoch 5/7\n",
            "458/458 [==============================] - 32s 69ms/step - loss: 0.0834 - binary_accuracy: 0.9784 - val_loss: 0.1393 - val_binary_accuracy: 0.9716\n",
            "Epoch 6/7\n",
            "458/458 [==============================] - 31s 68ms/step - loss: 0.0684 - binary_accuracy: 0.9821 - val_loss: 0.1381 - val_binary_accuracy: 0.9705\n",
            "Epoch 7/7\n",
            "458/458 [==============================] - 31s 68ms/step - loss: 0.0540 - binary_accuracy: 0.9873 - val_loss: 0.1253 - val_binary_accuracy: 0.9765\n"
          ]
        }
      ]
    },
    {
      "cell_type": "code",
      "source": [
        "train_loss = [0.3965, 0.1663, 0.1149, 0.0975, 0.0834, 0.0684, 0.0540]\n",
        "validation_loss = [0.1721, 0.1181, 0.1293, 0.1148, 0.1393, 0.1381, 0.1253]\n",
        "\n",
        "import matplotlib.pyplot as plt\n",
        "plt.plot(range(1,8), train_loss, label='Train')\n",
        "plt.plot(range(1,8), validation_loss , label='Validation')\n",
        "plt.xlabel('Epochs')\n",
        "plt.ylabel('Loss')\n",
        "plt.legend()\n",
        "plt.savefig('Loss_graph')"
      ],
      "metadata": {
        "colab": {
          "base_uri": "https://localhost:8080/",
          "height": 449
        },
        "id": "MO72elCYKpPk",
        "outputId": "87c2afed-27d7-41ef-de91-6766b5ec5b10"
      },
      "execution_count": null,
      "outputs": [
        {
          "output_type": "display_data",
          "data": {
            "text/plain": [
              "<Figure size 640x480 with 1 Axes>"
            ],
            "image/png": "[encoded data removed]"
          },
          "metadata": {}
        }
      ]
    },
    {
      "cell_type": "code",
      "source": [
        "model = build_classifier_model()\n",
        "model.load_weights('Data\\\\final_classifier8')"
      ],
      "metadata": {
        "colab": {
          "base_uri": "https://localhost:8080/"
        },
        "id": "wIYliz409RWG",
        "outputId": "cb79f137-945a-4f34-9a25-4e47b6dfacf3"
      },
      "execution_count": null,
      "outputs": [
        {
          "output_type": "execute_result",
          "data": {
            "text/plain": [
              "<tensorflow.python.training.tracking.util.CheckpointLoadStatus at 0x7fc37de96a90>"
            ]
          },
          "metadata": {},
          "execution_count": 24
        }
      ]
    },
    {
      "cell_type": "code",
      "source": [
        "test_data = tf.data.experimental.CsvDataset([\"test_bert\"], [tf.string,tf.int32] ,select_cols=[2,3])\n",
        "test_data = test_data.batch(batch_size)\n",
        "test_data = test_data.cache().prefetch(buffer_size=AUTOTUNE)\n",
        "\n",
        "model.compile(optimizer=optimizer, loss=loss, metrics=metrics)\n",
        "\n",
        "model.evaluate(test_data)  # final validation loss and accuracy"
      ],
      "metadata": {
        "colab": {
          "base_uri": "https://localhost:8080/"
        },
        "id": "JEDHOuT68PjN",
        "outputId": "8ef19264-f8ec-4f48-f553-2439fa54d038"
      },
      "execution_count": null,
      "outputs": [
        {
          "output_type": "stream",
          "name": "stdout",
          "text": [
            "143/143 [==============================] - 5s 34ms/step - loss: 0.1724 - binary_accuracy: 0.9733\n"
          ]
        },
        {
          "output_type": "execute_result",
          "data": {
            "text/plain": [
              "[0.1724161058664322, 0.9732879996299744]"
            ]
          },
          "metadata": {},
          "execution_count": 13
        }
      ]
    },
    {
      "cell_type": "markdown",
      "source": [
        "### ROC Curve\n",
        "\n",
        "---\n",
        "\n"
      ],
      "metadata": {
        "id": "jUqmSrdNBQeG"
      }
    },
    {
      "cell_type": "code",
      "source": [
        "from sklearn.metrics import roc_curve, auc, f1_score, precision_score, recall_score, accuracy_score, confusion_matrix\n",
        "\n",
        "test_df = pd.read_csv('D:\\\\Downloads\\\\test_df')\n",
        "\n",
        "true_labels = test_df['Misinformation']\n",
        "predicted_labels = test_df['Prediction_proba']\n",
        "\n",
        "fpr, tpr, thresholds = roc_curve(true_labels, predicted_labels)\n",
        "\n",
        "roc_auc = auc(fpr, tpr)\n",
        "\n",
        "plt.figure()\n",
        "plt.plot(fpr, tpr)\n",
        "plt.plot([0, 1], [0, 1], color='red', label='Random classifier line')\n",
        "plt.xlim([0.0, 1.0])\n",
        "plt.ylim([0.0, 1.0])\n",
        "plt.grid()\n",
        "plt.xlabel('False Positive Rate')\n",
        "plt.ylabel('True Positive Rate')\n",
        "plt.legend(loc=\"lower right\")\n",
        "plt.savefig('D:\\\\M4R_oskar\\\\Figures\\\\ROC_curve.png')\n",
        "plt.show()"
      ],
      "metadata": {
        "id": "_R4QhdSvAyVP"
      },
      "execution_count": null,
      "outputs": []
    },
    {
      "cell_type": "code",
      "source": [
        "threshold = thresholds[np.argmax(tpr - fpr)]  # optimal threshold\n",
        "print(threshold)"
      ],
      "metadata": {
        "id": "TRXRiffmA_a5"
      },
      "execution_count": null,
      "outputs": []
    },
    {
      "cell_type": "markdown",
      "source": [
        "### k-fold cross validation"
      ],
      "metadata": {
        "id": "xA2ua1HXJ7ky"
      }
    },
    {
      "cell_type": "code",
      "source": [
        "AUTOTUNE = tf.data.AUTOTUNE\n",
        "# training and validation dataset\n",
        "train_val_data = tf.data.experimental.CsvDataset([\"train_bert\"], [tf.string,tf.int32], select_cols=[2,3])\n",
        "\n",
        "train_val_data.shuffle(buffer_size=len(list(train_val_data)), seed = 12345)\n",
        "\n",
        "train_val_set_size = len(list(train_val_data))\n",
        "\n",
        "split_size = int(0.2*train_val_set_size)\n",
        "\n",
        "batch_size = 16\n",
        "\n",
        "# prepare folds for cross validation\n",
        "\n",
        "cv_1 = train_val_data.take(split_size).batch(batch_size)\n",
        "cv_1 = cv_1.cache().prefetch(buffer_size=AUTOTUNE)\n",
        "m1 = train_val_data.skip(split_size)\n",
        "cv_2 = m1.take(split_size).batch(batch_size)\n",
        "cv_2 = cv_2.cache().prefetch(buffer_size=AUTOTUNE)\n",
        "m2 = m1.skip(split_size)\n",
        "cv_3 = m2.take(split_size).batch(batch_size)\n",
        "cv_3 = cv_3.cache().prefetch(buffer_size=AUTOTUNE)\n",
        "m3 = m2.skip(split_size)\n",
        "cv_4 = m3.take(split_size).batch(batch_size)\n",
        "cv_4 = cv_4.cache().prefetch(buffer_size=AUTOTUNE)\n",
        "cv_5 = m3.skip(split_size).batch(batch_size)\n",
        "cv_5 = cv_5.cache().prefetch(buffer_size=AUTOTUNE)"
      ],
      "metadata": {
        "id": "1I9rAJlCJ_Z6"
      },
      "execution_count": null,
      "outputs": []
    },
    {
      "cell_type": "code",
      "source": [
        "acc_fold = []\n",
        "val_acc_fold = []\n",
        "loss_fold = []\n",
        "val_loss_fold = []\n",
        "\n",
        "init_lr = 0.001\n",
        "epochs = 25\n",
        "\n",
        "steps_per_epoch = train_val_set_size - split_size\n",
        "num_train_steps = steps_per_epoch * epochs\n",
        "num_warmup_steps = int(0.1*num_train_steps)\n",
        "\n",
        "\n",
        "# fold 1\n",
        "optimizer = optimization.create_optimizer(init_lr=init_lr,\n",
        "                                          num_train_steps=num_train_steps,\n",
        "                                          num_warmup_steps=num_warmup_steps,\n",
        "                                          optimizer_type='adamw')\n",
        "classifier_model_cv1 = build_classifier_model()\n",
        "classifier_model_cv1.compile(optimizer=optimizer,\n",
        "                         loss=loss,\n",
        "                         metrics=metrics)\n",
        "history_cv1 = classifier_model_cv1.fit(x=cv_2.concatenate(cv_3).concatenate(cv_4).concatenate(cv_5),\n",
        "                               validation_data=cv_1,\n",
        "                               epochs=7)\n",
        "history_dict_cv1 = history_cv1.history\n",
        "\n",
        "acc_fold.append(history_dict_cv1['binary_accuracy'])\n",
        "val_acc_fold.append(history_dict_cv1['val_binary_accuracy'])\n",
        "loss_fold.append(history_dict_cv1['loss'])\n",
        "val_loss_fold.append(history_dict_cv1['val_loss'])\n",
        "\n",
        "# fold 2\n",
        "optimizer = optimization.create_optimizer(init_lr=init_lr,\n",
        "                                          num_train_steps=num_train_steps,\n",
        "                                          num_warmup_steps=num_warmup_steps,\n",
        "                                          optimizer_type='adamw')\n",
        "classifier_model_cv2 = build_classifier_model()\n",
        "classifier_model_cv2.compile(optimizer=optimizer,\n",
        "                         loss=loss,\n",
        "                         metrics=metrics)\n",
        "history_cv2 = classifier_model_cv2.fit(x=cv_1.concatenate(cv_3).concatenate(cv_4).concatenate(cv_5),\n",
        "                               validation_data=cv_2,\n",
        "                               epochs=7)\n",
        "history_dict_cv2 = history_cv2.history\n",
        "\n",
        "acc_fold.append(history_dict_cv2['binary_accuracy'])\n",
        "val_acc_fold.append(history_dict_cv2['val_binary_accuracy'])\n",
        "loss_fold.append(history_dict_cv2['loss'])\n",
        "val_loss_fold.append(history_dict_cv2['val_loss'])\n",
        "\n",
        "#fold 3\n",
        "optimizer = optimization.create_optimizer(init_lr=init_lr,\n",
        "                                          num_train_steps=num_train_steps,\n",
        "                                          num_warmup_steps=num_warmup_steps,\n",
        "                                          optimizer_type='adamw')\n",
        "classifier_model_cv3 = build_classifier_model()\n",
        "classifier_model_cv3.compile(optimizer=optimizer,\n",
        "                         loss=loss,\n",
        "                         metrics=metrics)\n",
        "history_cv3 = classifier_model_cv3.fit(x=cv_2.concatenate(cv_1).concatenate(cv_4).concatenate(cv_5),\n",
        "                               validation_data=cv_3,\n",
        "                               epochs=7)\n",
        "history_dict_cv3 = history_cv3.history\n",
        "\n",
        "acc_fold.append(history_dict_cv3['binary_accuracy'])\n",
        "val_acc_fold.append(history_dict_cv3['val_binary_accuracy'])\n",
        "loss_fold.append(history_dict_cv3['loss'])\n",
        "val_loss_fold.append(history_dict_cv3['val_loss'])\n",
        "\n",
        "# fold 4\n",
        "optimizer = optimization.create_optimizer(init_lr=init_lr,\n",
        "                                          num_train_steps=num_train_steps,\n",
        "                                          num_warmup_steps=num_warmup_steps,\n",
        "                                          optimizer_type='adamw')\n",
        "classifier_model_cv4 = build_classifier_model()\n",
        "classifier_model_cv4.compile(optimizer=optimizer,\n",
        "                         loss=loss,\n",
        "                         metrics=metrics)\n",
        "history_cv4 = classifier_model_cv4.fit(x=cv_2.concatenate(cv_3).concatenate(cv_1).concatenate(cv_5),\n",
        "                               validation_data=cv_4,\n",
        "                               epochs=7)\n",
        "history_dict_cv4 = history_cv4.history\n",
        "\n",
        "acc_fold.append(history_dict_cv4['binary_accuracy'])\n",
        "val_acc_fold.append(history_dict_cv4['val_binary_accuracy'])\n",
        "loss_fold.append(history_dict_cv4['loss'])\n",
        "val_loss_fold.append(history_dict_cv4['val_loss'])\n",
        "\n",
        "#fold 5\n",
        "optimizer = optimization.create_optimizer(init_lr=init_lr,\n",
        "                                          num_train_steps=num_train_steps,\n",
        "                                          num_warmup_steps=num_warmup_steps,\n",
        "                                          optimizer_type='adamw')\n",
        "classifier_model_cv5 = build_classifier_model()\n",
        "classifier_model_cv5.compile(optimizer=optimizer,\n",
        "                         loss=loss,\n",
        "                         metrics=metrics)\n",
        "history_cv5 = classifier_model_cv5.fit(x=cv_2.concatenate(cv_3).concatenate(cv_4).concatenate(cv_1),\n",
        "                               validation_data=cv_5,\n",
        "                               epochs=7)\n",
        "history_dict_cv5 = history_cv5.history\n",
        "\n",
        "acc_fold.append(history_dict_cv5['binary_accuracy'])\n",
        "val_acc_fold.append(history_dict_cv5['val_binary_accuracy'])\n",
        "loss_fold.append(history_dict_cv5['loss'])\n",
        "val_loss_fold.append(history_dict_cv5['val_loss'])\n",
        "\n",
        "# print\n",
        "print(acc_fold)\n",
        "print(val_acc_fold)\n",
        "print(loss_fold)\n",
        "print(val_loss_fold)"
      ],
      "metadata": {
        "colab": {
          "base_uri": "https://localhost:8080/"
        },
        "id": "3pBmaC-mKIkm",
        "outputId": "afb00ebc-f309-4952-9e9d-04d131e91cd1"
      },
      "execution_count": null,
      "outputs": [
        {
          "output_type": "stream",
          "name": "stdout",
          "text": [
            "Epoch 1/7\n",
            "232/232 [==============================] - 44s 139ms/step - loss: 0.5045 - binary_accuracy: 0.7518 - val_loss: 0.2938 - val_binary_accuracy: 0.8721\n",
            "Epoch 2/7\n",
            "232/232 [==============================] - 30s 130ms/step - loss: 0.2439 - binary_accuracy: 0.9002 - val_loss: 0.1527 - val_binary_accuracy: 0.9497\n",
            "Epoch 3/7\n",
            "232/232 [==============================] - 32s 138ms/step - loss: 0.1458 - binary_accuracy: 0.9471 - val_loss: 0.1106 - val_binary_accuracy: 0.9656\n",
            "Epoch 4/7\n",
            "232/232 [==============================] - 30s 130ms/step - loss: 0.1032 - binary_accuracy: 0.9679 - val_loss: 0.1149 - val_binary_accuracy: 0.9694\n",
            "Epoch 5/7\n",
            "232/232 [==============================] - 32s 137ms/step - loss: 0.0903 - binary_accuracy: 0.9728 - val_loss: 0.1109 - val_binary_accuracy: 0.9716\n",
            "Epoch 6/7\n",
            "232/232 [==============================] - 30s 130ms/step - loss: 0.0714 - binary_accuracy: 0.9779 - val_loss: 0.1230 - val_binary_accuracy: 0.9678\n",
            "Epoch 7/7\n",
            "232/232 [==============================] - 32s 138ms/step - loss: 0.0551 - binary_accuracy: 0.9839 - val_loss: 0.1253 - val_binary_accuracy: 0.9699\n",
            "Epoch 1/7\n",
            "232/232 [==============================] - 44s 157ms/step - loss: 0.5783 - binary_accuracy: 0.7479 - val_loss: 0.3407 - val_binary_accuracy: 0.8432\n",
            "Epoch 2/7\n",
            "232/232 [==============================] - 30s 130ms/step - loss: 0.2518 - binary_accuracy: 0.8956 - val_loss: 0.1809 - val_binary_accuracy: 0.9339\n",
            "Epoch 3/7\n",
            "232/232 [==============================] - 32s 138ms/step - loss: 0.1378 - binary_accuracy: 0.9519 - val_loss: 0.1291 - val_binary_accuracy: 0.9612\n",
            "Epoch 4/7\n",
            "232/232 [==============================] - 31s 132ms/step - loss: 0.0981 - binary_accuracy: 0.9701 - val_loss: 0.1278 - val_binary_accuracy: 0.9667\n",
            "Epoch 5/7\n",
            "232/232 [==============================] - 34s 145ms/step - loss: 0.0828 - binary_accuracy: 0.9758 - val_loss: 0.1348 - val_binary_accuracy: 0.9678\n",
            "Epoch 6/7\n",
            "232/232 [==============================] - 30s 130ms/step - loss: 0.0697 - binary_accuracy: 0.9794 - val_loss: 0.1505 - val_binary_accuracy: 0.9667\n",
            "Epoch 7/7\n",
            "232/232 [==============================] - 32s 138ms/step - loss: 0.0576 - binary_accuracy: 0.9833 - val_loss: 0.1635 - val_binary_accuracy: 0.9639\n",
            "Epoch 1/7\n",
            "232/232 [==============================] - 42s 139ms/step - loss: 0.5256 - binary_accuracy: 0.7663 - val_loss: 0.3234 - val_binary_accuracy: 0.8437\n",
            "Epoch 2/7\n",
            "232/232 [==============================] - 30s 131ms/step - loss: 0.2567 - binary_accuracy: 0.8920 - val_loss: 0.1587 - val_binary_accuracy: 0.9404\n",
            "Epoch 3/7\n",
            "232/232 [==============================] - 32s 139ms/step - loss: 0.1465 - binary_accuracy: 0.9473 - val_loss: 0.1080 - val_binary_accuracy: 0.9634\n",
            "Epoch 4/7\n",
            "232/232 [==============================] - 30s 131ms/step - loss: 0.0999 - binary_accuracy: 0.9660 - val_loss: 0.0914 - val_binary_accuracy: 0.9699\n",
            "Epoch 5/7\n",
            "232/232 [==============================] - 33s 141ms/step - loss: 0.0798 - binary_accuracy: 0.9762 - val_loss: 0.0962 - val_binary_accuracy: 0.9770\n",
            "Epoch 6/7\n",
            "232/232 [==============================] - 31s 132ms/step - loss: 0.0650 - binary_accuracy: 0.9805 - val_loss: 0.1142 - val_binary_accuracy: 0.9727\n",
            "Epoch 7/7\n",
            "232/232 [==============================] - 33s 141ms/step - loss: 0.0527 - binary_accuracy: 0.9852 - val_loss: 0.1322 - val_binary_accuracy: 0.9727\n",
            "Epoch 1/7\n",
            "232/232 [==============================] - 41s 137ms/step - loss: 0.8571 - binary_accuracy: 0.6504 - val_loss: 0.3140 - val_binary_accuracy: 0.8557\n",
            "Epoch 2/7\n",
            "232/232 [==============================] - 30s 129ms/step - loss: 0.2489 - binary_accuracy: 0.8940 - val_loss: 0.1668 - val_binary_accuracy: 0.9333\n",
            "Epoch 3/7\n",
            "232/232 [==============================] - 32s 137ms/step - loss: 0.1406 - binary_accuracy: 0.9501 - val_loss: 0.1104 - val_binary_accuracy: 0.9612\n",
            "Epoch 4/7\n",
            "232/232 [==============================] - 30s 129ms/step - loss: 0.1037 - binary_accuracy: 0.9648 - val_loss: 0.1086 - val_binary_accuracy: 0.9699\n",
            "Epoch 5/7\n",
            "232/232 [==============================] - 32s 138ms/step - loss: 0.0850 - binary_accuracy: 0.9723 - val_loss: 0.1272 - val_binary_accuracy: 0.9694\n",
            "Epoch 6/7\n",
            "232/232 [==============================] - 30s 130ms/step - loss: 0.0732 - binary_accuracy: 0.9790 - val_loss: 0.1564 - val_binary_accuracy: 0.9645\n",
            "Epoch 7/7\n",
            "232/232 [==============================] - 32s 137ms/step - loss: 0.0607 - binary_accuracy: 0.9825 - val_loss: 0.1366 - val_binary_accuracy: 0.9694\n",
            "Epoch 1/7\n",
            "232/232 [==============================] - 45s 162ms/step - loss: 0.5445 - binary_accuracy: 0.7587 - val_loss: 0.3410 - val_binary_accuracy: 0.8433\n",
            "Epoch 2/7\n",
            "232/232 [==============================] - 31s 132ms/step - loss: 0.2608 - binary_accuracy: 0.8896 - val_loss: 0.1551 - val_binary_accuracy: 0.9427\n",
            "Epoch 3/7\n",
            "232/232 [==============================] - 32s 138ms/step - loss: 0.1472 - binary_accuracy: 0.9482 - val_loss: 0.1222 - val_binary_accuracy: 0.9618\n",
            "Epoch 4/7\n",
            "232/232 [==============================] - 30s 131ms/step - loss: 0.1008 - binary_accuracy: 0.9679 - val_loss: 0.1330 - val_binary_accuracy: 0.9667\n",
            "Epoch 5/7\n",
            "232/232 [==============================] - 32s 139ms/step - loss: 0.0913 - binary_accuracy: 0.9725 - val_loss: 0.1145 - val_binary_accuracy: 0.9667\n",
            "Epoch 6/7\n",
            "232/232 [==============================] - 30s 129ms/step - loss: 0.0731 - binary_accuracy: 0.9792 - val_loss: 0.1247 - val_binary_accuracy: 0.9667\n",
            "Epoch 7/7\n",
            "232/232 [==============================] - 32s 138ms/step - loss: 0.0652 - binary_accuracy: 0.9810 - val_loss: 0.1433 - val_binary_accuracy: 0.9721\n",
            "[[0.75180983543396, 0.9001502394676208, 0.9471383690834045, 0.9679005742073059, 0.9728178977966309, 0.9778718948364258, 0.9838820099830627], [0.7478964328765869, 0.8956426978111267, 0.9519191384315491, 0.9700860381126404, 0.9758229851722717, 0.9793744087219238, 0.9833356142044067], [0.7662550806999207, 0.8919546604156494, 0.9472749829292297, 0.965988278388977, 0.9762327671051025, 0.9804671406745911, 0.9852479100227356], [0.6504207253456116, 0.8940035700798035, 0.9501433968544006, 0.9647589325904846, 0.9722715616226196, 0.978964626789093, 0.9825160503387451], [0.7586885094642639, 0.8896175026893616, 0.9482240676879883, 0.9678961634635925, 0.9725409746170044, 0.9792349934577942, 0.981010913848877]]\n",
            "[[0.8721311688423157, 0.9497267603874207, 0.965573787689209, 0.9693989157676697, 0.971584677696228, 0.9677595496177673, 0.9699453711509705], [0.8431693911552429, 0.9338797926902771, 0.9612022042274475, 0.9666666388511658, 0.9677595496177673, 0.9666666388511658, 0.9639344215393066], [0.8437158465385437, 0.9404371380805969, 0.9633879661560059, 0.9699453711509705, 0.9770491719245911, 0.9726775884628296, 0.9726775884628296], [0.8557376861572266, 0.9333333373069763, 0.9612022042274475, 0.9699453711509705, 0.9693989157676697, 0.9644808769226074, 0.9693989157676697], [0.8432550430297852, 0.9426543116569519, 0.9617695212364197, 0.966684877872467, 0.966684877872467, 0.966684877872467, 0.9721463918685913]]\n",
            "[[0.5045482516288757, 0.24393735826015472, 0.1458161622285843, 0.10317707806825638, 0.09027868509292603, 0.07143948972225189, 0.0551140122115612], [0.5783088207244873, 0.251831978559494, 0.13779833912849426, 0.09807410836219788, 0.0828380286693573, 0.06974262744188309, 0.05763969570398331], [0.5255506634712219, 0.25670793652534485, 0.1465226709842682, 0.09990590065717697, 0.0798109695315361, 0.06495305150747299, 0.05271480232477188], [0.8571326732635498, 0.24894338846206665, 0.14060184359550476, 0.10369645804166794, 0.08497369289398193, 0.07315859198570251, 0.06066649407148361], [0.5445026159286499, 0.260765016078949, 0.14721381664276123, 0.1008186936378479, 0.09133889526128769, 0.07311467826366425, 0.06524419039487839]]\n",
            "[[0.2938476800918579, 0.1526537984609604, 0.11061881482601166, 0.11494579166173935, 0.11093844473361969, 0.12303280085325241, 0.1252727210521698], [0.3407146632671356, 0.18087367713451385, 0.12906382977962494, 0.12784698605537415, 0.1348402053117752, 0.15051786601543427, 0.16345956921577454], [0.32336321473121643, 0.1587408185005188, 0.10803878307342529, 0.09138096868991852, 0.09618320316076279, 0.11416563391685486, 0.13224101066589355], [0.31400126218795776, 0.16683277487754822, 0.1104033812880516, 0.10859271138906479, 0.12719279527664185, 0.15635845065116882, 0.13657905161380768], [0.34104296565055847, 0.1551247388124466, 0.12215891480445862, 0.13302165269851685, 0.1144970953464508, 0.12466462701559067, 0.14330214262008667]]\n"
          ]
        }
      ]
    },
    {
      "cell_type": "markdown",
      "source": [
        "### Test set performance"
      ],
      "metadata": {
        "id": "Z7Q2vpC2oTH3"
      }
    },
    {
      "cell_type": "code",
      "source": [
        "# predicted labels misinf if output of sigmoid over threshold\n",
        "pred_labels = test_df['Prediction_proba'].apply(lambda x: 1 if x > threshold else 0)\n",
        "print(confusion_matrix(true_labels, pred_labels))"
      ],
      "metadata": {
        "id": "hG-NDTL8BIom"
      },
      "execution_count": null,
      "outputs": []
    },
    {
      "cell_type": "code",
      "source": [
        "print(confusion_matrix(true_labels, pred_labels))\n",
        "print(accuracy_score(true_labels, pred_labels))\n",
        "print(precision_score(true_labels, pred_labels))\n",
        "print(recall_score(true_labels, pred_labels))\n",
        "print(f1_score(true_labels, pred_labels))"
      ],
      "metadata": {
        "id": "vSjWspn5BiDr"
      },
      "execution_count": null,
      "outputs": []
    },
    {
      "cell_type": "markdown",
      "source": [
        "### BERT applied to collected dataset"
      ],
      "metadata": {
        "id": "uAZ758ceAtjb"
      }
    },
    {
      "cell_type": "markdown",
      "source": [
        "predict misinformation for cleaned tweets and pass through model\n"
      ],
      "metadata": {
        "id": "j1QWIeG7c5Yy"
      }
    },
    {
      "cell_type": "code",
      "source": [
        "df = pd.read_csv('cleaned_user_text_data.csv')  # dataset with cleaned tweet text\n",
        "df['Misinformation'] = np.nan\n",
        "\n",
        "threshold = 0.0034709275\n",
        "\n",
        "print(len(df))  # 119813 users tweeting original tweets\n",
        "\n",
        "for index, tweets in enumerate(df['Cleaned_Tweets']):\n",
        "  if index % 1000 == 0:\n",
        "    print(index)\n",
        "  tweets = ast.literal_eval(tweets)\n",
        "  prediction_sigmoid = tf.sigmoid(model(tf.constant(tweets)))  # sigmoid outputs\n",
        "  n_misinf = 0\n",
        "  for prediction in prediction_sigmoid:\n",
        "    if float(prediction) > threshold:\n",
        "      n_misinf += 1\n",
        "  quotient = n_misinf/len(tweets)  # misinformation quotient\n",
        "  df['Misinformation'].iloc[index] = quotient\n",
        "\n",
        "df.to_csv('cleaned_user_text_data_misinf2.csv')\n"
      ],
      "metadata": {
        "id": "4vUIbvRDiUvv"
      },
      "execution_count": null,
      "outputs": []
    },
    {
      "cell_type": "markdown",
      "metadata": {
        "id": "nC0OG0SpBBto"
      },
      "source": [
        "Find total misinf in network"
      ]
    },
    {
      "cell_type": "code",
      "execution_count": null,
      "metadata": {
        "colab": {
          "base_uri": "https://localhost:8080/"
        },
        "id": "j0Tt4sUzBBEX",
        "outputId": "3047e454-c31f-44da-96bd-33f962bae474"
      },
      "outputs": [
        {
          "name": "stdout",
          "output_type": "stream",
          "text": [
            "141965.0\n",
            "98877.0\n"
          ]
        }
      ],
      "source": [
        "n_info = 0\n",
        "n_misinfo = 0\n",
        "\n",
        "for i in range(len(user_text_data_misinf2)):\n",
        "  # loop over all original users in network\n",
        "  n = user_text_data_misinf2['Number_of_tweets'].iloc[i]\n",
        "  misinf_quotient = user_text_data_misinf2['Misinformation'].iloc[i]\n",
        "  n_info += (1-misinf_quotient) * n\n",
        "  n_misinfo += misinf_quotient * n\n",
        "\n",
        "print(n_info)\n",
        "print(n_misinfo)\n"
      ]
    },
    {
      "cell_type": "markdown",
      "metadata": {
        "id": "iBpoQy6m6y3m"
      },
      "source": [
        "# Create user retweet network"
      ]
    },
    {
      "cell_type": "markdown",
      "metadata": {
        "id": "9o2g8XmQ3f6W"
      },
      "source": [
        "multiple edges between nodes"
      ]
    },
    {
      "cell_type": "code",
      "execution_count": null,
      "metadata": {
        "id": "6yCJyy0f2i33"
      },
      "outputs": [],
      "source": [
        "G_multi = nx.MultiDiGraph() # multi-edge graph of network\n",
        "\n",
        "for i in range(len(edges_table)):\n",
        "  G_multi.add_edge(edges_table['Source'][i], edges_table['Target'][i])\n"
      ]
    },
    {
      "cell_type": "code",
      "execution_count": null,
      "metadata": {
        "id": "C6G0mLlp3_T7"
      },
      "outputs": [],
      "source": [
        "G_weighted = nx.DiGraph()  # weighted graph of network from multi-edge graph\n",
        "\n",
        "for source, target in G_multi.edges():\n",
        "  if G_weighted.has_edge(source, target):\n",
        "    # if edge exists add one weight\n",
        "    G_weighted[source][target]['weight'] += 1\n",
        "  else:\n",
        "    # if edge does not exist add it\n",
        "    G_weighted.add_edge(source, target, weight= 1)"
      ]
    },
    {
      "cell_type": "markdown",
      "metadata": {
        "id": "wwNmLO6T6y3q"
      },
      "source": [
        "# Degree analysis"
      ]
    },
    {
      "cell_type": "code",
      "execution_count": null,
      "metadata": {
        "id": "zANe56qA6y3q"
      },
      "outputs": [],
      "source": [
        "degree_list = [degree for id, degree in G_weighted.degree()]\n",
        "degree_list_weighted = [degree for id, degree in G_weighted.degree(weight='weight')]\n",
        "in_degree_list_weighted = [degree for id, degree in G_weighted.in_degree(weight='weight')]\n",
        "out_degree_list_weighted = [(id, degree) for id, degree in G_weighted.out_degree(weight='weight')]"
      ]
    },
    {
      "cell_type": "markdown",
      "metadata": {
        "id": "wX5_qe3N_JNr"
      },
      "source": [
        "## Find ids of 10 most influential nodes."
      ]
    },
    {
      "cell_type": "code",
      "execution_count": null,
      "metadata": {
        "id": "d-Pg0QdL-_OW"
      },
      "outputs": [],
      "source": [
        "most_influential_users = [(id, degree) for id, degree in G_weighted.in_degree(weight='weight')]  # list of id and degree\n",
        "most_influential_users = sorted(most_influential_users, key=lambda x:x[1], reverse=True)  # sort\n",
        "in_degree_user_rank = [id for id, degree in most_influential_users]\n",
        "highest_indegree_users_100 = [id for id, degree in most_influential_users[0:100]]"
      ]
    },
    {
      "cell_type": "code",
      "execution_count": null,
      "metadata": {
        "id": "Ql3rvU1T6y3s"
      },
      "outputs": [],
      "source": [
        "for i in range(10):\n",
        "    user_id = most_influential_users[i][0]\n",
        "    index = user_text_data_misinf2.index[user_text_data_misinf2['User_ID'] == user_id].tolist()[0]\n",
        "    print(username[str(user_id)])\n",
        "    print(most_influential_users[i][1])\n",
        "    print(user_text_data_misinf2['Misinformation'][index])"
      ]
    },
    {
      "cell_type": "code",
      "execution_count": null,
      "metadata": {
        "id": "BP60hoDSErKj"
      },
      "outputs": [],
      "source": [
        "unique_degree_dict = {}  # dict with unique degrees and number of nodes having that degree\n",
        "\n",
        "for degree in degree_list_weighted:\n",
        "  if degree not in unique_degree_dict:\n",
        "    unique_degree_dict[degree] = 1\n",
        "  else:\n",
        "    unique_degree_dict[degree] += 1\n",
        "\n",
        "unique_degree_list = sorted(unique_degree_dict.items(), key=lambda x:x[0])"
      ]
    },
    {
      "cell_type": "code",
      "execution_count": null,
      "metadata": {
        "id": "5eju2xJS6y3u"
      },
      "outputs": [],
      "source": [
        "unique_degree_list = sorted(unique_degree_list, key=lambda x:x[1], reverse=True)"
      ]
    },
    {
      "cell_type": "code",
      "execution_count": null,
      "metadata": {
        "id": "Hy1lY7896y3x"
      },
      "outputs": [],
      "source": [
        "fig, ax = plt.subplots()\n",
        "\n",
        "ax.scatter(*zip(*unique_degree_list))\n",
        "ax.grid()\n",
        "ax.set_xlabel(\"Degree\")\n",
        "ax.set_ylabel(\"Count\")\n",
        "ax.set_yscale(\"log\")\n",
        "ax.set_xscale(\"log\")\n",
        "fig.savefig(\"loglog_degree.png\", dpi=300, bbox_inches='tight')  # loglog plot of degree count"
      ]
    },
    {
      "cell_type": "code",
      "execution_count": null,
      "metadata": {
        "id": "muX3t3FP6y3x"
      },
      "outputs": [],
      "source": [
        "with open('D:\\\\M4R_oskar\\\\User_Network\\\\G_weighted_largest_component.pickle', 'rb') as fp:\n",
        "    G_weighted = pickle.load(fp)"
      ]
    },
    {
      "cell_type": "code",
      "execution_count": null,
      "metadata": {
        "id": "sZk4REsD6y3y",
        "outputId": "22eb69e1-5241-4b1a-9d1b-d36c88cb7d9c"
      },
      "outputs": [
        {
          "data": {
            "image/png": "[encoded data removed]",
            "text/plain": [
              "<Figure size 432x288 with 1 Axes>"
            ]
          },
          "metadata": {
            "needs_background": "light"
          },
          "output_type": "display_data"
        }
      ],
      "source": [
        "unique_degree_dict_unweighted = {}  # dict with unique degrees and number of nodes having that degree\n",
        "\n",
        "for degree in degree_list:\n",
        "  if degree not in unique_degree_dict_unweighted:\n",
        "    unique_degree_dict_unweighted[degree] = 1\n",
        "  else:\n",
        "    unique_degree_dict_unweighted[degree] += 1\n",
        "\n",
        "unique_degree_list_unweighted = sorted(unique_degree_dict_unweighted.items(), key=lambda x:x[0])  # sort according to the value of key\n",
        "\n",
        "fig, ax = plt.subplots()\n",
        "\n",
        "ax.scatter(*zip(*unique_degree_list_unweighted))\n",
        "ax.grid()\n",
        "ax.set_xlabel(\"Degree\")\n",
        "ax.set_ylabel(\"Degree distribution\")\n",
        "ax.set_yscale(\"log\")\n",
        "ax.set_xscale(\"log\")\n",
        "fig.savefig(\"loglog_degree.png\", dpi=300, bbox_inches='tight')"
      ]
    },
    {
      "cell_type": "markdown",
      "metadata": {
        "id": "n3Ha3t8f6y3z"
      },
      "source": [
        "# Log binning"
      ]
    },
    {
      "cell_type": "code",
      "execution_count": null,
      "metadata": {
        "id": "Z58rPt3H6y30"
      },
      "outputs": [],
      "source": [
        "degree_distribution = [dist[1] for dist in unique_degree_list_unweighted]\n",
        "degree_list = [dist[0] for dist in unique_degree_list_unweighted]"
      ]
    },
    {
      "cell_type": "code",
      "execution_count": null,
      "metadata": {
        "id": "p-OmixXr6y30"
      },
      "outputs": [],
      "source": [
        "log_bins = np.logspace(np.log10(min(degree_list)), np.log10(max(degree_list)), 10)  # log spaced bins"
      ]
    },
    {
      "cell_type": "code",
      "execution_count": null,
      "metadata": {
        "id": "aRUyvrPn6y31"
      },
      "outputs": [],
      "source": [
        "binned_distribution = []\n",
        "binned_degree = []\n",
        "\n",
        "for i in range(len(log_bins)-1):\n",
        "    # loop over all bins to populate them\n",
        "    nodes_in_bin = 0\n",
        "    total_degree = 0\n",
        "    total_bin_distribution = 0\n",
        "    bin_size = int(log_bins[i+1] - log_bins[i])\n",
        "\n",
        "    for j in range(len(degree_list)):\n",
        "        # loop over all degree values to see if they are in this bin\n",
        "\n",
        "        degree = degree_list[j]\n",
        "        nodes_degree = degree_distribution[j]\n",
        "\n",
        "        if degree >= log_bins[i] and degree < log_bins[i+1]:\n",
        "            # if degree is in bin\n",
        "            # then all nodes with that degree are in this bin\n",
        "            total_bin_distribution += degree_distribution[j]\n",
        "\n",
        "            nodes_in_bin += degree_distribution[j]\n",
        "\n",
        "            total_degree += degree*degree_distribution[j]\n",
        "\n",
        "    binned_degree.append(total_degree/nodes_in_bin) # append average degree in bin\n",
        "\n",
        "    binned_distribution.append(total_bin_distribution/bin_size)\n"
      ]
    },
    {
      "cell_type": "code",
      "execution_count": null,
      "metadata": {
        "id": "xGBh2Cs-6y32"
      },
      "outputs": [],
      "source": [
        "# create new unique_degree_list_unweighted where the counts are divided by the total number of nodes\n",
        "unique_degree_list_unweighted2 = [(degree, count/total_number_of_nodes) for degree, count in unique_degree_list_unweighted]"
      ]
    },
    {
      "cell_type": "code",
      "execution_count": null,
      "metadata": {
        "id": "jUqXA-Kr6y32",
        "outputId": "8e6e965b-dce7-4ee3-a761-d4f93534b067"
      },
      "outputs": [
        {
          "data": {
            "image/png": "[encoded data removed]",
            "text/plain": [
              "<Figure size 432x288 with 1 Axes>"
            ]
          },
          "metadata": {
            "needs_background": "light"
          },
          "output_type": "display_data"
        }
      ],
      "source": [
        "fig, ax = plt.subplots()\n",
        "\n",
        "ax.scatter(*zip(*unique_degree_list_unweighted))\n",
        "ax.scatter(binned_degree, binned_distribution, color='r')\n",
        "ax.grid()\n",
        "ax.set_xlabel(\"Degree\")\n",
        "ax.set_ylabel(\"Degree count\")\n",
        "ax.set_yscale(\"log\")\n",
        "ax.set_xscale(\"log\")\n",
        "fig.savefig(\"D:\\\\M4R_oskar\\\\Figures\\\\loglog_degree_log_binned.png\", dpi=300, bbox_inches='tight')"
      ]
    },
    {
      "cell_type": "markdown",
      "metadata": {
        "id": "gY5ljU3xKOfk"
      },
      "source": [
        "# In degree plot"
      ]
    },
    {
      "cell_type": "code",
      "execution_count": null,
      "metadata": {
        "id": "x2aftXkDKOAK"
      },
      "outputs": [],
      "source": [
        "unique_in_degree_dict = {}  # dict with unique degrees and number of nodes having that degree\n",
        "\n",
        "for degree in in_degree_list_weighted:\n",
        "  if degree not in unique_in_degree_dict:\n",
        "    unique_in_degree_dict[degree] = 1\n",
        "  else:\n",
        "    unique_in_degree_dict[degree] += 1\n",
        "\n",
        "unique_in_degree_list = sorted(unique_in_degree_dict.items(), key=lambda x:x[0])  # sort according to the value of key\n"
      ]
    },
    {
      "cell_type": "code",
      "execution_count": null,
      "metadata": {
        "id": "_Jwc83ng6y4B",
        "outputId": "96c8d751-07d9-419e-b80b-01716eb59fbd"
      },
      "outputs": [
        {
          "name": "stdout",
          "output_type": "stream",
          "text": [
            "1034337\n"
          ]
        }
      ],
      "source": [
        "sum_counts_in = 0  # total in_degree\n",
        "for i in range(len(unique_in_degree_list)):\n",
        "    sum_counts_in += unique_in_degree_list[i][1]\n",
        "\n",
        "print(sum_counts_in)\n",
        "\n",
        "for i in range(len(unique_in_degree_list)):\n",
        "    unique_in_degree_list[i] = (unique_in_degree_list[i][0], unique_in_degree_list[i][1]/sum_counts_in)  # in-degree distribution"
      ]
    },
    {
      "cell_type": "code",
      "execution_count": null,
      "metadata": {
        "id": "OuTYvVq7LfaB"
      },
      "outputs": [],
      "source": [
        "fig, ax = plt.subplots()\n",
        "\n",
        "ax.scatter(*zip(*unique_in_degree_list))\n",
        "ax.grid()\n",
        "ax.set_xlabel(\"In-Degree\")\n",
        "ax.set_ylabel(\"Count\")\n",
        "ax.set_yscale(\"log\")\n",
        "ax.set_xscale(\"log\")\n",
        "fig.savefig(\"loglog_in_degree.png\", dpi=300, bbox_inches='tight')"
      ]
    },
    {
      "cell_type": "markdown",
      "metadata": {
        "id": "88KnzAWKMUUU"
      },
      "source": [
        "# Out degree plot"
      ]
    },
    {
      "cell_type": "code",
      "execution_count": null,
      "metadata": {
        "id": "ws76y5PbLolV"
      },
      "outputs": [],
      "source": [
        "unique_out_degree_dict = {}  # out-degree dict with count of nodes with that degree\n",
        "\n",
        "for degree in out_degree_list_weighted:\n",
        "  if degree not in unique_out_degree_dict:\n",
        "    unique_out_degree_dict[degree] = 1\n",
        "  else:\n",
        "    unique_out_degree_dict[degree] += 1\n",
        "\n",
        "unique_out_degree_list = sorted(unique_out_degree_dict.items(), key=lambda x:x[1], reverse=True)  # sort according to the value of key"
      ]
    },
    {
      "cell_type": "code",
      "execution_count": null,
      "metadata": {
        "id": "D46tQNvL6y4E",
        "outputId": "704229c3-cf42-459d-b70c-9b0337508140"
      },
      "outputs": [
        {
          "name": "stdout",
          "output_type": "stream",
          "text": [
            "1034337\n"
          ]
        }
      ],
      "source": [
        "sum_counts_out = 0 # total out-degree\n",
        "for i in range(len(unique_out_degree_list)):\n",
        "    sum_counts_out += unique_out_degree_list[i][1]\n",
        "\n",
        "for i in range(len(unique_out_degree_list)):\n",
        "    unique_out_degree_list[i] = (unique_out_degree_list[i][0], unique_out_degree_list[i][1]/sum_counts_out)\n"
      ]
    },
    {
      "cell_type": "code",
      "execution_count": null,
      "metadata": {
        "colab": {
          "base_uri": "https://localhost:8080/",
          "height": 279
        },
        "id": "8-WaGD4jLxfp",
        "outputId": "33fcbf94-2a2a-4d95-87da-c6b7a3bc7006"
      },
      "outputs": [
        {
          "data": {
            "image/png": "[encoded data removed]",
            "text/plain": [
              "<Figure size 432x288 with 1 Axes>"
            ]
          },
          "metadata": {
            "needs_background": "light"
          },
          "output_type": "display_data"
        }
      ],
      "source": [
        "fig, ax = plt.subplots()\n",
        "\n",
        "ax.scatter(*zip(*unique_out_degree_list))\n",
        "ax.grid()\n",
        "ax.set_xlabel(\"Out-Degree\")\n",
        "ax.set_ylabel(\"Count\")\n",
        "ax.set_yscale(\"log\")\n",
        "ax.set_xscale(\"log\")\n",
        "fig.savefig(\"loglog_out_degree.png\", dpi=300, bbox_inches='tight')"
      ]
    },
    {
      "cell_type": "markdown",
      "metadata": {
        "id": "S2m4IZFnxvOd"
      },
      "source": [
        "# Pagerank for entire network"
      ]
    },
    {
      "cell_type": "code",
      "execution_count": null,
      "metadata": {
        "id": "a8de3G8wxxCd"
      },
      "outputs": [],
      "source": [
        "pagerank = nx.pagerank(G_weighted, weight='weight')"
      ]
    },
    {
      "cell_type": "code",
      "execution_count": null,
      "metadata": {
        "id": "OigthZZn2bKO"
      },
      "outputs": [],
      "source": [
        "pagerank_values = [pagerank_tuple[1] for pagerank_tuple in pagerank_list]"
      ]
    },
    {
      "cell_type": "code",
      "execution_count": null,
      "metadata": {
        "id": "-DjFl1Er6y4I",
        "outputId": "42e31d60-b21f-424c-daf4-607ad17794ff"
      },
      "outputs": [
        {
          "name": "stdout",
          "output_type": "stream",
          "text": [
            "Project_Veritas\n",
            "0.047067411193383216\n",
            "0.6153846153846154\n",
            "['In we released videos within an ER room - a nurse recorded a doctor raising concerns about Covid-19 vax &amp; associated heart complications\"Government doesn\\'t want to show that the darn vaccine is full of shit!\"[He] probably has myocarditis due to the vaccine!\"', 'The reveal that COVID-19 natural immunity was being censored on social media.You might recall when we caught a scientist saying your antibodies are better than their vax. Your [COVID] antibodies are probably better than the [Pfizer] vaccination.', \"Big Pharma has long known of potential Covid-19 vaccine side effects...They just didn't want to say so publicly.In scientist Chris Croce told our journalist that they were already testing for links between their vaccine and myocarditis...What did find?\", 'Jan : Chris Cole Exec foreshadowed notorious annual booster shots of the COVID-19 Vaccine, even for toddlers.\" wants to inoculate as many people as possible.\"\"It is important to inoculate them [toddlers].\"\"It\\'s going to be a gradual thing.\"', 'Never forget the abhorrent comments from Taylor Lee caught on undercover videoLee repeatedly joked about \"blow darting\" unvaccinated citizens with the COVID-19 vaccineHe went further to demand a NEED for a Nazi Germany\\' style registry for the unvaccinated', ': A Whistleblower leaked us internal emails detailing how Pfizer wanted to suppress information on the development of the COVID vaccine\"fetal tissue has been used in laboratory tests\"\"We want to avoid having the information of fetal cells floating out there\"', 'SHOCKING: Director Physically Assaults &amp; Veritas Staff; Destroys iPad Showing Undercover Recordings About Mutating Covid Virus; NYPD RESPONDS!Im just someone whos working in a company thats trying to literally help the public.You fu*ked up!', \"Sen. Johnson Calls For Congress to Investigate Vaccine Manufacturers and Covid Vax Approval Process in Response to Project Veritas' Expos on Pfizer via\", 'From what Ive heard is they [ scientists] are optimizing it [COVID mutation process], but theyre going slow because everyone is very cautious obviously dont want to advertise that you are figuring out future mutations.', 'BREAKING: Exploring \"Mutating\" COVID-19 Virus For New Vaccines\"Don\\'t tell anyone this...There is a risk...have to be very controlled to make sure this virus you mutate doesn\\'t create something...the way that the virus started in Wuhan, to be honest.\"', 'BREAKING: Insider leaks \"Urgent Guidance\" document sent to employees on how to handle the Project Veritas video \"Effective immediately as of January \"\"Violates the COVID-19 misinformation policy\"', '\"There is no record of an employee named Jordon Trishton Walker working in that role at ...\"Strange, because we published docs from within Pfizer confirming his employmentIt seems ignored these facts in his \\'reporting\\' SOURCE:', 'WATCH: Covers \"Bizarre\" response to ADMITTING their involvement in COVID-19 mutations']\n",
            "healthbyjames\n",
            "0.032645847816685634\n",
            "0.4914893617021277\n",
            "['JUST IN US extends COVID-19 vaccine air travel mandate for non-US nationals set to expire Jan th until April th .', '/Financial Incentives Are Associated with Lower Likelihood of COVID-19 Vaccination in Northeast Ohio New Survey Study:0.95% reported the Vax-a-Million lottery INCREASED their likelihood of getting a COVID vaccine.29.7% said it DECREASED their likelihood.', 'In , vaccinated deaths are greater than unvaccinated deaths.This is no longer a pandemic of the unvaccinated.', 'Funny how the unvaccinated are still here.', '/IMPORTANT New German Insurance Data Revealed in Individuals Sought Medical Treatment For Covid Vaccine Side Effects In', 'Sean Penn says:I really feel that if someone chooses not to be vaccinated, that they should choose to stay at home, not go to work, and not have a job.', 'AstraZeneca study finds vector DNA in the sciatic nerve, bone marrow, liver, lungs, and spleen of vaccinated mice.', '/REMINDER: On Jan. , , FDA will hold a meeting of its VRBPAC Committee to consider whether and how the composition for primary doses of COVID-19 vaccines should be modified and how/whether the composition and schedule for booster doses should be adjusted moving forward.', 'BREAKING: -in-4 Americans Believe They Know Simone Who Has Died From Covid Vaccine Says New ://', 'UK judge removed from bench after opposing government on COVID-19 vaccine', 'Pfizer shots (and others) caused the immune system to misfire, thereby creating an endless feedback loop of viral immune escape, perpetuating the pandemic in the macro, and creating immune suppression for the individuals who received them.', \"COVID-19 mRNA Vaccine Effectiveness How It Started VS How It's Going Now\", 'Remember how people STILL trusted CDC even after they said this?data from the CDC today suggests that vaccinated people do not carry the virus and dont get sick.', '/BOMBSHELL STUDY: Pfizer Covid Vaccine Reduced Male Fertility-15.4% drop (95% CI:-25.5 to %) in semen concentration VS baseline.-22.1% drop (-35 to-6.6%) in motile count reduction VS baseline by day -120 with SOME recovery by day . Males affected after doses.', '/NEW % Of Kids -16 With mRNA COVID Vaccine Induced Myocarditis Had Damaged Hearts At -6 Month Follow Up:77.7% abnormal ECG findings (ST-elevation mainly).LGE on % of MRIs.55.5% myocardial edoema (excess fluid).100% LGE present at -6 month follow up.', 'Scientists Found -Times Increased Odds Of Debilitating Dysautonomia After mRNA Vaccination | IgA Antibodies In Tonsils Were Protective Against COVID-19 Up To Months | US Death Rate Up %', 'Today AB-2098, the physician misinformation bill goes into effect as law in California.Physicians can no longer communicate nuanced risk about mRNA COVID vaccines to their patients without potentially having their licenses revoked.', 'Wishing people a Happy New Year isnt complete without telling them to get a COVID vaccine.The Science', 'A New Peer Revealed Study Revealed Vaccinated And Unvaccinated Died In The Same Proportion From CovidMoreover, similar in-hospital death proportions of and dose recipients [216 (10.1%)] VS unvaccinated [802 (9.9%)] were seen.', 'BREAKING: Physicians and Scientists call for an end to mRNA COVID-19 vaccines over massive safety concerns, and fraud.The tide is turning.', '/New Qatar Study Revealed A % Increased Risk Of Covid Re-infection From Doses VS .\"57% reduced risk of omicron re-infection after doses VS unvaccinated. But % (95% CI: -1.65) increased risk of re-infection from doses VS over year.\"', 'Whether it was covid or the vaccine, it was the vaccine.', \"Pentagon pauses actions 'related to the COVID-19 vaccine mandate' following NDAARoughly troops have been separated over their refusal to get the shot.\", 'Blaming Damar Hamlins cardiac arrest on the COVID vaccine is wildly and irresponsibly speculative, says expertAs if jumping right to commotio cordis wasnt a complete fallacy.', 'Is it safe to get a COVID-19 vaccine?', '/Increased Cardiac Arrest After Pfizer Covid Vaccine Rollout In Israel In Those Aged -39mRNA vaccines significantly associated with a % higher rate of cardiac arrest &amp; acute coronary syndrome EMS calls (combined k+) VS COVID-19 infection Jan-May VS -2020', '/Declined Fertility Rates In Sweden &amp; Germany Linked To Covid Vaccine Uptake:New Research from Federal Institute for Population Research revealed a strong correlation between COVID vaccine uptake and monthly total fertility decline (seasonally adjusted) in Germany and Sweden.', '/BREAKING25% Of Health Care Workers Were Unable To Return To Work After Taking A Bivalent Covid Booster:A new paper by Wagenhuser et al found /39 (25%) healthcare workers in CoVacSer controlled study who received a bivalent booster were unable to work post vaccination.', '/The Risk Of Myocarditis Is Higher After COVID-19 Vaccination Not Infection:A retrospective case controlled study of k unvaccinated patients Mar -Jan found who (0.0046%) who developed myocarditis post COVID-19 infection within a month follow up window.', 'Could you convince someone pro-vaxx to not take the COVID vaccine?', 'Funny how a pandemic of the unvaccinated turned out to be a pandemic of the vaccinated', 'Do you think accidental injection of COVID vaccine into vein is causing heart complications like myocarditis?', 'Dr. Anthony Fauci shares his thoughts on myocarditis and other toxic side effects caused by the Smallpox vaccine. He suggested the vaccine was not mandated because, the country would not have accepted being vaccinated.', 'Was the COVID vaccine safe and effective enough to approve for children as young as months old?', '/VAERS safety signal analysis based on data from Dec , July , , for mRNA COVID-19 vaccines shows clear safety signals for death and thrombo-embolic, cardiac, neurological, hemorrhagic, hematological, immune-system and menstrual adverse events among U.S. adults.', 'JUST IN - Tufts ends their bivalent booster requirement for all students, faculty, and staff after extreme pushback from stakeholders, and concerned parents.', '/BREAKING Torsades de pointes Following COVID-19 Vaccination Fatal Heart Rhythm Disturbance: year old woman passed out suddenly (syncope) Left bundle branch block (cardiac electrical disturbance) + hypertension after doses of Pfizer was observed', 'Who is the main person that should be held accountable for the skyrocketing numbers of COVID-19 vaccine injuries?', 'Myocarditis With COVID-19 mRNA VaccinesAuthor: . Peter Hotez once wrote an article on the dangers of mRNA vaccine myocarditis, now he minimizes the vaccine injured.I wonder what changed?', 'Should schools be held liable for damages caused to children by COVID-19 vaccine mandates?', 'Should colleges be held liable for damages caused by COVID-19 vaccine mandates?', 'Hand Jive (not the dance): Handball World Cup Demands All Players be Triple Vaccinated, Tested Daily and Quarantine for Five Days if Positive', '/Serious Cardiac Abnormalities Seen After In Every mRNA Vaccine Doses Administered | New StudyDose rate of any arrhythmia post covid vaccination was /442 VS /101,000 from HPV, FLU, SMALLPOX, PERTUSSIS vaccines combined.', 'There are around cases of commotio cordis in young men under yearly. The rate of myocarditis post mRNA vaccination is around /5000.Care to guess which one is more likely to happen?', 'Those given a placebo in the Pfizer and Moderna mRNA vaccine clinical trials were vaccinated after months for ethical reasons.To those unvaccinated you are the control group.', 'Are the vaccinated sick and tired of being sick and tired yet?', 'Vaccinated person having a heart attack, yes, come right on in, well take care of ya, unvaccinated person who gobbled horse goo, rest In Peace wheezy NO AMNESTY.', 'Damar Hamlin: Commotio Cordis? Covid Vaccine?', 'PSA Just a reminder that if youre due for your next covid booster there are plenty of locations you can avoid going to get one.', 'I started getting mild chest pain. I thought it was just heartburn nothing too serious. But it was on the th or th day after receiving the vaccine that I experienced a cardiac eventI couldnt breathe, I was in extreme pain, [having] palpitations', 'Things COVID doesnt care about:Your N95Your feelingsYour th boosterYour closet full of testsThings COVID cares about:Your mucous membranes', 'DUKE UNIVERSITY CONSIDERS REINSTATING MASK MANDATE AS COVID-19 CASES SPIKEA young, healthy, likely twice infected, and likely vaccinated student should not be mandated to mask at university. End this lunacy', '/BREAKING New Bombshell Australian Public Health Data Finds All COVID Related Hospitalizations And ICU Admissions Were Vaccinated None Unvaccinated And Only % Of COVID Deaths Were UnvaccinatedTotal hospitalized: (all vaccinated)Continue scrolling.', 'First came the COVID vaccine, then came myocarditisin that exact order', 'Dr. Fauci: I never said COVID vaccines prevent infection.Also Dr. Fauci: When people are vaccinated, they can feel safe that they are not going to get infected.', 'Were you forced to get a COVID vaccine or lose your job?', 'Would you take a COVID vaccine to keep your job?', 'COVID vaccine?', 'COVID vaccine injured people in the same room', \"From the Twitter Files: Pfizer board member Scott Gottlieb secretly pressed Twitter to hide posts challenging his company's massively profitable Covid jabs\", 'Woman Dies In Shoppers Drug Mart Minutes After COVID-19 Vaccine Booster', '/BREAKINGNew study by Chiu et al of K school kids aged -18 found % had or more cardiac symptoms + meaningful ECG changes after dose of Pfizers COVID vaccine:Chest pain (8.9%),syncope/dizziness (3.4%)51 experienced significant ST-T changes and arrhythmias', 'BREAKING Fauci lies and says there is only a small shred of evidence linking mRNA COVID-19 vaccines to myocarditis and that cases are very rareself limiting and benign and that myocarditis from infection is worse.', 'any unvaccinated patients should be considered to have a mental problem and should be put on psychiatric medication.', 'New Study Found A -Times Increased Rate Of Myocarditis In Males After mRNA Booster | Or More COVID-19 Vaccine Doses Associated With A -Fold Increased Risk Of Infection Said Cleveland Clinic | ETC', 'How many people do you know that have died suddenly after a COVID vaccine?', \"Nearly half of House Republicans still won't say publicly whether they are vaccinated against Covid-19\", \"If you've been infected should you get a COVID vaccine?\", 'New Walgreens COVID-19 infection data shows those unvaccinated have less infections compared to those vaccinated overall.', 'Dr. Jha Biden Administration White House Coronavirus Response CoordinatorGod gave you two arms one for the COVID vaccine, the other for the flu shot.', 'BREAKING New Bombshell Australian Public Health Data Finds All COVID Related Hospitalizations And ICU Admissions Were Vaccinated None Unvaccinated And Only % Of COVID Deaths Were Unvaccinated', '/BREAKING New Bombshell Australian Public Health Data Finds All COVID Related Hospitalizations And ICU Admissions Were Vaccinated None Unvaccinated And Only % Of COVID Deaths Were Unvaccinated Week Report', 'year old healthy male vaccinated with doses of Pfizer dies suddenly days after.Cause of death: Fauci', '\"The double vaccinated were -times more likely to be reinfected..and triple vaccinated were more likely to die...remember natural immunity is long, broad, and durable..we have SARS-CoV-1 patients who still had immunity years later..\"mRNA vaccines have failed.', 'Do you regret getting a COVID vaccine?', 'Which is more dangerous, COVID-19 or the vaccine?', '/50X Increased Odds Of Myocarditis From Moderna COVID-19 mRNA Vaccine:6.4-times increased odds of myocarditis after BOOSTER DOSE.50-times increased odds of myocarditis after dose .', '/New Data Revealed Covid Test Positivity Was % Higher In Vaccinated VS Those With Natural Immunityf healthcare workers in this study, infections occurred in those with natural immunity, while infections occurred in those who received + doses.', \"He's Been Hospitalized Four Times Since Getting A Covid Vaccine. He Has Myocarditis And POTS. He Can No Longer Work. He Can No Longer Support Himself.\", 'COVID-19 Vaccine Complication Linked to Circulating Spike Protein in Blood', 'If youre unvaccinated, its your fault.', 'We need an independent public inquiry into whether Covid vaccine side effects are impacting excess deaths, as they reach an average of more than a week says former head of the UK trade team at the ONS, James Wells.The tide is turning.', 'Doctor calls unvaccinated father and son losers and cowards in hospital parking lot after kicking them out of the building and denying the son treatment.', 'Many zealots said COVID vaccines were never introduced with the intention to prevent infection, only to lessen severe disease &amp; death. Wrong.FDA VRBPAC /10/20: Pfizer submitted an EUA request for their COVID-19 vaccine intended to prevent COVID-19.', 'Do you know anyone injured by a COVID vaccine that got another dose after the injury?', '\"In March of , after the COVID vaccine rollout, I saw an increase from babies to in the neonatal intensive care unit, then I noticed more babies passing away in utero earlier. On charts, a lot of mothers received a covid vaccine week before problems started.\"', 'Chris Williams took an AstraZeneca COVID-19 vaccine, shortly after he had frequent seizures, a blot clot, muscle back joint pain, and dilated cardiomyopathy (heart failure). He hasnt worked, is now disabled, had to remortgage house, and is losing his business.', 'Clair Bridges, , was fully vaccinated for COVID-19, caught COVID anyway, vaccine was supposed to prevent severe disease, however, Clair had both legs amputated, myocarditis, and kidney failure anyway.', 'URGENT Molly Valdez age has severe neurological complications, and involuntary facial spasms from taking a J &amp; J COVID-19 vaccine She can no longer move without a walker.', 'JUST IN Pentagon considering back pay for troops booted over refusing COVID-19 vax, report says', 'Those whove received a COVID vaccine are awfully quite right now.', 'Severe Cerebral Sinus Thrombosis (blood clot) Day After Pfizer Booster | -Times Increased Odds Of Kids Avoiding COVID Vaccines Due To Perceived Harms | Netherlands Ended Child COVID Vaccines', 'BREAKING Pfizer is caught running large ad campaign approved by Facebook to recruit babies ages months to -years into their new COVID-19 vaccine clinical trial.This is not safe and effective.', 'I am encouraging all parents to get their children vaccinated against COVID-19, but Im also encouraging children to ask for the vaccine.- CDC Director Rochelle Walensky', 'If you are willing to walk among us unvaccinated you are an enemyI support mandatory COVID-19 vaccines, I think every company should do it', 'Vaccinated or not, you WILL catch COVID. Experts say that people who have already had COVID are likely to get reinfected by XBB.1.5 and those who have managed not to get COVID yet will likely catch this variant regardless of vaccination status.', 'Those fully vaccinated against COVID-19 are now fearful of whats to come.', 'Omicron subvariant XBB.1.5possibly more likely to infect thevaccinated: officials', 'Those with mRNA doses were % more likely to be hospitalized with covid than those who only got dose.', 'BREAKING Pilot suing over COVID vaccination mandateI got a COVID vaccine :30 AM, and woke up at :30 AM with heart pounding, I went to ER and doctors found my heart was in atrial fibrillation, I could have had a stroke while flying and killed people, airlines dont care', 'Arent all the unvaccinated people supposed to be dead?', 'BREAKING Dr. Abdullah Alabdulgader, President of The International Congress for Advanced Cardiac Sciences calls for an end to COVID vaccines due to serious dangers.there are complications from these mRNA COVID vaccinations like myocarditis + sudden cardiac death.', 'URGENT An Australian man hunts down the doctor that gave one of his family members a COVID vaccine that ended their life.', 'Severe Cerebral Sinus Thrombosis (blood clot) Day After Pfizer Booster | -Times Increased Odds Of Kids Avoiding COVID Vaccines Due To Perceived Harms | Netherlands Ended Child COVID Vaccines', \"Study after study shows a substantial increase in risk of myocarditis after a nd dose of Moderna's COVID vaccine for young males ages -30, yet people still deny the safety signal exists. These are tumultuous times indeed.\", 'Has anyone disowned you for not taking a COVID vaccine?', 'Healthy year old medical student took a required COVID vaccine, was then diagnosed with functional neurological disorder, paralysis in right leg, ticks and seizure disorder. She had to move back in with parents, surrender drivers license, and is now wheelchair bound.', 'The people going to Davosfor the WEF Conference do NOT want vaccinated Pilots.Were getting calls now from wealthy businessman who require unvaccinated pilots and crew to fly planes.', 'Did your doctor tell you that your COVID vaccine injury wasnt real?', 'Was your child injured from a COVID vaccine?', 'Was your child injured from the COVID vaccine?', 'days after taking my second COVID vaccine, my throat started closing off, doctors call it laryngospasms, but couldnt diagnose why. When I have spasms they are random and I cant get air in, so if I didnt have this trach placed in my throat, I wouldnt be able to breath.', 'BREAKING CDC and FDA find no link between Pfizers COVID booster and stroke after concluding extensive investigation.', 'Now we know that the vaccines work well enough that the virus stops with every vaccinated person.- Rachel Maddow MSNBC', 'BREAKING New Bombshell Australian Public Health Data Finds All COVID Related Hospitalizations And ICU Admissions Were Vaccinated None Unvaccinated And Only % Of COVID Deaths Were Unvaccinated', 'BREAKING NEW STUDY: % Increased Probability Of Infection From COVID Booster Compared To Being Unvaccinated mRNA Vaccines Largest Fail Yet', 'Never forget what they did to our children.Girl cries \"no, please! no, please! I don\\'t want it, please!\" while masked hospital workers stand over her and force the COVID vaccine.When a patient says no, you stop.', 'Do you know anyone who suffered a stroke after taking a COVID vaccine?', '/BREAKING Newer Study Shows More Viral Shedding In Those COVID Vaccinated VS Unvaccinated10 day after infection:29.7% of vaccinated people were not contagious68.7% unvaccinated people were not contagious', 'Shocking Phone Call Recording With A Pharmacist Who Administered A COVID Vaccine To A Child Now In Hospital With Myocarditis', 'URGENT Fully-vaccinated comedian Heather McDonald collapses suddenly on stage after declaring shes triple vaccinated against COVID-19.', 'Vaccinated people do not carry the virus, and do not get sick.- CDC Director Rochelle Walensky', 'So youre saying testing a COVID vaccine on only mice wasnt safe and effective after all?', 'So youre saying testing a COVID vaccine on only mice wasnt safe and effective?', '/BREAKING Moshe Ogur, , of Israel, died suddenly one hour after receiving a th COVID-19 shot in the same facility that administered it.15 minutes after vaccination he was vomiting, had rapid heart rate.The hospital said it was unclear the vaccine caused this.', 'There is no rational justification to give a COVID booster to a young, healthy, previously infected adolescent or young adult. That is not science, it is botchery.', 'CDC vaccine database (VSD) had uncovered a possible safety issue in which people and older were more likely to have an ischemic stroke days after receiving the Pfizer bivalent shot, compared with days -44.', 'On December nd I became unwell days after my second Pfizer COVID-19 vaccine. On December nd, I had my first of many seizures. No family history or personal medical history. Since then I have had tonic clonic seizures.', 'BREAKING Heart Surgeon Discovers Blood Clots In A Fully Vaccinated -Year-Old Athlete', \"/URGENT New Study Found Covid Vaccine mRNAs In Nearly % Of Lactating Women's MilkA new study revealed mRNAs from Pfizer and Modernas COVID vaccine were found in breast milk up to hours post vaccination.Start here\", 'Pentagon Exploring Back Pay for Troops Kicked Out Over COVID Vaccine Mandate', '/URGENT Scientists Found -Times Increased Odds Of Debilitating Dysautonomia After mRNA Vaccination | IgA Antibodies In Tonsils Were Protective Against COVID-19 Up To Months | US Death Rate Up %284k patient study2X increased odds of dysautonomia from first dose', 'Julian Schofield was paralyzed days after receiving a Johnson &amp; Johnson COVID-19 vaccine. He received the shot in mid-July then on the th, he started feeling tingling and numbness in his left foot. Soon after he could no longer move his lower limbs.', \"/ BREAKING CDC and FDA are now investigating the link between Pfizer's bivalent COVID booster and ischemic stroke (blood clots in brain) occurring in those ages + within days of vaccination from newly emerging data on CDC's Vaccine Safety Datalink (VSD).\", 'BBC criticised for letting cardiologist hijack interview with false Covid jab claimMEANWHILE, CDC just launched an investigation into the link between mRNA COVID vaccines and stroke.', 'CDC opens a large scale investigation into mRNA COVID vaccines because of an influx in stroke cases after vaccination. Did the COVID shots increase strokes?', 'CDC just opened a large scale investigation into mRNA COVID vaccines because of increased cases of strokes.', 'What COVID vaccine caused the most damage, Pfizer or Moderna?', 'What COVID vaccine caused the most damage?', 'I had my eczema so well under control for years, but after every COVID vaccine dose, my eczema got worse and worse. I was told to see a dermatologist and now im paying dollars a month for dupixent out of pocket that I didnt need before the COVID vaccine Im so fed up', 'Healthy mother of , aged , died suddenly from blood clot after taking a COVID-19 vaccineJules Serkin, BBC radio host, nerve damage, facial dropping, extreme facial pain post COVID-19 vaccineJoan Stuttard Second Dose on th June , Died On th January', 'Healthy mother of , aged , died suddenly from blood clot after taking a COVID-19 vaccineJules Serkin, BBC radio host, nerve damage, facial dropping, extreme facial pain post COVID-19 vaccineJoan Stuttard Second Dose on th June , Died On th January', '/NEW STUDY: Torsades de pointes Following COVID-19 Vaccination Fatal Heart Rhythm Disturbance year old woman passed out suddenly (syncope) Left bundle branch block (cardiac electrical disturbance) + hypertension after doses of Pfizer was observed', 'The Incidence of Myocarditis and Pericarditis in Post COVID-19 Unvaccinated Patients: A Large Population-Based StudyWe did not observe an increased incidence of neither pericarditis nor myocarditis in adult patients recovering from COVID-19 infection.', 'Dr. Peter Doshi of The British Medical Journal, argues the public was lied to about COVID vaccine adverse events', 'What the COVID vaccine did to hereizures Neurological disorder Struggled to walk TremorsShortness of breathLost how to read and write Different accent', 'BREAKING Cardiologist On Live News Says Excess Cardiovascular Deaths In UK Are Likely Linked To mRNA COVID Vaccines And Calls For A Stop To Them Being Administered BBC NewsThe left leaning mainstream media narrative begins to crumble...', 'Right now the vaccinated are creating an uproar because theyre deeply fearful of whats to come.', 'New Study: % Of Kids Suffered Cardiac Symptoms After A nd Dose Of Pfizers Covid Vaccine | Excess Deaths Spiked Over % For Weeks In England And Wales Scientists Baffled | ETC', 'BREAKING NEW STUDY: % Increased Probability Of Infection From COVID Booster Compared To Being Unvaccinated mRNA Vaccines Largest Fail Yet', 'BREAKING Cardiologist on live news says excess cardiovascular deaths in UK are likely linked to mRNA COVID vaccines and calls for a stop to them being administered.The mainstream narrative is changing this is big.', 'Should Colleges Be Held Liable For Damages Caused By COVID-19 Vaccine Mandates? Results From Recent Survey Question With k Impressions From Twitter Comment Section Is Shocking', 'Former Employees Sue ESPN After Being Fired For COVID Vaccine Refusal', 'Pfizers initial vaccine effectiveness was based on COVID-19 infections of which were unvaccinated and were vaccinated, and youre the one thats called crazy for not taking it?', 'You can be times vaccinated, and layer your masks you will still catch the next covid variant.', 'Informed consent with COVID vaccines is not possible becausefizer fails to release most of their post marketing safety data.Clinical trials were not powered to identify many adverse events.', 'Neil deGrass Tyson says you should be forced to take a COVID vaccine because its for the greater good.Spoken just like someone who didnt read a word of the Pfizer of Moderna clinical trial data.The Science', 'President of the International Vascular Society says, patients who had the COVID vaccine, then infection after the vaccine, started having more cardiovascular problems, and severe vascular reactions.', 'FDA and CDC advisors accuse Moderna of withholding trial data that suggested its Covid bivalent booster was LESS effective than older shot - to secure $5bn Government orderThe tide is turning', \"URGENT Newer Thailand Study Shows % Abnormal EKGs &amp; Shocking Number Of Myocarditis Cases In Kids After Taking Pfizer's Covid Vaccine A bombshell study covered up by the media.\", 'Ernest Ramirez Jr. died suddenly on the basketball court, then his father was contacted by FEMA in order to change the cause of death on his death certificate so it didnt reflect the COVID vaccine.', '\"I got the COVID vaccine to protect my friends, family, and patients, but now i\\'m injured, and my physician told me the vaccine couldn\\'t do this and that I was healthy.\"', '\"I got the COVID vaccine to protect my friends, family, and patients, but now i\\'m injured, and my physician told me the vaccine couldn\\'t do this to me and that I was healthy.\"', 'New ICD-10 medical billing code: Died suddenly after COVID vaccine.', 'There are two types of people in this world. Those who have not received a COVID vaccine, and those who die suddenly.', '\"The Pentagon controlled the COVID-19 program from the very beginning and everything we were told was political theater to cover it up right down to the FDA vaccine approval\"', 'You must resist public health officials that pushed COVID vaccine mandates.', 'Name your COVID vaccine injury below.', 'Data Doesnt Support New COVID-19 Booster Shots for Most, Says Vaccine ExpertGet ready for a pivot from all medical professionals who support bivalent boosters without appropriate data.', '/NEW BOMBSHELL STUDY: mRNA Vaccines Biggest Fail Yet % increased probability of infection with covid booster VS being unvaccinated % vaccine effectiveness from doses VS Omicron infection % vaccine effectiveness from booster VS Omicron infection', 'For the unvaccinated youre looking at a winter of severe illness and death', 'A vital part of preparing for hurricane season is to get vaccinated', 'BREAKING NEW STUDY: % Increased Probability Of Infection From COVID Booster Compared To Being Unvaccinated mRNA Vaccines Largest Fail Yet', 'How many covid vaccine injured people do you know?', 'BREAKING Matt Hancock and Prime Minister of UK say MP Andrew Bridgens concerns over COVID vaccine harms are anti-Semitic, anti-vaxx, and disgusting conspiracy theories.', 'Should Dr. Fauci be held responsible for all COVID vaccine injuries?', 'VS Now Dr. John Campbell has been red-pilled because of global COVID vaccine failure', 'There is no such thing as Covid heart, but mRNA vaccines are certainly associated with myocarditis.', 'Neil deGrasse Tyson says everyone should have to take a COVID vaccine.', 'FDA vaccine advisers disappointed and angry that early data about new Covid-19 booster shot wasnt presented for review last year', 'Death as a result of COVID vaccinationa) Cerebral venous sinus thrombosis with intra-cranial haemorrhages(b) Thrombosis with thrombocytopenia syndrome(c) AstraZeneca Covid vaccine administrationThis needs to stop.', 'Death as a result of COVID vaccinationa) Cerebral venous sinus thrombosis with intra-cranial haemorrhages(b) Thrombosis with thrombocytopenia syndrome(c) AstraZeneca Covid vaccine administrationThis needs to stop.', 'Whats the worst COVID vaccine side effect youve heard of?', '/URGENT % Of Kids -16 With mRNA COVID Vaccine Induced Myocarditis Had Damaged Hearts At -6 Month Follow Up77.7% abnormal ECG findings (mainly ST-elevation)LGE on % of MRIs55.5% myocardial edoema (excess fluid)100% LGE present at -6 month follow up', 'BREAKING New Study: % Of Kids Suffered Cardiac Symptoms After Pfizers Covid Vaccine:17.1% suffered at least cardiac symptom % suffered chest pain that warranted medical examination3.4% syncope (sudden fainting)', 'Are you going to invite your unvaccinated family members to sit at the table with you this Thanksgiving? Experts are saying you might not want to risk it.', 'BREAKING The Pentagon COVID Vaccine Mandate Has Been Rescinded', 'There are two types of people in this world. Those who are conspiracy theorists, and those who are vaccinated.', 'Former Mayor Bill de Blasio says NYC is offering free fries and a burger when you get vaccinated against COVID-19.', 'New Study: % Of Kids Suffered Cardiac Symptoms After A nd Dose Of Pfizers Covid Vaccine | Excess Deaths Spiked Over % For Weeks In England And Wales Scientists Baffled | ETC', 'Do you know someone who was once healthy but is now having problems since taking a Pfizer or Moderna COVID vaccine?', \"My body was burning': Suffering since COVID shots, Gatineau man desperate for relief\", 'BREAKING The Pentagon COVID Vaccine Mandate Has Been Rescinded', 'BREAKING The Pentagon COVID vaccine mandate has been rescinded.This means young healthy troops will not be forced against their will to take a COVID vaccine that could increase their risk of heart inflammation and myocarditis.', 'STOP MANDATING YOUNG, HEALTHY KIDS TO GET A COVID VACCINE', 'Netherlands announces kids ages -11 no longer need to be vaccinated against COVID-19 and that its now the parents choice.', 'Those Unvaccinated Should Be Turned Away From Hospitals, Refused Health Insurance, and Separated On Public Transportation', '/URGENT!-New German Insurance Data Revealed in Individuals Sought Medical Treatment For Covid Vaccine Side Effects In', '/CDC Secretly Deleted Misleading Information About mRNA Vaccines From Their Website:The following statement was removed from their website between July th and July nd:The mRNA and the spike protein do not last long in the body.', 'JUST INFDA Going Full Speed Ahead With Covid Vaccines\"We will probably focus on incremental modifications of these vaccines, at least for the next few years\"\"a fundamentally improved vaccine for COVID , it\\'s probably a couple of years away\"', 'If you were injured by a COVID vaccine, tell your story here so the truth gets out', 'If you were injuried by a COVID vaccine, tell your story here so the truth gets out', 'PSAwe are again giving COVID vaccines with an mRNA code that doesnt match the virus because it has mutated.All risk and no benefit.The Science', 'FDA VRBPAC panel member Dr. Eric Ruben says give the COVID vaccines to kids first, then worry about safety second.\"We\\'re never going to learn about how safe the vaccine is unless we start giving it that\\'s just the way it goes.\"', \"Ice cream for vaccinations; first -15 year-olds get vouchers from Stewart's\", \"/Democrats = Key COVID-19 Vaccine Customers85% of D's are now vaccinated51% believe vax has caused significant 's of deaths44% say vax safety concerns are legitimate33% say they personally know someone who died from vax side effects31% had vax side effects, % major\", 'Those Unvaccinated Should Be Turned Away From Hospitals, Refused Health Insurance, and Separated On Public Transportation', '/45% Increased Risk Of VITT, Myocarditis, Kidney Failure &amp; Liver Damage After mRNA VaccinationA new systematic review on serious harms of covid vaccines including systematic reviews, RCTs, and studies with controls found:', 'UK Parliament MP Calls For Immediate Stop To mRNA Covid Vaccines Due To Associated Heart Problems', '% Of Kids -16 With mRNA COVID Vaccine Induced Myocarditis Had Damaged Hearts At -6 Month Follow Up | COVID Vaccines Linked To A -Times Increase In Reports Of Menstrual Abnormalities | ETC', 'Quadruple COVID vaccinated, wears an N95 with face shield, wont socialize with you unless youve been bivalent boosted, supports safe and effective mRNA vaccines without any appropriate data', 'I dont know who needs to hear this but its not okay you were injured by a COVID vaccine.', 'Stop the shots.CDC analysis shows the number of serious adverse events reported in less than two years for mRNA COVID-19 vaccines is times larger than all serious reports for vaccines given to adults in the US since (~73,000 vs. ~13,000).', 'New Study: % Of Kids Suffered Cardiac Symptoms And In Experienced Potentially Lethal Heart Rhythms After A nd Dose Of Pfizers Covid VaccineStop the shots.', 'BREAKING - They CAUGHT HIM! Rebel News Finds Pfizer CEO Albert Bourla On The Streets At Davos And Asks Questions Mainstream Media Refuses To Ask\"Is it time to apologize to the world for your ineffective covid vaccine? Are you not ashamed of what you\\'ve done?\"', 'Unvaccinated German care home worker, accused of sparking a November outbreak in her residence that left three elderly women dead, to face criminal trial', 'There are people dying suddenly, do you regret getting a COVID vaccine?', 'BREAKING Bernie Sanders Blows The Whistle On Moderna Over Corrupt Government Contract For Their mRNA COVID-19 Vaccines\"Government put $1.9 billion dollars into research and development for Moderna, then guaranteed them billions in sales, then Moderna tripled consumer price\"', 'BREAKING Pfizer CEO Albert Bourla Announces At Davos New mRNA Flu Vaccine Due By June Or July This Year And A COVID/Flu Combination Vaccine Already In The Works\"We started experiments to make one vaccine for both covid and flu.\"', '\"My wife took her first COVID vaccine dose, then -hours later lymph nodes were swollen, she had burning + tingling on scalp that moved to face, neurologist was baffled, but suggested taking the second dose, that was Jan th , she\\'s still suffering.\"- Ken Ruettgers', 'Severe Cerebral Sinus Thrombosis (blood clot) Day After Pfizer Booster | -Times Increased Odds Of Kids Avoiding COVID Vaccines Due To Perceived Harms | Netherlands Ended Child COVID Vaccines', 'Those of you saying COVID vaccine injuries are rare are on the wrong side of history.', 'URGENT FROM NEW ZEALAND I wouldnt want a family member being treated by an unvaccinated nurse, for god sakes take the COVID jab, take one for the team.', '\"A person study from Israelshowed that the double vaccinatedwere times more likely to getreinfected with COVID, and data fromEngland, Scotland, and northerncountries in Europe show tripledvaccinated were more likely to die.- Richard Urso MD3/1/22', 'What was the main reason you decided against getting a COVID vaccine?', \"BREAKING -year-old Army National Guard Karolina Stancik suffered two heart attacks after getting the Covid vaccine.Karolina opens up to about the medical issues she's now facing after receiving the Covid vaccine.\", 'URGENT Cardiologist On Live News Says Excess Cardiovascular Deaths In UK Are Likely Linked To mRNA COVID Vaccines And Calls For A Stop To Them Being Administered BBC News', 'Do you know anyone who suffered myocarditis after receiving a COVID vaccine?', 'Theres a paper by Schwab et al from Germany that found people dead at home. If theyve take a COVID vaccine, % of the time it was a vaccine injury that caused the sudden death.', 'Should Elon Musk start a blood bank for the unvaccinated?', 'Dad Says FEMA Tried To Bribe Him After Teen Sons Post-Vaccine Death: He Refused And Went Public agency officials asked him to change the cause of death for his son to COVID.they offered to help him financially in exchange for doing so.', 'What people dont realize is one dose of any COVID vaccine gives you % protection against being hospitalized or dying.- Dr. Ranj Singh', 'American Red Cross says they do not need to label their blood products as either vaccinated or unvaccinated from COVID-19 because mRNA doesnt enter the bloodstream.', 'Are those who received a COVID vaccine sick and tired of being sick and tired yet?', \"BREAKING Gary, , Missouri,takes dose of Pfizer's COVID vaccine on /10/21, next day forgets wherehe is and time, has sudden falls, sensation of entire body burning, tremors, lost speech, and months later no improvement.- Gary is now disabled\", 'If you want to have a nuanced conversation about COVID vaccine harms, youre anti-vaxx.', '/URGENT Or More COVID-19 Vaccine Doses Associated With A -Fold Increased Risk Of Infection Said Cleveland ClinicA new study from Cleveland Clinic of k healthcare workers found the more vaccine doses, the more incidence of covid infection.', 'FAUCI on AIDS vaccines:After you give a new vaccine to thousands of people, you can find out it takes years for all hell to break loose.Meanwhile, Fauci has no problem with novel mRNA COVID vaccines for billions and ignores excess and sudden deaths.The Science', '-Year-Old Child Dies Suddenly One Day After Receiving Both the COVID Vaccine and Annual Flu Vaccine', 'The FAA just telegraphed the fact that a substantial number of airline pilots have had serious heart damage from the COVID vaccine by widening the ECG parameters for pilots.', 'New Study: % Of Kids Suffered Cardiac Symptoms And In Experienced Potentially Lethal Heart Rhythms After A nd Dose Of Pfizers Covid Vaccine', '/BREAKING New Study: % Of Kids Suffered Cardiac Symptoms And In Experienced Abnormal Heart Rhythms After A nd Dose Of Pfizers Covid VaccineChest pain experienced by %, and syncope/dizziness by %.51 had significant ST-T changes and arrhythmias.', 'The only pandemic we have is among the unvaccinated.', 'People who dont get vaccinated then go out without masks are no different than drunk drivers.Dr. Mike Wasserman', 'BREAKING Pfizers COVID vaccine gave me Bells Palsy and Id do it again says Canadian actress.', 'Do vaccinated people not understand no matter what they do theyre going to get COVID over and over again?', \"Covid vaccines may make BOTOX wear off faster, study suggestsIsraeli Botox regulars came in for top-ups around days sooner post vaccine.Researchers claim this could be due to vaccine's impact on immune response.\", 'Were you terminated from your job for not taking a COVID vaccine?', 'My mother snuck my kid to get a COVID vaccine so he could play sports, after was his physical, doctor said heart rate was shockingly low, went to cardiologist, I said it was the vaccine, doctor said -not possible, year follow up, they say he could have a sudden heart attack.', '/BREAKING year old man, dose of Astrazenezas COVID vaccine, week later painful lesions in mouth appeared, then spontaneously erupting blisters over % of body started. Man was hospitalized and treated with IM steroids + IV antibiotics. Deforming Scars for life.', 'BREAKING: World Economic Forum announces new mRNA technology they will use to edit and write your genome for beneficial purposes while having write level permission and giving credit to mRNA COVID vaccines for their mRNA code.', '/ BREAKING Sudden Fainting Due To Lethal Heart Rhythm And Myocarditis In Year Old Girl After st Dose Of Pfizer Covid VaccineBy day after vaccine, dizziness + intense chest pain-discharge day By day patient was readmitted to ED after syncope (sudden fainting)', 'Do you know anyone who had myocarditis after taking a COVID vaccine?', 'Stop minimizing COVID vaccine induced myocarditis its a medical emergency.', 'Barely anyone aged -49 in Ireland takes second Covid booster', '/URGENT % Of Kids -16 With mRNA COVID Vaccine Induced Myocarditis Had Damaged Hearts At -6 Month Follow Up77.7% abnormal ECG findings (mainly ST-elevation)LGE on % of MRIs55.5% myocardial edoema (excess fluid)100% LGE present at -6 month follow up', 'British Columbian Paralyzed from Pfizer COVID Vaccine Finally to Get Compensated likely close to the maximum payout of $284,000. [J]ust under $2.8 million has been paid out by the Canadian government thus far.', 'Should Colleges Be Held Liable For Damages Caused By COVID-19 Vaccine Mandates? Results From Recent Survey Question With k Impressions From Twitter Comment Section Is Shocking', 'URGENT Days after receiving her nd COVID-19 vaccine from Pfizer in August , Sarah experienced unrelenting seizures, functional neurological disorder, tremors, chest pain, and could no longer read, write, or walk normally. here', 'Yes, the COVID vaccine is killing people, and its killing large numbers of people, CDC as of December rd has over Americans that have died within a few days of taking the vaccine.- Dr. Peter McCullough MD MPH', 'Yes, the COVID vaccine is killing people, and its killing large numbers of people, CDC as of December rd has over Americans that have died within a few days of taking the vaccine.- Dr. Peter McCullough MD MPH', 'You have no right not to be vaccinated, you have no right not to wear a mask, and if you refuse to be vaccinated, the state should have the power to take you to a doctors office and plunge a needle into your arm.- Alan Dershowitz', 'How many people do you know that were injured from a COVID vaccine?', \"BREAKING Aiden, , received a second dose of Pfizer's COVID vaccine, later at :30 am he woke up with severe chest pain, ER doctors found X elevated troponin, and abnormal heart rhythm. CDC confirmed vaccine induced myocarditis - To this day, he's received no compensation.\", '/ BREAKING New Bombshell Study: Menstrual Irregularities Persisted Months After mRNA Vaccination In % Of WomenMenstrual changes persisted after COVID vaccine doses in %Symptoms months in %Symptoms included ONGOING menstrual pain in %', 'BREAKING On /21 he received a nd dose of Pfizers COVID-19 vaccine, within hours lost consciousness three times, had cardiac arrest, received CPR numerous times &amp; shocked + times over a hour period, finally a pacemaker was placed.', '/ URGENT -Sigma-Significant Mortality-Enhancing Effect Seen In Dutch Communities After Covid Vaccine RolloutStart here', \"/ URGENT Newer Thailand Study Shows % Abnormal EKGs &amp; Shocking Number Of Myocarditis Cases In Kids After Taking Pfizer's Covid Vaccine3.46% (7/202) of males/0 females experienced myo/peri, myoperi, or subclinical myocarditis17.94% (54/301) experienced abnormal ECGs\", 'Pfizer COVID Vaccine Effectiveness Was % At MonthsPfizer vaccine effectiveness for kids -11 VS omicron infection was % at months.Then dropped to % (95% CI,26.8-37.5) by month .', '/Pfizer COVID Vaccine Effectiveness Was % At MonthsPfizer vaccine effectiveness for kids -11 VS omicron infection was % at months.Then dropped to % (95% CI,26.8-37.5) by month .', 'Were you forced to take a COVID vaccine?', 'BREAKING Dr. Kimberly Biss OB/GYN Says Since The COVID Vaccine Rollout There Is A % Decrease In Fertility Numbers A % Increase In Miscarriages And % Increase In Abnormal Pap Smears And Cervical Malignancies In Her Area', 'BREAKING Dr. Kimberly Biss OB/GYN Says Since The COVID Vaccine Rollout There Is A % Decrease In Infertility Numbers A % Increase In Miscarriages And % Increase In Abnormal Pap Smears And Cervical Malignancies In Her Area', 'BREAKING Leaked Video Of Mark Zuckerberg Warning His Staff Not To Take A COVID Vaccine', 'New Study: % Of Kids Suffered Cardiac Symptoms And In Experienced Potentially Lethal Heart Rhythms After A nd Dose Of Pfizers Covid Vaccine', 'BREAKING Parents Are Now Rising Up Against All School Vaccine Requirements1/3rd of parents currently oppose schools requiring children to receive measles or other childhood vaccines.COVID-19, MMR, FLU, Chickenpox, DTaP/Tdap, ETC', '/URGENT to young adults, aged -29, would have to be boosted to avert one COVID hospitalization in age this group.They were already low risk from the virus. Therefore, boosting mainly yields harms, and no meaningful benefits.End college vaccine mandates.', 'Why didnt you get a COVID vaccine?', 'BREAKING Pfizers New Bivalent COVID-19 Booster Commercial Featuring Martha Stewart Is Shocking', \"/Full Length And Trace Amounts Of SARS-CoV-2 Vaccine mRNA Circulate In Blood Up To Days After Vaccination New Denmark Study10/108 (9.2%) have full length or traces of vaccine mRNA in blood up to month after taking Moderna or Pfizer's COVID-19 vaccine.\", 'BREAKING Kristen takes a COVID vaccine, soon after has severe convulsions, facial numbness, inability to control her head, goes to hospital, doctors ask her to leave because theres nothing they can do, no medicine they can give, and that she only has a vaccine sensitivity.', 'Are there more vaccinated or unvaccinated Twitter users?', 'Should Colleges Be Held Liable For Damages Caused By COVID-19 Vaccine Mandates? Results From Recent Survey Question With k Impressions From Twitter Comment Section Is Shocking', 'If you dont want to take the COVID vaccine you have an option, stay in quarantine.Alan Dershowitz circa May', 'Are you vaccinated?', 'BREAKING Moderna CEO Admits On Live Air At Davos They Were Making A COVID-19 Vaccine In January Of Before SARS-CoV-2 Even Had A Name', 'Student athlete, took mandated COVID shot, days later diagnosed with myocarditis, says it isnt right to be forced to take these vaccines because there are serious side effects, and no one knows long term effects. Other student athletes had heart surgery after this vaccine', \"/BREAKING Full Length And Trace Amounts Of SARS-CoV-2 Vaccine mRNA Circulate In Blood Up To Days After Vaccination New Denmark Study10/108 (9.2%) have full length or traces of vaccine mRNA in blood up to month after taking Moderna or Pfizer's COVID-19 vaccine.\", 'They say sorry for pushing the COVID vaccine, do you forgive them?', 'BREAKING Trump Denies Serious COVID Vaccine Safety Concerns During Live Broadcast Says They Saved Millions of Lives', 'New Study Found A -Times Increased Rate Of Myocarditis In Males After mRNA Booster | Or More COVID-19 Vaccine Doses Associated With A -Fold Increased Risk Of Infection Said Cleveland Clinic | ETC', 'Severe Cerebral Sinus Thrombosis (blood clot) Day After Pfizer Booster | -Times Increased Odds Of Kids Avoiding COVID Vaccines Due To Perceived Harms | Netherlands Ended Child COVID Vaccines', 'Why is President Trump defending the COVID vaccine?', 'Why is President Trump Defending the COVID vaccine?', 'Should Elon Musk Start A Blood Bank For The Unvaccinated? Results From Recent Survey Question With Million Impressions From Twitter Comment Section Is Shocking', '/BREAKING Immune Dysregulation After Pfizers COVID-19 Vaccine Worsening Eosinophilia, Dyspnea And Lung Pathology With Each Additional DoseStart here', \"BREAKING Former UK Prime Minister Tony Blair Calls For A Digital Database To Monitor Who Is Vaccinated And Who Is Not For A Future Pandemic During Live Broadcast At Klaus Schwab's World Economic Forum\", '/URGENT Angelia, , a healthcare worker was mandated to take Pfizer\\'s COVID-19 vaccine, days later paralyzed from legs down, followed by severe convulsions and seizures, can no longer, clean, cook, drive a car, requires full-time caretaker, \"i\\'m a prisoner in my own home\"', 'Were you this proud after receiving a COVID vaccine?', 'Trump needs to stop denying vaccine harms and those who were injured by COVID vaccines.', 'URGENT The Unvaccinated Will Be Vindicated', \"He's Been Hospitalized Four Times Since Getting A Covid Vaccine. He Has Myocarditis And POTS. He Can No Longer Work. He Can No Longer Support Himself.\", 'The MHRA has published guidance on how doctors should evaluate COVID-19 vaccine induced myocarditis. Thats a proxy there are so many cases that the British Government had to issue guidance on how to handle it.- Dr. Peter McCullough MD MPH', '/BREAKING New Study: % Of Kids Suffered Cardiac Symptoms After A nd Dose Of Pfizers Covid VaccineChest pain (8.9%),syncope/dizziness (3.4%)51 experienced significant ST-T changes and arrhythmias', '/BREAKING NEW STUDY: % Increased Probability Of Infection From COVID Booster Compared To Being UnvaccinatedStart here', \"He's Been Hospitalized Four Times Since Getting A Covid Vaccine. He Has Myocarditis And POTS. He Can No Longer Work. He Can No Longer Support Himself.\", 'Should Elon Musk Start A Blood Bank For The Unvaccinated? Results From Recent Survey Question With Million Impressions From Twitter Comment Section Is Shocking', 'CDC Study: % of Children Ages to Experienced Systemic Reactions After Getting New COVID Booster', 'BREAKING Moderna CEO Admits On Live Air At Davos They Were Making A COVID-19 Vaccine In January Of Before SARS-CoV-2 Even Had A Name', \"JUST IN US Service Members Fired For Refusing To Get The Covid-19 Vaccine Under Pentagon's Mandate Are Now Being Forced To Pay Back Recruitment Bonuses Of Up To $7,000\", 'Were COVID vaccine mandates justified?', 'BREAKING Twitter Has No Answers for The Atlantic calls for Twitter to immediately censor all Died Suddenly posts', 'BREAKING \"Fully Vaccinated\" -Year-Old Model Dies Suddenly and Cause of Death is Immediately Reported as \"Unknown\"', 'BREAKING Dr Tedros Of WHO Says COVID Will Continue To Kill People Because Of Misinformation That Is Causing Vaccine Hesitancy', 'BREAKING Dr. Paul Offit Of FDA Vaccine Advisory Committee Flip-Flops On CDCs Needle in Every Arm Narrative During Live News BroadcastCDCs COVID datashows only certain groups benefit in terms of protection against severe disease.Im not sure why the CDC pushed this.', \"/BREAKING Myocarditis Then Ventricular Tachycardia Induced By Exercise -7 months After nd Dose Of Pfizer's COVID Vaccine In A Healthy Young -Year Old Male First Shocking Case Report Hinting At Repeat Arrhythmia And Scarring Associated With mRNA COVID Vaccination\", 'BREAKING NY Governor Kathy Hochul Refuses To Rehire Healthcare Workers Fired For Refusing COVID Vaccination That Have Natural Immunity Despite Crisis Level Shortages And Vaccine Mandates That Were Overturned NY Is In Severe DeclineI cannot put people into harms way.', '/URGENT Immune Dysregulation After Pfizers COVID Vaccine Worsening Eosinophilia, Dyspnea And Lung Pathology With Each Additional DoseAfter dose patient experienced dyspnea warranting medical examination4 weeks later not resolvedBoosted then admitted to ED', 'Now we know the COVID vaccines work well enough, the virus stops with every vaccinated person.- Rachel Maddow', 'Now we know the COVID vaccines work well enough, that the virus stops with every vaccinated person.- Rachel Maddow', 'VIDEO Doctor In Utah Charged For Dumping COVID Vaccines, Giving Kids Saline Shots Instead Of The Real Thing And Selling Fake Vaccine Cards For $50 Each Collected $96,850!', 'BREAKING Moderna To Charge $130 For Its Covid Vaccine In While It Only Costs $3 To Produce', \"BREAKING Proof Canadian Government Paid Universities To Push COVID-19 Vaccines On StudentsHundreds of thousands of dollars in grants were awarded to Canadian Universities by the government as a prize for increasing vaccine compliance on campuses. Myocarditis wasn't a thought\", 'URGENT Immune Dysregulation After Pfizers COVID Vaccine Worsening Eosinophilia, Dyspnea And Lung Pathology With Each Additional Dose | Covid Vaccine Effectiveness Only % Against Hospitalization In Kids', 'Were you injured by a COVID vaccine?', '/URGENT Covid Vaccine Doses VS Associated With Nearly X Increased Odds Of Reinfection Says Newer JAMA Study1.42X the odds of reinfection after taking doses VS or less (95% CI -1.78).1327 (5%) reinfections.', 'BREAKING Pfizer CEO Albert Bourla Says There Is No Increased Risk Of Sudden Cardiac Death Or Stroke From Taking Their COVID Vaccine\"We constantly review and analyzethe data. We have not seen a single signal although we have distributed billions of doses.', 'BREAKING FDA Releases Vaccine Advisory Committee Briefing Document For Their Meeting About COVID Vaccines On /26/23 They Refuse To Acknowledge Myocarditis', 'BREAKING The Deceptive Campaign For Bivalent COVID BoostersStudies show they fail to live up to their promise, but vaccine makers and experts keep pushing them while the virus is mutating faster than the vaccines can keep up with', 'BREAKING \"Why India Did Not Allow Pfizer\\'s Covid-19 Vaccine\"1. Indian regulators required a local safety &amp; efficacy study. \"Pfizer refused to do a local trial.\"2. Pfizer wanted legal immunity from vaccine injury.India refused.', 'BREAKING Utah Plastic Surgeon Charged For Tossing COVID Vaccines, Giving Kids SALINE Shots Instead Of The Real Thing If Their \"Anti-vaxx\" Parents Requested It, And Selling Fake Vaccine Cards For $50 A PopREAD ABOUT IT HERE', 'For the unvaccinated youre looking at a winter of severe illness and death.', 'BREAKING % Of Kids Suffered Meaningful Cardiac Symptoms After Dose Of Pfizers Covid Vaccine New Taiwan StudyChest pain (8.9%),syncope/dizziness (3.4%)51 experienced significant ST-T changes and arrhythmias', 'BREAKING Alex Berenson Says Middle Age Women Are Not Really Suffering COVID-19 Vaccine Injuries Theyre Just Faking Who Paid Off Alex Berenson?', 'What was the real reason for COVID vaccine mandates?', '/URGENT Newer Study Shows Pfizer Covid Vaccine Removes Protection Gained From Natural Immunity2 dose vaccinated + previously infected, vaccine effectiveness against infection at months was % [95% CI: -10.2].', 'BREAKING Doctor In Utah Charged For Dumping COVID Vaccines, Giving Kids Saline Shots Instead Of The Real Thing And Selling Fake Vaccine Cards For $50 Each Collected $96,850!', 'BREAKING Despite China Being Nearly % Fully Vaccinated Against COVID-19 % Are Now Infected', \"JUST IN Elon Musk Felt Like He 'Was Dying' After nd COVID Booster Shot, Cousin In 'Peak Health' Suffered Myocarditis\", 'What has more side effects- your immune system or a COVID vaccine?', 'What works better- your immune system or a COVID vaccine?', 'BREAKING Immune Dysregulation After Pfizers COVID Vaccine Worsening Eosinophilia, Dyspnea And Lung Pathology With Each Additional Dose | Covid Vaccine Effectiveness Only % Against Hospitalization In Kids', 'BREAKING Utah Plastic Surgeon Charged For Tossing COVID Vaccines, Giving Kids SALINE Shots Instead Of The Real Thing If Their Anti-vaxx Parents Requested It, And Selling Fake Vaccine Cards For $50 A Pop', 'Did you get a COVID vaccine?', 'BREAKING Pfizer Is Attempting To Scrub The Internet Of Dr. Jordon Walker Who Claims Pfizer Is Exploring Mutating SARS-CoV-2 For New COVID Vaccines These Are Some Of The Last Remaining Images On The Internet', \"BREAKING Myocarditis Then Ventricular Tachycardia Induced By Exercise -7 months After nd Dose Of Pfizer's COVID Vaccine In A Healthy Young -Year Old Male - High Risk Of Dying Suddenly\", '/URGENT New German Autopsy Study With Photos Shows Myocarditis, Arrhythmia &amp; Death After mRNA COVID VaccinationA new German study on mRNA vaccine induced myocarditis examined /25 associated cardiac deaths that occurred suddenly at home post vaccination. Start here', '/BREAKING New Shocking UK Government Data Revealed Nearly Healthy People Aged -49 Needed To Be Vaccinated To Prevent One Autumn COVID-19 ICU AdmissionThis indicated COVID boosters were at best introducing many healthy people to harms but providing no benefit.', 'BREAKING Pfizer Wipes All Employment Info On Jordan Walker, The Director Who Admits Exploring Mutating SARS-CoV-2 To Make New COVID Vaccines', 'BREAKING Pfizer Wipes All Employment Info On Jordan Walker, The Director Who Admits Exploring Mutating SARS-CoV-2 To Make New COVID Vaccines But This Remains', \"/URGENT Severe And Overlapping POTS With Myocarditis After A nd Dose Of Pfizer's COVID-19 Vaccine In A Healthy -Year-Old Child With Debilitating Symptoms Lasting Over MonthsStart here\", '/URGENT Immune Dysregulation After Pfizers COVID-19 Vaccine Worsening Eosinophilia, Dyspnea And Lung Pathology With Each Additional DoseStart here', '/URGENT Bombshell Australian Public Health Data Finds All COVID Related Hospitalizations And ICU Admissions Were Vaccinated None Unvaccinated And Only % Of COVID Deaths Were UnvaccinatedHospitalized (all vaccinated)6.3% of total deaths unvaccinated', 'BREAKING Dr. Robert Malone Explains The Truth About Pfizer Exploring Directed Evolution To Create Mutated COVID StrainsIt appears that they are recapitulating exactly what was done at the Wuhan Institute of Virology', \"BREAKING Myocarditis Then Ventricular Tachycardia Induced By Exercise -7 months After nd Dose Of Pfizer's COVID Vaccine In A Healthy Young -Year Old Male - High Risk Of Dying SuddenlyRepeat Arrhythmia &amp; Heart Scarring After mRNA COVID Vaccination\", \"BREAKING Getting Pfizer's Covid Booster And Flu Vaccine On The Same Day May Raise The Risk Of A STROKE, FDA Says\", 'What side effects did you have after taking a COVID vaccine?', 'Were you injured by the COVID vaccine?', '/URGENT Proof That mRNA Covid Vaccines Changed Breast Milk In Lactating WomenIgG anti-spike antibodies persisted in human-milk up to months after doses in % (10/19) of available samples right before subjects received a rd dose.', 'URGENT New Study Found A -Times Increased Rate Of Myocarditis In Males After mRNA Booster | Or More COVID-19 Vaccine Doses Associated With A -Fold Increased Risk Of Infection Said Cleveland Clinic | ETC', 'Scientists Found -Times Increased Odds Of Debilitating Dysautonomia After mRNA Vaccination | IgA Antibodies In Tonsils Were Protective Against COVID-19 Up To Months | US Death Rate Up %', '/BREAKING Newer Peer Reviewed Study Revealed An Equal Proportion of Vaccinated And Unvaccinated People Dying From COVID Are They Working?There were identical in-hospital death proportions of and dose COVID vaccine recipients (10.1%) VS unvaccinated (9.9%)', 'Do you think COVID-19 vaccine protected people against severe disease and death?', 'BREAKING FDA VRBPAC Unanimously Votes To Retire Original Strain COVID-19 Vaccine And Only Use Bivalent Omicron Specific COVID-19 Vaccines Going Forward', 'BREAKING FDA Unanimously Votes To Retire Original Strain COVID-19 Vaccine And Only Use Bivalent Omicron Specific COVID-19 Vaccines Going Forward', 'URGENT European Drug Safety Agency Said Heavy Menstrual Irregularity To Be Added To Product Label Of Covid VaccinesIrregularities \"could occur after st, nd, or booster doses\" for undefined lengths of time.', 'BREAKING FDA Identifies Another Myocarditis Safety With New Bivalent mRNA COVID-19 Booster ShotsPreviously, most data indicates myocarditis associated with the original strain shots.', 'URGENT The College Of Physicians and Surgeons of Ontario sent out a memo to all doctors saying patients who refused a COVID vaccine may have a mental disorder and should be prescribed psychiatric medication.', 'BREAKING CDC Creates ICD-10 Billing Codes For Doctors To Keep Track Of People Who Refuse To Take A COVID-19 Vaccine Z28.310 -Unvaccinated for COVID-19 Z28.311- Partially vaccinated - received at least dose Z28.39- Delinquent', '/BREAKING Pfizer Admits Exploring Mutating SARS-CoV-2 So They Can Make New mRNA Vaccines So Be Sure To Memorize The Infection Fatality Rate For COVID-190.0003% -19 yrs0.003% -29 yrs0.011% -39 yrs0.035% -49 yrs0.129% -59 yrs0.501% -69 yrs', 'I dont want the unvaccinated sitting next to me in a theater, near me at a bar, or on the same train carriage.', 'BREAKING FDA Finally Admits There Is A Significant Cluster Of Strokes Seen -22 Days After Taking Pfizers Bivalent COVID-19 BoosterTheres a significant cluster of stroke at days -22 for those +, but it happens to not be as striking as myocarditis.', 'URGENT Why did Daily Mail take down this story shortly after Project Veritas blew the whistle on Pfizers plan to mutate SARS-CoV-2 to make new mRNA COVID vaccines?', 'URGENT Why did Daily Mail take down this story shortly after Project Veritas blew the whistle on Pfizers plan to mutate SARS-CoV-2 variants to make new mRNA COVID vaccines?', 'BREAKING Andrew Bridgen Sues Matt Hancock Over Covid Vaccine Row', \"/BREAKING New Bombshell Study From New Zealand Finds Alarming Increase Of Myocarditis And Acute Kidney Injury Within Days Of Taking A nd Dose Of Pfizer's COVID Vaccine25.8-times rate increase of myo/pericarditis66% rate increase of acute kidney injury\", 'BREAKING Pfizer Is Exploring \"Mutating\" The COVID-19 Virus For New Vaccines\"Don\\'t tell anyone this...There is a risk...have to be very controlled to make sure this virus you mutate doesn\\'t create something...the way that the virus started in Wuhan, to be honest.\"', 'UK Government Ending COVID-19 Vaccine Boosters for Healthy People Under Mark this day the beginning of the end.', 'Them: we never forced anyone to get a COVID shot.Also them: you need to get a vaccine to stay employed.', 'Were you told by a doctor your COVID vaccine injury was just anxiety?', 'BREAKING Covid-19 Booster Jab Offer Set To EndGovernment is also preparing to wind down the open offer of the first two doses over the coming months due to dwindling uptake', 'BREAKING Why Pfizers COVID-19 Vaccine Was Pushed Out Of India: Pfizer wanted legal immunity from vaccine injuries and India said NO. India demanded Pfizer run local clinical trials to demonstrate safety and Pfizer ran.', '/URGENT In Pregnant And Post Pregnant Women Experienced Debilitating COVID Booster Side Effects | JAMA Study', '/BREAKING % Of Kids -16 With mRNA COVID Vaccine Induced Myocarditis Had Damaged Hearts At -6 Month Follow Up77.7% abnormal ECG findings (ST-elevation mostly).LGE % of MRIs.55.5% myocardial edoema (excess fluid).100% LGE present at -6 month follow up.', 'BREAKING Claims of Covid Vaccine Injuries and Deaths Revive Protest Movement', 'BREAKING Attorney Shabnam Palesa Mohamed Blows The Whistle On COVID-19 Vaccine Safety Issues In South Africa During Live News Broadcast Calls For Immediate SuspensionThe pharmaceutical industry has a long history of criminal behaviour. We are here to protect the public', 'BREAKING Bill Gates Admits COVID Fatality Rate Is Low Despite Modernas Massive mRNA Vaccine PushIts a fairly low fatality rate &amp; its a disease mainly in the elderly, kind of like flu is, although a bit different than that.', 'BREAKING New Bombshell BMC Study Says COVID Vaccine Fatalities Could Be As High As With Up To Million Severe Adverse Events Experienced In', 'Youre offered a million dollars to take the COVID vaccine.', 'The only pandemic we have is among the unvaccinated.', 'Severe Cerebral Sinus Thrombosis (blood clot) Days After Pfizer Booster | -Times Increased Odds Of Kids Avoiding COVID Vaccines Due To Perceived Harms | Netherlands Ended Child COVID Vaccines', 'Are you still unvaccinated?', '\"I participated in Astrazeneca\\'s COVID vaccine clinical trial and now I suffer from a severe debilitating form of neuropathy that will progress until I need to be placed into a care home.\"', \"URGENT They Knew: Why Didn't The Unvaccinated Do More To Warn Us?\", 'How bad was your COVID vaccine injury?', 'What was your COVID vaccine injury?', 'BREAKING Bill Gates Admits mRNA COVID Vaccines Are Not Blocking Infection, Have Very Short Duration, And Do Not Provide Broad Protection During Live InterviewWe think you can have something you can inhale that will mean you cant be infected an inhaled blocker.', 'Would you allow your child to be vaccinated if they mandated COVID shots for students?', 'URGENT Tony Blair Calls for \"Digital Infrastructure\" To Monitor Everyones Vaccination Status At Klaus Schwabs WEFYou need to know been whos vaccinated, and who hasnt been.', '/URGENT NEW STUDY: % Increased Probability Of Omicron Infection From COVID Booster Compared To Being Unvaccinated mRNA Vaccines Largest Fail Yet-36% Vaccine effectiveness from dose +2-30% Vaccine effectiveness from booster', 'BREAKING Growing Number of Doctors Say They Wont Get COVID-19 Booster Shots', \"You Cant Sue Pfizer Or Moderna If You Have Severe Covid Vaccine Side Effects The Government Likely Won't Compensate You For Damages Either\", \"URGENT You Cant Sue Pfizer Or Moderna If You Have Severe Covid Vaccine Side Effects The Government Likely Won't Compensate You For Damages Either\", 'URGENT Olivia Teseniar was part of Modernas COVID-19 vaccine clinical trial. She suffered years of serious adverse reactions, then developed lymphoma + leukaemia. Moderna never submitted her report to FDA. Here is Olivias meeting with Principal Investigator of the trial.', 'Do you know someone who died suddenly after taking a COVID vaccine?', 'BREAKING Australians Now Refusing To Get More mRNA COVID-19 Shots\"Right now, overall... % have not taken more than doses, and only % of those over have had their th dose.\"', '/URGENT Princess Bajrakitiyabha, , Of Thailand Remains Unconscious After Developing Sudden Heart Problem Nearly Days After COVID-19 Vaccine Says Dr. Sucharit Bhakdi', 'BREAKING MIT Professor, Retsef Levi, Expert On Drug Safety Analytics From Cambridge Ma, Calls For An Immediate End To All mRNA COVID VaccinesThey cause an unprecedented level of harm including the sudden cardiac death of young people and children', \"BREAKING New Bombshell New Zealand Study Found Alarming Increase Of Myocarditis And Acute Kidney Injury Within Days Of Taking A nd Dose Of Pfizer's COVID Vaccine | Severe Pancreatitis Following COVID Vaxx | ETC\", 'BREAKING Lindsey Lanoux, , Receives COVID booster September th , Dies Suddenly Of Cardiac Arrest January th', 'BREAKING Lindsey Lanoux, , Receives COVID booster September th , Dies Suddenly Of Cardiac Arrest January', 'BREAKING A U.K. Judge Mandates A Young Disabled Boy With Heart Problems To Take A COVID-19 Vaccine Against Mothers Wishes', 'BREAKING Lindsey Lanoux, , Receives COVID booster September th , Dies Suddenly Of Cardiac Arrest January', 'Yes, Vaccinated People Can Transmit COVID-19 Through Kissing', 'URGENT U.S. CDC Still Looking At Potential Stroke Risk From Pfizer Bivalent COVID Shot', 'URGENT Harvey Woodrow, age , takes a nd COVID-19 vaccine dose Jan , shortly after experiences extreme chest pain, and shortness of breath, was rushed to hospital where myocarditis/pericarditis was confirmed.Please share/donate to his gofundme', 'Do you know anyone who suffered myocarditis after taking a COVID-19 vaccine?', 'URGENT COVID-19 Vaccine Adverse Events Through January th Total Vaccine Adverse Events reported to VAERS COVID-19 vaccine reported hospitalizations Covid vaccine adverse event reports', 'From the COVID vaccine', 'URGENT BBC Ignores Largest COVID-19 Vaccine Protest In Recent History Occurring Right Outside Of Their Main Broadcasting House In London', 'No, it wasnt the COVID vaccine is no longer acceptable.', '/URGENT Pfizer COVID Vaccine mRNA Found In Liver Cells\"The authors indicate that based on this, and similar data their \"results suggest that lipid nanoparticles bearing mRNA molecules encoding SARS-CoV-2 proteins can reach hepatocytes (liver cells).\"', \"URGENT Severe And Overlapping POTS With Myocarditis After A nd Dose Of Pfizer's COVID-19 Vaccine In A Healthy -Year-Old Child With Debilitating Symptoms Lasting Over MonthsHospitalized X in month post vaccinationDiagnosed POTS + myocarditis\", 'Pfizer Director Dr Jordon Walker admits they were involved in mutating the SARS-CoV-2 virus to make new COVID vaccines and the media is still silent', 'URGENT Prof Sucharit Bhakdi Presents Proof To Thai Government That COVID-19 Vaccine Approvals Were Based On Fraudulent Data And That Safety Studies Were Never Performed', 'FDA votes to update every COVID vaccine to Omicron-specific, will you take it?', \"URGENT Novak Djokovic Beats Both The COVID Vaccine Mandate And His Opponent Stefanos Tsitsipas To Win The Men's Australian OpenHe refused to be bullied by a vaccine mandate, stood strong, and won on all fronts.\", 'BREAKING FDA Sued for Withholding COVID-19 Vaccine Safety Analyses', 'BREAKING FDA Advisers Favor Retiring Original Covid Shot And Using Newer Version', 'This is why you cant wake up your brainwashed COVID vaccinated friends and family.', 'I never saw a case of cancer in an unvaccinated person. Vaccination is a time-bomb within the human system that can go off -years, -years, or -years after vaccination.', 'BREAKING CDC Creates ICD-10 Billing Codes For Doctors To Keep Track Of People Who Refuse To Take A COVID-19 VaccineZ28.310 -Unvaccinated for COVID-19 Z28.311- Partially vaccinated - received at least dose Z28.39- Delinquent', 'Are you a good, decent citizen? Are you vaccinated?', 'Before receiving a COVID vaccine, Maddie was a health and active year old, today shes a year old in a wheelchair with a feeding tube.', 'Getting the COVID vaccine was an amazing feeling.- Justin Trudeau', '/ URGENT New Study Says After Dose Of mRNA Vaccine % Of Healthcare Workers Were Unable To Return To Work1,700 healthcare workers unable to return to work after a COVID booster.34.9% unable to work for a total of sick days after dose.', '/ URGENT Newer German Autopsy Study Links Sudden Cardiac Death And Myocarditis To mRNA VaccinationThis examined of associated cardiac deaths that occurred suddenly at home approximately post COVID vaccination. Here is what you need to know...', \"/BREAKING New Bombshell Study From New Zealand Finds Alarming Increase Of Myocarditis And Acute Kidney Injury Within Days Of Taking A nd Dose Of Pfizer's COVID Vaccine25.8-times rate increase of myo/pericarditis70% rate increase of acute kidney injury\", '\"Stay safe, and get a COVID vaccine as soon as you can.\"- Stephen Spielberg', \"BREAKING Severe And Overlapping POTS With Myocarditis After A nd Dose Of Pfizer's COVID-19 Vaccine In A Healthy -Year-Old Child With Debilitating Symptoms Lasting Over Months\", 'URGENT French Doctors Throwing Their Stethoscopes Away In Protest Of Failing Healthcare System That COVID-19, Vaccine Mandates, And Lockdowns Made Worse', 'BREAKING French Doctors Throwing Their Stethoscopes Away In Protest Of Failing Healthcare System That COVID-19, Vaccine Mandates, And Lockdowns Made Worse', 'Were you disowned by family for not getting a COVID vaccine?', 'Have you recovered from your COVID vaccine injury?', 'BREAKING COVID Vaccine Injured Mother Says Blood Work Confirms Spike Protein Still In Her Body Days After Vaccination\"I have test results showing spike protein was still present and wreaking havoc in my body days after my last Moderna vaccine. I\\'ve never had COVID.\"', 'BREAKING COVID Vaccination Status Is Not A Disease Or Injury State, Yet CDC Rationalizes Creating ICD-10 Codes For It, Set To Become Effective April Doctors will now report those who refuse COVID vaccination as delinquent in huge database', 'BREAKING COVID Vaccination Status Is Not A Disease Or Injury State, Yet CDC Rationalizes Creating ICD-10 Codes For It, Set To Become Effective April Physicians will now report those who refuse COVID vaccination as delinquent in huge database', 'BREAKING COVID Vaccination Status Is Not A Disease Or An Injury State, Yet CDC Rationalizes Creating ICD-10 Codes For It, Set To Become Effective April Physicians will now report those who refuse COVID vaccination as delinquent in huge database', 'BREAKING Pfizer Responds To Recent Project Veritas Investigation Where Director Dr Jordon Walker Says They Were Exploring \"Mutating\" SARS-CoV-2 To Make New COVID VaccinesPfizer has not conducted gain of function or directed evolution research', \"URGENT Severe And Overlapping POTS With Myocarditis After A nd Dose Of Pfizer's COVID-19 Vaccine In A Healthy -Year-Old Child With Debilitating Symptoms Lasting Over Months\", 'BREAKING Activists Crash An Event Dr. Fauci Is Attending At Loto Club In Manhattan New York Over COVID Vaccine Safety Concerns And Rising Number Of Sudden Cardiac Deaths', 'You have no right not to take a COVID vaccine, you have no right not to wear a mask, you have no right to open up your business.- Alan Dershowitz', 'days after receiving a COVID vaccine, you are % protected against hospitalization and death.- Dr. Sara Kayat', 'If you are willing to walk among us unvaccinated, you are an enemy.- Gene Simmons', 'I Was Hospitalized Because Of A COVID-19 Vaccine Side Effect, But That Didnt Stop Me From Getting A Booster', 'URGENT Sean Muldoon, year old male, received a COVID vaccine, ten days after had extreme abdominal pain, seven days after that doctors removed over six feet of his small intestine because of massive blood clot.', 'If Pfizer believes that only around % of the population is unvaccinated their campaign will never end', 'Who on Twitter refused to get a COVID vaccine?', 'We will look back in disgust that we allowed month old babies to be vaccinated against COVID-19', '/BREAKING Scientific Papers Written By Pfizer Director Dr. Jordon Walker Who Says Pfizer Is Exploring Mutating SARS-CoV-2 For New COVID VaccinesIdentified By Project Veritas', 'As the COVID public health emergency ends, so should emergency use of Pfizer and Modernas vaccines. Who agrees?', 'Were you ever labeled anti-vaxx for not getting a COVID vaccine?', '/URGENT Newer German Insurance Data Revealed in Individuals Sought Medical Treatment For Covid Vaccine Side Effects In Germanys largest health insurer, Techniker Krankenkasse said, of roughly million (1/25) insured individuals sought medical treatment', 'URGENT Get your new bivalent COVID boosterand dont worry so much about the number of boostersDr. Peter Hotez /6/22', 'BREAKING Project Veritas Rents Enormous LED Truck, Parks It Outside Pfizer World Head Quarters Manhattan, Demands Answers On Why Pfizer Is Exploring MutatingSARS-CoV-2 Virus For New COVID Vaccines', 'BREAKING Fully Vaccinated MSNBC Host Yasmin Vossoughian Develops Myocarditis And Blames It All On A Cold', 'BREAKING Covid mRNA Vaccines Are \"Clearly The Most Failing Medical Product In History\" And Should Be Withdrawn Immediately As They Cause \"An Unprecedented Level Of Harm\", A Top Drug Safety Expert Has Said', \"BREAKING New Bombshell New Zealand Study Found Alarming Increase Of Myocarditis And Acute Kidney Injury Within Days Of Taking A nd Dose Of Pfizer's COVID Vaccine | Severe Pancreatitis Following COVID Vaxx | ETC\", 'BREAKING Fully Vaccinated MSNBC Host Yasmin Vossoughian Develops Myocarditis And Blames It All On A Cold', 'URGENT A Group Of Doctors &amp; Nurses Blow The Whistle On Houston Methodist Hospitals COVID-19 Vaccine Mandate']\n",
            "DrAseemMalhotra\n",
            "0.021265405692819126\n",
            "0.7333333333333333\n",
            "['BREAKING: million Indians currently are yet to take covid vaccine booster amid concerns of major harms I call on the Indian prime minster to immediately halt Covishield jab (Astra Zeneca) because we suspended it in the U.K. due to horrific side effects', 'BREAKING: million Indians currently decline covid vaccine booster amid concerns of significant harms I call on the Indian prime minster to immediately halt Covishield jab (Astra Zeneca) because we suspended it in the U.K. due to horrific side effects', 'BREAKING: million Indians currently decline covid vaccine booster amid concerns of significant harms I call on the Indian prime minster to immediately halt Covishield jab (Astra Zeneca) because we suspended it in the U.K. due to horrific side effects', 'if you vaccinate your children against covid its going to be a thousand times worse says independent virologist and vaccine expert', 'BREAKING:The claim that the covid vaccine have saved million lives is utter nonsenseIndependent analysis suggests the mRNA vaccines have cost more lives than they have saved You REALLY couldnt make up this public health catastrophe - must stop the roll out NOW', \"Social media platforms target cardiologist who went from booster to critic of covid vaccines he called mRNA jabs one of the worst pharmaceutical interventions in the history of medicine and it shouldn't even be worthy of debate to pause vax campaigns\", \"Social media target cardiologist who went from booster to critic of covid vaccines he called mRNA jabs one of the worst pharmaceutical interventions in the history of medicine &amp; it shouldn't even be worthy of debate to pause vaccination campaigns\", 'BREAKING BBC News:Cardiologist says likely contributory factor to excess cardiovascular deaths is covid mRNA vaccine and roll out should be suspended pending an inquiry.We did it. We broke mainstream broadcast media', 'The biggest spreaders of misinformation on the covid vaccine benefits and harms is in fact the BBC. Do you agree ?', 'BREAKING :The BBC have been censoring things that are true on the covid vaccines Thats when you cross into criminal propaganda is % correct. People will continue to be maimed &amp; die until the mRNA shots are stopped.Thank you', 'BREAKING: If it were ever revealed to be the case that the Covid vaccine programme has caused serious harm on a significant scale, given the overtly coercive nature of that programme..it appears eminently possible that crimes could have been committed', 'Why did India continue with the AZ covid vaccine when it was in effect suspended in other countries ( including the U.K.) because of unprecedented &amp; horrific side effects? Ill be discussing this &amp; much more with on his QVIVE OTT News Network pm ( India time)', 'BREAKING:Andrew Bridgen sues Matt Hancock over covid vaccine row first please do the right thing and apologise. Second you must support calls for suspension of the mRNA jab as data on significant cardiac harms is overwhelming', 'BREAKING:Covid - booster jab offer set to end in the U.K. WE made this happen But this alone is not good enough. We must help the vaccine injured &amp; make the government, the regulator &amp; Pharma fully accountable so this NEVER happens again', 'BREAKING:Eminent MIT Prof &amp; expert on drug safety analytics calls for immediate suspension of all covid mRNA vaccines They should stop because they cause an unprecedented level of harm including the death of young people and children This is huge']\n",
            "Hey_Brian\n",
            "0.015408290624113715\n",
            "0.5\n",
            "[\"This is my cousin he took the covid booster vaccine and he's been doing this for straight hours please help\", \"As the man who invented the COVID vaccine I just want to say all the chuds who think they're dying from it are right. it poisons only idiots, this is my design.\"]\n",
            "PeterSweden7\n",
            "0.012756828734820992\n",
            "0.4444444444444444\n",
            "['BREAKING: Greece is finally SCRAPPING the covid vaccine mandates for health care workers. They will be allowed back to work.Freedom is winning', 'Locking people inside their homes was criminalForcing people to show covid papers to live life was criminalCensoring Ivermectin and vitamin D was criminalInjecting people with new mRNA technology with no long term safety data was criminalBiggest scandal in history', \"Happy New Year everyone.In freedom won thanks to you!Because of people's resistance, they scrapped the vaccine mandates and covid passports and lockdowns.Next they will try climate lockdowns...Resist The Great Reset\", 'They came up with a brand new technology that injects man-made mRNA into your body that tricks your cells to produce covid spike protein. They forced people to take this injection with threats of losing their jobs despite having no long term safety data. This was CRIMINAL.', \"Those with mRNA doses were % more likely to be hospitalized with covid than those who only got dose. This is the BOMBSHELL story that the mainstream media and covid cult doesn't want you to read\", \"Raise your hand if you didn't give in to the covid vaccine coercionThey banned us from restaurants. People lost their jobs. We were persecuted because we wanted long term safety data.It was a tough time, but you did it. You resisted the tyranny and the massive pressure!\", 'The data now shows that the more mRNA doses you have, the HIGHER the chance of being hospitalized with covid.Remember when people were called crazy conspiracy theorists for talking about this?', 'My recent article on the Australian vaccination data really triggered the covid cult.I have lots of IQ \"experts\" claiming I made a \"Base rate fallacy\".If they actually did the math like I did, they would see that my reporting is % correct.The mRNA shots failed.', 'My reporting on the Australian vaccination data showing the mRNA shots are useless really has upset the covid cult.The data is clear.For every dose, the risk of hospitalization increases.And yes, I know what \"base fallacy rate\" is...The data is still clear.', 'MASSIVE mRNA FAILUREEvery single person who was hospitalized with covid in NSW Australia was vaccinated. ZERO unvaccinated hospitalized. Read this bombshell report', \"BOMBSHELL NEWSPeople in Australia who got their th mRNA dose were a whopping % more likely to be hospitalized with covid than those who got just dose.Meanwhile ZERO unvaccinated people were hospitalized.WHY ISN'T THIS BIGGER NEWS???\", \"So I'm hearing a lot of rumors that the elites demanded unvaccinated pilots flying their private jets to the World Economic Forum.I wonder why that would be?\", \"Health officials in New York are now saying that the vaccinated could be more likely to be affected by the new XBB.1.5 variant.Wait, I was reliably told that the vaccinated wouldn't get sick from covid?\", 'I spoke with many top doctors at the covid conference in Sweden.A major issue of concern are how the mRNA vaccines are affecting fertility and the future of humanity.The birthrates have fallen dramatically since people took the shots.', \"Dr. Geert Vanden Bossche said at the conference in Sweden that the unvaccinated will be those best protected from covid.I'm really grateful for the protection offered of NOT being vaccinated or boosted against covid\", 'Interesting how Pfizer still has not come out and denied that they are doing gain of function research and mutating covid intentionallyThey are guilty.', 'PFIZER GOT CAUGHTThey are talking about doing gain of function and intentionally mutating new covid variants so they can profit from new vaccines. This is the biggest story of the decade.Still total silence from the mainstream media...', 'Step . Pfizer doing gain of function to mutate new covid variants.Step . Pfizer uses this to make updated mRNA vaccines for the new covid variants.Step . Profit.', \"Wait, Pfizer just got caught doing gain of function to mutate covid intentionally for new vaccines???Why aren't they arrested yet?This is even worse than what the conspiracy theorists warned about.\", 'Would you take the covid vaccine again today with everything we now know about side effects?(Please share after voting for a bigger poll sample )', \"WOAHDr. Jessica Rose at the covid conference in Sweden showed that the lipid nanoparticles used in the Moderna mRNA shot is MORE toxic to health than gasoline and diesel.WHY ISN'T THIS BIGGER NEWS??? Follow her:\", 'It has now gone several days since the massive covid conference in Sweden. Top doctors exposed the dangers of the mRNA vaccines to a massive audience. Still total silence from the mainstream media.', 'At the conference in Sweden, Professor Arne Burkhardt advised women wanting children that they should look for unvaccinated men', 'Retweet if you think those responsible at Pfizer should be arrested for intentionally engineering covid viruses!', 'This is the the BIGGEST story of the year and still complete silence from the media. And it is also being censored on Google. Pfizer admitted to engineering covid viruses', 'BOMBSHELL NEWSPfizer releases statement ADMITTING that they are ENGINEERING covid viruses in their lab. This is the biggest scandal this decade - Total silence from mainstream media!', 'Still silence from the mainstream media about how Pfizer admitted to engineering covid viruses to make new vaccines.']\n",
            "EricSpracklen\n",
            "0.011953858667121899\n",
            "0.4\n",
            "['In released videos within an ER room - a nurse recorded a doctor raising concerns about Covid-19 vax &amp; associated heart complications like myocarditis \"Government doesn\\'t want to show that the darn vaccine is full of shit!', 'There is free speech - and then there is questioning the Covid vaccine', 'I deleted a tweet that mentioned if Hamlin had been vaccinated. Wild that even questioning it has such extreme outrage. I get its a sensitive issue for many, but there should be an ability to ask questions and wonder about why a healthy young man would experience such an event.', 'The virus stops with every vaccinated person -', 'Pfizer has known the risks of the Covid Vax all alongthey just didnt want you to know about them', 'There is nothing more horrifying to me than the fact there are people out there who were convinced to take the COVID vaccine for a $10 cheeseburger and some fries. This was such a slap in the face to the lower class. I cant imagine what is going through there minds these days.', 'Not vaccinated? Be careful.Taylor Lee from the might shoot a covid vax blow dart into you.', 'Senior Director of Worldwide Research Vanessa Gelman was responsible for orders to suppress info from the public about the companies use of fetal tissue in COVID-19 vaccine laboratory testingMakes you wonder why she ran away when questioned', 'THIS IS BOMBSHELL!In a Whistleblower leaked emails to detailing suppressing info on development of the COVID vax\"fetal tissue has been used\"We want to avoid having the information of fetal cells floating out there\"', 'NEVER FORGET THE LAST LINES IN THIS VIDEO! Scientist: I mean, I still feel like I work for an evil corporationBasically our entire organization is run on COVID money now.', 'What does know about COVID-19 vaccine side effects and when did they know it?', 'BREAKING: Director Physically Assaults &amp; Veritas Staff; Destroys iPad Showing Undercover Recordings About Mutating Covid Virus; NYPD RESPONDS!', 'BREAKING: Exploring \"Mutating\" COVID-19 Virus For New Vaccines\"There is a risk...have to be very controlled to make sure this virus you mutate doesn\\'t create something...the way that the virus started in Wuhan, to be honest.\"', 'How many people do you know personally with a Covid-19 vaccine related issue?', 'BREAKING: Insider leaks \"Urgent Guidance\" document sent to employees on how to handle the video \"Effective immediately as of January \"\"Violates the COVID-19 misinformation policy\"']\n",
            "P_McCulloughMD\n",
            "0.011905097714167144\n",
            "0.4807692307692308\n",
            "['For on-the-field cardiac arrests, this \"Courageous Discourse\" gives a key interpretative figure for those who have taken one of the mass mandated products at any time in the past.', 'If you were wise enough and strong enough not to take it, you have to read this piece!', 'Dr. Masanori Fukushima, a prof emeritus at Kyoto University, /25/22, raised concerns involving discrimination against the unvaccinated in Japan as well as an ever-growing list of persons reporting injuries associated with the COVID-19 mRNA vaccines.', 'Exclusive interview podcast with Ms. Jennifer Sharp who produced \"Anecdotals\" Must see documentary for those who had no side effects--gives them a view of the Russian Roulette faced on the next booster.', 'Fact pattern: ) WH-DHS COVID Community Corps pays NFL $$$ to push mandate, ) NFL says % took them ) FDA warns they cause myocarditis, ) cardiology guidelines say no sports with myocarditis because a cardiac arrest can result.', 'As I indicated, he is on track for neurological recovery. Cardiac MRI will be critical to investigate the etiology. Late gadolinium enhancement is particularly in the epicardial region of the myocardium is consistent with iatrogenic myocarditis.', 'Department of Defense owns, implements, and oversees the COVID-19 vaccine program as aCountermeasure to foreign attack. While the public was bombarded withorchestrated fear campaign,the U.S. Government managed response as a national security threat.', 'Public figures like regretful/embarrassed about vaccine blood clots. Notice they dont discuss or push vaccines anymore as a tacit admission of their bad health decision to vax after recovering from COVID-19.', 'RenzA recent Rassmussen poll reported that while % of democrats are vaccinated, % believe the vaccines are causing deaths/injury, % feel that vax safety concerns are legitimate, and % say they know someone who has died or shown side effects.', 'Cardiologist Prof.Abdullah Alabdulgader points to \"juvenile myocarditis and sudden death\" as reason the mRNA vaccines should be pulled off the market. McCulllough, Malhotra, Alabdulgader, and list of cardiologist growing rapidly--remove COVID-19 vaccines from the market.', 'Texas Lindsay on Dr. James Thorp, Del Bigtree, and a whistleblower nurse on fetal demise and complications in vaccinated mothers. VAERS data on problem revealed with Dr. Rose. Tragic.', 'I heard arguments that COVID-19 is worse than the vaccine for complications (persistent symptoms, CV risks, etc). Its a ludicrous argument since most vaccinated get COVID-19 anyway! Its not either or, its both for the vaccinated!', 'Two autopsy studies, Chaves and Schwab show -80% of deaths are due to known mechanisms of COVID-19 vaccine injury (ASCVD, blood clots, etc). Sudden death is most common representation of a vaccine fatality.', 'In a groundbreaking decision filed today, NY State (NYS) Supreme Court Judge Gerard Neri held that the COVID-19 vaccine mandate for healthcare workers is now null, void, and of no effect.', 'Repeated mass vaccination with ineffective products is mis-directing the immune system and causing the vaccinated to have even more infections than the unvaccinated. Courtesy Dr. Alexander', 'Dr. Joseph Fraiman, involved in FDA COVID-19 vaccine deliberations comes out and joins Dr. McCullough and many more: \"pull them off the market to keep our public safe!\"', 'This radio interview set all records on the Raw Truth:01-07-23 Robbie Raugh, Katie Weibel &amp; Cardiologist Dr. Peter McCullough. Practical information for the vaccinated.', 'CDC says % Americans vaccinated. Beware of false claims from ICD code studies that COVID-19 itself has bigger CV risk. Nowadays majority of COVID-19 occurs among vaccinated. Both exposures present.', 'Courageous Discourse with Dr. Peter McCullough &amp; John Leake: Massive Clot Burden Days after Taking Janssen COVID-19 Vaccine', 'Faber fired on Sept. , , ESPN denied her request for a religious accommodation to the companys mandate. Williams was fired on Oct. , , after ESPN rejected requests for exemptions based on disability and religious beliefs.', 'Autopsies, COVID-19 illness history, and vaccine administration records are the only way to solve this worsening public health concern.', 'Mansanguan and Le Pesseck reported prospective cohort data and the rates of heart damage on shots and were and % respectively. Not acceptable. Too late for them now.', 'Part of the pre athletic clinical evaluation is to document COVID-19 vaccine status and warn the student and parents about vaccine induced myocarditis and blood clots resulting in sudden death.', 'Pointed out a disturbing trend of young persons dying tragically before their life unfolds. After various causes are ruled out, we are left with COVID-19 vaccine induced myocarditis until proven otherwise. Vaccine status and autopsies are mandatory!', 'Pointed out a disturbing trend of young persons dying tragically before their life begins. After various causes are ruled out, we are left with COVID-19 vaccine induced myocarditis until proven otherwise. Vaccine status and autopsies are mandatory!', '+ COVID Vaccine Publications and Case Reports - React19 supports the disastrous safety reports from VAERS UK Yellow Card EU EUDRA and WHO Vigisafe. Global Biopharmaceutical Catastrophe!', 'China reports giving B vaccine doses in B people. No health freedom in China. What parts of the words vaccinated and freedom are not understood? Crisis of the failed Chinese vaccine menu!!!', '\"There is no scientific rationale for continuing any COVID-19 mandates in and beyond. Mask and vaccine exemptions must be offered at the discretion of the physician and patient as opposed to one-size-fits-all government edicts.\"', 'Young people should have thought through genetic shots and weighted it all out. Most wanted school, work, and travel uninterrupted. Traded short for long term consequences. Hoping not permanent.', 'An autopsy case report of aortic dissection complicated with histiolymphocytic pericarditis and aortic inflammation after mRNA COVID-19 vaccination - ScienceDirect. This elderly man was robbed of his final days by an experimental vaccine. How many more?', 'Myocarditis, blood clots, neuropathy and now vaccinated look forward to XBB.1.5! Compassion is what they need now from all of us. Getting worse by the day for those compliant or forced into it.', 'False S&amp;E narrative crumbling and governments getting sledge hammered. Will be a price to pay for this disaster.', 'Horowitz: No one can ignore the dangers of the mRNA COVID shots. Rather than taking them off the market, companies are now filing with the FDA to immediately introduce more mRNA shots into the market.', '\"An obvious problem exists amongst young adults, be it the vaccine or another cause...theres a concerted effort to belittle the small group of people asking the science to rule out a possible source of cardiovascular symptoms.\"', 'College mandates have been a disaster. Unwanted by students and parents because C19 vaccines are not safe or effective. They cause more harm in college students with heart damage peaking ages -24 years.', 'Will keep happening until every last American musters up the courage to say NO.', 'Should be pulled off market. Annual shot idea is nonstarter since theoretical benefit is only six months. Failed vaccine campaign should be shut down. Embarrassed for them.', 'Africa pandemic winner. Key was to reject mass indiscriminate vaccination.', 'WSJ, bivalent boosters did not work in theory or in practice. Poorly conceived products had no chance. Virus is mutating too quickly--all vaccine efforts should be dropped. Failed campaign.', 'Why didnt Pfizer ever market the COVID-19 vaccine BNT162b2 to India? The worlds second most populous nation and a huge pharmaceutical market, why did Pfizer avoid India altogether? I am going there to find out!', 'So worried about airline safety. Acute pulmonary embolism and primary cardiac arrest due to COVID-19 vaccine induced myocarditis are my biggest clinical concerns as a cardiologist.', 'Courageous Discourse with Dr. Peter McCullough &amp; John Leake: COVID-19 mRNA \"Vaccines\" Are The Opti-Grab of Immunological Products.', 'WSJ: govt agency fraud on COVID-19 data overstating the disease risks and underplaying vaccine safety concerns including injuries, disabilities, and deaths. WSJ yrs late slowly awakening.', 'WSJ: govt agency fraud on COVID-19 data overstating the disease risks and underlying vaccine safety concerns including injuries, disabilities, and deaths. WSJ yrs late slowly awakening.', 'Courageous Discourse with Dr. Peter McCullough &amp; John Leake: POTS-Myopericarditis Connection Reported after Pfizer-BioNTech COVID-19 mRNA vaccine', 'Here is the letter from to Albert Bourla triggered by honey-trap bust of petulant R&amp Staffer Jordan Trishton Lee Walker, MD, spilling corporate diabolical GOF vaccine secrets.', 'Report \" reported seniors afflicted with strokes in the days post receiving the COVID-19 bivalent booster doses...Tragically, one -year-old man died one month after experiencing a stroke in data presented today at the FDA meeting.\"', 'Urgent call for vaccine administration records to be linked to the National Death Index to track the relationship between C19 vaccination and death.', 'Courageous Discourse with Dr. Peter McCullough &amp; John Leake: Catastrophic COVID-19 Vaccine Casualties in', 'With % of Americans recovered from COVID-19, interests are turning toward the investigation and justice phase of the pandemic.', 'Program:The Christian WorldviewHost: David WheatonTopic: Is the COVID-19 Vaccine Causing Sudden Deaths?Guest: Dr. Peter McCullough, cardiologist and author, The Courage to Face COVID-19Air Date: Jan. -22, Audio link:', '\"If plunger not pulled back on syringe to check for entry into a blood vessel, lipid nanoparticles and mRNA can enter the circulation directly like a mainline bolus of deadly genetic material to land in the heart, brain, etc like Russian Roulette.\" MG']\n",
            "RWMaloneMD\n",
            "0.011629472070719847\n",
            "0.4\n",
            "['was this fraud?When most Americans hadnt even received first injections, before well need a booster, well need another booster, well need a third booster, well need new bivalent version, and oh yeah, turns out vaccinated people will transmit virus and will get infected.', 'For some reason, lyrics of Pink Floyds \"The Wall\" come to mind when I read this article.\"We don\\'t need no educationWe don\\'t need no thought control\"', 'Tragic failure. EXCLUSIVE: CDC Finds Hundreds of Safety Signals for Pfizer and Moderna COVID-19 Vaccines', 'the Washington Post has capitulated on trying to maintain any shred of integrity and autonomy, and has become a complete tool of the Biden administration.', 'Omicron subvariant XBB.1.5 possibly more likely to infect those who are vaccinated, officials say | Fox News. Who could have possibly predicted this!!??!!', 'Possible Safety Concern With New Pfizer COVID-19 Vaccine Identified: CDC', 'Paul Offit takes a stand. Will the factcheckers attack him like they have attacked me for essentially saying the same thing?', 'Please read Ed Dowd\\'s partner Carlos\\' essay on \"The Dilemma of the Vaccinated\" posted below, and follow Ed', 'good to know. UPenn faculty. BioNTech Vice President.', 'Dr. Robert Malone: FDA Advisors Disappointed In Data of Pandemic of the Vaccinated', 'Ezekiel Emanuel is brother to Rahm. Current Vice Provost for Global Initiatives at the University of Pennsylvania and chair of the Department of Medical Ethics and Health Policy. UPenn holds key current mRNA vax tech patents and gets lots of royalty $$$.', '\"The Pentagon formally dropped its COVID-19 vaccination mandate Tuesday, but a new memo signed by Defense Secretary Lloyd Austin also gives commanders some discretion in how or whether to deploy troops who are not vaccinated.\"', 'Is there any debate left to be had regarding whether Pharma is evil?', 'I really enjoyed talking with Nigel Farage (GB News) two days ago during this \"Talking Pints\" segment.', 'Why Do Vaccinated People Represent Most COVID-19 Deaths Right Now? | KFF', 'Rubio Sends Letter to Pfizer CEO on Alleged Gain-of-Function Research\"Mr. Walker stated that Pfizer is willing to engage in this dangerous research because COVID and its variants are a cash cow for the company and regulators will go easy ...\"', 'Meanwhile, back at the Ranch....', 'BREAKING: Exploring \"Mutating\" COVID Virus For New Vaccines \"There is a risk...have to be very controlled to make sure this virus you mutate doesn\\'t create something...the way that the virus started in Wuhan to be honest\"', 'Pfizer Exposed For Exploring \"Mutating\" COVID-19 Virus For New Vaccines Via \\'Directed Evolution\\' - YouTube', 'New diagnosis codes for COVID-19 immunization statusJust what does ICD code Z28.310: Unvaccinated for COVID-19 mean?Substack at RWMaloneMDPlease share with any who care about protecting their medical information from prying eyes']\n",
            "TheChiefNerd\n",
            "0.011269293535060312\n",
            "0.4\n",
            "['While the NFL didnt mandate the jab, there was a lot of public shaming that was attempted to coerce people to get vaccinated', '[Healthcare] workers who had received more doses were at higher risk of getting sick. Those who received three more doses were times as likely to get infected as the unvaccinated, while those who received two were only times as likely.', 'We were told vaccine-generated spike is not toxic and does not circulate in the body. Yet this new AHA study shows young patients with massive amounts of full-length spike circulating, unbound by antibodies, causing heart damage.', 'Bret Weinstein Questions the True Motives Behind the COVID Vaccine Campaign\"Somehow whatever is driving this policy is absolutely comfortable with the death of other people. How could it not be?\"', 'As draws to a close, there are more than [COVID-19 vaccine injuries reported].At the current pace, it will take decades for the Countermeasures Injury Compensation Program which prior to had decided fewer than cases in its entire history', 'Between the players, practice squads, and coaching/training staff, the NFL employs approx people w/ a near % advertised vaccination rate.The (conservative) COVID-19 vaccine myocarditis rate:', 'The European Parliaments COVID committee (COVI) approved on Wednesday, January th a proposal to ban Pfizer representatives from Parliament because of the companys repeated lack of transparency.', 'BREAKING: CDC to Investigate Link Between Strokes &amp; COVID-19 Vaccines\"The CDC is now saying there have been enough cases of people who have received the vaccine and then suffered a stroke\"', 'BOMBSHELL: New FOIA Documents Reveal the COVID Pandemic Was a DoD Operation Dating Back to Obama\"The Pentagon controlled the COVID-19 program from the very beginning and everything we were told was political theater to cover it up right down to the FDA vaccine approval\"', 'The data that was not presented to the experts looked at actual infections: who caught Covid-19 and who did not.Kristen Nordlund, a CDC spokeswoman, said that due to the many limitations involving this clinical data, it was not featured', 'Pfizer CEO Admits No One Wants the COVID Vaccine Anymore, Predicts More Severe Disease ComingThe waves that will be coming will be coming with higher clinical manifestation of severe disease and more hospitalizations.', \"'My Body Was Burning': Canadian Man Develops Debilitating Skin Condition After His COVID VaccinationBefore I got the Moderna COVID Vaccine I never had any skin problemI recognized there is something happening on my body because of the vaccine\", 'PBD and Neil deGrasse Tyson Debate the Died Suddenly Film &amp; COVID Vaccine Side EffectsI want to put everything on the table versus saying no no no, theres one thing we cant put on the table and thats the cause of the vaccine', 'Alex Berenson Uncovers Evidence Showing Dr. Scott Gottlieb / Pfizer Worked w/ the Federal Government to Censor COVID Vaccine Skeptics', 'CNBC Hosts Are Amazed Moderna Was Working on a COVID Vaccine So Early\"The last time we were here in Davos it was January ...and you were talking about how you were working on a vaccine for COVID. And at that point COVID-19 didn\\'t really exist in our minds. It\\'s amazing!\"', 'Orthopedic Surgeon Dr. Joel Wallskog Gets Emotional Explaining His Spinal Cord Injury From the Vaccine &amp; Founding React19We now represent over k people that are injured by the COVID shots here in the United States', 'New Cleveland Clinic Study of Employees Finds:The risk of COVID-19 also varied by the number of COVID-19 vaccine doses previously received. The higher the number of vaccines previously received, the higher the risk of contracting COVID-19.', 'A new study is launching this month to train church health ministers to educate their congregations about the safety and efficacy of COVID-19 vaccines and booster shots', 'While the military has not yet made a decision on providing back pay to service members for the time that they were discharged, a spokesperson said the department is looking into it.', 'Dr. Peter McCullough on Ralph Baric, Moderna, and the U.S. Governments Role in COVIDThis is a U.S. Government project that made SARS-COV-2 more invasive and at the same time developing monoclonal antibodies &amp; vaccines.', 'Dr. Peter McCullough on the COVID Vaccines Impact on the Brain, Heart, and FertilityThe lipid nanoparticles go to a part of the ovary where it could very well affect the eggs.', 'Inflammatory responses to the COVID-19 vaccine may also affect the ovaries and uterus.Beyond the apparent impact on menstrual cycles and symptoms, however, its still uncertain whether COVID-19 vaccines do affect fertility and reproductive health.', 'NEW Trump Dismisses COVID Vaccine Safety Concerns, Says They Saved Millions of LivesYou have many reports that say the vaccines saved tens of millions of lives and without the vaccines you would have had a thing like we had in .', 'How many proteins will be sticking out of your cells after you take the original COVID, Bivalent booster, RSV, and Flu mRNA injections?', 'Merck KGaA CEO Beln Garijo: \"The COVID vaccines came with one of the largest patient populations that has ever been studied with a vaccine\"', 'Bret Weinstein Responds to Neil deGrasse Tyson\\'s Call for a COVID Vaccine \"Public Health Contract\"\"This wasn\\'t about public health in the first place. This was about something else.\"', 'COVID Vaxx Injured Mother Says Tests Show Vaccine Generated Spike Protein in Her Body Days Post-Vaccination\"I have test results showing the spike protein was still present and wreaking havoc in my body days after my last Moderna vaccine, and I\\'ve never had COVID.\"', 'Pfizer Says They Are Working to Understand if Immune Imprinting May Be Occurring w/ COVID BoostersWe are looking at all of the data and going forward well continue to generate more to better understand how much of a hurdle that may or may not be', 'Latest COVID vaccine uptake data presented by the CDC yesterday shows a growing hesitancy by the public to take additional doses of these products', 'Latest COVID vaccine uptake data presented by the CDC yesterday shows a growing lack of hesitancy by the public to take additional doses of these products', 'Pfizer was supposed to complete a study on the occurrence of subclinical myocarditis, or heart inflammationby the end of .FDA now says the same study has an original projected completion date of June , .', '(Dec ) Albert Bourla on How Pfizer Constructs Viruses Identical to COVID VariantsThe data that we received arefrom what we call a pseudo-virus. So its not the real virus - it is a virus we have constructed in our labs and it is identical with the Omicron virus.', 'Doctors &amp; Nurses Turned Whistleblowers Expose What Was Really Happening at Houston Methodist Hospital\"The patients who were vaccinated &amp; testing positive were just as sick, if not sicker, than the ones that weren\\'t [vaccinated]\"', 'MIT Professor Calls for an Immediate Stop to the COVID mRNA Vaccination Program This is clearly the most failing medical product in the history of medical products both in terms of efficacy and safety', 'Fully Vaccinated Yasmin Vossoughian Develops Pericarditis &amp; Then MyocarditisI was diagnosed with pericarditisbrought on by a virus.Three days later I was re-admitted when I felt a flutter in my heartthey determined I had developed myocarditis.']\n",
            "DrEliDavid\n",
            "0.010954532852101177\n",
            "0.5\n",
            "['The moment CDC director lost all credibility: data from the CDC today suggests that vaccinated people do not carry the virus and dont get sick.', 'Israel : Immediately after receiving his th Covid shot, a year old man collapsed and died.So tragic that a young man was brainwashed to get a booster with no evidence that it works, for a disease posing zero risk to him. He \"followed the science\" and paid with his life', 'Biden today: Everyone months and up should get their updated Covid vaccine. % science. % cult.', 'Did you get a Covid booster? Do you regret that decision?', 'CDC and FDA investigation found no link between the new Covid booster and stroke.Reminds me that SEC investigated Bernie Madoff in , , , , , and , and found no evidence of fraud', 'Why are the fully vaxxed and boostered people so angry with the unvaccinated? They believed vaccines were safe and effective, and now learned they are neither. They should be mad at FDA, CDC, and Fauci, not the unvaccinated.', 'The precise moment the last shreds of CDC credibility went down the drainur data from the CDC today suggests that vaccinated people do not carry the virus, dont get sick. Dr. Walensky, Director of CDC', 'From a new peer-reviewed paper: % of high school students had at least one cardiac symptom after Covid vaccine.Unsafe and ineffective._', \"Let's not forget that a year ago you could get suspended for writing that the vaccinated also catch covid.\", 'Moderna withheld data showing its new Covid booster was even LESS effective than old ones, and got $5B government purchase.Why are those executives not in jail? _', 'Two new peer-reviewed papers show:17% of high school students had at least one cardiac symptom after Covid vaccinePre-vaccination infection fatality rate for under year olds was %Young people were given a high risk vaccine for a disease posing zero risk to them.', 'Prof. , until recently Director of Israel Biological Institute, the most senior medical-scientific position in Israel:I am pro vaccines, but Covid mRNA injections are not vaccines. These pseudo-vaccines have severe side effects and can damage multiple organs.', '., have you changed your mind regarding Covid mRNA vaccines since?_', 'Elon Musk also thinks the \"fully vaxxed and boostered\" people are so angry with the unvaccinated because of the \"scapegoat mechanism\".', \"Elon Musk on his Covid booster:I had major side effects. Felt like I was dying for several days. Hopefully no permanent damage, but don't know. My cousin, who is young and in peak health, had a serious case of myocarditis. Had to go to hospital.\", 'Israeli singer Achinoam Nini \"sings\" at WEF (if you call this a \"song\").She is a perfect match for WEF. We won\\'t forget how she viciously attacked unvaccinated Israelis, and justified stripping them of their rights and liberties.', \"Some got Covid vaccine based on trust the evidence (e.g., , , and myself).Some didn't get it because never trust the government. They were right, we were wrong.Never trust the government is more important than trust the [fraudulent] evidence.\", 'Pfizer used Israel as a lab for Covid vaccines. Now even in Israel nobody wants their unsafe and ineffective boosters.The most epic failure of a drug in history.', \"Still zero coverage from mainstream media on and 's dramatic report on Pfizer's gain of function research.Please share this with everyone you know. It is the most important revelation on Covid vaccines.://\", \". exposed what's probably the most important story on Pfizer and Covid. But if you Google it, you get this:\", \"When the reality becomes scarier than the worst conspiracy theories: Pfizer's head of research admits the company is exploring mutating Covid virus for vaccines Another bombshell expose by ://\", \"First, they wanted to keep the clinical trial data hidden for years. Now they're hiding the safety analysis data. We all know what they are hiding\", 'The following countries still ban entry of unvaccinated foreign nationals: United States Pakistan Yemen Indonesia Myanmar', 'Priceless: Bill Gates watching the unvaccinated Novak Djokovic win the Australian Open']\n"
          ]
        }
      ],
      "source": [
        "misinf_quotient_pagerank_10_highest = []\n",
        "\n",
        "for i in range(10):\n",
        "    user_id = pagerank_list[i][0]\n",
        "    index = user_text_data_misinf2.index[user_text_data_misinf2['User_ID'] == user_id].tolist()[0]\n",
        "    print(username[str(user_id)])\n",
        "    print(pagerank_list[i][1])\n",
        "    print(user_text_data_misinf2['Misinformation'][index])\n",
        "    print(user_text_data_misinf2['Cleaned_Tweets'][index])\n",
        "    misinf_quotient_pagerank_10_highest.append(user_text_data_misinf2['Misinformation'][index])"
      ]
    },
    {
      "cell_type": "code",
      "execution_count": null,
      "metadata": {
        "id": "rWC2PSG96y4J",
        "outputId": "6a0ee89d-5bd3-4614-9db0-81ca61dc9f2f"
      },
      "outputs": [
        {
          "name": "stdout",
          "output_type": "stream",
          "text": [
            "0.4965420985633752\n"
          ]
        }
      ],
      "source": [
        "print(np.mean(misinf_quotient_pagerank_10_highest))"
      ]
    },
    {
      "cell_type": "markdown",
      "metadata": {
        "id": "qBNUsdR86y4J"
      },
      "source": [
        "## Spearman correlation of PageRank with In-Degree"
      ]
    },
    {
      "cell_type": "code",
      "execution_count": null,
      "metadata": {
        "id": "OYW_y1N_6y4K"
      },
      "outputs": [],
      "source": [
        "pagerank_list = sorted(list(pagerank.items()), key=lambda x: x[1], reverse=True)\n",
        "\n",
        "ordered_pagerank = [user[0] for user in pagerank_list]  # list of users ordered by PageRank\n",
        "\n",
        "in_degree_ranks = []  # top 100 in-degree nodes ranked by indegree\n",
        "pagerank_ranks = []  # top 100 in-degree nodes ranked by pagerank\n",
        "\n",
        "for i in range(100):\n",
        "    user_id = in_degree_user_rank[i]  # user id of i+1 ranked node by in degree\n",
        "    in_degree_ranks.append(i+1)\n",
        "    pagerank_ranks.append(ordered_pagerank.index(user_id)+1)  # append pagerank of i+1 ranked node by indegree\n"
      ]
    },
    {
      "cell_type": "code",
      "execution_count": null,
      "metadata": {
        "id": "s6U59IcD6y4L",
        "outputId": "efd44d56-6c5b-4ab4-a15e-893fd4b2849c"
      },
      "outputs": [
        {
          "data": {
            "image/png": "[encoded data removed]",
            "text/plain": [
              "<Figure size 432x288 with 1 Axes>"
            ]
          },
          "metadata": {
            "needs_background": "light"
          },
          "output_type": "display_data"
        }
      ],
      "source": [
        "plt.scatter(in_degree_ranks, pagerank_ranks)\n",
        "plt.plot(np.linspace(0, 100, 100), np.linspace(0, 100, 100), color='r', label='y=x')  # to show scale\n",
        "plt.legend(loc = 'upper left')\n",
        "plt.xlabel(\"In-Degree Rank\")\n",
        "plt.ylabel(\"Pagerank Rank\")\n",
        "plt.savefig(\"D:\\\\M4R_oskar\\\\Figures\\\\in_degree_pagerank_rank.png\", dpi=300, bbox_inches='tight')"
      ]
    },
    {
      "cell_type": "code",
      "execution_count": null,
      "metadata": {
        "id": "VTfNyqw76y4M"
      },
      "outputs": [],
      "source": [
        "import scipy.stats as stats\n",
        "\n",
        "# value of spearman statistic for observed data\n",
        "rho, p_value = stats.spearmanr(pagerank_ranks,in_degree_ranks)\n",
        "\n",
        "print(rho)"
      ]
    },
    {
      "cell_type": "markdown",
      "metadata": {
        "id": "7GTi6DLJ6y4M"
      },
      "source": [
        "### Permutation test"
      ]
    },
    {
      "cell_type": "code",
      "execution_count": null,
      "metadata": {
        "id": "LCrGRrtr6y4N"
      },
      "outputs": [],
      "source": [
        "n = 10000  # permutation test iterations\n",
        "\n",
        "rhos = []\n",
        "\n",
        "for i in range(n):\n",
        "    permuted_pagerank_ranks = np.random.permutation(pagerank_ranks)  # permute pageranks\n",
        "    rho_permuted, p_value = stats.spearmanr(in_degree_ranks, permuted_pagerank_ranks)  # find spearman statistic with permuted pageranks\n",
        "    rhos.append(rho_permuted)\n",
        "\n",
        "p_value = (np.abs(rhos) >= np.abs(rho)).mean()  # find p-value\n",
        "print(p_value)"
      ]
    },
    {
      "cell_type": "markdown",
      "metadata": {
        "id": "83e6vJFvIgNn"
      },
      "source": [
        "# Community detection"
      ]
    },
    {
      "cell_type": "markdown",
      "metadata": {
        "id": "t-4bBx8lG9Iu"
      },
      "source": [
        "First we find the largest connected component."
      ]
    },
    {
      "cell_type": "code",
      "execution_count": null,
      "metadata": {
        "id": "DkLePil7G59c"
      },
      "outputs": [],
      "source": [
        "G = nx.Graph()  # non-weighted, undirected and non multi edge graph\n",
        "for i in range(len(edges_table)):\n",
        "  G.add_edge(edges_table['Source'][i], edges_table['Target'][i])"
      ]
    },
    {
      "cell_type": "code",
      "execution_count": null,
      "metadata": {
        "id": "a0fxepwkG8SP"
      },
      "outputs": [],
      "source": [
        "connected_components = sorted(nx.connected_components(G), key=len, reverse=True)\n",
        "\n",
        "nodes_to_remove = []\n",
        "\n",
        "# remove all nodes not in largest connected component\n",
        "for i in range(1, len(connected_components)):\n",
        "  for node in connected_components[i]:\n",
        "    nodes_to_remove.append(node)"
      ]
    },
    {
      "cell_type": "markdown",
      "metadata": {
        "id": "I1ETlNS3H8io"
      },
      "source": [
        "remove nodes from weighted graph to be left with only largest connected component"
      ]
    },
    {
      "cell_type": "code",
      "execution_count": null,
      "metadata": {
        "id": "u8p28s9JH8BR"
      },
      "outputs": [],
      "source": [
        "G_weighted.remove_nodes_from(nodes_to_remove)"
      ]
    },
    {
      "cell_type": "markdown",
      "metadata": {
        "id": "wsdqZWEX9KlN"
      },
      "source": [
        "Save created weighted graph largest component"
      ]
    },
    {
      "cell_type": "code",
      "execution_count": null,
      "metadata": {
        "id": "Y-TkIKRy9H1v"
      },
      "outputs": [],
      "source": [
        "import pickle\n",
        "\n",
        "pickle.dump(G_weighted, open('G_weighted_largest_component.pickle', 'wb'))"
      ]
    },
    {
      "cell_type": "code",
      "execution_count": null,
      "metadata": {
        "colab": {
          "base_uri": "https://localhost:8080/",
          "height": 17
        },
        "id": "zRSTqOti-T1_",
        "outputId": "a5384a00-c26b-4e8e-b54f-74d3e94b9be6"
      },
      "outputs": [
        {
          "data": {
            "application/javascript": "\n    async function download(id, filename, size) {\n      if (!google.colab.kernel.accessAllowed) {\n        return;\n      }\n      const div = document.createElement('div');\n      const label = document.createElement('label');\n      label.textContent = `Downloading \"${filename}\": `;\n      div.appendChild(label);\n      const progress = document.createElement('progress');\n      progress.max = size;\n      div.appendChild(progress);\n      document.body.appendChild(div);\n\n      const buffers = [];\n      let downloaded = 0;\n\n      const channel = await google.colab.kernel.comms.open(id);\n      // Send a message to notify the kernel that we're ready.\n      channel.send({})\n\n      for await (const message of channel.messages) {\n        // Send a message to notify the kernel that we're ready.\n        channel.send({})\n        if (message.buffers) {\n          for (const buffer of message.buffers) {\n            buffers.push(buffer);\n            downloaded += buffer.byteLength;\n            progress.value = downloaded;\n          }\n        }\n      }\n      const blob = new Blob(buffers, {type: 'application/binary'});\n      const a = document.createElement('a');\n      a.href = window.URL.createObjectURL(blob);\n      a.download = filename;\n      div.appendChild(a);\n      a.click();\n      div.remove();\n    }\n  ",
            "text/plain": [
              "<IPython.core.display.Javascript object>"
            ]
          },
          "metadata": {},
          "output_type": "display_data"
        },
        {
          "data": {
            "application/javascript": "download(\"download_b8e88211-8cf3-4901-899a-c1bf3be16c4b\", \"G_weighted_largest_component.pickle\", 193873046)",
            "text/plain": [
              "<IPython.core.display.Javascript object>"
            ]
          },
          "metadata": {},
          "output_type": "display_data"
        }
      ],
      "source": [
        "files.download('G_weighted_largest_component.pickle')"
      ]
    },
    {
      "cell_type": "code",
      "execution_count": null,
      "metadata": {
        "id": "O-171Rz_-PZq"
      },
      "outputs": [],
      "source": [
        "import pickle\n",
        "G_weighted = pickle.load(open(\"G_weighted_largest_component.pickle\", 'rb'))"
      ]
    },
    {
      "cell_type": "markdown",
      "source": [
        "## Louvain community detection"
      ],
      "metadata": {
        "id": "3jt-fpXBinSo"
      }
    },
    {
      "cell_type": "markdown",
      "metadata": {
        "id": "g11eLI-nkeg4"
      },
      "source": [
        "louvain partition with resolution 1 and sort by decreasing length"
      ]
    },
    {
      "cell_type": "code",
      "execution_count": null,
      "metadata": {
        "id": "heHU6SpgCMJQ"
      },
      "outputs": [],
      "source": [
        "communities = nx.community.louvain_communities(G_weighted, weight='weight', resolution=1, threshold=0.0000001, seed=12345)"
      ]
    },
    {
      "cell_type": "code",
      "execution_count": null,
      "metadata": {
        "id": "Eouri6ljCUxh"
      },
      "outputs": [],
      "source": [
        "sorted_communities = sorted(communities, key=len, reverse = True)  # communities sorted by number of users from biggest to smallest"
      ]
    },
    {
      "cell_type": "markdown",
      "metadata": {
        "id": "LZDIUwJg4XyS"
      },
      "source": [
        "save resulting communities into a text file"
      ]
    },
    {
      "cell_type": "code",
      "execution_count": null,
      "metadata": {
        "id": "N-ZYzo6x4ay4"
      },
      "outputs": [],
      "source": [
        "import pickle\n",
        "\n",
        "pickle.dump(sorted_communities, open('base_louvain_sorted_communities.pickle', 'wb'))"
      ]
    },
    {
      "cell_type": "code",
      "execution_count": null,
      "metadata": {
        "id": "nNo11YBwAJKt"
      },
      "outputs": [],
      "source": [
        "import pickle\n",
        "sorted_communities = pickle.load(open('Communities_Base_Louvain/base_louvain_sorted_communities.pickle', 'rb'))"
      ]
    },
    {
      "cell_type": "code",
      "execution_count": null,
      "metadata": {
        "id": "v-1BnQyC6y4V",
        "outputId": "6345f422-755c-46c1-8740-f5359aa32ec7"
      },
      "outputs": [
        {
          "name": "stdout",
          "output_type": "stream",
          "text": [
            "39.8158826699515\n"
          ]
        }
      ],
      "source": [
        "print(1034337/len(sorted_communities))  # average community size"
      ]
    },
    {
      "cell_type": "markdown",
      "metadata": {
        "id": "SbTy6qyOende"
      },
      "source": [
        "### Performance measures of Louvain with resolution 1"
      ]
    },
    {
      "cell_type": "markdown",
      "metadata": {
        "id": "wvVf8c7Ekaxs"
      },
      "source": [
        "modularity of obtained partition"
      ]
    },
    {
      "cell_type": "code",
      "execution_count": null,
      "metadata": {
        "colab": {
          "base_uri": "https://localhost:8080/"
        },
        "id": "P7fVD8AKATn8",
        "outputId": "5cc08b97-c069-4dd1-cecc-124a940f4762"
      },
      "outputs": [
        {
          "name": "stdout",
          "output_type": "stream",
          "text": [
            "0.311836961513449\n"
          ]
        }
      ],
      "source": [
        "modularity = nx.community.modularity(G_weighted, sorted_communities, weight='weight', resolution=1)\n",
        "print(modularity)"
      ]
    },
    {
      "cell_type": "markdown",
      "metadata": {
        "id": "sdFJE7dckuMk"
      },
      "source": [
        "coverage and performance of partition obtained from louvain"
      ]
    },
    {
      "cell_type": "code",
      "execution_count": null,
      "metadata": {
        "colab": {
          "base_uri": "https://localhost:8080/"
        },
        "id": "TPR5-Dctkm-y",
        "outputId": "20a72d02-e59b-47fb-ae25-b43352153f7b"
      },
      "outputs": [
        {
          "name": "stdout",
          "output_type": "stream",
          "text": [
            "(0.3388977936300708, 0.9847282163235515)\n"
          ]
        }
      ],
      "source": [
        "print(nx.community.partition_quality(G_weighted, communities))"
      ]
    },
    {
      "cell_type": "markdown",
      "metadata": {
        "id": "sVy_5IOD6y4d"
      },
      "source": [
        "(0.3388977936300708, 0.9847282163235515)"
      ]
    },
    {
      "cell_type": "markdown",
      "metadata": {
        "id": "ONdHnHsUlFYv"
      },
      "source": [
        "number of communities"
      ]
    },
    {
      "cell_type": "code",
      "execution_count": null,
      "metadata": {
        "colab": {
          "base_uri": "https://localhost:8080/"
        },
        "id": "eoOVojBLlDMf",
        "outputId": "e40a7e4c-f136-41d5-80a2-00e086141a6c"
      },
      "outputs": [
        {
          "name": "stdout",
          "output_type": "stream",
          "text": [
            "25978\n"
          ]
        }
      ],
      "source": [
        "print(len(communities))"
      ]
    },
    {
      "cell_type": "markdown",
      "metadata": {
        "id": "KyRRttA_lKCI"
      },
      "source": [
        "largest community"
      ]
    },
    {
      "cell_type": "code",
      "execution_count": null,
      "metadata": {
        "colab": {
          "base_uri": "https://localhost:8080/"
        },
        "id": "vrvHq4ULlMHs",
        "outputId": "af910956-6b85-4b08-84c1-9da7335c552b"
      },
      "outputs": [
        {
          "name": "stdout",
          "output_type": "stream",
          "text": [
            "92574\n"
          ]
        }
      ],
      "source": [
        "print(len(sorted_communities[0]))"
      ]
    },
    {
      "cell_type": "markdown",
      "metadata": {
        "id": "PihkbXjMekRj"
      },
      "source": [
        "### Community size investigation"
      ]
    },
    {
      "cell_type": "code",
      "execution_count": null,
      "metadata": {
        "id": "cmMveusSCo6L"
      },
      "outputs": [],
      "source": [
        "import math\n",
        "\n",
        "community_size_dict = {} # dict of size and count of communities that size\n",
        "\n",
        "for community in sorted_communities:\n",
        "  size = len(community)\n",
        "  if size not in community_size_dict:\n",
        "    community_size_dict[size] = 1\n",
        "  else:\n",
        "    community_size_dict[size] += 1\n",
        "\n",
        "community_size_list = sorted(community_size_dict.items(), key=lambda x:x[0])"
      ]
    },
    {
      "cell_type": "markdown",
      "metadata": {
        "id": "OZG2zlP8llay"
      },
      "source": [
        "average size"
      ]
    },
    {
      "cell_type": "code",
      "execution_count": null,
      "metadata": {
        "id": "mfKvkTI_lnNp"
      },
      "outputs": [],
      "source": [
        "print(mean(community_size_list))"
      ]
    },
    {
      "cell_type": "code",
      "execution_count": null,
      "metadata": {
        "id": "ikOPRCVXD8Ph"
      },
      "outputs": [],
      "source": [
        "loglog_community_size_list = []\n",
        "\n",
        "for i in range(len(community_size_list)):\n",
        "  community_size = list(community_size_list[i])\n",
        "  new_community_size = tuple([math.log(community_size[0]), math.log(community_size[1])])\n",
        "  loglog_community_size_list.append(new_community_size)"
      ]
    },
    {
      "cell_type": "code",
      "execution_count": null,
      "metadata": {
        "colab": {
          "base_uri": "https://localhost:8080/",
          "height": 454
        },
        "id": "L8PSkrp-Ut8d",
        "outputId": "c85fd8d5-a8d1-405c-a137-4a258a33c7cc"
      },
      "outputs": [
        {
          "data": {
            "image/png": "[encoded data removed]",
            "text/plain": [
              "<Figure size 640x480 with 1 Axes>"
            ]
          },
          "metadata": {},
          "output_type": "display_data"
        }
      ],
      "source": [
        "fig, ax = plt.subplots()\n",
        "\n",
        "ax.scatter(*zip(*community_size_list))\n",
        "ax.grid()\n",
        "ax.set_xlabel(\"Community size\")\n",
        "ax.set_ylabel(\"Count\")\n",
        "ax.set_yscale(\"log\")\n",
        "ax.set_xscale(\"log\")\n",
        "fig.savefig(\"D:\\\\M4R_oskar\\\\Figures\\\\loglog_community_size_nonpowerlaw.png\", dpi=300, bbox_inches='tight')"
      ]
    },
    {
      "cell_type": "markdown",
      "metadata": {
        "id": "2joAgDw-jswI"
      },
      "source": [
        "### Graph of communities"
      ]
    },
    {
      "cell_type": "markdown",
      "source": [
        "elbow method to see how many louvain communities to use"
      ],
      "metadata": {
        "id": "L4oJdOTcISme"
      }
    },
    {
      "cell_type": "code",
      "source": [
        "total_users = sum([len(i) for i in sorted_communities])\n",
        "left_over_nodes = total_users\n",
        "\n",
        "fraction_for_community = []\n",
        "\n",
        "# decreasing fraction of users left after communities are removed\n",
        "for i in sorted_communities:\n",
        "    fraction_for_community.append(left_over_nodes/total_users)\n",
        "    left_over_nodes = left_over_nodes - len(i)"
      ],
      "metadata": {
        "id": "SBr3Jm6ZIOpH"
      },
      "execution_count": null,
      "outputs": []
    },
    {
      "cell_type": "code",
      "source": [
        "plt.plot(fraction_for_community[0:1000])\n",
        "plt.xticks(np.linspace(0, 1000, 11))\n",
        "plt.grid()\n",
        "plt.xlabel('Community')\n",
        "plt.ylabel('Fraction of users')\n",
        "plt.savefig('D:\\\\M4R_oskar\\\\Figures\\\\Fraction_of_users_louvain.png')"
      ],
      "metadata": {
        "id": "r2C4zD1kIYH3"
      },
      "execution_count": null,
      "outputs": []
    },
    {
      "cell_type": "markdown",
      "metadata": {
        "id": "zG5s5pr12fyh"
      },
      "source": [
        "graph with only 100 largest communities"
      ]
    },
    {
      "cell_type": "code",
      "execution_count": null,
      "metadata": {
        "id": "34BE0h_c2fCe"
      },
      "outputs": [],
      "source": [
        "G_weighted_100_largest = G_weighted.copy()\n",
        "nodes_to_remove = []\n",
        "\n",
        "# create graph with only 100 largest comms\n",
        "for i in range(len(sorted_communities) - 100):\n",
        "  # loop over all communities except 100 largest\n",
        "  for node in sorted_communities[-(i+1)]:\n",
        "    # remove nodes\n",
        "    nodes_to_remove.append(node)\n",
        "\n",
        "G_weighted_100_largest.remove_nodes_from(nodes_to_remove)"
      ]
    },
    {
      "cell_type": "code",
      "execution_count": null,
      "metadata": {
        "colab": {
          "base_uri": "https://localhost:8080/"
        },
        "id": "_bzI5TiK3XUL",
        "outputId": "1a6e427c-7cee-47da-f1ea-0786b3e35559"
      },
      "outputs": [
        {
          "name": "stdout",
          "output_type": "stream",
          "text": [
            "614139\n"
          ]
        }
      ],
      "source": [
        "print(G_weighted_100_largest.number_of_nodes())"
      ]
    },
    {
      "cell_type": "code",
      "execution_count": null,
      "metadata": {
        "id": "YTUaCXLJLQmP"
      },
      "outputs": [],
      "source": [
        "dictionary_of_communities = {}\n",
        "# for each node indicate which community it is in\n",
        "\n",
        "sorted_communities_100 = sorted_communities[0:100]\n",
        "\n",
        "for node in list(G_weighted_100_largest):\n",
        "  community_of_node = [node in community for community in sorted_communities_100].index(True) + 1\n",
        "  dictionary_of_communities[node] = community_of_node"
      ]
    },
    {
      "cell_type": "code",
      "execution_count": null,
      "metadata": {
        "id": "LH3QR31XdIrP"
      },
      "outputs": [],
      "source": [
        "string_dictionary_of_communities = {}\n",
        "# turn to string\n",
        "\n",
        "for key, value in dictionary_of_communities.items():\n",
        "  string_dictionary_of_communities[str(key)] = value"
      ]
    },
    {
      "cell_type": "code",
      "execution_count": null,
      "metadata": {
        "colab": {
          "base_uri": "https://localhost:8080/",
          "height": 17
        },
        "id": "-PbMfiC8MwGF",
        "outputId": "08067b8c-fd6b-4800-fc00-2ea5748f69d7"
      },
      "outputs": [
        {
          "data": {
            "application/javascript": "\n    async function download(id, filename, size) {\n      if (!google.colab.kernel.accessAllowed) {\n        return;\n      }\n      const div = document.createElement('div');\n      const label = document.createElement('label');\n      label.textContent = `Downloading \"${filename}\": `;\n      div.appendChild(label);\n      const progress = document.createElement('progress');\n      progress.max = size;\n      div.appendChild(progress);\n      document.body.appendChild(div);\n\n      const buffers = [];\n      let downloaded = 0;\n\n      const channel = await google.colab.kernel.comms.open(id);\n      // Send a message to notify the kernel that we're ready.\n      channel.send({})\n\n      for await (const message of channel.messages) {\n        // Send a message to notify the kernel that we're ready.\n        channel.send({})\n        if (message.buffers) {\n          for (const buffer of message.buffers) {\n            buffers.push(buffer);\n            downloaded += buffer.byteLength;\n            progress.value = downloaded;\n          }\n        }\n      }\n      const blob = new Blob(buffers, {type: 'application/binary'});\n      const a = document.createElement('a');\n      a.href = window.URL.createObjectURL(blob);\n      a.download = filename;\n      div.appendChild(a);\n      a.click();\n      div.remove();\n    }\n  ",
            "text/plain": [
              "<IPython.core.display.Javascript object>"
            ]
          },
          "metadata": {},
          "output_type": "display_data"
        },
        {
          "data": {
            "application/javascript": "download(\"download_f79ba6ed-2ebd-48c7-b680-bb77d91c8e7d\", \"string_dictionary_of_communities\", 23668401)",
            "text/plain": [
              "<IPython.core.display.Javascript object>"
            ]
          },
          "metadata": {},
          "output_type": "display_data"
        }
      ],
      "source": [
        "import json\n",
        "\n",
        "with open(\"string_dictionary_of_communities\", \"w\") as fp:\n",
        "  json.dump(string_dictionary_of_communities, fp)\n",
        "files.download('string_dictionary_of_communities')"
      ]
    },
    {
      "cell_type": "code",
      "execution_count": null,
      "metadata": {
        "id": "PcqCCJkY2Lb9"
      },
      "outputs": [],
      "source": [
        "import json\n",
        "\n",
        "string_dictionary_of_communities = json.load('string_dictionary_of_communities')"
      ]
    },
    {
      "cell_type": "code",
      "execution_count": null,
      "metadata": {
        "colab": {
          "base_uri": "https://localhost:8080/"
        },
        "id": "4wxpVVkuCv_8",
        "outputId": "19bdc3c2-8a93-4285-9d20-73b19b345d40"
      },
      "outputs": [
        {
          "name": "stdout",
          "output_type": "stream",
          "text": [
            "100000\n",
            "200000\n",
            "300000\n",
            "400000\n",
            "500000\n",
            "600000\n"
          ]
        }
      ],
      "source": [
        "community_network = {}\n",
        "# dictionary where keys are tuples indicating edge between communities and weights are sum of weights of connections of the nodes between these two communities\n",
        "\n",
        "iter = 0\n",
        "\n",
        "for node in list(G_weighted_100_largest):\n",
        "  # over nodes in graph of 100 largest comms\n",
        "  iter +=1\n",
        "  if iter % 100000 == 0:\n",
        "    print(iter)\n",
        "  community_of_node = dictionary_of_communities[node]\n",
        "  for neighbor in G_weighted_100_largest.neighbors(node):\n",
        "    community_of_neighbor = dictionary_of_communities[neighbor]\n",
        "    if tuple([community_of_node, community_of_neighbor]) not in community_network:\n",
        "      community_network[tuple([community_of_node, community_of_neighbor])] = G_weighted_100_largest[node][neighbor]['weight']\n",
        "    else:\n",
        "      community_network[tuple([community_of_node, community_of_neighbor])] += G_weighted_100_largest[node][neighbor]['weight']"
      ]
    },
    {
      "cell_type": "markdown",
      "metadata": {
        "id": "K_s8DHbAe9ix"
      },
      "source": [
        "Now we have a dictionary where the key is a tuple indicating the edge and the value is the weight of the edge\n",
        "\n",
        "Now create a pandas dataframe that we can import into gephi"
      ]
    },
    {
      "cell_type": "markdown",
      "metadata": {
        "id": "NQ5wlq4fimmO"
      },
      "source": [
        "number of edges is\n",
        "\n",
        "\n",
        "\n"
      ]
    },
    {
      "cell_type": "code",
      "execution_count": null,
      "metadata": {
        "colab": {
          "base_uri": "https://localhost:8080/"
        },
        "id": "ENUYDCdGiduY",
        "outputId": "1918564f-03bb-4d6a-f510-4227b5e43aaa"
      },
      "outputs": [
        {
          "name": "stdout",
          "output_type": "stream",
          "text": [
            "6242\n"
          ]
        }
      ],
      "source": [
        "print(len(community_network))"
      ]
    },
    {
      "cell_type": "code",
      "execution_count": null,
      "metadata": {
        "id": "GCVNty8hrlfQ"
      },
      "outputs": [],
      "source": [
        "import pandas as pd\n",
        "\n",
        "# pandas table for use in gephi edges between communities and weights\n",
        "\n",
        "list_source = []\n",
        "list_target = []\n",
        "list_weight = []\n",
        "\n",
        "for key, value in community_network.items():\n",
        "  list_source.append(key[0])\n",
        "  list_target.append(key[1])\n",
        "  list_weight.append(value)\n",
        "\n",
        "edges_table_community_network = pd.DataFrame({'Source': list_source, 'Target': list_target, 'Weight': list_weight})"
      ]
    },
    {
      "cell_type": "code",
      "execution_count": null,
      "metadata": {
        "id": "wscwyPksh6_S"
      },
      "outputs": [],
      "source": [
        "edges_table_community_network.to_csv('D:\\\\M4R_oskar\\\\User_Network\\\\Communities_Base_Louvain\\\\edges_table_community_network_100_largest2.csv')"
      ]
    },
    {
      "cell_type": "markdown",
      "metadata": {
        "id": "dzX-lArf6y5l"
      },
      "source": [
        "#### Graph of 100 largest louvain community colored by misinformation"
      ]
    },
    {
      "cell_type": "code",
      "execution_count": null,
      "metadata": {
        "id": "k92-SvLQ6y5m"
      },
      "outputs": [],
      "source": [
        "dict_community_misinf = {} # dictionary of misinformation quotients for each community\n",
        "\n",
        "i = 0\n",
        "for community in sorted_communities[0:100]:\n",
        "    i+=1\n",
        "    print(i)\n",
        "    print(len(community))\n",
        "    community_misinf = 0\n",
        "    community_tweets = 0\n",
        "    j = 0\n",
        "    for user in community:\n",
        "        j+=1\n",
        "        if j%10000==0:\n",
        "            print(j)\n",
        "        try:\n",
        "            index = user_text_data_misinf2[user_text_data_misinf2['User_ID']==user].index[0]\n",
        "            community_misinf += user_text_data_misinf2['Misinformation'][index] * len(user_text_data_misinf2['Cleaned_Tweets'][index])\n",
        "            community_tweets += len(user_text_data_misinf2['Cleaned_Tweets'][index])\n",
        "            dict_community_misinf[i] = community_misinf/community_tweets\n",
        "        except IndexError:\n",
        "            pass"
      ]
    },
    {
      "cell_type": "code",
      "execution_count": null,
      "metadata": {
        "id": "jBik3DiG6y5m"
      },
      "outputs": [],
      "source": [
        "import pandas as pd\n",
        "\n",
        "# dataset of community id with corresponding misinformation quotient for gephi\n",
        "dataset_node_attributes = pd.DataFrame.from_dict(dict_community_misinf, orient='index', columns=['Misinformation'])\n",
        "dataset_node_attributes['ID'] = range(1,101)\n",
        "dataset_node_attributes = dataset_node_attributes[['ID', 'Misinformation']]"
      ]
    },
    {
      "cell_type": "code",
      "execution_count": null,
      "metadata": {
        "id": "KDMfHMmj6y5n"
      },
      "outputs": [],
      "source": [
        "dataset_node_attributes.to_csv('D:\\\\M4R_oskar\\\\User_Network\\\\Communities_Base_Louvain\\\\dataset_node_attributes_100_largest2.csv')"
      ]
    },
    {
      "cell_type": "markdown",
      "metadata": {
        "id": "wnLg9CLJKoxE"
      },
      "source": [
        "### Pagerank within Louvain communities"
      ]
    },
    {
      "cell_type": "code",
      "execution_count": null,
      "metadata": {
        "id": "IGSbcP2nKtbz"
      },
      "outputs": [],
      "source": [
        "for i in range(10):\n",
        "  G_community = G_weighted.copy()\n",
        "  print(G_community.number_of_nodes())\n",
        "  # remove nodes not in community\n",
        "  nodes_to_remove = []\n",
        "  for j in range(len(sorted_communities)):\n",
        "    if j != i:\n",
        "      nodes_to_remove.extend([node for node in sorted_communities[j]])\n",
        "  print(len(nodes_to_remove))\n",
        "  G_community.remove_nodes_from(nodes_to_remove)\n",
        "  print(G_community.number_of_nodes())\n",
        "\n",
        "  pagerank = nx.pagerank(G_community, weight='weight')  # calculate pagerank inside community\n",
        "  pagerank_list = sorted(list(pagerank.items()), key=lambda x: x[1], reverse=True)\n",
        "  print(f'{i+1} largest community, {len(sorted_communities[i])} nodes')\n",
        "  print('Pagerank for 10 most central nodes')\n",
        "  print(pagerank_list[0:10])\n",
        "  print('----------------------------------------------')"
      ]
    },
    {
      "cell_type": "code",
      "execution_count": null,
      "metadata": {
        "id": "6e5gMOc16y5J"
      },
      "outputs": [],
      "source": [
        "# most important users in each community\n",
        "\n",
        "for user in [1478792963090169860, 850036892, 472777204, 309587728, 1325555226552594432,175420754,337808606,707231479047315456,148529707,455937214]:\n",
        "    try:\n",
        "        index = np.where(user_text_data_misinf2['User_ID']==user)[0][0]\n",
        "        user = str(user)\n",
        "        print(username[user])\n",
        "        print(user_text_data_misinf2['Cleaned_Tweets'][index])\n",
        "        print('----------------------------------------------')\n",
        "    except IndexError:\n",
        "        pass"
      ]
    },
    {
      "cell_type": "markdown",
      "metadata": {
        "id": "qB_DSm516y4j"
      },
      "source": [
        "### Geographical analysis of communities"
      ]
    },
    {
      "cell_type": "code",
      "execution_count": null,
      "metadata": {
        "id": "AliXzkSA6y4j",
        "outputId": "81f6c427-e40f-48ef-a115-33b437c74984"
      },
      "outputs": [
        {
          "name": "stdout",
          "output_type": "stream",
          "text": [
            "705544\n"
          ]
        }
      ],
      "source": [
        "import json\n",
        "\n",
        "# dictionary of twitter location names for users\n",
        "node_geo_data = json.load(open('D:\\\\M4R_oskar\\\\User_Network\\\\user_data_location', 'r'))\n",
        "\n",
        "print(len(node_geo_data))  # number of position data available"
      ]
    },
    {
      "cell_type": "code",
      "execution_count": null,
      "metadata": {
        "id": "pzpCbPD56y4k"
      },
      "outputs": [],
      "source": [
        "dict_locations = {}  # dictionary of locations as given by twitter users along with counts\n",
        "\n",
        "for key in node_geo_data.keys():\n",
        "    if node_geo_data[key] not in dict_locations.keys():\n",
        "        dict_locations[node_geo_data[key]] = 1\n",
        "    else:\n",
        "        dict_locations[node_geo_data[key]] += 1\n",
        "\n",
        "\n",
        "dict_locations = {k: v for k, v in sorted(dict_locations.items(), key=lambda item: item[1], reverse=True)}\n"
      ]
    },
    {
      "cell_type": "markdown",
      "source": [
        "total dictionary of twitter location names along with counts for all 10 largest communities"
      ],
      "metadata": {
        "id": "lDWXPjtL6oji"
      }
    },
    {
      "cell_type": "code",
      "execution_count": null,
      "metadata": {
        "id": "QCj0E9up6y49"
      },
      "outputs": [],
      "source": [
        "country_dict = {}  # dictionary of location names with counts for 10 largest communities\n",
        "\n",
        "for i in range(10):\n",
        "    # loop over 10 largest communities\n",
        "\n",
        "    for node in sorted_communities[i]:\n",
        "\n",
        "        if str(node) in node_geo_data:\n",
        "            #if node has geodata\n",
        "            country = node_geo_data[str(node)]\n",
        "            if country not in country_dict:\n",
        "                country_dict[country] = 1\n",
        "            else:\n",
        "                country_dict[country] += 1\n",
        "\n",
        "\n",
        "country_dict = {k: v for k, v in sorted(country_dict.items(), key=lambda item: item[1], reverse=True)}"
      ]
    },
    {
      "cell_type": "markdown",
      "metadata": {
        "id": "zc4oDigH6y4l"
      },
      "source": [
        "#### Get all user location data into same format ie get the corresponding country name"
      ]
    },
    {
      "cell_type": "code",
      "execution_count": null,
      "metadata": {
        "id": "bueKpCNR6y4l"
      },
      "outputs": [],
      "source": [
        "from geopy.exc import GeocoderTimedOut\n",
        "from geopy.geocoders import Nominatim\n",
        "geolocator = Nominatim(user_agent=\"oskarpanek@seznam.cz\")  # nominatim API\n",
        "\n",
        "def getcoordinates(location):\n",
        "    \"\"\"\n",
        "    Given the input location name string generate the geographical position coordinates\n",
        "    \"\"\"\n",
        "    try:\n",
        "        return geolocator.geocode(location, timeout=1, language='en')\n",
        "    except GeocoderTimedOut:\n",
        "        return getcoordinates(location)\n",
        "\n",
        "def getaddress(coordinates):\n",
        "    \"\"\"\n",
        "    Given the coordinates generate text location\n",
        "    \"\"\"\n",
        "    try:\n",
        "        return geolocator.reverse(coordinates, timeout=1, language='en')\n",
        "    except GeocoderTimedOut:\n",
        "        return getaddress(coordinates)"
      ]
    },
    {
      "cell_type": "code",
      "execution_count": null,
      "metadata": {
        "id": "C8lBq3Y86y41"
      },
      "outputs": [],
      "source": [
        "with open(f'D:\\\\M4R_oskar\\\\User_Network\\\\Country_lists\\\\country_dict_list_split_0.pickle', 'rb') as fp:\n",
        "    country_dict = pickle.load(fp)\n",
        "\n",
        "\n",
        "country_dict = dict(country_dict)\n",
        "\n",
        "from geopy.exc import GeocoderUnavailable\n",
        "\n",
        "location_dict_full = {}\n",
        "i = 0\n",
        "\n",
        "for key in list(country_dict.keys()):\n",
        "    # turn twitter location names into coordinates\n",
        "    i += 1\n",
        "    if i % 100 == 0:\n",
        "        print(i)\n",
        "    try:\n",
        "        location = getcoordinates(key)\n",
        "        latitude = location.latitude\n",
        "        longitude = location.longitude\n",
        "        location_dict_full[key] = [latitude, longitude]\n",
        "    except AttributeError:\n",
        "        pass\n",
        "    except GeocoderUnavailable:\n",
        "        print(key)\n",
        "        print(i)\n",
        "        with open('D:\\\\M4R_oskar\\\\User_Network\\\\Location_dict\\\\location_dict_largest_communities_0.json', 'w') as fp:\n",
        "            json.dump(location_dict_full, fp)\n",
        "\n",
        "\n",
        "\n",
        "with open('D:\\\\M4R_oskar\\\\User_Network\\\\Location_dict\\\\location_dict_largest_communities_0.json', 'w') as fp:\n",
        "    json.dump(location_dict_full, fp)\n",
        "\n",
        "import numpy as np\n",
        "\n",
        "twitter_names = location_dict_full.keys()\n",
        "coordinates = location_dict_full.values()\n",
        "location_dict_for_df = {'Twitter_Name': list(twitter_names), 'Coordinates': list(coordinates)}  # dictionary of location names along with coordinates\n",
        "location_df = pd.DataFrame(location_dict_for_df)\n",
        "\n",
        "location_df['Country'] = np.nan  # initiate a column with country names\n",
        "\n",
        "for name in location_df['Twitter_Name']:\n",
        "    # loop over twitter location names and get corresponding coordinates\n",
        "    index = location_df.index[location_df['Twitter_Name']==name].tolist()\n",
        "    coordinates = location_df['Coordinates'].iloc[index].tolist()\n",
        "    try:\n",
        "        # get country name from coordinates and add to dataframe\n",
        "        location = getaddress(coordinates)\n",
        "        country = location.address.split(\",\")[-1].strip()\n",
        "        #print(country)\n",
        "        location_df['Country'].iloc[index] = country\n",
        "    except AttributeError:\n",
        "        pass\n",
        "    except GeocoderUnavailable:\n",
        "        pass\n",
        "\n",
        "location_df.to_csv('D:\\\\M4R_oskar\\\\User_Network\\\\location_df_largest_communities.csv')"
      ]
    },
    {
      "cell_type": "markdown",
      "metadata": {
        "id": "hZSn1RvG6y44"
      },
      "source": [
        "#### Choropleth maps"
      ]
    },
    {
      "cell_type": "code",
      "execution_count": null,
      "metadata": {
        "id": "_j8ANAN16y45"
      },
      "outputs": [],
      "source": [
        "import pandas as pd\n",
        "location_df = pd.read_csv('D:\\\\M4R_oskar\\\\User_Network\\\\Location_df\\\\location_df_largest_communities_full.csv')"
      ]
    },
    {
      "cell_type": "code",
      "execution_count": null,
      "metadata": {
        "id": "doxeoOoa6y46"
      },
      "outputs": [],
      "source": [
        "import plotly\n",
        "import plotly.express as px\n",
        "\n",
        "def choropleth(community, location_df, list_of_country_dict):\n",
        "    \"\"\"\n",
        "    community: int, number of louvain community\n",
        "    location_df: dataframe with Twitter_Name, Coordinates and Country\n",
        "    list_of_country_dict: list of dictionaries, for each community a dictionary with twitter name as key and count as value\n",
        "\n",
        "    creates choropleth map of the world with color in countries where users belong\n",
        "    \"\"\"\n",
        "\n",
        "    df_largest_community = pd.DataFrame(columns=['Country','Count'])  # country and count dataframe for map\n",
        "    location_df = location_df.reset_index(drop=True)\n",
        "\n",
        "    for location in list_of_country_dict[community-1].keys():\n",
        "        # loop over location for community\n",
        "        count = list_of_country_dict[community-1][location]\n",
        "\n",
        "        index = location_df.index[location_df['Twitter_Name']==location]\n",
        "        if index.size != 0:\n",
        "            country = location_df['Country'].iloc[index].tolist()[0]\n",
        "\n",
        "            if len(df_largest_community) == 0:\n",
        "                # initialise dataframe\n",
        "                inter_df = pd.DataFrame(columns=['Country','Count'])\n",
        "                inter_df.at[0,'Country'] = country\n",
        "                inter_df.at[0,'Count'] = count\n",
        "                df_largest_community = pd.concat([df_largest_community, inter_df], ignore_index=True)\n",
        "            else:\n",
        "                if country not in df_largest_community['Country'].to_list():\n",
        "                    # country does not yet exist, initialise country\n",
        "                    inter_df = pd.DataFrame(columns=['Country','Count'])\n",
        "                    inter_df.at[0,'Country'] = country\n",
        "                    inter_df.at[0,'Count'] = count\n",
        "                    df_largest_community = pd.concat([df_largest_community, inter_df], ignore_index=True)\n",
        "                else:\n",
        "                    # else add count\n",
        "                    index = df_largest_community.index[df_largest_community_full['Country']==country]\n",
        "                    df_largest_community['Count'].iloc[index] += count\n",
        "\n",
        "    df_largest_community = df_largest_community.sort_values(by=['Count'], ascending=False) # country and count dataframe\n",
        "    fig = px.choropleth(df_largest_community, locations=\"Country\",color=df_largest_community[\"Count\"].astype(float),\n",
        "                         locationmode=\"country names\", scope=\"world\",color_continuous_scale = 'ylorrd',\n",
        "                         labels={'color':'Number of users'})\n",
        "    fig.show()\n",
        "    fig.write_html('D:\\\\M4R_oskar\\\\Figures\\\\Choropleth_communities\\\\Louvain\\\\choropleth_community_'+str(community)+'.html')"
      ]
    },
    {
      "cell_type": "code",
      "execution_count": null,
      "metadata": {
        "id": "iLolGvwk6y46",
        "outputId": "4f574123-23e6-4755-fb1c-1f433c529352"
      },
      "outputs": [
        {
          "name": "stdout",
          "output_type": "stream",
          "text": [
            "Choropleth for community 1\n"
          ]
        },
        {
          "data": {
            "application/vnd.plotly.v1+json": {
              "config": {
                "plotlyServerURL": "https://plot.ly"
              },
              "data": [
                {
                  "coloraxis": "coloraxis",
                  "geo": "geo",
                  "hovertemplate": "Country=%{location}<br>Number of users=%{z}<extra></extra>",
                  "locationmode": "country names",
                  "locations": [
                    "United States",
                    "Canada",
                    "United Kingdom",
                    "Australia",
                    "South Africa",
                    "France",
                    "Netherlands",
                    "Germany",
                    "Brazil",
                    "Spain",
                    "Italy",
                    "Japan",
                    "India",
                    "Ireland",
                    "Thailand",
                    "Philippines",
                    "Mexico",
                    "Sweden",
                    "Nigeria",
                    "New Zealand",
                    "Indonesia",
                    "Argentina",
                    "Turkey",
                    "China",
                    "Belgium",
                    "Poland",
                    "Finland",
                    "Greece",
                    "Colombia",
                    "Switzerland",
                    "Kenya",
                    "Denmark",
                    "Chile",
                    "Russia",
                    "Portugal",
                    "Norway",
                    "Malaysia",
                    "Venezuela",
                    "Panama",
                    "Austria",
                    "Romania",
                    "Peru",
                    "Bosnia and Herzegovina",
                    "Pakistan",
                    "Iran",
                    "Liberia",
                    "Ghana",
                    "Uganda",
                    "Serbia",
                    "Azerbaijan",
                    "United Arab Emirates",
                    "Ukraine",
                    "Vietnam",
                    "South Korea",
                    "Israel",
                    "Warsaw",
                    "Costa Rica",
                    "Ecuador",
                    "Guatemala",
                    "Saudi Arabia",
                    "Singapore",
                    "Dominican Republic",
                    "Botswana",
                    "Czechia",
                    "Taiwan",
                    "Slovenia",
                    "Egypt",
                    "Tunisia",
                    "Morocco",
                    "Zimbabwe",
                    "Chad",
                    "Nepal",
                    "Cameroon",
                    "Gabon",
                    "Kuwait",
                    "Hungary",
                    "Paraguay",
                    null,
                    "Iceland",
                    "Myanmar",
                    "Estonia",
                    "Mali",
                    "Tanzania",
                    "Kazakhstan",
                    "Cyprus",
                    "Belarus",
                    "Jamaica",
                    "Croatia",
                    "Latvia",
                    "Mongolia",
                    "Zambia",
                    "Slovakia",
                    "Haiti",
                    "Algeria",
                    "Bulgaria",
                    "Iraq",
                    "Namibia",
                    "Uruguay",
                    "Cuba",
                    "North Macedonia",
                    "Falkland Islands",
                    "Vatican City",
                    "Prague",
                    "Seychelles",
                    "Georgia",
                    "Albania",
                    "Luxembourg",
                    "Guernsey",
                    "Bangladesh",
                    "Ethiopia",
                    "Yemen",
                    "Nicaragua",
                    "Syria",
                    "Cambodia",
                    "Isle of Man",
                    "Gibraltar",
                    "Jersey",
                    "Qatar",
                    "El Salvador",
                    "Bolivia",
                    "Tajikistan",
                    "Papua New Guinea",
                    "Armenia",
                    "Sri Lanka",
                    "The Bahamas",
                    "Fiji",
                    "Trinidad and Tobago",
                    "Cayman Islands",
                    "Lebanon",
                    "Honduras",
                    "Lithuania",
                    "Afghanistan",
                    "Kosovo",
                    "Greenland",
                    "Bermuda",
                    "Democratic Republic of the Congo",
                    "Belize",
                    "Moldova",
                    "Monaco",
                    "Jordan",
                    "Andorra",
                    "Togo",
                    "Eswatini",
                    "South Georgia and the South Sandwich Islands",
                    "Madagascar",
                    "Bahrain",
                    "Malta",
                    "Côte d'Ivoire",
                    "Guyana",
                    "Palestinian Territory",
                    "Sierra Leone",
                    "Lesotho",
                    "Rwanda",
                    "Turkmenistan",
                    "Mozambique",
                    "Mauritius",
                    "Uzbekistan",
                    "Somalia",
                    "Angola",
                    "Kiribati",
                    "Dominica",
                    "Marshall Islands",
                    "Burkina Faso",
                    "Suriname",
                    "Barbados",
                    "Grenada",
                    "Anguilla",
                    "Turks and Caicos Islands",
                    "Central African Republic",
                    "Malawi",
                    "Sudan",
                    "Maldives",
                    "Vanuatu",
                    "Laos",
                    "Bhutan",
                    "Pitcairn Islands",
                    "Benin",
                    "Antigua and Barbuda",
                    "Saint Lucia",
                    "Tonga",
                    "Saint Kitts and Nevis",
                    "County Roscommon",
                    "Faroe Islands",
                    "South Sudan",
                    "Palau",
                    "Brunei",
                    "Haaksbergen",
                    "Liechtenstein",
                    "Cook Islands",
                    "Djibouti",
                    "North Korea",
                    "Guinea",
                    "The Gambia",
                    "Palma",
                    "Montenegro",
                    "Kyrgyzstan",
                    "Cape Verde",
                    "Zeewolde",
                    "San Marino"
                  ],
                  "name": "",
                  "type": "choropleth",
                  "z": [
                    25129,
                    4634,
                    2919,
                    1102,
                    554,
                    534,
                    526,
                    456,
                    413,
                    291,
                    259,
                    240,
                    207,
                    186,
                    170,
                    166,
                    161,
                    160,
                    151,
                    149,
                    132,
                    130,
                    129,
                    123,
                    114,
                    111,
                    104,
                    97,
                    90,
                    88,
                    80,
                    78,
                    76,
                    74,
                    73,
                    73,
                    73,
                    66,
                    63,
                    61,
                    53,
                    50,
                    50,
                    45,
                    45,
                    45,
                    41,
                    41,
                    40,
                    37,
                    36,
                    34,
                    33,
                    32,
                    31,
                    30,
                    29,
                    27,
                    27,
                    25,
                    25,
                    25,
                    24,
                    23,
                    22,
                    22,
                    22,
                    20,
                    20,
                    20,
                    18,
                    18,
                    17,
                    17,
                    17,
                    17,
                    17,
                    17,
                    16,
                    16,
                    16,
                    15,
                    14,
                    14,
                    13,
                    13,
                    13,
                    13,
                    13,
                    13,
                    12,
                    11,
                    11,
                    11,
                    11,
                    11,
                    10,
                    10,
                    10,
                    10,
                    9,
                    9,
                    9,
                    9,
                    8,
                    8,
                    7,
                    7,
                    7,
                    7,
                    7,
                    7,
                    7,
                    6,
                    6,
                    6,
                    6,
                    6,
                    6,
                    6,
                    6,
                    6,
                    6,
                    6,
                    5,
                    5,
                    5,
                    5,
                    5,
                    5,
                    5,
                    4,
                    4,
                    4,
                    4,
                    4,
                    4,
                    4,
                    4,
                    4,
                    3,
                    3,
                    3,
                    3,
                    3,
                    3,
                    3,
                    3,
                    3,
                    3,
                    3,
                    3,
                    3,
                    3,
                    3,
                    2,
                    2,
                    2,
                    2,
                    2,
                    2,
                    2,
                    2,
                    2,
                    2,
                    2,
                    2,
                    2,
                    2,
                    2,
                    2,
                    2,
                    2,
                    2,
                    1,
                    1,
                    1,
                    1,
                    1,
                    1,
                    1,
                    1,
                    1,
                    1,
                    1,
                    1,
                    1,
                    1,
                    1,
                    1,
                    1,
                    1,
                    1,
                    1,
                    1,
                    1,
                    1,
                    1,
                    1
                  ]
                }
              ],
              "layout": {
                "coloraxis": {
                  "colorbar": {
                    "title": {
                      "text": "Number of users"
                    }
                  },
                  "colorscale": [
                    [
                      0,
                      "rgb(255,255,204)"
                    ],
                    [
                      0.125,
                      "rgb(255,237,160)"
                    ],
                    [
                      0.25,
                      "rgb(254,217,118)"
                    ],
                    [
                      0.375,
                      "rgb(254,178,76)"
                    ],
                    [
                      0.5,
                      "rgb(253,141,60)"
                    ],
                    [
                      0.625,
                      "rgb(252,78,42)"
                    ],
                    [
                      0.75,
                      "rgb(227,26,28)"
                    ],
                    [
                      0.875,
                      "rgb(189,0,38)"
                    ],
                    [
                      1,
                      "rgb(128,0,38)"
                    ]
                  ]
                },
                "geo": {
                  "center": {},
                  "domain": {
                    "x": [
                      0,
                      1
                    ],
                    "y": [
                      0,
                      1
                    ]
                  },
                  "scope": "world"
                },
                "legend": {
                  "tracegroupgap": 0
                },
                "margin": {
                  "t": 60
                },
                "template": {
                  "data": {
                    "bar": [
                      {
                        "error_x": {
                          "color": "#2a3f5f"
                        },
                        "error_y": {
                          "color": "#2a3f5f"
                        },
                        "marker": {
                          "line": {
                            "color": "#E5ECF6",
                            "width": 0.5
                          },
                          "pattern": {
                            "fillmode": "overlay",
                            "size": 10,
                            "solidity": 0.2
                          }
                        },
                        "type": "bar"
                      }
                    ],
                    "barpolar": [
                      {
                        "marker": {
                          "line": {
                            "color": "#E5ECF6",
                            "width": 0.5
                          },
                          "pattern": {
                            "fillmode": "overlay",
                            "size": 10,
                            "solidity": 0.2
                          }
                        },
                        "type": "barpolar"
                      }
                    ],
                    "carpet": [
                      {
                        "aaxis": {
                          "endlinecolor": "#2a3f5f",
                          "gridcolor": "white",
                          "linecolor": "white",
                          "minorgridcolor": "white",
                          "startlinecolor": "#2a3f5f"
                        },
                        "baxis": {
                          "endlinecolor": "#2a3f5f",
                          "gridcolor": "white",
                          "linecolor": "white",
                          "minorgridcolor": "white",
                          "startlinecolor": "#2a3f5f"
                        },
                        "type": "carpet"
                      }
                    ],
                    "choropleth": [
                      {
                        "colorbar": {
                          "outlinewidth": 0,
                          "ticks": ""
                        },
                        "type": "choropleth"
                      }
                    ],
                    "contour": [
                      {
                        "colorbar": {
                          "outlinewidth": 0,
                          "ticks": ""
                        },
                        "colorscale": [
                          [
                            0,
                            "#0d0887"
                          ],
                          [
                            0.1111111111111111,
                            "#46039f"
                          ],
                          [
                            0.2222222222222222,
                            "#7201a8"
                          ],
                          [
                            0.3333333333333333,
                            "#9c179e"
                          ],
                          [
                            0.4444444444444444,
                            "#bd3786"
                          ],
                          [
                            0.5555555555555556,
                            "#d8576b"
                          ],
                          [
                            0.6666666666666666,
                            "#ed7953"
                          ],
                          [
                            0.7777777777777778,
                            "#fb9f3a"
                          ],
                          [
                            0.8888888888888888,
                            "#fdca26"
                          ],
                          [
                            1,
                            "#f0f921"
                          ]
                        ],
                        "type": "contour"
                      }
                    ],
                    "contourcarpet": [
                      {
                        "colorbar": {
                          "outlinewidth": 0,
                          "ticks": ""
                        },
                        "type": "contourcarpet"
                      }
                    ],
                    "heatmap": [
                      {
                        "colorbar": {
                          "outlinewidth": 0,
                          "ticks": ""
                        },
                        "colorscale": [
                          [
                            0,
                            "#0d0887"
                          ],
                          [
                            0.1111111111111111,
                            "#46039f"
                          ],
                          [
                            0.2222222222222222,
                            "#7201a8"
                          ],
                          [
                            0.3333333333333333,
                            "#9c179e"
                          ],
                          [
                            0.4444444444444444,
                            "#bd3786"
                          ],
                          [
                            0.5555555555555556,
                            "#d8576b"
                          ],
                          [
                            0.6666666666666666,
                            "#ed7953"
                          ],
                          [
                            0.7777777777777778,
                            "#fb9f3a"
                          ],
                          [
                            0.8888888888888888,
                            "#fdca26"
                          ],
                          [
                            1,
                            "#f0f921"
                          ]
                        ],
                        "type": "heatmap"
                      }
                    ],
                    "heatmapgl": [
                      {
                        "colorbar": {
                          "outlinewidth": 0,
                          "ticks": ""
                        },
                        "colorscale": [
                          [
                            0,
                            "#0d0887"
                          ],
                          [
                            0.1111111111111111,
                            "#46039f"
                          ],
                          [
                            0.2222222222222222,
                            "#7201a8"
                          ],
                          [
                            0.3333333333333333,
                            "#9c179e"
                          ],
                          [
                            0.4444444444444444,
                            "#bd3786"
                          ],
                          [
                            0.5555555555555556,
                            "#d8576b"
                          ],
                          [
                            0.6666666666666666,
                            "#ed7953"
                          ],
                          [
                            0.7777777777777778,
                            "#fb9f3a"
                          ],
                          [
                            0.8888888888888888,
                            "#fdca26"
                          ],
                          [
                            1,
                            "#f0f921"
                          ]
                        ],
                        "type": "heatmapgl"
                      }
                    ],
                    "histogram": [
                      {
                        "marker": {
                          "pattern": {
                            "fillmode": "overlay",
                            "size": 10,
                            "solidity": 0.2
                          }
                        },
                        "type": "histogram"
                      }
                    ],
                    "histogram2d": [
                      {
                        "colorbar": {
                          "outlinewidth": 0,
                          "ticks": ""
                        },
                        "colorscale": [
                          [
                            0,
                            "#0d0887"
                          ],
                          [
                            0.1111111111111111,
                            "#46039f"
                          ],
                          [
                            0.2222222222222222,
                            "#7201a8"
                          ],
                          [
                            0.3333333333333333,
                            "#9c179e"
                          ],
                          [
                            0.4444444444444444,
                            "#bd3786"
                          ],
                          [
                            0.5555555555555556,
                            "#d8576b"
                          ],
                          [
                            0.6666666666666666,
                            "#ed7953"
                          ],
                          [
                            0.7777777777777778,
                            "#fb9f3a"
                          ],
                          [
                            0.8888888888888888,
                            "#fdca26"
                          ],
                          [
                            1,
                            "#f0f921"
                          ]
                        ],
                        "type": "histogram2d"
                      }
                    ],
                    "histogram2dcontour": [
                      {
                        "colorbar": {
                          "outlinewidth": 0,
                          "ticks": ""
                        },
                        "colorscale": [
                          [
                            0,
                            "#0d0887"
                          ],
                          [
                            0.1111111111111111,
                            "#46039f"
                          ],
                          [
                            0.2222222222222222,
                            "#7201a8"
                          ],
                          [
                            0.3333333333333333,
                            "#9c179e"
                          ],
                          [
                            0.4444444444444444,
                            "#bd3786"
                          ],
                          [
                            0.5555555555555556,
                            "#d8576b"
                          ],
                          [
                            0.6666666666666666,
                            "#ed7953"
                          ],
                          [
                            0.7777777777777778,
                            "#fb9f3a"
                          ],
                          [
                            0.8888888888888888,
                            "#fdca26"
                          ],
                          [
                            1,
                            "#f0f921"
                          ]
                        ],
                        "type": "histogram2dcontour"
                      }
                    ],
                    "mesh3d": [
                      {
                        "colorbar": {
                          "outlinewidth": 0,
                          "ticks": ""
                        },
                        "type": "mesh3d"
                      }
                    ],
                    "parcoords": [
                      {
                        "line": {
                          "colorbar": {
                            "outlinewidth": 0,
                            "ticks": ""
                          }
                        },
                        "type": "parcoords"
                      }
                    ],
                    "pie": [
                      {
                        "automargin": true,
                        "type": "pie"
                      }
                    ],
                    "scatter": [
                      {
                        "fillpattern": {
                          "fillmode": "overlay",
                          "size": 10,
                          "solidity": 0.2
                        },
                        "type": "scatter"
                      }
                    ],
                    "scatter3d": [
                      {
                        "line": {
                          "colorbar": {
                            "outlinewidth": 0,
                            "ticks": ""
                          }
                        },
                        "marker": {
                          "colorbar": {
                            "outlinewidth": 0,
                            "ticks": ""
                          }
                        },
                        "type": "scatter3d"
                      }
                    ],
                    "scattercarpet": [
                      {
                        "marker": {
                          "colorbar": {
                            "outlinewidth": 0,
                            "ticks": ""
                          }
                        },
                        "type": "scattercarpet"
                      }
                    ],
                    "scattergeo": [
                      {
                        "marker": {
                          "colorbar": {
                            "outlinewidth": 0,
                            "ticks": ""
                          }
                        },
                        "type": "scattergeo"
                      }
                    ],
                    "scattergl": [
                      {
                        "marker": {
                          "colorbar": {
                            "outlinewidth": 0,
                            "ticks": ""
                          }
                        },
                        "type": "scattergl"
                      }
                    ],
                    "scattermapbox": [
                      {
                        "marker": {
                          "colorbar": {
                            "outlinewidth": 0,
                            "ticks": ""
                          }
                        },
                        "type": "scattermapbox"
                      }
                    ],
                    "scatterpolar": [
                      {
                        "marker": {
                          "colorbar": {
                            "outlinewidth": 0,
                            "ticks": ""
                          }
                        },
                        "type": "scatterpolar"
                      }
                    ],
                    "scatterpolargl": [
                      {
                        "marker": {
                          "colorbar": {
                            "outlinewidth": 0,
                            "ticks": ""
                          }
                        },
                        "type": "scatterpolargl"
                      }
                    ],
                    "scatterternary": [
                      {
                        "marker": {
                          "colorbar": {
                            "outlinewidth": 0,
                            "ticks": ""
                          }
                        },
                        "type": "scatterternary"
                      }
                    ],
                    "surface": [
                      {
                        "colorbar": {
                          "outlinewidth": 0,
                          "ticks": ""
                        },
                        "colorscale": [
                          [
                            0,
                            "#0d0887"
                          ],
                          [
                            0.1111111111111111,
                            "#46039f"
                          ],
                          [
                            0.2222222222222222,
                            "#7201a8"
                          ],
                          [
                            0.3333333333333333,
                            "#9c179e"
                          ],
                          [
                            0.4444444444444444,
                            "#bd3786"
                          ],
                          [
                            0.5555555555555556,
                            "#d8576b"
                          ],
                          [
                            0.6666666666666666,
                            "#ed7953"
                          ],
                          [
                            0.7777777777777778,
                            "#fb9f3a"
                          ],
                          [
                            0.8888888888888888,
                            "#fdca26"
                          ],
                          [
                            1,
                            "#f0f921"
                          ]
                        ],
                        "type": "surface"
                      }
                    ],
                    "table": [
                      {
                        "cells": {
                          "fill": {
                            "color": "#EBF0F8"
                          },
                          "line": {
                            "color": "white"
                          }
                        },
                        "header": {
                          "fill": {
                            "color": "#C8D4E3"
                          },
                          "line": {
                            "color": "white"
                          }
                        },
                        "type": "table"
                      }
                    ]
                  },
                  "layout": {
                    "annotationdefaults": {
                      "arrowcolor": "#2a3f5f",
                      "arrowhead": 0,
                      "arrowwidth": 1
                    },
                    "autotypenumbers": "strict",
                    "coloraxis": {
                      "colorbar": {
                        "outlinewidth": 0,
                        "ticks": ""
                      }
                    },
                    "colorscale": {
                      "diverging": [
                        [
                          0,
                          "#8e0152"
                        ],
                        [
                          0.1,
                          "#c51b7d"
                        ],
                        [
                          0.2,
                          "#de77ae"
                        ],
                        [
                          0.3,
                          "#f1b6da"
                        ],
                        [
                          0.4,
                          "#fde0ef"
                        ],
                        [
                          0.5,
                          "#f7f7f7"
                        ],
                        [
                          0.6,
                          "#e6f5d0"
                        ],
                        [
                          0.7,
                          "#b8e186"
                        ],
                        [
                          0.8,
                          "#7fbc41"
                        ],
                        [
                          0.9,
                          "#4d9221"
                        ],
                        [
                          1,
                          "#276419"
                        ]
                      ],
                      "sequential": [
                        [
                          0,
                          "#0d0887"
                        ],
                        [
                          0.1111111111111111,
                          "#46039f"
                        ],
                        [
                          0.2222222222222222,
                          "#7201a8"
                        ],
                        [
                          0.3333333333333333,
                          "#9c179e"
                        ],
                        [
                          0.4444444444444444,
                          "#bd3786"
                        ],
                        [
                          0.5555555555555556,
                          "#d8576b"
                        ],
                        [
                          0.6666666666666666,
                          "#ed7953"
                        ],
                        [
                          0.7777777777777778,
                          "#fb9f3a"
                        ],
                        [
                          0.8888888888888888,
                          "#fdca26"
                        ],
                        [
                          1,
                          "#f0f921"
                        ]
                      ],
                      "sequentialminus": [
                        [
                          0,
                          "#0d0887"
                        ],
                        [
                          0.1111111111111111,
                          "#46039f"
                        ],
                        [
                          0.2222222222222222,
                          "#7201a8"
                        ],
                        [
                          0.3333333333333333,
                          "#9c179e"
                        ],
                        [
                          0.4444444444444444,
                          "#bd3786"
                        ],
                        [
                          0.5555555555555556,
                          "#d8576b"
                        ],
                        [
                          0.6666666666666666,
                          "#ed7953"
                        ],
                        [
                          0.7777777777777778,
                          "#fb9f3a"
                        ],
                        [
                          0.8888888888888888,
                          "#fdca26"
                        ],
                        [
                          1,
                          "#f0f921"
                        ]
                      ]
                    },
                    "colorway": [
                      "#636efa",
                      "#EF553B",
                      "#00cc96",
                      "#ab63fa",
                      "#FFA15A",
                      "#19d3f3",
                      "#FF6692",
                      "#B6E880",
                      "#FF97FF",
                      "#FECB52"
                    ],
                    "font": {
                      "color": "#2a3f5f"
                    },
                    "geo": {
                      "bgcolor": "white",
                      "lakecolor": "white",
                      "landcolor": "#E5ECF6",
                      "showlakes": true,
                      "showland": true,
                      "subunitcolor": "white"
                    },
                    "hoverlabel": {
                      "align": "left"
                    },
                    "hovermode": "closest",
                    "mapbox": {
                      "style": "light"
                    },
                    "paper_bgcolor": "white",
                    "plot_bgcolor": "#E5ECF6",
                    "polar": {
                      "angularaxis": {
                        "gridcolor": "white",
                        "linecolor": "white",
                        "ticks": ""
                      },
                      "bgcolor": "#E5ECF6",
                      "radialaxis": {
                        "gridcolor": "white",
                        "linecolor": "white",
                        "ticks": ""
                      }
                    },
                    "scene": {
                      "xaxis": {
                        "backgroundcolor": "#E5ECF6",
                        "gridcolor": "white",
                        "gridwidth": 2,
                        "linecolor": "white",
                        "showbackground": true,
                        "ticks": "",
                        "zerolinecolor": "white"
                      },
                      "yaxis": {
                        "backgroundcolor": "#E5ECF6",
                        "gridcolor": "white",
                        "gridwidth": 2,
                        "linecolor": "white",
                        "showbackground": true,
                        "ticks": "",
                        "zerolinecolor": "white"
                      },
                      "zaxis": {
                        "backgroundcolor": "#E5ECF6",
                        "gridcolor": "white",
                        "gridwidth": 2,
                        "linecolor": "white",
                        "showbackground": true,
                        "ticks": "",
                        "zerolinecolor": "white"
                      }
                    },
                    "shapedefaults": {
                      "line": {
                        "color": "#2a3f5f"
                      }
                    },
                    "ternary": {
                      "aaxis": {
                        "gridcolor": "white",
                        "linecolor": "white",
                        "ticks": ""
                      },
                      "baxis": {
                        "gridcolor": "white",
                        "linecolor": "white",
                        "ticks": ""
                      },
                      "bgcolor": "#E5ECF6",
                      "caxis": {
                        "gridcolor": "white",
                        "linecolor": "white",
                        "ticks": ""
                      }
                    },
                    "title": {
                      "x": 0.05
                    },
                    "xaxis": {
                      "automargin": true,
                      "gridcolor": "white",
                      "linecolor": "white",
                      "ticks": "",
                      "title": {
                        "standoff": 15
                      },
                      "zerolinecolor": "white",
                      "zerolinewidth": 2
                    },
                    "yaxis": {
                      "automargin": true,
                      "gridcolor": "white",
                      "linecolor": "white",
                      "ticks": "",
                      "title": {
                        "standoff": 15
                      },
                      "zerolinecolor": "white",
                      "zerolinewidth": 2
                    }
                  }
                }
              }
            }
          },
          "metadata": {},
          "output_type": "display_data"
        },
        {
          "name": "stdout",
          "output_type": "stream",
          "text": [
            "Choropleth for community 2\n"
          ]
        },
        {
          "data": {
            "application/vnd.plotly.v1+json": {
              "config": {
                "plotlyServerURL": "https://plot.ly"
              },
              "data": [
                {
                  "coloraxis": "coloraxis",
                  "geo": "geo",
                  "hovertemplate": "Country=%{location}<br>Number of users=%{z}<extra></extra>",
                  "locationmode": "country names",
                  "locations": [
                    "United States",
                    "United Kingdom",
                    "Canada",
                    "Australia",
                    "Brazil",
                    "India",
                    "Japan",
                    "France",
                    "Germany",
                    "Spain",
                    "Mexico",
                    "Netherlands",
                    "China",
                    "Italy",
                    "South Africa",
                    "Argentina",
                    "Poland",
                    "Sweden",
                    "Ireland",
                    "Philippines",
                    "Malaysia",
                    "Switzerland",
                    "Chile",
                    "Thailand",
                    "Portugal",
                    "New Zealand",
                    "Belgium",
                    "Nigeria",
                    "Indonesia",
                    "Kenya",
                    "Norway",
                    "Venezuela",
                    "Colombia",
                    "Greece",
                    "Finland",
                    "Austria",
                    "Turkey",
                    "United Arab Emirates",
                    "Russia",
                    "Denmark",
                    "Romania",
                    "Singapore",
                    "Pakistan",
                    "Panama",
                    "Ghana",
                    "Peru",
                    "Estonia",
                    "Serbia",
                    "Uganda",
                    "Guatemala",
                    "Costa Rica",
                    "Ecuador",
                    "Israel",
                    "Saudi Arabia",
                    "South Korea",
                    "Paraguay",
                    "Bosnia and Herzegovina",
                    "Ukraine",
                    "Bulgaria",
                    "Uruguay",
                    "Croatia",
                    "Warsaw",
                    "El Salvador",
                    "Liberia",
                    "Taiwan",
                    "Hungary",
                    "Morocco",
                    "Iran",
                    null,
                    "Egypt",
                    "Vietnam",
                    "Czechia",
                    "Dominican Republic",
                    "Tunisia",
                    "Myanmar",
                    "Nepal",
                    "North Macedonia",
                    "Latvia",
                    "Haiti",
                    "Jamaica",
                    "Kuwait",
                    "Cuba",
                    "Luxembourg",
                    "Bolivia",
                    "Slovenia",
                    "Cyprus",
                    "Bangladesh",
                    "Algeria",
                    "Slovakia",
                    "Maldives",
                    "Cameroon",
                    "Lithuania",
                    "Mauritius",
                    "Malta",
                    "Sri Lanka",
                    "Tanzania",
                    "The Bahamas",
                    "Ethiopia",
                    "Nicaragua",
                    "Azerbaijan",
                    "Prague",
                    "Iraq",
                    "Mali",
                    "Yemen",
                    "Trinidad and Tobago",
                    "Lebanon",
                    "Seychelles",
                    "Tajikistan",
                    "Zimbabwe",
                    "Iceland",
                    "North Korea",
                    "Kazakhstan",
                    "Vatican City",
                    "Cayman Islands",
                    "Qatar",
                    "Fiji",
                    "Mongolia",
                    "Albania",
                    "Papua New Guinea",
                    "Andorra",
                    "Sudan",
                    "Gabon",
                    "Kosovo",
                    "Honduras",
                    "Botswana",
                    "Zambia",
                    "Jersey",
                    "Democratic Republic of the Congo",
                    "Faroe Islands",
                    "Oman",
                    "Chad",
                    "Georgia",
                    "Rwanda",
                    "Afghanistan",
                    "Madagascar",
                    "Jordan",
                    "Guernsey",
                    "Gibraltar",
                    "Falkland Islands",
                    "Belarus",
                    "Libya",
                    "Laos",
                    "Isle of Man",
                    "Moldova",
                    "Angola",
                    "Niger",
                    "Sierra Leone",
                    "Benin",
                    "Greenland",
                    "Côte d'Ivoire",
                    "Barbados",
                    "Grenada",
                    "Mozambique",
                    "Bahrain",
                    "Burundi",
                    "Cambodia",
                    "Uzbekistan",
                    "Samoa",
                    "Palau",
                    "Senegal",
                    "Monaco",
                    "British Indian Ocean Territory",
                    "Brunei",
                    "Pitcairn Islands",
                    "Vanuatu",
                    "British Virgin Islands",
                    "Somalia",
                    "Liechtenstein",
                    "Turks and Caicos Islands",
                    "Montenegro",
                    "Mauritania",
                    "The Gambia",
                    "Cook Islands",
                    "Rockabill Lighthouse",
                    "Mirny Station",
                    "Djibouti",
                    "Burkina Faso",
                    "Congo-Brazzaville",
                    "South Sudan",
                    "Cape Verde",
                    "Namibia",
                    "Kiribati",
                    "Palestinian Territory",
                    "Syria",
                    "Armenia",
                    "Eritrea"
                  ],
                  "name": "",
                  "type": "choropleth",
                  "z": [
                    13126,
                    1331,
                    1152,
                    589,
                    569,
                    527,
                    526,
                    511,
                    496,
                    328,
                    260,
                    257,
                    218,
                    193,
                    182,
                    147,
                    130,
                    124,
                    117,
                    112,
                    110,
                    107,
                    100,
                    97,
                    93,
                    91,
                    91,
                    86,
                    86,
                    80,
                    80,
                    75,
                    73,
                    67,
                    66,
                    57,
                    55,
                    55,
                    54,
                    53,
                    49,
                    42,
                    40,
                    40,
                    39,
                    38,
                    37,
                    36,
                    36,
                    34,
                    34,
                    33,
                    33,
                    32,
                    30,
                    29,
                    28,
                    28,
                    26,
                    24,
                    24,
                    23,
                    21,
                    21,
                    21,
                    21,
                    21,
                    20,
                    19,
                    19,
                    18,
                    16,
                    16,
                    14,
                    14,
                    14,
                    13,
                    12,
                    12,
                    11,
                    11,
                    11,
                    11,
                    11,
                    10,
                    10,
                    10,
                    10,
                    10,
                    9,
                    9,
                    9,
                    9,
                    9,
                    9,
                    9,
                    9,
                    9,
                    9,
                    9,
                    8,
                    8,
                    8,
                    8,
                    8,
                    8,
                    8,
                    8,
                    8,
                    7,
                    7,
                    7,
                    7,
                    7,
                    6,
                    6,
                    6,
                    6,
                    5,
                    5,
                    5,
                    5,
                    5,
                    5,
                    5,
                    4,
                    4,
                    4,
                    4,
                    4,
                    4,
                    4,
                    3,
                    3,
                    3,
                    3,
                    3,
                    3,
                    3,
                    3,
                    3,
                    3,
                    3,
                    2,
                    2,
                    2,
                    2,
                    2,
                    2,
                    2,
                    2,
                    2,
                    2,
                    2,
                    2,
                    2,
                    2,
                    2,
                    2,
                    2,
                    1,
                    1,
                    1,
                    1,
                    1,
                    1,
                    1,
                    1,
                    1,
                    1,
                    1,
                    1,
                    1,
                    1,
                    1,
                    1,
                    1,
                    1,
                    1,
                    1,
                    1,
                    1,
                    1,
                    1,
                    1,
                    1
                  ]
                }
              ],
              "layout": {
                "coloraxis": {
                  "colorbar": {
                    "title": {
                      "text": "Number of users"
                    }
                  },
                  "colorscale": [
                    [
                      0,
                      "rgb(255,255,204)"
                    ],
                    [
                      0.125,
                      "rgb(255,237,160)"
                    ],
                    [
                      0.25,
                      "rgb(254,217,118)"
                    ],
                    [
                      0.375,
                      "rgb(254,178,76)"
                    ],
                    [
                      0.5,
                      "rgb(253,141,60)"
                    ],
                    [
                      0.625,
                      "rgb(252,78,42)"
                    ],
                    [
                      0.75,
                      "rgb(227,26,28)"
                    ],
                    [
                      0.875,
                      "rgb(189,0,38)"
                    ],
                    [
                      1,
                      "rgb(128,0,38)"
                    ]
                  ]
                },
                "geo": {
                  "center": {},
                  "domain": {
                    "x": [
                      0,
                      1
                    ],
                    "y": [
                      0,
                      1
                    ]
                  },
                  "scope": "world"
                },
                "legend": {
                  "tracegroupgap": 0
                },
                "margin": {
                  "t": 60
                },
                "template": {
                  "data": {
                    "bar": [
                      {
                        "error_x": {
                          "color": "#2a3f5f"
                        },
                        "error_y": {
                          "color": "#2a3f5f"
                        },
                        "marker": {
                          "line": {
                            "color": "#E5ECF6",
                            "width": 0.5
                          },
                          "pattern": {
                            "fillmode": "overlay",
                            "size": 10,
                            "solidity": 0.2
                          }
                        },
                        "type": "bar"
                      }
                    ],
                    "barpolar": [
                      {
                        "marker": {
                          "line": {
                            "color": "#E5ECF6",
                            "width": 0.5
                          },
                          "pattern": {
                            "fillmode": "overlay",
                            "size": 10,
                            "solidity": 0.2
                          }
                        },
                        "type": "barpolar"
                      }
                    ],
                    "carpet": [
                      {
                        "aaxis": {
                          "endlinecolor": "#2a3f5f",
                          "gridcolor": "white",
                          "linecolor": "white",
                          "minorgridcolor": "white",
                          "startlinecolor": "#2a3f5f"
                        },
                        "baxis": {
                          "endlinecolor": "#2a3f5f",
                          "gridcolor": "white",
                          "linecolor": "white",
                          "minorgridcolor": "white",
                          "startlinecolor": "#2a3f5f"
                        },
                        "type": "carpet"
                      }
                    ],
                    "choropleth": [
                      {
                        "colorbar": {
                          "outlinewidth": 0,
                          "ticks": ""
                        },
                        "type": "choropleth"
                      }
                    ],
                    "contour": [
                      {
                        "colorbar": {
                          "outlinewidth": 0,
                          "ticks": ""
                        },
                        "colorscale": [
                          [
                            0,
                            "#0d0887"
                          ],
                          [
                            0.1111111111111111,
                            "#46039f"
                          ],
                          [
                            0.2222222222222222,
                            "#7201a8"
                          ],
                          [
                            0.3333333333333333,
                            "#9c179e"
                          ],
                          [
                            0.4444444444444444,
                            "#bd3786"
                          ],
                          [
                            0.5555555555555556,
                            "#d8576b"
                          ],
                          [
                            0.6666666666666666,
                            "#ed7953"
                          ],
                          [
                            0.7777777777777778,
                            "#fb9f3a"
                          ],
                          [
                            0.8888888888888888,
                            "#fdca26"
                          ],
                          [
                            1,
                            "#f0f921"
                          ]
                        ],
                        "type": "contour"
                      }
                    ],
                    "contourcarpet": [
                      {
                        "colorbar": {
                          "outlinewidth": 0,
                          "ticks": ""
                        },
                        "type": "contourcarpet"
                      }
                    ],
                    "heatmap": [
                      {
                        "colorbar": {
                          "outlinewidth": 0,
                          "ticks": ""
                        },
                        "colorscale": [
                          [
                            0,
                            "#0d0887"
                          ],
                          [
                            0.1111111111111111,
                            "#46039f"
                          ],
                          [
                            0.2222222222222222,
                            "#7201a8"
                          ],
                          [
                            0.3333333333333333,
                            "#9c179e"
                          ],
                          [
                            0.4444444444444444,
                            "#bd3786"
                          ],
                          [
                            0.5555555555555556,
                            "#d8576b"
                          ],
                          [
                            0.6666666666666666,
                            "#ed7953"
                          ],
                          [
                            0.7777777777777778,
                            "#fb9f3a"
                          ],
                          [
                            0.8888888888888888,
                            "#fdca26"
                          ],
                          [
                            1,
                            "#f0f921"
                          ]
                        ],
                        "type": "heatmap"
                      }
                    ],
                    "heatmapgl": [
                      {
                        "colorbar": {
                          "outlinewidth": 0,
                          "ticks": ""
                        },
                        "colorscale": [
                          [
                            0,
                            "#0d0887"
                          ],
                          [
                            0.1111111111111111,
                            "#46039f"
                          ],
                          [
                            0.2222222222222222,
                            "#7201a8"
                          ],
                          [
                            0.3333333333333333,
                            "#9c179e"
                          ],
                          [
                            0.4444444444444444,
                            "#bd3786"
                          ],
                          [
                            0.5555555555555556,
                            "#d8576b"
                          ],
                          [
                            0.6666666666666666,
                            "#ed7953"
                          ],
                          [
                            0.7777777777777778,
                            "#fb9f3a"
                          ],
                          [
                            0.8888888888888888,
                            "#fdca26"
                          ],
                          [
                            1,
                            "#f0f921"
                          ]
                        ],
                        "type": "heatmapgl"
                      }
                    ],
                    "histogram": [
                      {
                        "marker": {
                          "pattern": {
                            "fillmode": "overlay",
                            "size": 10,
                            "solidity": 0.2
                          }
                        },
                        "type": "histogram"
                      }
                    ],
                    "histogram2d": [
                      {
                        "colorbar": {
                          "outlinewidth": 0,
                          "ticks": ""
                        },
                        "colorscale": [
                          [
                            0,
                            "#0d0887"
                          ],
                          [
                            0.1111111111111111,
                            "#46039f"
                          ],
                          [
                            0.2222222222222222,
                            "#7201a8"
                          ],
                          [
                            0.3333333333333333,
                            "#9c179e"
                          ],
                          [
                            0.4444444444444444,
                            "#bd3786"
                          ],
                          [
                            0.5555555555555556,
                            "#d8576b"
                          ],
                          [
                            0.6666666666666666,
                            "#ed7953"
                          ],
                          [
                            0.7777777777777778,
                            "#fb9f3a"
                          ],
                          [
                            0.8888888888888888,
                            "#fdca26"
                          ],
                          [
                            1,
                            "#f0f921"
                          ]
                        ],
                        "type": "histogram2d"
                      }
                    ],
                    "histogram2dcontour": [
                      {
                        "colorbar": {
                          "outlinewidth": 0,
                          "ticks": ""
                        },
                        "colorscale": [
                          [
                            0,
                            "#0d0887"
                          ],
                          [
                            0.1111111111111111,
                            "#46039f"
                          ],
                          [
                            0.2222222222222222,
                            "#7201a8"
                          ],
                          [
                            0.3333333333333333,
                            "#9c179e"
                          ],
                          [
                            0.4444444444444444,
                            "#bd3786"
                          ],
                          [
                            0.5555555555555556,
                            "#d8576b"
                          ],
                          [
                            0.6666666666666666,
                            "#ed7953"
                          ],
                          [
                            0.7777777777777778,
                            "#fb9f3a"
                          ],
                          [
                            0.8888888888888888,
                            "#fdca26"
                          ],
                          [
                            1,
                            "#f0f921"
                          ]
                        ],
                        "type": "histogram2dcontour"
                      }
                    ],
                    "mesh3d": [
                      {
                        "colorbar": {
                          "outlinewidth": 0,
                          "ticks": ""
                        },
                        "type": "mesh3d"
                      }
                    ],
                    "parcoords": [
                      {
                        "line": {
                          "colorbar": {
                            "outlinewidth": 0,
                            "ticks": ""
                          }
                        },
                        "type": "parcoords"
                      }
                    ],
                    "pie": [
                      {
                        "automargin": true,
                        "type": "pie"
                      }
                    ],
                    "scatter": [
                      {
                        "fillpattern": {
                          "fillmode": "overlay",
                          "size": 10,
                          "solidity": 0.2
                        },
                        "type": "scatter"
                      }
                    ],
                    "scatter3d": [
                      {
                        "line": {
                          "colorbar": {
                            "outlinewidth": 0,
                            "ticks": ""
                          }
                        },
                        "marker": {
                          "colorbar": {
                            "outlinewidth": 0,
                            "ticks": ""
                          }
                        },
                        "type": "scatter3d"
                      }
                    ],
                    "scattercarpet": [
                      {
                        "marker": {
                          "colorbar": {
                            "outlinewidth": 0,
                            "ticks": ""
                          }
                        },
                        "type": "scattercarpet"
                      }
                    ],
                    "scattergeo": [
                      {
                        "marker": {
                          "colorbar": {
                            "outlinewidth": 0,
                            "ticks": ""
                          }
                        },
                        "type": "scattergeo"
                      }
                    ],
                    "scattergl": [
                      {
                        "marker": {
                          "colorbar": {
                            "outlinewidth": 0,
                            "ticks": ""
                          }
                        },
                        "type": "scattergl"
                      }
                    ],
                    "scattermapbox": [
                      {
                        "marker": {
                          "colorbar": {
                            "outlinewidth": 0,
                            "ticks": ""
                          }
                        },
                        "type": "scattermapbox"
                      }
                    ],
                    "scatterpolar": [
                      {
                        "marker": {
                          "colorbar": {
                            "outlinewidth": 0,
                            "ticks": ""
                          }
                        },
                        "type": "scatterpolar"
                      }
                    ],
                    "scatterpolargl": [
                      {
                        "marker": {
                          "colorbar": {
                            "outlinewidth": 0,
                            "ticks": ""
                          }
                        },
                        "type": "scatterpolargl"
                      }
                    ],
                    "scatterternary": [
                      {
                        "marker": {
                          "colorbar": {
                            "outlinewidth": 0,
                            "ticks": ""
                          }
                        },
                        "type": "scatterternary"
                      }
                    ],
                    "surface": [
                      {
                        "colorbar": {
                          "outlinewidth": 0,
                          "ticks": ""
                        },
                        "colorscale": [
                          [
                            0,
                            "#0d0887"
                          ],
                          [
                            0.1111111111111111,
                            "#46039f"
                          ],
                          [
                            0.2222222222222222,
                            "#7201a8"
                          ],
                          [
                            0.3333333333333333,
                            "#9c179e"
                          ],
                          [
                            0.4444444444444444,
                            "#bd3786"
                          ],
                          [
                            0.5555555555555556,
                            "#d8576b"
                          ],
                          [
                            0.6666666666666666,
                            "#ed7953"
                          ],
                          [
                            0.7777777777777778,
                            "#fb9f3a"
                          ],
                          [
                            0.8888888888888888,
                            "#fdca26"
                          ],
                          [
                            1,
                            "#f0f921"
                          ]
                        ],
                        "type": "surface"
                      }
                    ],
                    "table": [
                      {
                        "cells": {
                          "fill": {
                            "color": "#EBF0F8"
                          },
                          "line": {
                            "color": "white"
                          }
                        },
                        "header": {
                          "fill": {
                            "color": "#C8D4E3"
                          },
                          "line": {
                            "color": "white"
                          }
                        },
                        "type": "table"
                      }
                    ]
                  },
                  "layout": {
                    "annotationdefaults": {
                      "arrowcolor": "#2a3f5f",
                      "arrowhead": 0,
                      "arrowwidth": 1
                    },
                    "autotypenumbers": "strict",
                    "coloraxis": {
                      "colorbar": {
                        "outlinewidth": 0,
                        "ticks": ""
                      }
                    },
                    "colorscale": {
                      "diverging": [
                        [
                          0,
                          "#8e0152"
                        ],
                        [
                          0.1,
                          "#c51b7d"
                        ],
                        [
                          0.2,
                          "#de77ae"
                        ],
                        [
                          0.3,
                          "#f1b6da"
                        ],
                        [
                          0.4,
                          "#fde0ef"
                        ],
                        [
                          0.5,
                          "#f7f7f7"
                        ],
                        [
                          0.6,
                          "#e6f5d0"
                        ],
                        [
                          0.7,
                          "#b8e186"
                        ],
                        [
                          0.8,
                          "#7fbc41"
                        ],
                        [
                          0.9,
                          "#4d9221"
                        ],
                        [
                          1,
                          "#276419"
                        ]
                      ],
                      "sequential": [
                        [
                          0,
                          "#0d0887"
                        ],
                        [
                          0.1111111111111111,
                          "#46039f"
                        ],
                        [
                          0.2222222222222222,
                          "#7201a8"
                        ],
                        [
                          0.3333333333333333,
                          "#9c179e"
                        ],
                        [
                          0.4444444444444444,
                          "#bd3786"
                        ],
                        [
                          0.5555555555555556,
                          "#d8576b"
                        ],
                        [
                          0.6666666666666666,
                          "#ed7953"
                        ],
                        [
                          0.7777777777777778,
                          "#fb9f3a"
                        ],
                        [
                          0.8888888888888888,
                          "#fdca26"
                        ],
                        [
                          1,
                          "#f0f921"
                        ]
                      ],
                      "sequentialminus": [
                        [
                          0,
                          "#0d0887"
                        ],
                        [
                          0.1111111111111111,
                          "#46039f"
                        ],
                        [
                          0.2222222222222222,
                          "#7201a8"
                        ],
                        [
                          0.3333333333333333,
                          "#9c179e"
                        ],
                        [
                          0.4444444444444444,
                          "#bd3786"
                        ],
                        [
                          0.5555555555555556,
                          "#d8576b"
                        ],
                        [
                          0.6666666666666666,
                          "#ed7953"
                        ],
                        [
                          0.7777777777777778,
                          "#fb9f3a"
                        ],
                        [
                          0.8888888888888888,
                          "#fdca26"
                        ],
                        [
                          1,
                          "#f0f921"
                        ]
                      ]
                    },
                    "colorway": [
                      "#636efa",
                      "#EF553B",
                      "#00cc96",
                      "#ab63fa",
                      "#FFA15A",
                      "#19d3f3",
                      "#FF6692",
                      "#B6E880",
                      "#FF97FF",
                      "#FECB52"
                    ],
                    "font": {
                      "color": "#2a3f5f"
                    },
                    "geo": {
                      "bgcolor": "white",
                      "lakecolor": "white",
                      "landcolor": "#E5ECF6",
                      "showlakes": true,
                      "showland": true,
                      "subunitcolor": "white"
                    },
                    "hoverlabel": {
                      "align": "left"
                    },
                    "hovermode": "closest",
                    "mapbox": {
                      "style": "light"
                    },
                    "paper_bgcolor": "white",
                    "plot_bgcolor": "#E5ECF6",
                    "polar": {
                      "angularaxis": {
                        "gridcolor": "white",
                        "linecolor": "white",
                        "ticks": ""
                      },
                      "bgcolor": "#E5ECF6",
                      "radialaxis": {
                        "gridcolor": "white",
                        "linecolor": "white",
                        "ticks": ""
                      }
                    },
                    "scene": {
                      "xaxis": {
                        "backgroundcolor": "#E5ECF6",
                        "gridcolor": "white",
                        "gridwidth": 2,
                        "linecolor": "white",
                        "showbackground": true,
                        "ticks": "",
                        "zerolinecolor": "white"
                      },
                      "yaxis": {
                        "backgroundcolor": "#E5ECF6",
                        "gridcolor": "white",
                        "gridwidth": 2,
                        "linecolor": "white",
                        "showbackground": true,
                        "ticks": "",
                        "zerolinecolor": "white"
                      },
                      "zaxis": {
                        "backgroundcolor": "#E5ECF6",
                        "gridcolor": "white",
                        "gridwidth": 2,
                        "linecolor": "white",
                        "showbackground": true,
                        "ticks": "",
                        "zerolinecolor": "white"
                      }
                    },
                    "shapedefaults": {
                      "line": {
                        "color": "#2a3f5f"
                      }
                    },
                    "ternary": {
                      "aaxis": {
                        "gridcolor": "white",
                        "linecolor": "white",
                        "ticks": ""
                      },
                      "baxis": {
                        "gridcolor": "white",
                        "linecolor": "white",
                        "ticks": ""
                      },
                      "bgcolor": "#E5ECF6",
                      "caxis": {
                        "gridcolor": "white",
                        "linecolor": "white",
                        "ticks": ""
                      }
                    },
                    "title": {
                      "x": 0.05
                    },
                    "xaxis": {
                      "automargin": true,
                      "gridcolor": "white",
                      "linecolor": "white",
                      "ticks": "",
                      "title": {
                        "standoff": 15
                      },
                      "zerolinecolor": "white",
                      "zerolinewidth": 2
                    },
                    "yaxis": {
                      "automargin": true,
                      "gridcolor": "white",
                      "linecolor": "white",
                      "ticks": "",
                      "title": {
                        "standoff": 15
                      },
                      "zerolinecolor": "white",
                      "zerolinewidth": 2
                    }
                  }
                }
              }
            }
          },
          "metadata": {},
          "output_type": "display_data"
        },
        {
          "name": "stdout",
          "output_type": "stream",
          "text": [
            "Choropleth for community 3\n"
          ]
        },
        {
          "data": {
            "application/vnd.plotly.v1+json": {
              "config": {
                "plotlyServerURL": "https://plot.ly"
              },
              "data": [
                {
                  "coloraxis": "coloraxis",
                  "geo": "geo",
                  "hovertemplate": "Country=%{location}<br>Number of users=%{z}<extra></extra>",
                  "locationmode": "country names",
                  "locations": [
                    "United Kingdom",
                    "United States",
                    "Canada",
                    "South Africa",
                    "India",
                    "Australia",
                    "Brazil",
                    "France",
                    "Netherlands",
                    "Spain",
                    "Japan",
                    "Germany",
                    "Ireland",
                    "Italy",
                    "New Zealand",
                    "Sweden",
                    "Thailand",
                    "Mexico",
                    "Belgium",
                    "Nigeria",
                    "Poland",
                    "Argentina",
                    "Switzerland",
                    "Turkey",
                    "Portugal",
                    "Malaysia",
                    "Kenya",
                    "Philippines",
                    "Denmark",
                    "Indonesia",
                    "Finland",
                    "Colombia",
                    "China",
                    "Norway",
                    "Israel",
                    "Pakistan",
                    "Venezuela",
                    "Chile",
                    "United Arab Emirates",
                    "Austria",
                    "Greece",
                    "Zimbabwe",
                    "Ghana",
                    "Russia",
                    "Botswana",
                    "Singapore",
                    "Peru",
                    "Serbia",
                    "Paraguay",
                    "Bosnia and Herzegovina",
                    "Romania",
                    "Warsaw",
                    "Nepal",
                    "Bulgaria",
                    "Uganda",
                    "Costa Rica",
                    "Estonia",
                    "Saudi Arabia",
                    "South Korea",
                    "Taiwan",
                    "Latvia",
                    null,
                    "Zambia",
                    "Maldives",
                    "Cyprus",
                    "Namibia",
                    "Myanmar",
                    "Iran",
                    "Chad",
                    "Czechia",
                    "Ecuador",
                    "Dominican Republic",
                    "Ethiopia",
                    "El Salvador",
                    "Guatemala",
                    "Jersey",
                    "Ukraine",
                    "Egypt",
                    "Tunisia",
                    "Albania",
                    "Uruguay",
                    "Croatia",
                    "Jamaica",
                    "Mauritius",
                    "Fiji",
                    "Tanzania",
                    "Trinidad and Tobago",
                    "Panama",
                    "Hungary",
                    "Kazakhstan",
                    "Haiti",
                    "Lebanon",
                    "Morocco",
                    "Madagascar",
                    "Bangladesh",
                    "Rwanda",
                    "Andorra",
                    "Iceland",
                    "Liberia",
                    "Honduras",
                    "Mongolia",
                    "Isle of Man",
                    "Vietnam",
                    "Qatar",
                    "Sri Lanka",
                    "Bahrain",
                    "The Bahamas",
                    "Slovenia",
                    "Somalia",
                    "Malta",
                    "Slovakia",
                    "Kosovo",
                    "Prague",
                    "Cayman Islands",
                    "Luxembourg",
                    "Cuba",
                    "Cameroon",
                    "Kuwait",
                    "Guernsey",
                    "Lithuania",
                    "Afghanistan",
                    "Georgia",
                    "North Macedonia",
                    "Oman",
                    "Eswatini",
                    "Nicaragua",
                    "Senegal",
                    "Yemen",
                    "Belarus",
                    "Iraq",
                    "Moldova",
                    "Jordan",
                    "British Virgin Islands",
                    "Uzbekistan",
                    "Azerbaijan",
                    "Tajikistan",
                    "Barbados",
                    "Papua New Guinea",
                    "Democratic Republic of the Congo",
                    "Côte d'Ivoire",
                    "81-130",
                    "Syria",
                    "Greenland",
                    "Angola",
                    "Monaco",
                    "Cambodia",
                    "Burkina Faso",
                    "Libya",
                    "Seychelles",
                    "Algeria",
                    "Saint Vincent and the Grenadines",
                    "Gabon",
                    "Saint Lucia",
                    "Vatican City",
                    "Laos",
                    "South Sudan",
                    "Malawi",
                    "Equatorial Guinea",
                    "Ascension and Tristan da Cunha",
                    "Vanuatu",
                    "Palestinian Territory",
                    "British Indian Ocean Territory",
                    "Palau",
                    "Cook Islands",
                    "Bhutan",
                    "Turks and Caicos Islands",
                    "Sudan",
                    "Niger",
                    "Kyrgyzstan"
                  ],
                  "name": "",
                  "type": "choropleth",
                  "z": [
                    3254,
                    3200,
                    716,
                    501,
                    418,
                    330,
                    300,
                    283,
                    252,
                    224,
                    196,
                    180,
                    149,
                    90,
                    74,
                    73,
                    67,
                    67,
                    62,
                    55,
                    52,
                    52,
                    50,
                    50,
                    44,
                    43,
                    41,
                    40,
                    39,
                    36,
                    36,
                    35,
                    35,
                    35,
                    32,
                    29,
                    28,
                    27,
                    26,
                    24,
                    21,
                    20,
                    19,
                    17,
                    17,
                    17,
                    16,
                    15,
                    15,
                    14,
                    13,
                    13,
                    13,
                    13,
                    13,
                    12,
                    11,
                    10,
                    9,
                    9,
                    9,
                    9,
                    9,
                    9,
                    8,
                    8,
                    8,
                    8,
                    8,
                    8,
                    8,
                    7,
                    7,
                    7,
                    6,
                    6,
                    6,
                    6,
                    6,
                    6,
                    6,
                    6,
                    6,
                    6,
                    5,
                    5,
                    5,
                    5,
                    5,
                    5,
                    5,
                    5,
                    5,
                    4,
                    4,
                    4,
                    4,
                    4,
                    4,
                    4,
                    4,
                    4,
                    4,
                    4,
                    4,
                    4,
                    4,
                    4,
                    3,
                    3,
                    3,
                    3,
                    3,
                    3,
                    3,
                    3,
                    3,
                    3,
                    3,
                    3,
                    3,
                    2,
                    2,
                    2,
                    2,
                    2,
                    2,
                    2,
                    2,
                    2,
                    2,
                    2,
                    2,
                    2,
                    2,
                    2,
                    2,
                    2,
                    2,
                    2,
                    2,
                    2,
                    2,
                    2,
                    2,
                    1,
                    1,
                    1,
                    1,
                    1,
                    1,
                    1,
                    1,
                    1,
                    1,
                    1,
                    1,
                    1,
                    1,
                    1,
                    1,
                    1,
                    1,
                    1,
                    1,
                    1,
                    1,
                    1,
                    1
                  ]
                }
              ],
              "layout": {
                "coloraxis": {
                  "colorbar": {
                    "title": {
                      "text": "Number of users"
                    }
                  },
                  "colorscale": [
                    [
                      0,
                      "rgb(255,255,204)"
                    ],
                    [
                      0.125,
                      "rgb(255,237,160)"
                    ],
                    [
                      0.25,
                      "rgb(254,217,118)"
                    ],
                    [
                      0.375,
                      "rgb(254,178,76)"
                    ],
                    [
                      0.5,
                      "rgb(253,141,60)"
                    ],
                    [
                      0.625,
                      "rgb(252,78,42)"
                    ],
                    [
                      0.75,
                      "rgb(227,26,28)"
                    ],
                    [
                      0.875,
                      "rgb(189,0,38)"
                    ],
                    [
                      1,
                      "rgb(128,0,38)"
                    ]
                  ]
                },
                "geo": {
                  "center": {},
                  "domain": {
                    "x": [
                      0,
                      1
                    ],
                    "y": [
                      0,
                      1
                    ]
                  },
                  "scope": "world"
                },
                "legend": {
                  "tracegroupgap": 0
                },
                "margin": {
                  "t": 60
                },
                "template": {
                  "data": {
                    "bar": [
                      {
                        "error_x": {
                          "color": "#2a3f5f"
                        },
                        "error_y": {
                          "color": "#2a3f5f"
                        },
                        "marker": {
                          "line": {
                            "color": "#E5ECF6",
                            "width": 0.5
                          },
                          "pattern": {
                            "fillmode": "overlay",
                            "size": 10,
                            "solidity": 0.2
                          }
                        },
                        "type": "bar"
                      }
                    ],
                    "barpolar": [
                      {
                        "marker": {
                          "line": {
                            "color": "#E5ECF6",
                            "width": 0.5
                          },
                          "pattern": {
                            "fillmode": "overlay",
                            "size": 10,
                            "solidity": 0.2
                          }
                        },
                        "type": "barpolar"
                      }
                    ],
                    "carpet": [
                      {
                        "aaxis": {
                          "endlinecolor": "#2a3f5f",
                          "gridcolor": "white",
                          "linecolor": "white",
                          "minorgridcolor": "white",
                          "startlinecolor": "#2a3f5f"
                        },
                        "baxis": {
                          "endlinecolor": "#2a3f5f",
                          "gridcolor": "white",
                          "linecolor": "white",
                          "minorgridcolor": "white",
                          "startlinecolor": "#2a3f5f"
                        },
                        "type": "carpet"
                      }
                    ],
                    "choropleth": [
                      {
                        "colorbar": {
                          "outlinewidth": 0,
                          "ticks": ""
                        },
                        "type": "choropleth"
                      }
                    ],
                    "contour": [
                      {
                        "colorbar": {
                          "outlinewidth": 0,
                          "ticks": ""
                        },
                        "colorscale": [
                          [
                            0,
                            "#0d0887"
                          ],
                          [
                            0.1111111111111111,
                            "#46039f"
                          ],
                          [
                            0.2222222222222222,
                            "#7201a8"
                          ],
                          [
                            0.3333333333333333,
                            "#9c179e"
                          ],
                          [
                            0.4444444444444444,
                            "#bd3786"
                          ],
                          [
                            0.5555555555555556,
                            "#d8576b"
                          ],
                          [
                            0.6666666666666666,
                            "#ed7953"
                          ],
                          [
                            0.7777777777777778,
                            "#fb9f3a"
                          ],
                          [
                            0.8888888888888888,
                            "#fdca26"
                          ],
                          [
                            1,
                            "#f0f921"
                          ]
                        ],
                        "type": "contour"
                      }
                    ],
                    "contourcarpet": [
                      {
                        "colorbar": {
                          "outlinewidth": 0,
                          "ticks": ""
                        },
                        "type": "contourcarpet"
                      }
                    ],
                    "heatmap": [
                      {
                        "colorbar": {
                          "outlinewidth": 0,
                          "ticks": ""
                        },
                        "colorscale": [
                          [
                            0,
                            "#0d0887"
                          ],
                          [
                            0.1111111111111111,
                            "#46039f"
                          ],
                          [
                            0.2222222222222222,
                            "#7201a8"
                          ],
                          [
                            0.3333333333333333,
                            "#9c179e"
                          ],
                          [
                            0.4444444444444444,
                            "#bd3786"
                          ],
                          [
                            0.5555555555555556,
                            "#d8576b"
                          ],
                          [
                            0.6666666666666666,
                            "#ed7953"
                          ],
                          [
                            0.7777777777777778,
                            "#fb9f3a"
                          ],
                          [
                            0.8888888888888888,
                            "#fdca26"
                          ],
                          [
                            1,
                            "#f0f921"
                          ]
                        ],
                        "type": "heatmap"
                      }
                    ],
                    "heatmapgl": [
                      {
                        "colorbar": {
                          "outlinewidth": 0,
                          "ticks": ""
                        },
                        "colorscale": [
                          [
                            0,
                            "#0d0887"
                          ],
                          [
                            0.1111111111111111,
                            "#46039f"
                          ],
                          [
                            0.2222222222222222,
                            "#7201a8"
                          ],
                          [
                            0.3333333333333333,
                            "#9c179e"
                          ],
                          [
                            0.4444444444444444,
                            "#bd3786"
                          ],
                          [
                            0.5555555555555556,
                            "#d8576b"
                          ],
                          [
                            0.6666666666666666,
                            "#ed7953"
                          ],
                          [
                            0.7777777777777778,
                            "#fb9f3a"
                          ],
                          [
                            0.8888888888888888,
                            "#fdca26"
                          ],
                          [
                            1,
                            "#f0f921"
                          ]
                        ],
                        "type": "heatmapgl"
                      }
                    ],
                    "histogram": [
                      {
                        "marker": {
                          "pattern": {
                            "fillmode": "overlay",
                            "size": 10,
                            "solidity": 0.2
                          }
                        },
                        "type": "histogram"
                      }
                    ],
                    "histogram2d": [
                      {
                        "colorbar": {
                          "outlinewidth": 0,
                          "ticks": ""
                        },
                        "colorscale": [
                          [
                            0,
                            "#0d0887"
                          ],
                          [
                            0.1111111111111111,
                            "#46039f"
                          ],
                          [
                            0.2222222222222222,
                            "#7201a8"
                          ],
                          [
                            0.3333333333333333,
                            "#9c179e"
                          ],
                          [
                            0.4444444444444444,
                            "#bd3786"
                          ],
                          [
                            0.5555555555555556,
                            "#d8576b"
                          ],
                          [
                            0.6666666666666666,
                            "#ed7953"
                          ],
                          [
                            0.7777777777777778,
                            "#fb9f3a"
                          ],
                          [
                            0.8888888888888888,
                            "#fdca26"
                          ],
                          [
                            1,
                            "#f0f921"
                          ]
                        ],
                        "type": "histogram2d"
                      }
                    ],
                    "histogram2dcontour": [
                      {
                        "colorbar": {
                          "outlinewidth": 0,
                          "ticks": ""
                        },
                        "colorscale": [
                          [
                            0,
                            "#0d0887"
                          ],
                          [
                            0.1111111111111111,
                            "#46039f"
                          ],
                          [
                            0.2222222222222222,
                            "#7201a8"
                          ],
                          [
                            0.3333333333333333,
                            "#9c179e"
                          ],
                          [
                            0.4444444444444444,
                            "#bd3786"
                          ],
                          [
                            0.5555555555555556,
                            "#d8576b"
                          ],
                          [
                            0.6666666666666666,
                            "#ed7953"
                          ],
                          [
                            0.7777777777777778,
                            "#fb9f3a"
                          ],
                          [
                            0.8888888888888888,
                            "#fdca26"
                          ],
                          [
                            1,
                            "#f0f921"
                          ]
                        ],
                        "type": "histogram2dcontour"
                      }
                    ],
                    "mesh3d": [
                      {
                        "colorbar": {
                          "outlinewidth": 0,
                          "ticks": ""
                        },
                        "type": "mesh3d"
                      }
                    ],
                    "parcoords": [
                      {
                        "line": {
                          "colorbar": {
                            "outlinewidth": 0,
                            "ticks": ""
                          }
                        },
                        "type": "parcoords"
                      }
                    ],
                    "pie": [
                      {
                        "automargin": true,
                        "type": "pie"
                      }
                    ],
                    "scatter": [
                      {
                        "fillpattern": {
                          "fillmode": "overlay",
                          "size": 10,
                          "solidity": 0.2
                        },
                        "type": "scatter"
                      }
                    ],
                    "scatter3d": [
                      {
                        "line": {
                          "colorbar": {
                            "outlinewidth": 0,
                            "ticks": ""
                          }
                        },
                        "marker": {
                          "colorbar": {
                            "outlinewidth": 0,
                            "ticks": ""
                          }
                        },
                        "type": "scatter3d"
                      }
                    ],
                    "scattercarpet": [
                      {
                        "marker": {
                          "colorbar": {
                            "outlinewidth": 0,
                            "ticks": ""
                          }
                        },
                        "type": "scattercarpet"
                      }
                    ],
                    "scattergeo": [
                      {
                        "marker": {
                          "colorbar": {
                            "outlinewidth": 0,
                            "ticks": ""
                          }
                        },
                        "type": "scattergeo"
                      }
                    ],
                    "scattergl": [
                      {
                        "marker": {
                          "colorbar": {
                            "outlinewidth": 0,
                            "ticks": ""
                          }
                        },
                        "type": "scattergl"
                      }
                    ],
                    "scattermapbox": [
                      {
                        "marker": {
                          "colorbar": {
                            "outlinewidth": 0,
                            "ticks": ""
                          }
                        },
                        "type": "scattermapbox"
                      }
                    ],
                    "scatterpolar": [
                      {
                        "marker": {
                          "colorbar": {
                            "outlinewidth": 0,
                            "ticks": ""
                          }
                        },
                        "type": "scatterpolar"
                      }
                    ],
                    "scatterpolargl": [
                      {
                        "marker": {
                          "colorbar": {
                            "outlinewidth": 0,
                            "ticks": ""
                          }
                        },
                        "type": "scatterpolargl"
                      }
                    ],
                    "scatterternary": [
                      {
                        "marker": {
                          "colorbar": {
                            "outlinewidth": 0,
                            "ticks": ""
                          }
                        },
                        "type": "scatterternary"
                      }
                    ],
                    "surface": [
                      {
                        "colorbar": {
                          "outlinewidth": 0,
                          "ticks": ""
                        },
                        "colorscale": [
                          [
                            0,
                            "#0d0887"
                          ],
                          [
                            0.1111111111111111,
                            "#46039f"
                          ],
                          [
                            0.2222222222222222,
                            "#7201a8"
                          ],
                          [
                            0.3333333333333333,
                            "#9c179e"
                          ],
                          [
                            0.4444444444444444,
                            "#bd3786"
                          ],
                          [
                            0.5555555555555556,
                            "#d8576b"
                          ],
                          [
                            0.6666666666666666,
                            "#ed7953"
                          ],
                          [
                            0.7777777777777778,
                            "#fb9f3a"
                          ],
                          [
                            0.8888888888888888,
                            "#fdca26"
                          ],
                          [
                            1,
                            "#f0f921"
                          ]
                        ],
                        "type": "surface"
                      }
                    ],
                    "table": [
                      {
                        "cells": {
                          "fill": {
                            "color": "#EBF0F8"
                          },
                          "line": {
                            "color": "white"
                          }
                        },
                        "header": {
                          "fill": {
                            "color": "#C8D4E3"
                          },
                          "line": {
                            "color": "white"
                          }
                        },
                        "type": "table"
                      }
                    ]
                  },
                  "layout": {
                    "annotationdefaults": {
                      "arrowcolor": "#2a3f5f",
                      "arrowhead": 0,
                      "arrowwidth": 1
                    },
                    "autotypenumbers": "strict",
                    "coloraxis": {
                      "colorbar": {
                        "outlinewidth": 0,
                        "ticks": ""
                      }
                    },
                    "colorscale": {
                      "diverging": [
                        [
                          0,
                          "#8e0152"
                        ],
                        [
                          0.1,
                          "#c51b7d"
                        ],
                        [
                          0.2,
                          "#de77ae"
                        ],
                        [
                          0.3,
                          "#f1b6da"
                        ],
                        [
                          0.4,
                          "#fde0ef"
                        ],
                        [
                          0.5,
                          "#f7f7f7"
                        ],
                        [
                          0.6,
                          "#e6f5d0"
                        ],
                        [
                          0.7,
                          "#b8e186"
                        ],
                        [
                          0.8,
                          "#7fbc41"
                        ],
                        [
                          0.9,
                          "#4d9221"
                        ],
                        [
                          1,
                          "#276419"
                        ]
                      ],
                      "sequential": [
                        [
                          0,
                          "#0d0887"
                        ],
                        [
                          0.1111111111111111,
                          "#46039f"
                        ],
                        [
                          0.2222222222222222,
                          "#7201a8"
                        ],
                        [
                          0.3333333333333333,
                          "#9c179e"
                        ],
                        [
                          0.4444444444444444,
                          "#bd3786"
                        ],
                        [
                          0.5555555555555556,
                          "#d8576b"
                        ],
                        [
                          0.6666666666666666,
                          "#ed7953"
                        ],
                        [
                          0.7777777777777778,
                          "#fb9f3a"
                        ],
                        [
                          0.8888888888888888,
                          "#fdca26"
                        ],
                        [
                          1,
                          "#f0f921"
                        ]
                      ],
                      "sequentialminus": [
                        [
                          0,
                          "#0d0887"
                        ],
                        [
                          0.1111111111111111,
                          "#46039f"
                        ],
                        [
                          0.2222222222222222,
                          "#7201a8"
                        ],
                        [
                          0.3333333333333333,
                          "#9c179e"
                        ],
                        [
                          0.4444444444444444,
                          "#bd3786"
                        ],
                        [
                          0.5555555555555556,
                          "#d8576b"
                        ],
                        [
                          0.6666666666666666,
                          "#ed7953"
                        ],
                        [
                          0.7777777777777778,
                          "#fb9f3a"
                        ],
                        [
                          0.8888888888888888,
                          "#fdca26"
                        ],
                        [
                          1,
                          "#f0f921"
                        ]
                      ]
                    },
                    "colorway": [
                      "#636efa",
                      "#EF553B",
                      "#00cc96",
                      "#ab63fa",
                      "#FFA15A",
                      "#19d3f3",
                      "#FF6692",
                      "#B6E880",
                      "#FF97FF",
                      "#FECB52"
                    ],
                    "font": {
                      "color": "#2a3f5f"
                    },
                    "geo": {
                      "bgcolor": "white",
                      "lakecolor": "white",
                      "landcolor": "#E5ECF6",
                      "showlakes": true,
                      "showland": true,
                      "subunitcolor": "white"
                    },
                    "hoverlabel": {
                      "align": "left"
                    },
                    "hovermode": "closest",
                    "mapbox": {
                      "style": "light"
                    },
                    "paper_bgcolor": "white",
                    "plot_bgcolor": "#E5ECF6",
                    "polar": {
                      "angularaxis": {
                        "gridcolor": "white",
                        "linecolor": "white",
                        "ticks": ""
                      },
                      "bgcolor": "#E5ECF6",
                      "radialaxis": {
                        "gridcolor": "white",
                        "linecolor": "white",
                        "ticks": ""
                      }
                    },
                    "scene": {
                      "xaxis": {
                        "backgroundcolor": "#E5ECF6",
                        "gridcolor": "white",
                        "gridwidth": 2,
                        "linecolor": "white",
                        "showbackground": true,
                        "ticks": "",
                        "zerolinecolor": "white"
                      },
                      "yaxis": {
                        "backgroundcolor": "#E5ECF6",
                        "gridcolor": "white",
                        "gridwidth": 2,
                        "linecolor": "white",
                        "showbackground": true,
                        "ticks": "",
                        "zerolinecolor": "white"
                      },
                      "zaxis": {
                        "backgroundcolor": "#E5ECF6",
                        "gridcolor": "white",
                        "gridwidth": 2,
                        "linecolor": "white",
                        "showbackground": true,
                        "ticks": "",
                        "zerolinecolor": "white"
                      }
                    },
                    "shapedefaults": {
                      "line": {
                        "color": "#2a3f5f"
                      }
                    },
                    "ternary": {
                      "aaxis": {
                        "gridcolor": "white",
                        "linecolor": "white",
                        "ticks": ""
                      },
                      "baxis": {
                        "gridcolor": "white",
                        "linecolor": "white",
                        "ticks": ""
                      },
                      "bgcolor": "#E5ECF6",
                      "caxis": {
                        "gridcolor": "white",
                        "linecolor": "white",
                        "ticks": ""
                      }
                    },
                    "title": {
                      "x": 0.05
                    },
                    "xaxis": {
                      "automargin": true,
                      "gridcolor": "white",
                      "linecolor": "white",
                      "ticks": "",
                      "title": {
                        "standoff": 15
                      },
                      "zerolinecolor": "white",
                      "zerolinewidth": 2
                    },
                    "yaxis": {
                      "automargin": true,
                      "gridcolor": "white",
                      "linecolor": "white",
                      "ticks": "",
                      "title": {
                        "standoff": 15
                      },
                      "zerolinecolor": "white",
                      "zerolinewidth": 2
                    }
                  }
                }
              }
            }
          },
          "metadata": {},
          "output_type": "display_data"
        },
        {
          "name": "stdout",
          "output_type": "stream",
          "text": [
            "Choropleth for community 4\n"
          ]
        },
        {
          "data": {
            "application/vnd.plotly.v1+json": {
              "config": {
                "plotlyServerURL": "https://plot.ly"
              },
              "data": [
                {
                  "coloraxis": "coloraxis",
                  "geo": "geo",
                  "hovertemplate": "Country=%{location}<br>Number of users=%{z}<extra></extra>",
                  "locationmode": "country names",
                  "locations": [
                    "United Kingdom",
                    "United States",
                    "Canada",
                    "Ireland",
                    "Australia",
                    "South Africa",
                    "New Zealand",
                    "Germany",
                    "France",
                    "Netherlands",
                    "Spain",
                    "India",
                    "Thailand",
                    "Italy",
                    "Brazil",
                    "Switzerland",
                    "Portugal",
                    "Denmark",
                    "Greece",
                    "Japan",
                    "Poland",
                    "Belgium",
                    "Sweden",
                    "Israel",
                    "Bosnia and Herzegovina",
                    "China",
                    "Finland",
                    "Mexico",
                    "Argentina",
                    "Botswana",
                    "Zimbabwe",
                    "Kenya",
                    "Cyprus",
                    "Austria",
                    "Romania",
                    "Pakistan",
                    "Nigeria",
                    "Philippines",
                    "Norway",
                    "Uganda",
                    "Chile",
                    "Malaysia",
                    "Bulgaria",
                    "Colombia",
                    "Turkey",
                    "Indonesia",
                    "Russia",
                    "South Korea",
                    "Vietnam",
                    "Cameroon",
                    "Peru",
                    "United Arab Emirates",
                    "Iceland",
                    null,
                    "Isle of Man",
                    "Ghana",
                    "Estonia",
                    "Jersey",
                    "Saudi Arabia",
                    "Iraq",
                    "Venezuela",
                    "Albania",
                    "Armenia",
                    "Haiti",
                    "Dominican Republic",
                    "Prague",
                    "Serbia",
                    "Costa Rica",
                    "Iran",
                    "Singapore",
                    "Nepal",
                    "Paraguay",
                    "El Salvador",
                    "Panama",
                    "Liberia",
                    "Somalia",
                    "Trinidad and Tobago",
                    "Egypt",
                    "Maldives",
                    "Latvia",
                    "Warsaw",
                    "Belarus",
                    "Laos",
                    "Ethiopia",
                    "Fiji",
                    "Qatar",
                    "Hungary",
                    "Ecuador",
                    "Malta",
                    "Taiwan",
                    "Luxembourg",
                    "Tajikistan",
                    "Croatia",
                    "Azerbaijan",
                    "Czechia",
                    "Ukraine",
                    "Lithuania",
                    "Seychelles",
                    "Tanzania",
                    "Togo",
                    "Chad",
                    "The Bahamas",
                    "Namibia",
                    "Bhutan",
                    "Jamaica",
                    "Palestinian Territory",
                    "Bangladesh",
                    "Barbados",
                    "Falkland Islands",
                    "Slovakia",
                    "Marshall Islands",
                    "North Macedonia",
                    "Moldova",
                    "Cambodia",
                    "Algeria",
                    "Cayman Islands",
                    "British Virgin Islands",
                    "Sudan",
                    "Georgia",
                    "Syria",
                    "South Georgia and the South Sandwich Islands",
                    "Bermuda",
                    "Burkina Faso",
                    "Afghanistan",
                    "Angola",
                    "Mali",
                    "Gibraltar",
                    "Gulf of Thailand",
                    "Tunisia",
                    "Rwanda",
                    "Papua New Guinea",
                    "Vanuatu",
                    "Greenland",
                    "Kazakhstan",
                    "Honduras",
                    "Slovenia",
                    "North Korea",
                    "Myanmar"
                  ],
                  "name": "",
                  "type": "choropleth",
                  "z": [
                    6863,
                    1269,
                    260,
                    256,
                    227,
                    107,
                    103,
                    96,
                    85,
                    82,
                    78,
                    67,
                    60,
                    45,
                    30,
                    28,
                    27,
                    27,
                    26,
                    25,
                    21,
                    20,
                    19,
                    18,
                    16,
                    16,
                    16,
                    15,
                    15,
                    14,
                    14,
                    13,
                    12,
                    12,
                    12,
                    12,
                    11,
                    11,
                    11,
                    11,
                    10,
                    10,
                    9,
                    9,
                    9,
                    8,
                    7,
                    7,
                    7,
                    6,
                    6,
                    6,
                    6,
                    5,
                    5,
                    5,
                    5,
                    4,
                    4,
                    4,
                    4,
                    4,
                    4,
                    4,
                    4,
                    4,
                    4,
                    3,
                    3,
                    3,
                    3,
                    3,
                    3,
                    3,
                    3,
                    3,
                    2,
                    2,
                    2,
                    2,
                    2,
                    2,
                    2,
                    2,
                    2,
                    2,
                    2,
                    2,
                    2,
                    2,
                    2,
                    2,
                    2,
                    2,
                    2,
                    2,
                    1,
                    1,
                    1,
                    1,
                    1,
                    1,
                    1,
                    1,
                    1,
                    1,
                    1,
                    1,
                    1,
                    1,
                    1,
                    1,
                    1,
                    1,
                    1,
                    1,
                    1,
                    1,
                    1,
                    1,
                    1,
                    1,
                    1,
                    1,
                    1,
                    1,
                    1,
                    1,
                    1,
                    1,
                    1,
                    1,
                    1,
                    1,
                    1,
                    1,
                    1,
                    1
                  ]
                }
              ],
              "layout": {
                "coloraxis": {
                  "colorbar": {
                    "title": {
                      "text": "Number of users"
                    }
                  },
                  "colorscale": [
                    [
                      0,
                      "rgb(255,255,204)"
                    ],
                    [
                      0.125,
                      "rgb(255,237,160)"
                    ],
                    [
                      0.25,
                      "rgb(254,217,118)"
                    ],
                    [
                      0.375,
                      "rgb(254,178,76)"
                    ],
                    [
                      0.5,
                      "rgb(253,141,60)"
                    ],
                    [
                      0.625,
                      "rgb(252,78,42)"
                    ],
                    [
                      0.75,
                      "rgb(227,26,28)"
                    ],
                    [
                      0.875,
                      "rgb(189,0,38)"
                    ],
                    [
                      1,
                      "rgb(128,0,38)"
                    ]
                  ]
                },
                "geo": {
                  "center": {},
                  "domain": {
                    "x": [
                      0,
                      1
                    ],
                    "y": [
                      0,
                      1
                    ]
                  },
                  "scope": "world"
                },
                "legend": {
                  "tracegroupgap": 0
                },
                "margin": {
                  "t": 60
                },
                "template": {
                  "data": {
                    "bar": [
                      {
                        "error_x": {
                          "color": "#2a3f5f"
                        },
                        "error_y": {
                          "color": "#2a3f5f"
                        },
                        "marker": {
                          "line": {
                            "color": "#E5ECF6",
                            "width": 0.5
                          },
                          "pattern": {
                            "fillmode": "overlay",
                            "size": 10,
                            "solidity": 0.2
                          }
                        },
                        "type": "bar"
                      }
                    ],
                    "barpolar": [
                      {
                        "marker": {
                          "line": {
                            "color": "#E5ECF6",
                            "width": 0.5
                          },
                          "pattern": {
                            "fillmode": "overlay",
                            "size": 10,
                            "solidity": 0.2
                          }
                        },
                        "type": "barpolar"
                      }
                    ],
                    "carpet": [
                      {
                        "aaxis": {
                          "endlinecolor": "#2a3f5f",
                          "gridcolor": "white",
                          "linecolor": "white",
                          "minorgridcolor": "white",
                          "startlinecolor": "#2a3f5f"
                        },
                        "baxis": {
                          "endlinecolor": "#2a3f5f",
                          "gridcolor": "white",
                          "linecolor": "white",
                          "minorgridcolor": "white",
                          "startlinecolor": "#2a3f5f"
                        },
                        "type": "carpet"
                      }
                    ],
                    "choropleth": [
                      {
                        "colorbar": {
                          "outlinewidth": 0,
                          "ticks": ""
                        },
                        "type": "choropleth"
                      }
                    ],
                    "contour": [
                      {
                        "colorbar": {
                          "outlinewidth": 0,
                          "ticks": ""
                        },
                        "colorscale": [
                          [
                            0,
                            "#0d0887"
                          ],
                          [
                            0.1111111111111111,
                            "#46039f"
                          ],
                          [
                            0.2222222222222222,
                            "#7201a8"
                          ],
                          [
                            0.3333333333333333,
                            "#9c179e"
                          ],
                          [
                            0.4444444444444444,
                            "#bd3786"
                          ],
                          [
                            0.5555555555555556,
                            "#d8576b"
                          ],
                          [
                            0.6666666666666666,
                            "#ed7953"
                          ],
                          [
                            0.7777777777777778,
                            "#fb9f3a"
                          ],
                          [
                            0.8888888888888888,
                            "#fdca26"
                          ],
                          [
                            1,
                            "#f0f921"
                          ]
                        ],
                        "type": "contour"
                      }
                    ],
                    "contourcarpet": [
                      {
                        "colorbar": {
                          "outlinewidth": 0,
                          "ticks": ""
                        },
                        "type": "contourcarpet"
                      }
                    ],
                    "heatmap": [
                      {
                        "colorbar": {
                          "outlinewidth": 0,
                          "ticks": ""
                        },
                        "colorscale": [
                          [
                            0,
                            "#0d0887"
                          ],
                          [
                            0.1111111111111111,
                            "#46039f"
                          ],
                          [
                            0.2222222222222222,
                            "#7201a8"
                          ],
                          [
                            0.3333333333333333,
                            "#9c179e"
                          ],
                          [
                            0.4444444444444444,
                            "#bd3786"
                          ],
                          [
                            0.5555555555555556,
                            "#d8576b"
                          ],
                          [
                            0.6666666666666666,
                            "#ed7953"
                          ],
                          [
                            0.7777777777777778,
                            "#fb9f3a"
                          ],
                          [
                            0.8888888888888888,
                            "#fdca26"
                          ],
                          [
                            1,
                            "#f0f921"
                          ]
                        ],
                        "type": "heatmap"
                      }
                    ],
                    "heatmapgl": [
                      {
                        "colorbar": {
                          "outlinewidth": 0,
                          "ticks": ""
                        },
                        "colorscale": [
                          [
                            0,
                            "#0d0887"
                          ],
                          [
                            0.1111111111111111,
                            "#46039f"
                          ],
                          [
                            0.2222222222222222,
                            "#7201a8"
                          ],
                          [
                            0.3333333333333333,
                            "#9c179e"
                          ],
                          [
                            0.4444444444444444,
                            "#bd3786"
                          ],
                          [
                            0.5555555555555556,
                            "#d8576b"
                          ],
                          [
                            0.6666666666666666,
                            "#ed7953"
                          ],
                          [
                            0.7777777777777778,
                            "#fb9f3a"
                          ],
                          [
                            0.8888888888888888,
                            "#fdca26"
                          ],
                          [
                            1,
                            "#f0f921"
                          ]
                        ],
                        "type": "heatmapgl"
                      }
                    ],
                    "histogram": [
                      {
                        "marker": {
                          "pattern": {
                            "fillmode": "overlay",
                            "size": 10,
                            "solidity": 0.2
                          }
                        },
                        "type": "histogram"
                      }
                    ],
                    "histogram2d": [
                      {
                        "colorbar": {
                          "outlinewidth": 0,
                          "ticks": ""
                        },
                        "colorscale": [
                          [
                            0,
                            "#0d0887"
                          ],
                          [
                            0.1111111111111111,
                            "#46039f"
                          ],
                          [
                            0.2222222222222222,
                            "#7201a8"
                          ],
                          [
                            0.3333333333333333,
                            "#9c179e"
                          ],
                          [
                            0.4444444444444444,
                            "#bd3786"
                          ],
                          [
                            0.5555555555555556,
                            "#d8576b"
                          ],
                          [
                            0.6666666666666666,
                            "#ed7953"
                          ],
                          [
                            0.7777777777777778,
                            "#fb9f3a"
                          ],
                          [
                            0.8888888888888888,
                            "#fdca26"
                          ],
                          [
                            1,
                            "#f0f921"
                          ]
                        ],
                        "type": "histogram2d"
                      }
                    ],
                    "histogram2dcontour": [
                      {
                        "colorbar": {
                          "outlinewidth": 0,
                          "ticks": ""
                        },
                        "colorscale": [
                          [
                            0,
                            "#0d0887"
                          ],
                          [
                            0.1111111111111111,
                            "#46039f"
                          ],
                          [
                            0.2222222222222222,
                            "#7201a8"
                          ],
                          [
                            0.3333333333333333,
                            "#9c179e"
                          ],
                          [
                            0.4444444444444444,
                            "#bd3786"
                          ],
                          [
                            0.5555555555555556,
                            "#d8576b"
                          ],
                          [
                            0.6666666666666666,
                            "#ed7953"
                          ],
                          [
                            0.7777777777777778,
                            "#fb9f3a"
                          ],
                          [
                            0.8888888888888888,
                            "#fdca26"
                          ],
                          [
                            1,
                            "#f0f921"
                          ]
                        ],
                        "type": "histogram2dcontour"
                      }
                    ],
                    "mesh3d": [
                      {
                        "colorbar": {
                          "outlinewidth": 0,
                          "ticks": ""
                        },
                        "type": "mesh3d"
                      }
                    ],
                    "parcoords": [
                      {
                        "line": {
                          "colorbar": {
                            "outlinewidth": 0,
                            "ticks": ""
                          }
                        },
                        "type": "parcoords"
                      }
                    ],
                    "pie": [
                      {
                        "automargin": true,
                        "type": "pie"
                      }
                    ],
                    "scatter": [
                      {
                        "fillpattern": {
                          "fillmode": "overlay",
                          "size": 10,
                          "solidity": 0.2
                        },
                        "type": "scatter"
                      }
                    ],
                    "scatter3d": [
                      {
                        "line": {
                          "colorbar": {
                            "outlinewidth": 0,
                            "ticks": ""
                          }
                        },
                        "marker": {
                          "colorbar": {
                            "outlinewidth": 0,
                            "ticks": ""
                          }
                        },
                        "type": "scatter3d"
                      }
                    ],
                    "scattercarpet": [
                      {
                        "marker": {
                          "colorbar": {
                            "outlinewidth": 0,
                            "ticks": ""
                          }
                        },
                        "type": "scattercarpet"
                      }
                    ],
                    "scattergeo": [
                      {
                        "marker": {
                          "colorbar": {
                            "outlinewidth": 0,
                            "ticks": ""
                          }
                        },
                        "type": "scattergeo"
                      }
                    ],
                    "scattergl": [
                      {
                        "marker": {
                          "colorbar": {
                            "outlinewidth": 0,
                            "ticks": ""
                          }
                        },
                        "type": "scattergl"
                      }
                    ],
                    "scattermapbox": [
                      {
                        "marker": {
                          "colorbar": {
                            "outlinewidth": 0,
                            "ticks": ""
                          }
                        },
                        "type": "scattermapbox"
                      }
                    ],
                    "scatterpolar": [
                      {
                        "marker": {
                          "colorbar": {
                            "outlinewidth": 0,
                            "ticks": ""
                          }
                        },
                        "type": "scatterpolar"
                      }
                    ],
                    "scatterpolargl": [
                      {
                        "marker": {
                          "colorbar": {
                            "outlinewidth": 0,
                            "ticks": ""
                          }
                        },
                        "type": "scatterpolargl"
                      }
                    ],
                    "scatterternary": [
                      {
                        "marker": {
                          "colorbar": {
                            "outlinewidth": 0,
                            "ticks": ""
                          }
                        },
                        "type": "scatterternary"
                      }
                    ],
                    "surface": [
                      {
                        "colorbar": {
                          "outlinewidth": 0,
                          "ticks": ""
                        },
                        "colorscale": [
                          [
                            0,
                            "#0d0887"
                          ],
                          [
                            0.1111111111111111,
                            "#46039f"
                          ],
                          [
                            0.2222222222222222,
                            "#7201a8"
                          ],
                          [
                            0.3333333333333333,
                            "#9c179e"
                          ],
                          [
                            0.4444444444444444,
                            "#bd3786"
                          ],
                          [
                            0.5555555555555556,
                            "#d8576b"
                          ],
                          [
                            0.6666666666666666,
                            "#ed7953"
                          ],
                          [
                            0.7777777777777778,
                            "#fb9f3a"
                          ],
                          [
                            0.8888888888888888,
                            "#fdca26"
                          ],
                          [
                            1,
                            "#f0f921"
                          ]
                        ],
                        "type": "surface"
                      }
                    ],
                    "table": [
                      {
                        "cells": {
                          "fill": {
                            "color": "#EBF0F8"
                          },
                          "line": {
                            "color": "white"
                          }
                        },
                        "header": {
                          "fill": {
                            "color": "#C8D4E3"
                          },
                          "line": {
                            "color": "white"
                          }
                        },
                        "type": "table"
                      }
                    ]
                  },
                  "layout": {
                    "annotationdefaults": {
                      "arrowcolor": "#2a3f5f",
                      "arrowhead": 0,
                      "arrowwidth": 1
                    },
                    "autotypenumbers": "strict",
                    "coloraxis": {
                      "colorbar": {
                        "outlinewidth": 0,
                        "ticks": ""
                      }
                    },
                    "colorscale": {
                      "diverging": [
                        [
                          0,
                          "#8e0152"
                        ],
                        [
                          0.1,
                          "#c51b7d"
                        ],
                        [
                          0.2,
                          "#de77ae"
                        ],
                        [
                          0.3,
                          "#f1b6da"
                        ],
                        [
                          0.4,
                          "#fde0ef"
                        ],
                        [
                          0.5,
                          "#f7f7f7"
                        ],
                        [
                          0.6,
                          "#e6f5d0"
                        ],
                        [
                          0.7,
                          "#b8e186"
                        ],
                        [
                          0.8,
                          "#7fbc41"
                        ],
                        [
                          0.9,
                          "#4d9221"
                        ],
                        [
                          1,
                          "#276419"
                        ]
                      ],
                      "sequential": [
                        [
                          0,
                          "#0d0887"
                        ],
                        [
                          0.1111111111111111,
                          "#46039f"
                        ],
                        [
                          0.2222222222222222,
                          "#7201a8"
                        ],
                        [
                          0.3333333333333333,
                          "#9c179e"
                        ],
                        [
                          0.4444444444444444,
                          "#bd3786"
                        ],
                        [
                          0.5555555555555556,
                          "#d8576b"
                        ],
                        [
                          0.6666666666666666,
                          "#ed7953"
                        ],
                        [
                          0.7777777777777778,
                          "#fb9f3a"
                        ],
                        [
                          0.8888888888888888,
                          "#fdca26"
                        ],
                        [
                          1,
                          "#f0f921"
                        ]
                      ],
                      "sequentialminus": [
                        [
                          0,
                          "#0d0887"
                        ],
                        [
                          0.1111111111111111,
                          "#46039f"
                        ],
                        [
                          0.2222222222222222,
                          "#7201a8"
                        ],
                        [
                          0.3333333333333333,
                          "#9c179e"
                        ],
                        [
                          0.4444444444444444,
                          "#bd3786"
                        ],
                        [
                          0.5555555555555556,
                          "#d8576b"
                        ],
                        [
                          0.6666666666666666,
                          "#ed7953"
                        ],
                        [
                          0.7777777777777778,
                          "#fb9f3a"
                        ],
                        [
                          0.8888888888888888,
                          "#fdca26"
                        ],
                        [
                          1,
                          "#f0f921"
                        ]
                      ]
                    },
                    "colorway": [
                      "#636efa",
                      "#EF553B",
                      "#00cc96",
                      "#ab63fa",
                      "#FFA15A",
                      "#19d3f3",
                      "#FF6692",
                      "#B6E880",
                      "#FF97FF",
                      "#FECB52"
                    ],
                    "font": {
                      "color": "#2a3f5f"
                    },
                    "geo": {
                      "bgcolor": "white",
                      "lakecolor": "white",
                      "landcolor": "#E5ECF6",
                      "showlakes": true,
                      "showland": true,
                      "subunitcolor": "white"
                    },
                    "hoverlabel": {
                      "align": "left"
                    },
                    "hovermode": "closest",
                    "mapbox": {
                      "style": "light"
                    },
                    "paper_bgcolor": "white",
                    "plot_bgcolor": "#E5ECF6",
                    "polar": {
                      "angularaxis": {
                        "gridcolor": "white",
                        "linecolor": "white",
                        "ticks": ""
                      },
                      "bgcolor": "#E5ECF6",
                      "radialaxis": {
                        "gridcolor": "white",
                        "linecolor": "white",
                        "ticks": ""
                      }
                    },
                    "scene": {
                      "xaxis": {
                        "backgroundcolor": "#E5ECF6",
                        "gridcolor": "white",
                        "gridwidth": 2,
                        "linecolor": "white",
                        "showbackground": true,
                        "ticks": "",
                        "zerolinecolor": "white"
                      },
                      "yaxis": {
                        "backgroundcolor": "#E5ECF6",
                        "gridcolor": "white",
                        "gridwidth": 2,
                        "linecolor": "white",
                        "showbackground": true,
                        "ticks": "",
                        "zerolinecolor": "white"
                      },
                      "zaxis": {
                        "backgroundcolor": "#E5ECF6",
                        "gridcolor": "white",
                        "gridwidth": 2,
                        "linecolor": "white",
                        "showbackground": true,
                        "ticks": "",
                        "zerolinecolor": "white"
                      }
                    },
                    "shapedefaults": {
                      "line": {
                        "color": "#2a3f5f"
                      }
                    },
                    "ternary": {
                      "aaxis": {
                        "gridcolor": "white",
                        "linecolor": "white",
                        "ticks": ""
                      },
                      "baxis": {
                        "gridcolor": "white",
                        "linecolor": "white",
                        "ticks": ""
                      },
                      "bgcolor": "#E5ECF6",
                      "caxis": {
                        "gridcolor": "white",
                        "linecolor": "white",
                        "ticks": ""
                      }
                    },
                    "title": {
                      "x": 0.05
                    },
                    "xaxis": {
                      "automargin": true,
                      "gridcolor": "white",
                      "linecolor": "white",
                      "ticks": "",
                      "title": {
                        "standoff": 15
                      },
                      "zerolinecolor": "white",
                      "zerolinewidth": 2
                    },
                    "yaxis": {
                      "automargin": true,
                      "gridcolor": "white",
                      "linecolor": "white",
                      "ticks": "",
                      "title": {
                        "standoff": 15
                      },
                      "zerolinecolor": "white",
                      "zerolinewidth": 2
                    }
                  }
                }
              }
            }
          },
          "metadata": {},
          "output_type": "display_data"
        },
        {
          "name": "stdout",
          "output_type": "stream",
          "text": [
            "Choropleth for community 5\n"
          ]
        },
        {
          "data": {
            "application/vnd.plotly.v1+json": {
              "config": {
                "plotlyServerURL": "https://plot.ly"
              },
              "data": [
                {
                  "coloraxis": "coloraxis",
                  "geo": "geo",
                  "hovertemplate": "Country=%{location}<br>Number of users=%{z}<extra></extra>",
                  "locationmode": "country names",
                  "locations": [
                    "United States",
                    "Spain",
                    "France",
                    "United Kingdom",
                    "Mexico",
                    "Brazil",
                    "Canada",
                    "Argentina",
                    "Chile",
                    "Malaysia",
                    "Germany",
                    "Australia",
                    "Japan",
                    "Laos",
                    "Warsaw",
                    "Italy",
                    "Indonesia",
                    "Philippines",
                    "Colombia",
                    "Portugal",
                    "India",
                    "Ireland",
                    "Poland",
                    "Peru",
                    "China",
                    "Taiwan",
                    "Russia",
                    "Venezuela",
                    "Thailand",
                    "Denmark",
                    "Netherlands",
                    "Norway",
                    "Finland",
                    "South Africa",
                    "Belgium",
                    "Costa Rica",
                    "New Zealand",
                    "Iran",
                    "Singapore",
                    "Panama",
                    "Kenya",
                    "Sweden",
                    "Ukraine",
                    "Vietnam",
                    "Austria",
                    "Ecuador",
                    "Switzerland",
                    "Myanmar",
                    "Turkey",
                    "Guatemala",
                    "Hungary",
                    "Nigeria",
                    "Paraguay",
                    "Greece",
                    "Slovakia",
                    "Nepal",
                    "Uganda",
                    "Jamaica",
                    "Azerbaijan",
                    "Romania",
                    "El Salvador",
                    "Bosnia and Herzegovina",
                    null,
                    "Albania",
                    "Jersey",
                    "Czechia",
                    "Guernsey",
                    "Liberia",
                    "Latvia",
                    "South Korea",
                    "Israel",
                    "Kazakhstan",
                    "Guyana",
                    "Iraq",
                    "Serbia",
                    "Morocco",
                    "Croatia",
                    "Egypt",
                    "Nicaragua",
                    "Cameroon",
                    "Trinidad and Tobago",
                    "Democratic Republic of the Congo",
                    "Bangladesh",
                    "Tanzania",
                    "Estonia",
                    "Cuba",
                    "Ghana",
                    "Haiti",
                    "Sudan",
                    "Falkland Islands",
                    "Yemen",
                    "Honduras",
                    "Vatican City",
                    "Zimbabwe",
                    "Mauritius",
                    "Dominican Republic",
                    "Mongolia",
                    "Qatar",
                    "Uzbekistan",
                    "Prague",
                    "Pakistan",
                    "Ethiopia",
                    "Georgia",
                    "Algeria",
                    "Saudi Arabia",
                    "Uruguay",
                    "Slovenia",
                    "Montenegro",
                    "Bolivia",
                    "Côte d'Ivoire",
                    "Madagascar",
                    "Belize",
                    "Botswana",
                    "Marshall Islands",
                    "Saint Lucia",
                    "Malawi",
                    "Moldova",
                    "Greenland",
                    "Bahrain",
                    "Cyprus",
                    "Afghanistan",
                    "Seychelles",
                    "South Sudan",
                    "Angola",
                    "Mozambique",
                    "Palestinian Territory",
                    "Bulgaria",
                    "United Arab Emirates",
                    "Belarus",
                    "Oman",
                    "Tunisia",
                    "Namibia",
                    "Zambia",
                    "Kuwait",
                    "Dominica",
                    "Vanuatu",
                    "Chad",
                    "Benin",
                    "Syria",
                    "North Macedonia",
                    "Burkina Faso",
                    "Iceland",
                    "British Virgin Islands",
                    "Libya",
                    "Fiji",
                    "Djibouti",
                    "East Timor",
                    "Senegal",
                    "Monaco",
                    "Suriname",
                    "Cayman Islands",
                    "Federated States of Micronesia",
                    "Saint Kitts and Nevis",
                    "Bermuda",
                    "North Korea",
                    "Jordan",
                    "Rwanda"
                  ],
                  "name": "",
                  "type": "choropleth",
                  "z": [
                    4657,
                    429,
                    332,
                    322,
                    283,
                    281,
                    194,
                    110,
                    95,
                    94,
                    83,
                    82,
                    67,
                    65,
                    65,
                    57,
                    52,
                    49,
                    48,
                    46,
                    45,
                    38,
                    36,
                    35,
                    34,
                    33,
                    31,
                    29,
                    29,
                    29,
                    27,
                    26,
                    25,
                    25,
                    24,
                    24,
                    23,
                    23,
                    22,
                    20,
                    18,
                    18,
                    17,
                    15,
                    15,
                    15,
                    14,
                    14,
                    14,
                    14,
                    12,
                    12,
                    12,
                    12,
                    12,
                    11,
                    11,
                    10,
                    10,
                    10,
                    9,
                    9,
                    8,
                    8,
                    8,
                    8,
                    7,
                    7,
                    7,
                    7,
                    7,
                    7,
                    6,
                    6,
                    6,
                    6,
                    6,
                    5,
                    5,
                    5,
                    5,
                    5,
                    5,
                    5,
                    5,
                    5,
                    4,
                    4,
                    4,
                    4,
                    4,
                    4,
                    4,
                    4,
                    4,
                    4,
                    3,
                    3,
                    3,
                    3,
                    3,
                    3,
                    3,
                    3,
                    3,
                    3,
                    3,
                    2,
                    2,
                    2,
                    2,
                    2,
                    2,
                    2,
                    2,
                    2,
                    2,
                    2,
                    2,
                    2,
                    2,
                    2,
                    2,
                    2,
                    2,
                    2,
                    2,
                    2,
                    2,
                    2,
                    2,
                    1,
                    1,
                    1,
                    1,
                    1,
                    1,
                    1,
                    1,
                    1,
                    1,
                    1,
                    1,
                    1,
                    1,
                    1,
                    1,
                    1,
                    1,
                    1,
                    1,
                    1,
                    1,
                    1,
                    1,
                    1,
                    1
                  ]
                }
              ],
              "layout": {
                "coloraxis": {
                  "colorbar": {
                    "title": {
                      "text": "Number of users"
                    }
                  },
                  "colorscale": [
                    [
                      0,
                      "rgb(255,255,204)"
                    ],
                    [
                      0.125,
                      "rgb(255,237,160)"
                    ],
                    [
                      0.25,
                      "rgb(254,217,118)"
                    ],
                    [
                      0.375,
                      "rgb(254,178,76)"
                    ],
                    [
                      0.5,
                      "rgb(253,141,60)"
                    ],
                    [
                      0.625,
                      "rgb(252,78,42)"
                    ],
                    [
                      0.75,
                      "rgb(227,26,28)"
                    ],
                    [
                      0.875,
                      "rgb(189,0,38)"
                    ],
                    [
                      1,
                      "rgb(128,0,38)"
                    ]
                  ]
                },
                "geo": {
                  "center": {},
                  "domain": {
                    "x": [
                      0,
                      1
                    ],
                    "y": [
                      0,
                      1
                    ]
                  },
                  "scope": "world"
                },
                "legend": {
                  "tracegroupgap": 0
                },
                "margin": {
                  "t": 60
                },
                "template": {
                  "data": {
                    "bar": [
                      {
                        "error_x": {
                          "color": "#2a3f5f"
                        },
                        "error_y": {
                          "color": "#2a3f5f"
                        },
                        "marker": {
                          "line": {
                            "color": "#E5ECF6",
                            "width": 0.5
                          },
                          "pattern": {
                            "fillmode": "overlay",
                            "size": 10,
                            "solidity": 0.2
                          }
                        },
                        "type": "bar"
                      }
                    ],
                    "barpolar": [
                      {
                        "marker": {
                          "line": {
                            "color": "#E5ECF6",
                            "width": 0.5
                          },
                          "pattern": {
                            "fillmode": "overlay",
                            "size": 10,
                            "solidity": 0.2
                          }
                        },
                        "type": "barpolar"
                      }
                    ],
                    "carpet": [
                      {
                        "aaxis": {
                          "endlinecolor": "#2a3f5f",
                          "gridcolor": "white",
                          "linecolor": "white",
                          "minorgridcolor": "white",
                          "startlinecolor": "#2a3f5f"
                        },
                        "baxis": {
                          "endlinecolor": "#2a3f5f",
                          "gridcolor": "white",
                          "linecolor": "white",
                          "minorgridcolor": "white",
                          "startlinecolor": "#2a3f5f"
                        },
                        "type": "carpet"
                      }
                    ],
                    "choropleth": [
                      {
                        "colorbar": {
                          "outlinewidth": 0,
                          "ticks": ""
                        },
                        "type": "choropleth"
                      }
                    ],
                    "contour": [
                      {
                        "colorbar": {
                          "outlinewidth": 0,
                          "ticks": ""
                        },
                        "colorscale": [
                          [
                            0,
                            "#0d0887"
                          ],
                          [
                            0.1111111111111111,
                            "#46039f"
                          ],
                          [
                            0.2222222222222222,
                            "#7201a8"
                          ],
                          [
                            0.3333333333333333,
                            "#9c179e"
                          ],
                          [
                            0.4444444444444444,
                            "#bd3786"
                          ],
                          [
                            0.5555555555555556,
                            "#d8576b"
                          ],
                          [
                            0.6666666666666666,
                            "#ed7953"
                          ],
                          [
                            0.7777777777777778,
                            "#fb9f3a"
                          ],
                          [
                            0.8888888888888888,
                            "#fdca26"
                          ],
                          [
                            1,
                            "#f0f921"
                          ]
                        ],
                        "type": "contour"
                      }
                    ],
                    "contourcarpet": [
                      {
                        "colorbar": {
                          "outlinewidth": 0,
                          "ticks": ""
                        },
                        "type": "contourcarpet"
                      }
                    ],
                    "heatmap": [
                      {
                        "colorbar": {
                          "outlinewidth": 0,
                          "ticks": ""
                        },
                        "colorscale": [
                          [
                            0,
                            "#0d0887"
                          ],
                          [
                            0.1111111111111111,
                            "#46039f"
                          ],
                          [
                            0.2222222222222222,
                            "#7201a8"
                          ],
                          [
                            0.3333333333333333,
                            "#9c179e"
                          ],
                          [
                            0.4444444444444444,
                            "#bd3786"
                          ],
                          [
                            0.5555555555555556,
                            "#d8576b"
                          ],
                          [
                            0.6666666666666666,
                            "#ed7953"
                          ],
                          [
                            0.7777777777777778,
                            "#fb9f3a"
                          ],
                          [
                            0.8888888888888888,
                            "#fdca26"
                          ],
                          [
                            1,
                            "#f0f921"
                          ]
                        ],
                        "type": "heatmap"
                      }
                    ],
                    "heatmapgl": [
                      {
                        "colorbar": {
                          "outlinewidth": 0,
                          "ticks": ""
                        },
                        "colorscale": [
                          [
                            0,
                            "#0d0887"
                          ],
                          [
                            0.1111111111111111,
                            "#46039f"
                          ],
                          [
                            0.2222222222222222,
                            "#7201a8"
                          ],
                          [
                            0.3333333333333333,
                            "#9c179e"
                          ],
                          [
                            0.4444444444444444,
                            "#bd3786"
                          ],
                          [
                            0.5555555555555556,
                            "#d8576b"
                          ],
                          [
                            0.6666666666666666,
                            "#ed7953"
                          ],
                          [
                            0.7777777777777778,
                            "#fb9f3a"
                          ],
                          [
                            0.8888888888888888,
                            "#fdca26"
                          ],
                          [
                            1,
                            "#f0f921"
                          ]
                        ],
                        "type": "heatmapgl"
                      }
                    ],
                    "histogram": [
                      {
                        "marker": {
                          "pattern": {
                            "fillmode": "overlay",
                            "size": 10,
                            "solidity": 0.2
                          }
                        },
                        "type": "histogram"
                      }
                    ],
                    "histogram2d": [
                      {
                        "colorbar": {
                          "outlinewidth": 0,
                          "ticks": ""
                        },
                        "colorscale": [
                          [
                            0,
                            "#0d0887"
                          ],
                          [
                            0.1111111111111111,
                            "#46039f"
                          ],
                          [
                            0.2222222222222222,
                            "#7201a8"
                          ],
                          [
                            0.3333333333333333,
                            "#9c179e"
                          ],
                          [
                            0.4444444444444444,
                            "#bd3786"
                          ],
                          [
                            0.5555555555555556,
                            "#d8576b"
                          ],
                          [
                            0.6666666666666666,
                            "#ed7953"
                          ],
                          [
                            0.7777777777777778,
                            "#fb9f3a"
                          ],
                          [
                            0.8888888888888888,
                            "#fdca26"
                          ],
                          [
                            1,
                            "#f0f921"
                          ]
                        ],
                        "type": "histogram2d"
                      }
                    ],
                    "histogram2dcontour": [
                      {
                        "colorbar": {
                          "outlinewidth": 0,
                          "ticks": ""
                        },
                        "colorscale": [
                          [
                            0,
                            "#0d0887"
                          ],
                          [
                            0.1111111111111111,
                            "#46039f"
                          ],
                          [
                            0.2222222222222222,
                            "#7201a8"
                          ],
                          [
                            0.3333333333333333,
                            "#9c179e"
                          ],
                          [
                            0.4444444444444444,
                            "#bd3786"
                          ],
                          [
                            0.5555555555555556,
                            "#d8576b"
                          ],
                          [
                            0.6666666666666666,
                            "#ed7953"
                          ],
                          [
                            0.7777777777777778,
                            "#fb9f3a"
                          ],
                          [
                            0.8888888888888888,
                            "#fdca26"
                          ],
                          [
                            1,
                            "#f0f921"
                          ]
                        ],
                        "type": "histogram2dcontour"
                      }
                    ],
                    "mesh3d": [
                      {
                        "colorbar": {
                          "outlinewidth": 0,
                          "ticks": ""
                        },
                        "type": "mesh3d"
                      }
                    ],
                    "parcoords": [
                      {
                        "line": {
                          "colorbar": {
                            "outlinewidth": 0,
                            "ticks": ""
                          }
                        },
                        "type": "parcoords"
                      }
                    ],
                    "pie": [
                      {
                        "automargin": true,
                        "type": "pie"
                      }
                    ],
                    "scatter": [
                      {
                        "fillpattern": {
                          "fillmode": "overlay",
                          "size": 10,
                          "solidity": 0.2
                        },
                        "type": "scatter"
                      }
                    ],
                    "scatter3d": [
                      {
                        "line": {
                          "colorbar": {
                            "outlinewidth": 0,
                            "ticks": ""
                          }
                        },
                        "marker": {
                          "colorbar": {
                            "outlinewidth": 0,
                            "ticks": ""
                          }
                        },
                        "type": "scatter3d"
                      }
                    ],
                    "scattercarpet": [
                      {
                        "marker": {
                          "colorbar": {
                            "outlinewidth": 0,
                            "ticks": ""
                          }
                        },
                        "type": "scattercarpet"
                      }
                    ],
                    "scattergeo": [
                      {
                        "marker": {
                          "colorbar": {
                            "outlinewidth": 0,
                            "ticks": ""
                          }
                        },
                        "type": "scattergeo"
                      }
                    ],
                    "scattergl": [
                      {
                        "marker": {
                          "colorbar": {
                            "outlinewidth": 0,
                            "ticks": ""
                          }
                        },
                        "type": "scattergl"
                      }
                    ],
                    "scattermapbox": [
                      {
                        "marker": {
                          "colorbar": {
                            "outlinewidth": 0,
                            "ticks": ""
                          }
                        },
                        "type": "scattermapbox"
                      }
                    ],
                    "scatterpolar": [
                      {
                        "marker": {
                          "colorbar": {
                            "outlinewidth": 0,
                            "ticks": ""
                          }
                        },
                        "type": "scatterpolar"
                      }
                    ],
                    "scatterpolargl": [
                      {
                        "marker": {
                          "colorbar": {
                            "outlinewidth": 0,
                            "ticks": ""
                          }
                        },
                        "type": "scatterpolargl"
                      }
                    ],
                    "scatterternary": [
                      {
                        "marker": {
                          "colorbar": {
                            "outlinewidth": 0,
                            "ticks": ""
                          }
                        },
                        "type": "scatterternary"
                      }
                    ],
                    "surface": [
                      {
                        "colorbar": {
                          "outlinewidth": 0,
                          "ticks": ""
                        },
                        "colorscale": [
                          [
                            0,
                            "#0d0887"
                          ],
                          [
                            0.1111111111111111,
                            "#46039f"
                          ],
                          [
                            0.2222222222222222,
                            "#7201a8"
                          ],
                          [
                            0.3333333333333333,
                            "#9c179e"
                          ],
                          [
                            0.4444444444444444,
                            "#bd3786"
                          ],
                          [
                            0.5555555555555556,
                            "#d8576b"
                          ],
                          [
                            0.6666666666666666,
                            "#ed7953"
                          ],
                          [
                            0.7777777777777778,
                            "#fb9f3a"
                          ],
                          [
                            0.8888888888888888,
                            "#fdca26"
                          ],
                          [
                            1,
                            "#f0f921"
                          ]
                        ],
                        "type": "surface"
                      }
                    ],
                    "table": [
                      {
                        "cells": {
                          "fill": {
                            "color": "#EBF0F8"
                          },
                          "line": {
                            "color": "white"
                          }
                        },
                        "header": {
                          "fill": {
                            "color": "#C8D4E3"
                          },
                          "line": {
                            "color": "white"
                          }
                        },
                        "type": "table"
                      }
                    ]
                  },
                  "layout": {
                    "annotationdefaults": {
                      "arrowcolor": "#2a3f5f",
                      "arrowhead": 0,
                      "arrowwidth": 1
                    },
                    "autotypenumbers": "strict",
                    "coloraxis": {
                      "colorbar": {
                        "outlinewidth": 0,
                        "ticks": ""
                      }
                    },
                    "colorscale": {
                      "diverging": [
                        [
                          0,
                          "#8e0152"
                        ],
                        [
                          0.1,
                          "#c51b7d"
                        ],
                        [
                          0.2,
                          "#de77ae"
                        ],
                        [
                          0.3,
                          "#f1b6da"
                        ],
                        [
                          0.4,
                          "#fde0ef"
                        ],
                        [
                          0.5,
                          "#f7f7f7"
                        ],
                        [
                          0.6,
                          "#e6f5d0"
                        ],
                        [
                          0.7,
                          "#b8e186"
                        ],
                        [
                          0.8,
                          "#7fbc41"
                        ],
                        [
                          0.9,
                          "#4d9221"
                        ],
                        [
                          1,
                          "#276419"
                        ]
                      ],
                      "sequential": [
                        [
                          0,
                          "#0d0887"
                        ],
                        [
                          0.1111111111111111,
                          "#46039f"
                        ],
                        [
                          0.2222222222222222,
                          "#7201a8"
                        ],
                        [
                          0.3333333333333333,
                          "#9c179e"
                        ],
                        [
                          0.4444444444444444,
                          "#bd3786"
                        ],
                        [
                          0.5555555555555556,
                          "#d8576b"
                        ],
                        [
                          0.6666666666666666,
                          "#ed7953"
                        ],
                        [
                          0.7777777777777778,
                          "#fb9f3a"
                        ],
                        [
                          0.8888888888888888,
                          "#fdca26"
                        ],
                        [
                          1,
                          "#f0f921"
                        ]
                      ],
                      "sequentialminus": [
                        [
                          0,
                          "#0d0887"
                        ],
                        [
                          0.1111111111111111,
                          "#46039f"
                        ],
                        [
                          0.2222222222222222,
                          "#7201a8"
                        ],
                        [
                          0.3333333333333333,
                          "#9c179e"
                        ],
                        [
                          0.4444444444444444,
                          "#bd3786"
                        ],
                        [
                          0.5555555555555556,
                          "#d8576b"
                        ],
                        [
                          0.6666666666666666,
                          "#ed7953"
                        ],
                        [
                          0.7777777777777778,
                          "#fb9f3a"
                        ],
                        [
                          0.8888888888888888,
                          "#fdca26"
                        ],
                        [
                          1,
                          "#f0f921"
                        ]
                      ]
                    },
                    "colorway": [
                      "#636efa",
                      "#EF553B",
                      "#00cc96",
                      "#ab63fa",
                      "#FFA15A",
                      "#19d3f3",
                      "#FF6692",
                      "#B6E880",
                      "#FF97FF",
                      "#FECB52"
                    ],
                    "font": {
                      "color": "#2a3f5f"
                    },
                    "geo": {
                      "bgcolor": "white",
                      "lakecolor": "white",
                      "landcolor": "#E5ECF6",
                      "showlakes": true,
                      "showland": true,
                      "subunitcolor": "white"
                    },
                    "hoverlabel": {
                      "align": "left"
                    },
                    "hovermode": "closest",
                    "mapbox": {
                      "style": "light"
                    },
                    "paper_bgcolor": "white",
                    "plot_bgcolor": "#E5ECF6",
                    "polar": {
                      "angularaxis": {
                        "gridcolor": "white",
                        "linecolor": "white",
                        "ticks": ""
                      },
                      "bgcolor": "#E5ECF6",
                      "radialaxis": {
                        "gridcolor": "white",
                        "linecolor": "white",
                        "ticks": ""
                      }
                    },
                    "scene": {
                      "xaxis": {
                        "backgroundcolor": "#E5ECF6",
                        "gridcolor": "white",
                        "gridwidth": 2,
                        "linecolor": "white",
                        "showbackground": true,
                        "ticks": "",
                        "zerolinecolor": "white"
                      },
                      "yaxis": {
                        "backgroundcolor": "#E5ECF6",
                        "gridcolor": "white",
                        "gridwidth": 2,
                        "linecolor": "white",
                        "showbackground": true,
                        "ticks": "",
                        "zerolinecolor": "white"
                      },
                      "zaxis": {
                        "backgroundcolor": "#E5ECF6",
                        "gridcolor": "white",
                        "gridwidth": 2,
                        "linecolor": "white",
                        "showbackground": true,
                        "ticks": "",
                        "zerolinecolor": "white"
                      }
                    },
                    "shapedefaults": {
                      "line": {
                        "color": "#2a3f5f"
                      }
                    },
                    "ternary": {
                      "aaxis": {
                        "gridcolor": "white",
                        "linecolor": "white",
                        "ticks": ""
                      },
                      "baxis": {
                        "gridcolor": "white",
                        "linecolor": "white",
                        "ticks": ""
                      },
                      "bgcolor": "#E5ECF6",
                      "caxis": {
                        "gridcolor": "white",
                        "linecolor": "white",
                        "ticks": ""
                      }
                    },
                    "title": {
                      "x": 0.05
                    },
                    "xaxis": {
                      "automargin": true,
                      "gridcolor": "white",
                      "linecolor": "white",
                      "ticks": "",
                      "title": {
                        "standoff": 15
                      },
                      "zerolinecolor": "white",
                      "zerolinewidth": 2
                    },
                    "yaxis": {
                      "automargin": true,
                      "gridcolor": "white",
                      "linecolor": "white",
                      "ticks": "",
                      "title": {
                        "standoff": 15
                      },
                      "zerolinecolor": "white",
                      "zerolinewidth": 2
                    }
                  }
                }
              }
            }
          },
          "metadata": {},
          "output_type": "display_data"
        },
        {
          "name": "stdout",
          "output_type": "stream",
          "text": [
            "Choropleth for community 6\n"
          ]
        },
        {
          "data": {
            "application/vnd.plotly.v1+json": {
              "config": {
                "plotlyServerURL": "https://plot.ly"
              },
              "data": [
                {
                  "coloraxis": "coloraxis",
                  "geo": "geo",
                  "hovertemplate": "Country=%{location}<br>Number of users=%{z}<extra></extra>",
                  "locationmode": "country names",
                  "locations": [
                    "United Kingdom",
                    "United States",
                    "Ireland",
                    "Germany",
                    "Australia",
                    "France",
                    "Spain",
                    "Canada",
                    "Thailand",
                    "Bulgaria",
                    "Italy",
                    "South Africa",
                    "Netherlands",
                    "India",
                    "Bosnia and Herzegovina",
                    "Cyprus",
                    "Denmark",
                    "Philippines",
                    "Switzerland",
                    "China",
                    "Norway",
                    "Brazil",
                    "Belgium",
                    "Israel",
                    "Botswana",
                    "Portugal",
                    "Turkey",
                    "Mexico",
                    "Finland",
                    "Nepal",
                    "Cameroon",
                    "Russia",
                    "Albania",
                    "Austria",
                    "Iran",
                    "Vietnam",
                    "United Arab Emirates",
                    "Greece",
                    "Poland",
                    "New Zealand",
                    "Singapore",
                    "Kenya",
                    "Tajikistan",
                    "Zimbabwe",
                    "Malta",
                    "Armenia",
                    "Gibraltar",
                    "Sweden",
                    "Malaysia",
                    "Qatar",
                    "Pakistan",
                    "Uganda",
                    "Seychelles",
                    "Laos",
                    "Kazakhstan",
                    "Japan",
                    "Indonesia",
                    "Jersey",
                    "Bahrain",
                    "Isle of Man",
                    "Argentina",
                    "Nigeria",
                    "Taiwan",
                    "Mali",
                    "Myanmar",
                    "Afghanistan",
                    "Ethiopia",
                    "Jamaica",
                    "Cuba",
                    "Lithuania",
                    "Luxembourg",
                    "South Korea",
                    "Somalia",
                    "Belarus",
                    "Grenada",
                    "Morocco",
                    "Eritrea",
                    "Iraq",
                    "Turks and Caicos Islands",
                    "Egypt",
                    "Guinea",
                    "Trinidad and Tobago",
                    "Algeria",
                    "Romania",
                    "Czechia",
                    "Slovakia",
                    "Cook Islands",
                    "Saudi Arabia",
                    "Ukraine",
                    "Ascension and Tristan da Cunha",
                    null,
                    "Liberia",
                    "Warsaw",
                    "Central African Republic",
                    "Senegal",
                    "Congo-Brazzaville",
                    "Angola",
                    "Mauritania",
                    "Belize",
                    "Haiti"
                  ],
                  "name": "",
                  "type": "choropleth",
                  "z": [
                    7122,
                    329,
                    91,
                    88,
                    80,
                    71,
                    59,
                    44,
                    30,
                    25,
                    23,
                    15,
                    15,
                    13,
                    13,
                    12,
                    9,
                    9,
                    8,
                    8,
                    8,
                    7,
                    6,
                    6,
                    6,
                    6,
                    5,
                    5,
                    5,
                    5,
                    5,
                    5,
                    5,
                    4,
                    4,
                    4,
                    4,
                    4,
                    4,
                    4,
                    4,
                    4,
                    3,
                    3,
                    3,
                    3,
                    3,
                    3,
                    3,
                    3,
                    3,
                    3,
                    2,
                    2,
                    2,
                    2,
                    2,
                    2,
                    2,
                    2,
                    2,
                    2,
                    1,
                    1,
                    1,
                    1,
                    1,
                    1,
                    1,
                    1,
                    1,
                    1,
                    1,
                    1,
                    1,
                    1,
                    1,
                    1,
                    1,
                    1,
                    1,
                    1,
                    1,
                    1,
                    1,
                    1,
                    1,
                    1,
                    1,
                    1,
                    1,
                    1,
                    1,
                    1,
                    1,
                    1,
                    1,
                    1,
                    1,
                    1
                  ]
                }
              ],
              "layout": {
                "coloraxis": {
                  "colorbar": {
                    "title": {
                      "text": "Number of users"
                    }
                  },
                  "colorscale": [
                    [
                      0,
                      "rgb(255,255,204)"
                    ],
                    [
                      0.125,
                      "rgb(255,237,160)"
                    ],
                    [
                      0.25,
                      "rgb(254,217,118)"
                    ],
                    [
                      0.375,
                      "rgb(254,178,76)"
                    ],
                    [
                      0.5,
                      "rgb(253,141,60)"
                    ],
                    [
                      0.625,
                      "rgb(252,78,42)"
                    ],
                    [
                      0.75,
                      "rgb(227,26,28)"
                    ],
                    [
                      0.875,
                      "rgb(189,0,38)"
                    ],
                    [
                      1,
                      "rgb(128,0,38)"
                    ]
                  ]
                },
                "geo": {
                  "center": {},
                  "domain": {
                    "x": [
                      0,
                      1
                    ],
                    "y": [
                      0,
                      1
                    ]
                  },
                  "scope": "world"
                },
                "legend": {
                  "tracegroupgap": 0
                },
                "margin": {
                  "t": 60
                },
                "template": {
                  "data": {
                    "bar": [
                      {
                        "error_x": {
                          "color": "#2a3f5f"
                        },
                        "error_y": {
                          "color": "#2a3f5f"
                        },
                        "marker": {
                          "line": {
                            "color": "#E5ECF6",
                            "width": 0.5
                          },
                          "pattern": {
                            "fillmode": "overlay",
                            "size": 10,
                            "solidity": 0.2
                          }
                        },
                        "type": "bar"
                      }
                    ],
                    "barpolar": [
                      {
                        "marker": {
                          "line": {
                            "color": "#E5ECF6",
                            "width": 0.5
                          },
                          "pattern": {
                            "fillmode": "overlay",
                            "size": 10,
                            "solidity": 0.2
                          }
                        },
                        "type": "barpolar"
                      }
                    ],
                    "carpet": [
                      {
                        "aaxis": {
                          "endlinecolor": "#2a3f5f",
                          "gridcolor": "white",
                          "linecolor": "white",
                          "minorgridcolor": "white",
                          "startlinecolor": "#2a3f5f"
                        },
                        "baxis": {
                          "endlinecolor": "#2a3f5f",
                          "gridcolor": "white",
                          "linecolor": "white",
                          "minorgridcolor": "white",
                          "startlinecolor": "#2a3f5f"
                        },
                        "type": "carpet"
                      }
                    ],
                    "choropleth": [
                      {
                        "colorbar": {
                          "outlinewidth": 0,
                          "ticks": ""
                        },
                        "type": "choropleth"
                      }
                    ],
                    "contour": [
                      {
                        "colorbar": {
                          "outlinewidth": 0,
                          "ticks": ""
                        },
                        "colorscale": [
                          [
                            0,
                            "#0d0887"
                          ],
                          [
                            0.1111111111111111,
                            "#46039f"
                          ],
                          [
                            0.2222222222222222,
                            "#7201a8"
                          ],
                          [
                            0.3333333333333333,
                            "#9c179e"
                          ],
                          [
                            0.4444444444444444,
                            "#bd3786"
                          ],
                          [
                            0.5555555555555556,
                            "#d8576b"
                          ],
                          [
                            0.6666666666666666,
                            "#ed7953"
                          ],
                          [
                            0.7777777777777778,
                            "#fb9f3a"
                          ],
                          [
                            0.8888888888888888,
                            "#fdca26"
                          ],
                          [
                            1,
                            "#f0f921"
                          ]
                        ],
                        "type": "contour"
                      }
                    ],
                    "contourcarpet": [
                      {
                        "colorbar": {
                          "outlinewidth": 0,
                          "ticks": ""
                        },
                        "type": "contourcarpet"
                      }
                    ],
                    "heatmap": [
                      {
                        "colorbar": {
                          "outlinewidth": 0,
                          "ticks": ""
                        },
                        "colorscale": [
                          [
                            0,
                            "#0d0887"
                          ],
                          [
                            0.1111111111111111,
                            "#46039f"
                          ],
                          [
                            0.2222222222222222,
                            "#7201a8"
                          ],
                          [
                            0.3333333333333333,
                            "#9c179e"
                          ],
                          [
                            0.4444444444444444,
                            "#bd3786"
                          ],
                          [
                            0.5555555555555556,
                            "#d8576b"
                          ],
                          [
                            0.6666666666666666,
                            "#ed7953"
                          ],
                          [
                            0.7777777777777778,
                            "#fb9f3a"
                          ],
                          [
                            0.8888888888888888,
                            "#fdca26"
                          ],
                          [
                            1,
                            "#f0f921"
                          ]
                        ],
                        "type": "heatmap"
                      }
                    ],
                    "heatmapgl": [
                      {
                        "colorbar": {
                          "outlinewidth": 0,
                          "ticks": ""
                        },
                        "colorscale": [
                          [
                            0,
                            "#0d0887"
                          ],
                          [
                            0.1111111111111111,
                            "#46039f"
                          ],
                          [
                            0.2222222222222222,
                            "#7201a8"
                          ],
                          [
                            0.3333333333333333,
                            "#9c179e"
                          ],
                          [
                            0.4444444444444444,
                            "#bd3786"
                          ],
                          [
                            0.5555555555555556,
                            "#d8576b"
                          ],
                          [
                            0.6666666666666666,
                            "#ed7953"
                          ],
                          [
                            0.7777777777777778,
                            "#fb9f3a"
                          ],
                          [
                            0.8888888888888888,
                            "#fdca26"
                          ],
                          [
                            1,
                            "#f0f921"
                          ]
                        ],
                        "type": "heatmapgl"
                      }
                    ],
                    "histogram": [
                      {
                        "marker": {
                          "pattern": {
                            "fillmode": "overlay",
                            "size": 10,
                            "solidity": 0.2
                          }
                        },
                        "type": "histogram"
                      }
                    ],
                    "histogram2d": [
                      {
                        "colorbar": {
                          "outlinewidth": 0,
                          "ticks": ""
                        },
                        "colorscale": [
                          [
                            0,
                            "#0d0887"
                          ],
                          [
                            0.1111111111111111,
                            "#46039f"
                          ],
                          [
                            0.2222222222222222,
                            "#7201a8"
                          ],
                          [
                            0.3333333333333333,
                            "#9c179e"
                          ],
                          [
                            0.4444444444444444,
                            "#bd3786"
                          ],
                          [
                            0.5555555555555556,
                            "#d8576b"
                          ],
                          [
                            0.6666666666666666,
                            "#ed7953"
                          ],
                          [
                            0.7777777777777778,
                            "#fb9f3a"
                          ],
                          [
                            0.8888888888888888,
                            "#fdca26"
                          ],
                          [
                            1,
                            "#f0f921"
                          ]
                        ],
                        "type": "histogram2d"
                      }
                    ],
                    "histogram2dcontour": [
                      {
                        "colorbar": {
                          "outlinewidth": 0,
                          "ticks": ""
                        },
                        "colorscale": [
                          [
                            0,
                            "#0d0887"
                          ],
                          [
                            0.1111111111111111,
                            "#46039f"
                          ],
                          [
                            0.2222222222222222,
                            "#7201a8"
                          ],
                          [
                            0.3333333333333333,
                            "#9c179e"
                          ],
                          [
                            0.4444444444444444,
                            "#bd3786"
                          ],
                          [
                            0.5555555555555556,
                            "#d8576b"
                          ],
                          [
                            0.6666666666666666,
                            "#ed7953"
                          ],
                          [
                            0.7777777777777778,
                            "#fb9f3a"
                          ],
                          [
                            0.8888888888888888,
                            "#fdca26"
                          ],
                          [
                            1,
                            "#f0f921"
                          ]
                        ],
                        "type": "histogram2dcontour"
                      }
                    ],
                    "mesh3d": [
                      {
                        "colorbar": {
                          "outlinewidth": 0,
                          "ticks": ""
                        },
                        "type": "mesh3d"
                      }
                    ],
                    "parcoords": [
                      {
                        "line": {
                          "colorbar": {
                            "outlinewidth": 0,
                            "ticks": ""
                          }
                        },
                        "type": "parcoords"
                      }
                    ],
                    "pie": [
                      {
                        "automargin": true,
                        "type": "pie"
                      }
                    ],
                    "scatter": [
                      {
                        "fillpattern": {
                          "fillmode": "overlay",
                          "size": 10,
                          "solidity": 0.2
                        },
                        "type": "scatter"
                      }
                    ],
                    "scatter3d": [
                      {
                        "line": {
                          "colorbar": {
                            "outlinewidth": 0,
                            "ticks": ""
                          }
                        },
                        "marker": {
                          "colorbar": {
                            "outlinewidth": 0,
                            "ticks": ""
                          }
                        },
                        "type": "scatter3d"
                      }
                    ],
                    "scattercarpet": [
                      {
                        "marker": {
                          "colorbar": {
                            "outlinewidth": 0,
                            "ticks": ""
                          }
                        },
                        "type": "scattercarpet"
                      }
                    ],
                    "scattergeo": [
                      {
                        "marker": {
                          "colorbar": {
                            "outlinewidth": 0,
                            "ticks": ""
                          }
                        },
                        "type": "scattergeo"
                      }
                    ],
                    "scattergl": [
                      {
                        "marker": {
                          "colorbar": {
                            "outlinewidth": 0,
                            "ticks": ""
                          }
                        },
                        "type": "scattergl"
                      }
                    ],
                    "scattermapbox": [
                      {
                        "marker": {
                          "colorbar": {
                            "outlinewidth": 0,
                            "ticks": ""
                          }
                        },
                        "type": "scattermapbox"
                      }
                    ],
                    "scatterpolar": [
                      {
                        "marker": {
                          "colorbar": {
                            "outlinewidth": 0,
                            "ticks": ""
                          }
                        },
                        "type": "scatterpolar"
                      }
                    ],
                    "scatterpolargl": [
                      {
                        "marker": {
                          "colorbar": {
                            "outlinewidth": 0,
                            "ticks": ""
                          }
                        },
                        "type": "scatterpolargl"
                      }
                    ],
                    "scatterternary": [
                      {
                        "marker": {
                          "colorbar": {
                            "outlinewidth": 0,
                            "ticks": ""
                          }
                        },
                        "type": "scatterternary"
                      }
                    ],
                    "surface": [
                      {
                        "colorbar": {
                          "outlinewidth": 0,
                          "ticks": ""
                        },
                        "colorscale": [
                          [
                            0,
                            "#0d0887"
                          ],
                          [
                            0.1111111111111111,
                            "#46039f"
                          ],
                          [
                            0.2222222222222222,
                            "#7201a8"
                          ],
                          [
                            0.3333333333333333,
                            "#9c179e"
                          ],
                          [
                            0.4444444444444444,
                            "#bd3786"
                          ],
                          [
                            0.5555555555555556,
                            "#d8576b"
                          ],
                          [
                            0.6666666666666666,
                            "#ed7953"
                          ],
                          [
                            0.7777777777777778,
                            "#fb9f3a"
                          ],
                          [
                            0.8888888888888888,
                            "#fdca26"
                          ],
                          [
                            1,
                            "#f0f921"
                          ]
                        ],
                        "type": "surface"
                      }
                    ],
                    "table": [
                      {
                        "cells": {
                          "fill": {
                            "color": "#EBF0F8"
                          },
                          "line": {
                            "color": "white"
                          }
                        },
                        "header": {
                          "fill": {
                            "color": "#C8D4E3"
                          },
                          "line": {
                            "color": "white"
                          }
                        },
                        "type": "table"
                      }
                    ]
                  },
                  "layout": {
                    "annotationdefaults": {
                      "arrowcolor": "#2a3f5f",
                      "arrowhead": 0,
                      "arrowwidth": 1
                    },
                    "autotypenumbers": "strict",
                    "coloraxis": {
                      "colorbar": {
                        "outlinewidth": 0,
                        "ticks": ""
                      }
                    },
                    "colorscale": {
                      "diverging": [
                        [
                          0,
                          "#8e0152"
                        ],
                        [
                          0.1,
                          "#c51b7d"
                        ],
                        [
                          0.2,
                          "#de77ae"
                        ],
                        [
                          0.3,
                          "#f1b6da"
                        ],
                        [
                          0.4,
                          "#fde0ef"
                        ],
                        [
                          0.5,
                          "#f7f7f7"
                        ],
                        [
                          0.6,
                          "#e6f5d0"
                        ],
                        [
                          0.7,
                          "#b8e186"
                        ],
                        [
                          0.8,
                          "#7fbc41"
                        ],
                        [
                          0.9,
                          "#4d9221"
                        ],
                        [
                          1,
                          "#276419"
                        ]
                      ],
                      "sequential": [
                        [
                          0,
                          "#0d0887"
                        ],
                        [
                          0.1111111111111111,
                          "#46039f"
                        ],
                        [
                          0.2222222222222222,
                          "#7201a8"
                        ],
                        [
                          0.3333333333333333,
                          "#9c179e"
                        ],
                        [
                          0.4444444444444444,
                          "#bd3786"
                        ],
                        [
                          0.5555555555555556,
                          "#d8576b"
                        ],
                        [
                          0.6666666666666666,
                          "#ed7953"
                        ],
                        [
                          0.7777777777777778,
                          "#fb9f3a"
                        ],
                        [
                          0.8888888888888888,
                          "#fdca26"
                        ],
                        [
                          1,
                          "#f0f921"
                        ]
                      ],
                      "sequentialminus": [
                        [
                          0,
                          "#0d0887"
                        ],
                        [
                          0.1111111111111111,
                          "#46039f"
                        ],
                        [
                          0.2222222222222222,
                          "#7201a8"
                        ],
                        [
                          0.3333333333333333,
                          "#9c179e"
                        ],
                        [
                          0.4444444444444444,
                          "#bd3786"
                        ],
                        [
                          0.5555555555555556,
                          "#d8576b"
                        ],
                        [
                          0.6666666666666666,
                          "#ed7953"
                        ],
                        [
                          0.7777777777777778,
                          "#fb9f3a"
                        ],
                        [
                          0.8888888888888888,
                          "#fdca26"
                        ],
                        [
                          1,
                          "#f0f921"
                        ]
                      ]
                    },
                    "colorway": [
                      "#636efa",
                      "#EF553B",
                      "#00cc96",
                      "#ab63fa",
                      "#FFA15A",
                      "#19d3f3",
                      "#FF6692",
                      "#B6E880",
                      "#FF97FF",
                      "#FECB52"
                    ],
                    "font": {
                      "color": "#2a3f5f"
                    },
                    "geo": {
                      "bgcolor": "white",
                      "lakecolor": "white",
                      "landcolor": "#E5ECF6",
                      "showlakes": true,
                      "showland": true,
                      "subunitcolor": "white"
                    },
                    "hoverlabel": {
                      "align": "left"
                    },
                    "hovermode": "closest",
                    "mapbox": {
                      "style": "light"
                    },
                    "paper_bgcolor": "white",
                    "plot_bgcolor": "#E5ECF6",
                    "polar": {
                      "angularaxis": {
                        "gridcolor": "white",
                        "linecolor": "white",
                        "ticks": ""
                      },
                      "bgcolor": "#E5ECF6",
                      "radialaxis": {
                        "gridcolor": "white",
                        "linecolor": "white",
                        "ticks": ""
                      }
                    },
                    "scene": {
                      "xaxis": {
                        "backgroundcolor": "#E5ECF6",
                        "gridcolor": "white",
                        "gridwidth": 2,
                        "linecolor": "white",
                        "showbackground": true,
                        "ticks": "",
                        "zerolinecolor": "white"
                      },
                      "yaxis": {
                        "backgroundcolor": "#E5ECF6",
                        "gridcolor": "white",
                        "gridwidth": 2,
                        "linecolor": "white",
                        "showbackground": true,
                        "ticks": "",
                        "zerolinecolor": "white"
                      },
                      "zaxis": {
                        "backgroundcolor": "#E5ECF6",
                        "gridcolor": "white",
                        "gridwidth": 2,
                        "linecolor": "white",
                        "showbackground": true,
                        "ticks": "",
                        "zerolinecolor": "white"
                      }
                    },
                    "shapedefaults": {
                      "line": {
                        "color": "#2a3f5f"
                      }
                    },
                    "ternary": {
                      "aaxis": {
                        "gridcolor": "white",
                        "linecolor": "white",
                        "ticks": ""
                      },
                      "baxis": {
                        "gridcolor": "white",
                        "linecolor": "white",
                        "ticks": ""
                      },
                      "bgcolor": "#E5ECF6",
                      "caxis": {
                        "gridcolor": "white",
                        "linecolor": "white",
                        "ticks": ""
                      }
                    },
                    "title": {
                      "x": 0.05
                    },
                    "xaxis": {
                      "automargin": true,
                      "gridcolor": "white",
                      "linecolor": "white",
                      "ticks": "",
                      "title": {
                        "standoff": 15
                      },
                      "zerolinecolor": "white",
                      "zerolinewidth": 2
                    },
                    "yaxis": {
                      "automargin": true,
                      "gridcolor": "white",
                      "linecolor": "white",
                      "ticks": "",
                      "title": {
                        "standoff": 15
                      },
                      "zerolinecolor": "white",
                      "zerolinewidth": 2
                    }
                  }
                }
              }
            }
          },
          "metadata": {},
          "output_type": "display_data"
        },
        {
          "name": "stdout",
          "output_type": "stream",
          "text": [
            "Choropleth for community 7\n"
          ]
        },
        {
          "data": {
            "application/vnd.plotly.v1+json": {
              "config": {
                "plotlyServerURL": "https://plot.ly"
              },
              "data": [
                {
                  "coloraxis": "coloraxis",
                  "geo": "geo",
                  "hovertemplate": "Country=%{location}<br>Number of users=%{z}<extra></extra>",
                  "locationmode": "country names",
                  "locations": [
                    "United States",
                    "United Kingdom",
                    "Canada",
                    "Brazil",
                    "France",
                    "Germany",
                    "Australia",
                    "Japan",
                    "India",
                    "South Africa",
                    "Spain",
                    "Italy",
                    "Netherlands",
                    "Mexico",
                    "Argentina",
                    "Chile",
                    "Colombia",
                    "Turkey",
                    "Kenya",
                    "Sweden",
                    "Poland",
                    "Venezuela",
                    "Ireland",
                    "Thailand",
                    "New Zealand",
                    "Indonesia",
                    "Denmark",
                    "China",
                    "Greece",
                    "Portugal",
                    "Nigeria",
                    "Belgium",
                    "Philippines",
                    "Pakistan",
                    "Switzerland",
                    "Finland",
                    "Malaysia",
                    "Norway",
                    "Russia",
                    "Israel",
                    "Ecuador",
                    "Austria",
                    "Costa Rica",
                    "Serbia",
                    "United Arab Emirates",
                    "Estonia",
                    "Panama",
                    "Uganda",
                    "Paraguay",
                    "Saudi Arabia",
                    "Bosnia and Herzegovina",
                    "Peru",
                    "Guatemala",
                    "Czechia",
                    "Ghana",
                    "Lebanon",
                    "Croatia",
                    "El Salvador",
                    "Uruguay",
                    "Dominican Republic",
                    "Iran",
                    "Tanzania",
                    "Singapore",
                    "South Korea",
                    "Bulgaria",
                    "Chad",
                    "Nepal",
                    "Cameroon",
                    "Cyprus",
                    "Latvia",
                    "Ukraine",
                    "Zimbabwe",
                    "Azerbaijan",
                    "Haiti",
                    "Slovenia",
                    "Ethiopia",
                    "Papua New Guinea",
                    "Algeria",
                    "Seychelles",
                    "Bolivia",
                    "Taiwan",
                    "Hungary",
                    "Romania",
                    "Egypt",
                    "Tunisia",
                    "Vietnam",
                    "Trinidad and Tobago",
                    "Iceland",
                    "Iraq",
                    "Luxembourg",
                    "Honduras",
                    "Maldives",
                    "Oman",
                    "Democratic Republic of the Congo",
                    "Moldova",
                    "Zambia",
                    "Albania",
                    "Yemen",
                    "Angola",
                    "Liberia",
                    "Tajikistan",
                    "Jordan",
                    "Fiji",
                    null,
                    "The Bahamas",
                    "Kuwait",
                    "Mali",
                    "Warsaw",
                    "Jamaica",
                    "Myanmar",
                    "Madagascar",
                    "Vatican City",
                    "Mongolia",
                    "Morocco",
                    "Slovakia",
                    "East Timor",
                    "Qatar",
                    "Eswatini",
                    "Libya",
                    "Cook Islands",
                    "Botswana",
                    "Togo",
                    "North Korea",
                    "Antigua and Barbuda",
                    "Greenland",
                    "Bangladesh",
                    "San Marino",
                    "South Sudan",
                    "Côte d'Ivoire",
                    "Bahrain",
                    "Malta",
                    "Cayman Islands",
                    "Somalia",
                    "Lesotho",
                    "Faroe Islands",
                    "Turks and Caicos Islands",
                    "Sierra Leone",
                    "Mauritius",
                    "Andorra",
                    "Monaco",
                    "Malawi",
                    "Kazakhstan",
                    "Prague"
                  ],
                  "name": "",
                  "type": "choropleth",
                  "z": [
                    2574,
                    305,
                    279,
                    225,
                    171,
                    162,
                    155,
                    142,
                    128,
                    128,
                    124,
                    112,
                    111,
                    66,
                    64,
                    53,
                    47,
                    45,
                    36,
                    35,
                    35,
                    33,
                    33,
                    30,
                    29,
                    29,
                    29,
                    29,
                    26,
                    25,
                    22,
                    19,
                    18,
                    17,
                    15,
                    14,
                    12,
                    12,
                    12,
                    11,
                    11,
                    11,
                    11,
                    10,
                    10,
                    9,
                    9,
                    9,
                    9,
                    8,
                    8,
                    8,
                    8,
                    7,
                    7,
                    7,
                    7,
                    7,
                    7,
                    6,
                    6,
                    6,
                    6,
                    6,
                    6,
                    6,
                    5,
                    5,
                    5,
                    5,
                    5,
                    5,
                    5,
                    5,
                    5,
                    4,
                    4,
                    4,
                    4,
                    4,
                    4,
                    4,
                    4,
                    3,
                    3,
                    3,
                    3,
                    3,
                    3,
                    3,
                    3,
                    3,
                    3,
                    3,
                    3,
                    2,
                    2,
                    2,
                    2,
                    2,
                    2,
                    2,
                    2,
                    2,
                    2,
                    2,
                    2,
                    2,
                    2,
                    2,
                    2,
                    2,
                    2,
                    2,
                    2,
                    2,
                    2,
                    1,
                    1,
                    1,
                    1,
                    1,
                    1,
                    1,
                    1,
                    1,
                    1,
                    1,
                    1,
                    1,
                    1,
                    1,
                    1,
                    1,
                    1,
                    1,
                    1,
                    1,
                    1,
                    1,
                    1,
                    1,
                    1
                  ]
                }
              ],
              "layout": {
                "coloraxis": {
                  "colorbar": {
                    "title": {
                      "text": "Number of users"
                    }
                  },
                  "colorscale": [
                    [
                      0,
                      "rgb(255,255,204)"
                    ],
                    [
                      0.125,
                      "rgb(255,237,160)"
                    ],
                    [
                      0.25,
                      "rgb(254,217,118)"
                    ],
                    [
                      0.375,
                      "rgb(254,178,76)"
                    ],
                    [
                      0.5,
                      "rgb(253,141,60)"
                    ],
                    [
                      0.625,
                      "rgb(252,78,42)"
                    ],
                    [
                      0.75,
                      "rgb(227,26,28)"
                    ],
                    [
                      0.875,
                      "rgb(189,0,38)"
                    ],
                    [
                      1,
                      "rgb(128,0,38)"
                    ]
                  ]
                },
                "geo": {
                  "center": {},
                  "domain": {
                    "x": [
                      0,
                      1
                    ],
                    "y": [
                      0,
                      1
                    ]
                  },
                  "scope": "world"
                },
                "legend": {
                  "tracegroupgap": 0
                },
                "margin": {
                  "t": 60
                },
                "template": {
                  "data": {
                    "bar": [
                      {
                        "error_x": {
                          "color": "#2a3f5f"
                        },
                        "error_y": {
                          "color": "#2a3f5f"
                        },
                        "marker": {
                          "line": {
                            "color": "#E5ECF6",
                            "width": 0.5
                          },
                          "pattern": {
                            "fillmode": "overlay",
                            "size": 10,
                            "solidity": 0.2
                          }
                        },
                        "type": "bar"
                      }
                    ],
                    "barpolar": [
                      {
                        "marker": {
                          "line": {
                            "color": "#E5ECF6",
                            "width": 0.5
                          },
                          "pattern": {
                            "fillmode": "overlay",
                            "size": 10,
                            "solidity": 0.2
                          }
                        },
                        "type": "barpolar"
                      }
                    ],
                    "carpet": [
                      {
                        "aaxis": {
                          "endlinecolor": "#2a3f5f",
                          "gridcolor": "white",
                          "linecolor": "white",
                          "minorgridcolor": "white",
                          "startlinecolor": "#2a3f5f"
                        },
                        "baxis": {
                          "endlinecolor": "#2a3f5f",
                          "gridcolor": "white",
                          "linecolor": "white",
                          "minorgridcolor": "white",
                          "startlinecolor": "#2a3f5f"
                        },
                        "type": "carpet"
                      }
                    ],
                    "choropleth": [
                      {
                        "colorbar": {
                          "outlinewidth": 0,
                          "ticks": ""
                        },
                        "type": "choropleth"
                      }
                    ],
                    "contour": [
                      {
                        "colorbar": {
                          "outlinewidth": 0,
                          "ticks": ""
                        },
                        "colorscale": [
                          [
                            0,
                            "#0d0887"
                          ],
                          [
                            0.1111111111111111,
                            "#46039f"
                          ],
                          [
                            0.2222222222222222,
                            "#7201a8"
                          ],
                          [
                            0.3333333333333333,
                            "#9c179e"
                          ],
                          [
                            0.4444444444444444,
                            "#bd3786"
                          ],
                          [
                            0.5555555555555556,
                            "#d8576b"
                          ],
                          [
                            0.6666666666666666,
                            "#ed7953"
                          ],
                          [
                            0.7777777777777778,
                            "#fb9f3a"
                          ],
                          [
                            0.8888888888888888,
                            "#fdca26"
                          ],
                          [
                            1,
                            "#f0f921"
                          ]
                        ],
                        "type": "contour"
                      }
                    ],
                    "contourcarpet": [
                      {
                        "colorbar": {
                          "outlinewidth": 0,
                          "ticks": ""
                        },
                        "type": "contourcarpet"
                      }
                    ],
                    "heatmap": [
                      {
                        "colorbar": {
                          "outlinewidth": 0,
                          "ticks": ""
                        },
                        "colorscale": [
                          [
                            0,
                            "#0d0887"
                          ],
                          [
                            0.1111111111111111,
                            "#46039f"
                          ],
                          [
                            0.2222222222222222,
                            "#7201a8"
                          ],
                          [
                            0.3333333333333333,
                            "#9c179e"
                          ],
                          [
                            0.4444444444444444,
                            "#bd3786"
                          ],
                          [
                            0.5555555555555556,
                            "#d8576b"
                          ],
                          [
                            0.6666666666666666,
                            "#ed7953"
                          ],
                          [
                            0.7777777777777778,
                            "#fb9f3a"
                          ],
                          [
                            0.8888888888888888,
                            "#fdca26"
                          ],
                          [
                            1,
                            "#f0f921"
                          ]
                        ],
                        "type": "heatmap"
                      }
                    ],
                    "heatmapgl": [
                      {
                        "colorbar": {
                          "outlinewidth": 0,
                          "ticks": ""
                        },
                        "colorscale": [
                          [
                            0,
                            "#0d0887"
                          ],
                          [
                            0.1111111111111111,
                            "#46039f"
                          ],
                          [
                            0.2222222222222222,
                            "#7201a8"
                          ],
                          [
                            0.3333333333333333,
                            "#9c179e"
                          ],
                          [
                            0.4444444444444444,
                            "#bd3786"
                          ],
                          [
                            0.5555555555555556,
                            "#d8576b"
                          ],
                          [
                            0.6666666666666666,
                            "#ed7953"
                          ],
                          [
                            0.7777777777777778,
                            "#fb9f3a"
                          ],
                          [
                            0.8888888888888888,
                            "#fdca26"
                          ],
                          [
                            1,
                            "#f0f921"
                          ]
                        ],
                        "type": "heatmapgl"
                      }
                    ],
                    "histogram": [
                      {
                        "marker": {
                          "pattern": {
                            "fillmode": "overlay",
                            "size": 10,
                            "solidity": 0.2
                          }
                        },
                        "type": "histogram"
                      }
                    ],
                    "histogram2d": [
                      {
                        "colorbar": {
                          "outlinewidth": 0,
                          "ticks": ""
                        },
                        "colorscale": [
                          [
                            0,
                            "#0d0887"
                          ],
                          [
                            0.1111111111111111,
                            "#46039f"
                          ],
                          [
                            0.2222222222222222,
                            "#7201a8"
                          ],
                          [
                            0.3333333333333333,
                            "#9c179e"
                          ],
                          [
                            0.4444444444444444,
                            "#bd3786"
                          ],
                          [
                            0.5555555555555556,
                            "#d8576b"
                          ],
                          [
                            0.6666666666666666,
                            "#ed7953"
                          ],
                          [
                            0.7777777777777778,
                            "#fb9f3a"
                          ],
                          [
                            0.8888888888888888,
                            "#fdca26"
                          ],
                          [
                            1,
                            "#f0f921"
                          ]
                        ],
                        "type": "histogram2d"
                      }
                    ],
                    "histogram2dcontour": [
                      {
                        "colorbar": {
                          "outlinewidth": 0,
                          "ticks": ""
                        },
                        "colorscale": [
                          [
                            0,
                            "#0d0887"
                          ],
                          [
                            0.1111111111111111,
                            "#46039f"
                          ],
                          [
                            0.2222222222222222,
                            "#7201a8"
                          ],
                          [
                            0.3333333333333333,
                            "#9c179e"
                          ],
                          [
                            0.4444444444444444,
                            "#bd3786"
                          ],
                          [
                            0.5555555555555556,
                            "#d8576b"
                          ],
                          [
                            0.6666666666666666,
                            "#ed7953"
                          ],
                          [
                            0.7777777777777778,
                            "#fb9f3a"
                          ],
                          [
                            0.8888888888888888,
                            "#fdca26"
                          ],
                          [
                            1,
                            "#f0f921"
                          ]
                        ],
                        "type": "histogram2dcontour"
                      }
                    ],
                    "mesh3d": [
                      {
                        "colorbar": {
                          "outlinewidth": 0,
                          "ticks": ""
                        },
                        "type": "mesh3d"
                      }
                    ],
                    "parcoords": [
                      {
                        "line": {
                          "colorbar": {
                            "outlinewidth": 0,
                            "ticks": ""
                          }
                        },
                        "type": "parcoords"
                      }
                    ],
                    "pie": [
                      {
                        "automargin": true,
                        "type": "pie"
                      }
                    ],
                    "scatter": [
                      {
                        "fillpattern": {
                          "fillmode": "overlay",
                          "size": 10,
                          "solidity": 0.2
                        },
                        "type": "scatter"
                      }
                    ],
                    "scatter3d": [
                      {
                        "line": {
                          "colorbar": {
                            "outlinewidth": 0,
                            "ticks": ""
                          }
                        },
                        "marker": {
                          "colorbar": {
                            "outlinewidth": 0,
                            "ticks": ""
                          }
                        },
                        "type": "scatter3d"
                      }
                    ],
                    "scattercarpet": [
                      {
                        "marker": {
                          "colorbar": {
                            "outlinewidth": 0,
                            "ticks": ""
                          }
                        },
                        "type": "scattercarpet"
                      }
                    ],
                    "scattergeo": [
                      {
                        "marker": {
                          "colorbar": {
                            "outlinewidth": 0,
                            "ticks": ""
                          }
                        },
                        "type": "scattergeo"
                      }
                    ],
                    "scattergl": [
                      {
                        "marker": {
                          "colorbar": {
                            "outlinewidth": 0,
                            "ticks": ""
                          }
                        },
                        "type": "scattergl"
                      }
                    ],
                    "scattermapbox": [
                      {
                        "marker": {
                          "colorbar": {
                            "outlinewidth": 0,
                            "ticks": ""
                          }
                        },
                        "type": "scattermapbox"
                      }
                    ],
                    "scatterpolar": [
                      {
                        "marker": {
                          "colorbar": {
                            "outlinewidth": 0,
                            "ticks": ""
                          }
                        },
                        "type": "scatterpolar"
                      }
                    ],
                    "scatterpolargl": [
                      {
                        "marker": {
                          "colorbar": {
                            "outlinewidth": 0,
                            "ticks": ""
                          }
                        },
                        "type": "scatterpolargl"
                      }
                    ],
                    "scatterternary": [
                      {
                        "marker": {
                          "colorbar": {
                            "outlinewidth": 0,
                            "ticks": ""
                          }
                        },
                        "type": "scatterternary"
                      }
                    ],
                    "surface": [
                      {
                        "colorbar": {
                          "outlinewidth": 0,
                          "ticks": ""
                        },
                        "colorscale": [
                          [
                            0,
                            "#0d0887"
                          ],
                          [
                            0.1111111111111111,
                            "#46039f"
                          ],
                          [
                            0.2222222222222222,
                            "#7201a8"
                          ],
                          [
                            0.3333333333333333,
                            "#9c179e"
                          ],
                          [
                            0.4444444444444444,
                            "#bd3786"
                          ],
                          [
                            0.5555555555555556,
                            "#d8576b"
                          ],
                          [
                            0.6666666666666666,
                            "#ed7953"
                          ],
                          [
                            0.7777777777777778,
                            "#fb9f3a"
                          ],
                          [
                            0.8888888888888888,
                            "#fdca26"
                          ],
                          [
                            1,
                            "#f0f921"
                          ]
                        ],
                        "type": "surface"
                      }
                    ],
                    "table": [
                      {
                        "cells": {
                          "fill": {
                            "color": "#EBF0F8"
                          },
                          "line": {
                            "color": "white"
                          }
                        },
                        "header": {
                          "fill": {
                            "color": "#C8D4E3"
                          },
                          "line": {
                            "color": "white"
                          }
                        },
                        "type": "table"
                      }
                    ]
                  },
                  "layout": {
                    "annotationdefaults": {
                      "arrowcolor": "#2a3f5f",
                      "arrowhead": 0,
                      "arrowwidth": 1
                    },
                    "autotypenumbers": "strict",
                    "coloraxis": {
                      "colorbar": {
                        "outlinewidth": 0,
                        "ticks": ""
                      }
                    },
                    "colorscale": {
                      "diverging": [
                        [
                          0,
                          "#8e0152"
                        ],
                        [
                          0.1,
                          "#c51b7d"
                        ],
                        [
                          0.2,
                          "#de77ae"
                        ],
                        [
                          0.3,
                          "#f1b6da"
                        ],
                        [
                          0.4,
                          "#fde0ef"
                        ],
                        [
                          0.5,
                          "#f7f7f7"
                        ],
                        [
                          0.6,
                          "#e6f5d0"
                        ],
                        [
                          0.7,
                          "#b8e186"
                        ],
                        [
                          0.8,
                          "#7fbc41"
                        ],
                        [
                          0.9,
                          "#4d9221"
                        ],
                        [
                          1,
                          "#276419"
                        ]
                      ],
                      "sequential": [
                        [
                          0,
                          "#0d0887"
                        ],
                        [
                          0.1111111111111111,
                          "#46039f"
                        ],
                        [
                          0.2222222222222222,
                          "#7201a8"
                        ],
                        [
                          0.3333333333333333,
                          "#9c179e"
                        ],
                        [
                          0.4444444444444444,
                          "#bd3786"
                        ],
                        [
                          0.5555555555555556,
                          "#d8576b"
                        ],
                        [
                          0.6666666666666666,
                          "#ed7953"
                        ],
                        [
                          0.7777777777777778,
                          "#fb9f3a"
                        ],
                        [
                          0.8888888888888888,
                          "#fdca26"
                        ],
                        [
                          1,
                          "#f0f921"
                        ]
                      ],
                      "sequentialminus": [
                        [
                          0,
                          "#0d0887"
                        ],
                        [
                          0.1111111111111111,
                          "#46039f"
                        ],
                        [
                          0.2222222222222222,
                          "#7201a8"
                        ],
                        [
                          0.3333333333333333,
                          "#9c179e"
                        ],
                        [
                          0.4444444444444444,
                          "#bd3786"
                        ],
                        [
                          0.5555555555555556,
                          "#d8576b"
                        ],
                        [
                          0.6666666666666666,
                          "#ed7953"
                        ],
                        [
                          0.7777777777777778,
                          "#fb9f3a"
                        ],
                        [
                          0.8888888888888888,
                          "#fdca26"
                        ],
                        [
                          1,
                          "#f0f921"
                        ]
                      ]
                    },
                    "colorway": [
                      "#636efa",
                      "#EF553B",
                      "#00cc96",
                      "#ab63fa",
                      "#FFA15A",
                      "#19d3f3",
                      "#FF6692",
                      "#B6E880",
                      "#FF97FF",
                      "#FECB52"
                    ],
                    "font": {
                      "color": "#2a3f5f"
                    },
                    "geo": {
                      "bgcolor": "white",
                      "lakecolor": "white",
                      "landcolor": "#E5ECF6",
                      "showlakes": true,
                      "showland": true,
                      "subunitcolor": "white"
                    },
                    "hoverlabel": {
                      "align": "left"
                    },
                    "hovermode": "closest",
                    "mapbox": {
                      "style": "light"
                    },
                    "paper_bgcolor": "white",
                    "plot_bgcolor": "#E5ECF6",
                    "polar": {
                      "angularaxis": {
                        "gridcolor": "white",
                        "linecolor": "white",
                        "ticks": ""
                      },
                      "bgcolor": "#E5ECF6",
                      "radialaxis": {
                        "gridcolor": "white",
                        "linecolor": "white",
                        "ticks": ""
                      }
                    },
                    "scene": {
                      "xaxis": {
                        "backgroundcolor": "#E5ECF6",
                        "gridcolor": "white",
                        "gridwidth": 2,
                        "linecolor": "white",
                        "showbackground": true,
                        "ticks": "",
                        "zerolinecolor": "white"
                      },
                      "yaxis": {
                        "backgroundcolor": "#E5ECF6",
                        "gridcolor": "white",
                        "gridwidth": 2,
                        "linecolor": "white",
                        "showbackground": true,
                        "ticks": "",
                        "zerolinecolor": "white"
                      },
                      "zaxis": {
                        "backgroundcolor": "#E5ECF6",
                        "gridcolor": "white",
                        "gridwidth": 2,
                        "linecolor": "white",
                        "showbackground": true,
                        "ticks": "",
                        "zerolinecolor": "white"
                      }
                    },
                    "shapedefaults": {
                      "line": {
                        "color": "#2a3f5f"
                      }
                    },
                    "ternary": {
                      "aaxis": {
                        "gridcolor": "white",
                        "linecolor": "white",
                        "ticks": ""
                      },
                      "baxis": {
                        "gridcolor": "white",
                        "linecolor": "white",
                        "ticks": ""
                      },
                      "bgcolor": "#E5ECF6",
                      "caxis": {
                        "gridcolor": "white",
                        "linecolor": "white",
                        "ticks": ""
                      }
                    },
                    "title": {
                      "x": 0.05
                    },
                    "xaxis": {
                      "automargin": true,
                      "gridcolor": "white",
                      "linecolor": "white",
                      "ticks": "",
                      "title": {
                        "standoff": 15
                      },
                      "zerolinecolor": "white",
                      "zerolinewidth": 2
                    },
                    "yaxis": {
                      "automargin": true,
                      "gridcolor": "white",
                      "linecolor": "white",
                      "ticks": "",
                      "title": {
                        "standoff": 15
                      },
                      "zerolinecolor": "white",
                      "zerolinewidth": 2
                    }
                  }
                }
              }
            }
          },
          "metadata": {},
          "output_type": "display_data"
        },
        {
          "name": "stdout",
          "output_type": "stream",
          "text": [
            "Choropleth for community 8\n"
          ]
        },
        {
          "data": {
            "application/vnd.plotly.v1+json": {
              "config": {
                "plotlyServerURL": "https://plot.ly"
              },
              "data": [
                {
                  "coloraxis": "coloraxis",
                  "geo": "geo",
                  "hovertemplate": "Country=%{location}<br>Number of users=%{z}<extra></extra>",
                  "locationmode": "country names",
                  "locations": [
                    "United States",
                    "United Kingdom",
                    "Canada",
                    "Australia",
                    "South Africa",
                    "India",
                    "Netherlands",
                    "Germany",
                    "Italy",
                    "Spain",
                    "France",
                    "Brazil",
                    "Sweden",
                    "Japan",
                    "Ireland",
                    "New Zealand",
                    "Mexico",
                    "Poland",
                    "Belgium",
                    "Finland",
                    "Switzerland",
                    "Thailand",
                    "Philippines",
                    "Kenya",
                    "Argentina",
                    "Nigeria",
                    "Chile",
                    "Portugal",
                    "Pakistan",
                    "Norway",
                    "Greece",
                    "Colombia",
                    "Denmark",
                    "Guatemala",
                    "Austria",
                    "Russia",
                    "Indonesia",
                    "United Arab Emirates",
                    "Venezuela",
                    "China",
                    "Peru",
                    "Turkey",
                    "Czechia",
                    "Serbia",
                    "Malaysia",
                    "Uganda",
                    "Panama",
                    "Romania",
                    "Ghana",
                    "Ecuador",
                    "Warsaw",
                    "Slovakia",
                    "Singapore",
                    "Costa Rica",
                    "Saudi Arabia",
                    "South Korea",
                    "Israel",
                    "Bulgaria",
                    "Taiwan",
                    "Estonia",
                    "Zimbabwe",
                    "Hungary",
                    "Ukraine",
                    "Botswana",
                    "Latvia",
                    "Croatia",
                    "Paraguay",
                    "Vietnam",
                    "Bosnia and Herzegovina",
                    "Dominican Republic",
                    "Bangladesh",
                    "Nepal",
                    "Iceland",
                    "Tanzania",
                    "Chad",
                    "Honduras",
                    "Iran",
                    "Morocco",
                    "Trinidad and Tobago",
                    "Slovenia",
                    "Montenegro",
                    "El Salvador",
                    "Barbados",
                    "Namibia",
                    "Myanmar",
                    "Cyprus",
                    "Uruguay",
                    "Jamaica",
                    "Sierra Leone",
                    "Luxembourg",
                    "Azerbaijan",
                    "Suriname",
                    "North Macedonia",
                    "Mali",
                    "The Bahamas",
                    "Mauritius",
                    "Tajikistan",
                    "Iraq",
                    "Guyana",
                    "Jersey",
                    "Haiti",
                    "Albania",
                    "Yemen",
                    "Liberia",
                    "Burkina Faso",
                    "Kuwait",
                    "Guernsey",
                    "Belarus",
                    "Eswatini",
                    "Sri Lanka",
                    "Cuba",
                    "Mongolia",
                    "Zambia",
                    "Qatar",
                    "Togo",
                    "Lebanon",
                    "Gabon",
                    "Belize",
                    "Papua New Guinea",
                    "Nicaragua",
                    "The Gambia",
                    "Malta",
                    "Côte d'Ivoire",
                    "Algeria",
                    "Madagascar",
                    "Djibouti",
                    "Prague",
                    "Andorra",
                    "Rwanda",
                    "Saint Lucia",
                    "Fiji",
                    "Jordan",
                    "Ethiopia",
                    "Bahrain",
                    "North Korea",
                    null,
                    "Somalia",
                    "Cambodia",
                    "Afghanistan",
                    "Bolivia"
                  ],
                  "name": "",
                  "type": "choropleth",
                  "z": [
                    1889,
                    769,
                    380,
                    276,
                    210,
                    161,
                    150,
                    146,
                    128,
                    115,
                    102,
                    100,
                    60,
                    54,
                    51,
                    44,
                    44,
                    41,
                    39,
                    34,
                    29,
                    29,
                    28,
                    25,
                    24,
                    23,
                    21,
                    20,
                    19,
                    19,
                    19,
                    17,
                    17,
                    16,
                    16,
                    15,
                    14,
                    13,
                    12,
                    12,
                    11,
                    11,
                    11,
                    11,
                    9,
                    9,
                    9,
                    8,
                    7,
                    7,
                    7,
                    7,
                    7,
                    7,
                    6,
                    6,
                    6,
                    6,
                    6,
                    6,
                    6,
                    6,
                    5,
                    5,
                    5,
                    5,
                    4,
                    4,
                    4,
                    4,
                    4,
                    4,
                    4,
                    4,
                    4,
                    4,
                    3,
                    3,
                    3,
                    3,
                    3,
                    3,
                    3,
                    3,
                    3,
                    3,
                    3,
                    3,
                    2,
                    2,
                    2,
                    2,
                    2,
                    2,
                    2,
                    2,
                    2,
                    2,
                    2,
                    2,
                    2,
                    2,
                    2,
                    1,
                    1,
                    1,
                    1,
                    1,
                    1,
                    1,
                    1,
                    1,
                    1,
                    1,
                    1,
                    1,
                    1,
                    1,
                    1,
                    1,
                    1,
                    1,
                    1,
                    1,
                    1,
                    1,
                    1,
                    1,
                    1,
                    1,
                    1,
                    1,
                    1,
                    1,
                    1,
                    1,
                    1,
                    1,
                    1,
                    1
                  ]
                }
              ],
              "layout": {
                "coloraxis": {
                  "colorbar": {
                    "title": {
                      "text": "Number of users"
                    }
                  },
                  "colorscale": [
                    [
                      0,
                      "rgb(255,255,204)"
                    ],
                    [
                      0.125,
                      "rgb(255,237,160)"
                    ],
                    [
                      0.25,
                      "rgb(254,217,118)"
                    ],
                    [
                      0.375,
                      "rgb(254,178,76)"
                    ],
                    [
                      0.5,
                      "rgb(253,141,60)"
                    ],
                    [
                      0.625,
                      "rgb(252,78,42)"
                    ],
                    [
                      0.75,
                      "rgb(227,26,28)"
                    ],
                    [
                      0.875,
                      "rgb(189,0,38)"
                    ],
                    [
                      1,
                      "rgb(128,0,38)"
                    ]
                  ]
                },
                "geo": {
                  "center": {},
                  "domain": {
                    "x": [
                      0,
                      1
                    ],
                    "y": [
                      0,
                      1
                    ]
                  },
                  "scope": "world"
                },
                "legend": {
                  "tracegroupgap": 0
                },
                "margin": {
                  "t": 60
                },
                "template": {
                  "data": {
                    "bar": [
                      {
                        "error_x": {
                          "color": "#2a3f5f"
                        },
                        "error_y": {
                          "color": "#2a3f5f"
                        },
                        "marker": {
                          "line": {
                            "color": "#E5ECF6",
                            "width": 0.5
                          },
                          "pattern": {
                            "fillmode": "overlay",
                            "size": 10,
                            "solidity": 0.2
                          }
                        },
                        "type": "bar"
                      }
                    ],
                    "barpolar": [
                      {
                        "marker": {
                          "line": {
                            "color": "#E5ECF6",
                            "width": 0.5
                          },
                          "pattern": {
                            "fillmode": "overlay",
                            "size": 10,
                            "solidity": 0.2
                          }
                        },
                        "type": "barpolar"
                      }
                    ],
                    "carpet": [
                      {
                        "aaxis": {
                          "endlinecolor": "#2a3f5f",
                          "gridcolor": "white",
                          "linecolor": "white",
                          "minorgridcolor": "white",
                          "startlinecolor": "#2a3f5f"
                        },
                        "baxis": {
                          "endlinecolor": "#2a3f5f",
                          "gridcolor": "white",
                          "linecolor": "white",
                          "minorgridcolor": "white",
                          "startlinecolor": "#2a3f5f"
                        },
                        "type": "carpet"
                      }
                    ],
                    "choropleth": [
                      {
                        "colorbar": {
                          "outlinewidth": 0,
                          "ticks": ""
                        },
                        "type": "choropleth"
                      }
                    ],
                    "contour": [
                      {
                        "colorbar": {
                          "outlinewidth": 0,
                          "ticks": ""
                        },
                        "colorscale": [
                          [
                            0,
                            "#0d0887"
                          ],
                          [
                            0.1111111111111111,
                            "#46039f"
                          ],
                          [
                            0.2222222222222222,
                            "#7201a8"
                          ],
                          [
                            0.3333333333333333,
                            "#9c179e"
                          ],
                          [
                            0.4444444444444444,
                            "#bd3786"
                          ],
                          [
                            0.5555555555555556,
                            "#d8576b"
                          ],
                          [
                            0.6666666666666666,
                            "#ed7953"
                          ],
                          [
                            0.7777777777777778,
                            "#fb9f3a"
                          ],
                          [
                            0.8888888888888888,
                            "#fdca26"
                          ],
                          [
                            1,
                            "#f0f921"
                          ]
                        ],
                        "type": "contour"
                      }
                    ],
                    "contourcarpet": [
                      {
                        "colorbar": {
                          "outlinewidth": 0,
                          "ticks": ""
                        },
                        "type": "contourcarpet"
                      }
                    ],
                    "heatmap": [
                      {
                        "colorbar": {
                          "outlinewidth": 0,
                          "ticks": ""
                        },
                        "colorscale": [
                          [
                            0,
                            "#0d0887"
                          ],
                          [
                            0.1111111111111111,
                            "#46039f"
                          ],
                          [
                            0.2222222222222222,
                            "#7201a8"
                          ],
                          [
                            0.3333333333333333,
                            "#9c179e"
                          ],
                          [
                            0.4444444444444444,
                            "#bd3786"
                          ],
                          [
                            0.5555555555555556,
                            "#d8576b"
                          ],
                          [
                            0.6666666666666666,
                            "#ed7953"
                          ],
                          [
                            0.7777777777777778,
                            "#fb9f3a"
                          ],
                          [
                            0.8888888888888888,
                            "#fdca26"
                          ],
                          [
                            1,
                            "#f0f921"
                          ]
                        ],
                        "type": "heatmap"
                      }
                    ],
                    "heatmapgl": [
                      {
                        "colorbar": {
                          "outlinewidth": 0,
                          "ticks": ""
                        },
                        "colorscale": [
                          [
                            0,
                            "#0d0887"
                          ],
                          [
                            0.1111111111111111,
                            "#46039f"
                          ],
                          [
                            0.2222222222222222,
                            "#7201a8"
                          ],
                          [
                            0.3333333333333333,
                            "#9c179e"
                          ],
                          [
                            0.4444444444444444,
                            "#bd3786"
                          ],
                          [
                            0.5555555555555556,
                            "#d8576b"
                          ],
                          [
                            0.6666666666666666,
                            "#ed7953"
                          ],
                          [
                            0.7777777777777778,
                            "#fb9f3a"
                          ],
                          [
                            0.8888888888888888,
                            "#fdca26"
                          ],
                          [
                            1,
                            "#f0f921"
                          ]
                        ],
                        "type": "heatmapgl"
                      }
                    ],
                    "histogram": [
                      {
                        "marker": {
                          "pattern": {
                            "fillmode": "overlay",
                            "size": 10,
                            "solidity": 0.2
                          }
                        },
                        "type": "histogram"
                      }
                    ],
                    "histogram2d": [
                      {
                        "colorbar": {
                          "outlinewidth": 0,
                          "ticks": ""
                        },
                        "colorscale": [
                          [
                            0,
                            "#0d0887"
                          ],
                          [
                            0.1111111111111111,
                            "#46039f"
                          ],
                          [
                            0.2222222222222222,
                            "#7201a8"
                          ],
                          [
                            0.3333333333333333,
                            "#9c179e"
                          ],
                          [
                            0.4444444444444444,
                            "#bd3786"
                          ],
                          [
                            0.5555555555555556,
                            "#d8576b"
                          ],
                          [
                            0.6666666666666666,
                            "#ed7953"
                          ],
                          [
                            0.7777777777777778,
                            "#fb9f3a"
                          ],
                          [
                            0.8888888888888888,
                            "#fdca26"
                          ],
                          [
                            1,
                            "#f0f921"
                          ]
                        ],
                        "type": "histogram2d"
                      }
                    ],
                    "histogram2dcontour": [
                      {
                        "colorbar": {
                          "outlinewidth": 0,
                          "ticks": ""
                        },
                        "colorscale": [
                          [
                            0,
                            "#0d0887"
                          ],
                          [
                            0.1111111111111111,
                            "#46039f"
                          ],
                          [
                            0.2222222222222222,
                            "#7201a8"
                          ],
                          [
                            0.3333333333333333,
                            "#9c179e"
                          ],
                          [
                            0.4444444444444444,
                            "#bd3786"
                          ],
                          [
                            0.5555555555555556,
                            "#d8576b"
                          ],
                          [
                            0.6666666666666666,
                            "#ed7953"
                          ],
                          [
                            0.7777777777777778,
                            "#fb9f3a"
                          ],
                          [
                            0.8888888888888888,
                            "#fdca26"
                          ],
                          [
                            1,
                            "#f0f921"
                          ]
                        ],
                        "type": "histogram2dcontour"
                      }
                    ],
                    "mesh3d": [
                      {
                        "colorbar": {
                          "outlinewidth": 0,
                          "ticks": ""
                        },
                        "type": "mesh3d"
                      }
                    ],
                    "parcoords": [
                      {
                        "line": {
                          "colorbar": {
                            "outlinewidth": 0,
                            "ticks": ""
                          }
                        },
                        "type": "parcoords"
                      }
                    ],
                    "pie": [
                      {
                        "automargin": true,
                        "type": "pie"
                      }
                    ],
                    "scatter": [
                      {
                        "fillpattern": {
                          "fillmode": "overlay",
                          "size": 10,
                          "solidity": 0.2
                        },
                        "type": "scatter"
                      }
                    ],
                    "scatter3d": [
                      {
                        "line": {
                          "colorbar": {
                            "outlinewidth": 0,
                            "ticks": ""
                          }
                        },
                        "marker": {
                          "colorbar": {
                            "outlinewidth": 0,
                            "ticks": ""
                          }
                        },
                        "type": "scatter3d"
                      }
                    ],
                    "scattercarpet": [
                      {
                        "marker": {
                          "colorbar": {
                            "outlinewidth": 0,
                            "ticks": ""
                          }
                        },
                        "type": "scattercarpet"
                      }
                    ],
                    "scattergeo": [
                      {
                        "marker": {
                          "colorbar": {
                            "outlinewidth": 0,
                            "ticks": ""
                          }
                        },
                        "type": "scattergeo"
                      }
                    ],
                    "scattergl": [
                      {
                        "marker": {
                          "colorbar": {
                            "outlinewidth": 0,
                            "ticks": ""
                          }
                        },
                        "type": "scattergl"
                      }
                    ],
                    "scattermapbox": [
                      {
                        "marker": {
                          "colorbar": {
                            "outlinewidth": 0,
                            "ticks": ""
                          }
                        },
                        "type": "scattermapbox"
                      }
                    ],
                    "scatterpolar": [
                      {
                        "marker": {
                          "colorbar": {
                            "outlinewidth": 0,
                            "ticks": ""
                          }
                        },
                        "type": "scatterpolar"
                      }
                    ],
                    "scatterpolargl": [
                      {
                        "marker": {
                          "colorbar": {
                            "outlinewidth": 0,
                            "ticks": ""
                          }
                        },
                        "type": "scatterpolargl"
                      }
                    ],
                    "scatterternary": [
                      {
                        "marker": {
                          "colorbar": {
                            "outlinewidth": 0,
                            "ticks": ""
                          }
                        },
                        "type": "scatterternary"
                      }
                    ],
                    "surface": [
                      {
                        "colorbar": {
                          "outlinewidth": 0,
                          "ticks": ""
                        },
                        "colorscale": [
                          [
                            0,
                            "#0d0887"
                          ],
                          [
                            0.1111111111111111,
                            "#46039f"
                          ],
                          [
                            0.2222222222222222,
                            "#7201a8"
                          ],
                          [
                            0.3333333333333333,
                            "#9c179e"
                          ],
                          [
                            0.4444444444444444,
                            "#bd3786"
                          ],
                          [
                            0.5555555555555556,
                            "#d8576b"
                          ],
                          [
                            0.6666666666666666,
                            "#ed7953"
                          ],
                          [
                            0.7777777777777778,
                            "#fb9f3a"
                          ],
                          [
                            0.8888888888888888,
                            "#fdca26"
                          ],
                          [
                            1,
                            "#f0f921"
                          ]
                        ],
                        "type": "surface"
                      }
                    ],
                    "table": [
                      {
                        "cells": {
                          "fill": {
                            "color": "#EBF0F8"
                          },
                          "line": {
                            "color": "white"
                          }
                        },
                        "header": {
                          "fill": {
                            "color": "#C8D4E3"
                          },
                          "line": {
                            "color": "white"
                          }
                        },
                        "type": "table"
                      }
                    ]
                  },
                  "layout": {
                    "annotationdefaults": {
                      "arrowcolor": "#2a3f5f",
                      "arrowhead": 0,
                      "arrowwidth": 1
                    },
                    "autotypenumbers": "strict",
                    "coloraxis": {
                      "colorbar": {
                        "outlinewidth": 0,
                        "ticks": ""
                      }
                    },
                    "colorscale": {
                      "diverging": [
                        [
                          0,
                          "#8e0152"
                        ],
                        [
                          0.1,
                          "#c51b7d"
                        ],
                        [
                          0.2,
                          "#de77ae"
                        ],
                        [
                          0.3,
                          "#f1b6da"
                        ],
                        [
                          0.4,
                          "#fde0ef"
                        ],
                        [
                          0.5,
                          "#f7f7f7"
                        ],
                        [
                          0.6,
                          "#e6f5d0"
                        ],
                        [
                          0.7,
                          "#b8e186"
                        ],
                        [
                          0.8,
                          "#7fbc41"
                        ],
                        [
                          0.9,
                          "#4d9221"
                        ],
                        [
                          1,
                          "#276419"
                        ]
                      ],
                      "sequential": [
                        [
                          0,
                          "#0d0887"
                        ],
                        [
                          0.1111111111111111,
                          "#46039f"
                        ],
                        [
                          0.2222222222222222,
                          "#7201a8"
                        ],
                        [
                          0.3333333333333333,
                          "#9c179e"
                        ],
                        [
                          0.4444444444444444,
                          "#bd3786"
                        ],
                        [
                          0.5555555555555556,
                          "#d8576b"
                        ],
                        [
                          0.6666666666666666,
                          "#ed7953"
                        ],
                        [
                          0.7777777777777778,
                          "#fb9f3a"
                        ],
                        [
                          0.8888888888888888,
                          "#fdca26"
                        ],
                        [
                          1,
                          "#f0f921"
                        ]
                      ],
                      "sequentialminus": [
                        [
                          0,
                          "#0d0887"
                        ],
                        [
                          0.1111111111111111,
                          "#46039f"
                        ],
                        [
                          0.2222222222222222,
                          "#7201a8"
                        ],
                        [
                          0.3333333333333333,
                          "#9c179e"
                        ],
                        [
                          0.4444444444444444,
                          "#bd3786"
                        ],
                        [
                          0.5555555555555556,
                          "#d8576b"
                        ],
                        [
                          0.6666666666666666,
                          "#ed7953"
                        ],
                        [
                          0.7777777777777778,
                          "#fb9f3a"
                        ],
                        [
                          0.8888888888888888,
                          "#fdca26"
                        ],
                        [
                          1,
                          "#f0f921"
                        ]
                      ]
                    },
                    "colorway": [
                      "#636efa",
                      "#EF553B",
                      "#00cc96",
                      "#ab63fa",
                      "#FFA15A",
                      "#19d3f3",
                      "#FF6692",
                      "#B6E880",
                      "#FF97FF",
                      "#FECB52"
                    ],
                    "font": {
                      "color": "#2a3f5f"
                    },
                    "geo": {
                      "bgcolor": "white",
                      "lakecolor": "white",
                      "landcolor": "#E5ECF6",
                      "showlakes": true,
                      "showland": true,
                      "subunitcolor": "white"
                    },
                    "hoverlabel": {
                      "align": "left"
                    },
                    "hovermode": "closest",
                    "mapbox": {
                      "style": "light"
                    },
                    "paper_bgcolor": "white",
                    "plot_bgcolor": "#E5ECF6",
                    "polar": {
                      "angularaxis": {
                        "gridcolor": "white",
                        "linecolor": "white",
                        "ticks": ""
                      },
                      "bgcolor": "#E5ECF6",
                      "radialaxis": {
                        "gridcolor": "white",
                        "linecolor": "white",
                        "ticks": ""
                      }
                    },
                    "scene": {
                      "xaxis": {
                        "backgroundcolor": "#E5ECF6",
                        "gridcolor": "white",
                        "gridwidth": 2,
                        "linecolor": "white",
                        "showbackground": true,
                        "ticks": "",
                        "zerolinecolor": "white"
                      },
                      "yaxis": {
                        "backgroundcolor": "#E5ECF6",
                        "gridcolor": "white",
                        "gridwidth": 2,
                        "linecolor": "white",
                        "showbackground": true,
                        "ticks": "",
                        "zerolinecolor": "white"
                      },
                      "zaxis": {
                        "backgroundcolor": "#E5ECF6",
                        "gridcolor": "white",
                        "gridwidth": 2,
                        "linecolor": "white",
                        "showbackground": true,
                        "ticks": "",
                        "zerolinecolor": "white"
                      }
                    },
                    "shapedefaults": {
                      "line": {
                        "color": "#2a3f5f"
                      }
                    },
                    "ternary": {
                      "aaxis": {
                        "gridcolor": "white",
                        "linecolor": "white",
                        "ticks": ""
                      },
                      "baxis": {
                        "gridcolor": "white",
                        "linecolor": "white",
                        "ticks": ""
                      },
                      "bgcolor": "#E5ECF6",
                      "caxis": {
                        "gridcolor": "white",
                        "linecolor": "white",
                        "ticks": ""
                      }
                    },
                    "title": {
                      "x": 0.05
                    },
                    "xaxis": {
                      "automargin": true,
                      "gridcolor": "white",
                      "linecolor": "white",
                      "ticks": "",
                      "title": {
                        "standoff": 15
                      },
                      "zerolinecolor": "white",
                      "zerolinewidth": 2
                    },
                    "yaxis": {
                      "automargin": true,
                      "gridcolor": "white",
                      "linecolor": "white",
                      "ticks": "",
                      "title": {
                        "standoff": 15
                      },
                      "zerolinecolor": "white",
                      "zerolinewidth": 2
                    }
                  }
                }
              }
            }
          },
          "metadata": {},
          "output_type": "display_data"
        },
        {
          "name": "stdout",
          "output_type": "stream",
          "text": [
            "Choropleth for community 9\n"
          ]
        },
        {
          "data": {
            "application/vnd.plotly.v1+json": {
              "config": {
                "plotlyServerURL": "https://plot.ly"
              },
              "data": [
                {
                  "coloraxis": "coloraxis",
                  "geo": "geo",
                  "hovertemplate": "Country=%{location}<br>Number of users=%{z}<extra></extra>",
                  "locationmode": "country names",
                  "locations": [
                    "United States",
                    "United Kingdom",
                    "Canada",
                    "Australia",
                    "Mexico",
                    "France",
                    "India",
                    "Germany",
                    "Spain",
                    "Brazil",
                    "Philippines",
                    "South Africa",
                    "New Zealand",
                    "Colombia",
                    "Netherlands",
                    "Italy",
                    "Ireland",
                    "Japan",
                    "Malaysia",
                    "Warsaw",
                    "Kenya",
                    "China",
                    "Nigeria",
                    "Indonesia",
                    "Thailand",
                    "Pakistan",
                    "Chile",
                    "Argentina",
                    "Sweden",
                    "Ghana",
                    "Norway",
                    "Belgium",
                    "Peru",
                    "Denmark",
                    "Portugal",
                    "Greece",
                    "Costa Rica",
                    "Russia",
                    "Bosnia and Herzegovina",
                    "Finland",
                    "Switzerland",
                    "Azerbaijan",
                    "Taiwan",
                    "United Arab Emirates",
                    "Austria",
                    "Uganda",
                    "South Korea",
                    "Bulgaria",
                    "Iran",
                    "Romania",
                    "Guatemala",
                    "Panama",
                    "Singapore",
                    "Ecuador",
                    "Nepal",
                    "Cuba",
                    "Vietnam",
                    "Poland",
                    "Botswana",
                    "Slovenia",
                    "Myanmar",
                    "Ukraine",
                    "Paraguay",
                    "Democratic Republic of the Congo",
                    "Bangladesh",
                    "Jamaica",
                    "Gabon",
                    "Morocco",
                    "Iceland",
                    "Jersey",
                    "Vatican City",
                    "Tanzania",
                    "Latvia",
                    "Ethiopia",
                    "The Bahamas",
                    "Dominican Republic",
                    "Haiti",
                    "Liberia",
                    "Qatar",
                    "Turkey",
                    "Zambia",
                    "Czechia",
                    "Mauritius",
                    "Palestinian Territory",
                    "Trinidad and Tobago",
                    "Egypt",
                    "Cameroon",
                    "Slovakia",
                    "Sierra Leone",
                    "Laos",
                    "Luxembourg",
                    null,
                    "Fiji",
                    "Israel",
                    "Seychelles",
                    "Albania",
                    "Gibraltar",
                    "North Korea",
                    "Cyprus",
                    "Papua New Guinea",
                    "Andorra",
                    "Sri Lanka",
                    "Algeria",
                    "Lebanon",
                    "Samoa",
                    "Belarus",
                    "Estonia",
                    "Cayman Islands",
                    "Malta",
                    "Kuwait",
                    "Uruguay",
                    "Bolivia",
                    "Maldives",
                    "Cambodia",
                    "Serbia",
                    "Moldova",
                    "Saudi Arabia",
                    "Prague",
                    "Bhutan",
                    "Tonga",
                    "Somalia",
                    "Mali",
                    "Armenia",
                    "Croatia",
                    "Kazakhstan",
                    "Senegal",
                    "Guernsey",
                    "Nicaragua",
                    "Iraq",
                    "North Macedonia",
                    "El Salvador",
                    "Tunisia",
                    "Antigua and Barbuda"
                  ],
                  "name": "",
                  "type": "choropleth",
                  "z": [
                    4888,
                    403,
                    329,
                    188,
                    85,
                    68,
                    65,
                    63,
                    55,
                    52,
                    45,
                    36,
                    35,
                    31,
                    29,
                    28,
                    28,
                    25,
                    24,
                    21,
                    21,
                    18,
                    18,
                    17,
                    17,
                    17,
                    17,
                    14,
                    13,
                    11,
                    11,
                    11,
                    9,
                    9,
                    9,
                    9,
                    9,
                    9,
                    9,
                    8,
                    7,
                    7,
                    7,
                    7,
                    7,
                    6,
                    6,
                    5,
                    5,
                    5,
                    5,
                    5,
                    5,
                    5,
                    5,
                    4,
                    4,
                    4,
                    4,
                    4,
                    4,
                    4,
                    4,
                    4,
                    4,
                    4,
                    3,
                    3,
                    3,
                    3,
                    3,
                    3,
                    3,
                    3,
                    3,
                    3,
                    3,
                    3,
                    3,
                    3,
                    2,
                    2,
                    2,
                    2,
                    2,
                    2,
                    2,
                    2,
                    2,
                    2,
                    2,
                    2,
                    2,
                    2,
                    2,
                    2,
                    1,
                    1,
                    1,
                    1,
                    1,
                    1,
                    1,
                    1,
                    1,
                    1,
                    1,
                    1,
                    1,
                    1,
                    1,
                    1,
                    1,
                    1,
                    1,
                    1,
                    1,
                    1,
                    1,
                    1,
                    1,
                    1,
                    1,
                    1,
                    1,
                    1,
                    1,
                    1,
                    1,
                    1,
                    1,
                    1,
                    1
                  ]
                }
              ],
              "layout": {
                "coloraxis": {
                  "colorbar": {
                    "title": {
                      "text": "Number of users"
                    }
                  },
                  "colorscale": [
                    [
                      0,
                      "rgb(255,255,204)"
                    ],
                    [
                      0.125,
                      "rgb(255,237,160)"
                    ],
                    [
                      0.25,
                      "rgb(254,217,118)"
                    ],
                    [
                      0.375,
                      "rgb(254,178,76)"
                    ],
                    [
                      0.5,
                      "rgb(253,141,60)"
                    ],
                    [
                      0.625,
                      "rgb(252,78,42)"
                    ],
                    [
                      0.75,
                      "rgb(227,26,28)"
                    ],
                    [
                      0.875,
                      "rgb(189,0,38)"
                    ],
                    [
                      1,
                      "rgb(128,0,38)"
                    ]
                  ]
                },
                "geo": {
                  "center": {},
                  "domain": {
                    "x": [
                      0,
                      1
                    ],
                    "y": [
                      0,
                      1
                    ]
                  },
                  "scope": "world"
                },
                "legend": {
                  "tracegroupgap": 0
                },
                "margin": {
                  "t": 60
                },
                "template": {
                  "data": {
                    "bar": [
                      {
                        "error_x": {
                          "color": "#2a3f5f"
                        },
                        "error_y": {
                          "color": "#2a3f5f"
                        },
                        "marker": {
                          "line": {
                            "color": "#E5ECF6",
                            "width": 0.5
                          },
                          "pattern": {
                            "fillmode": "overlay",
                            "size": 10,
                            "solidity": 0.2
                          }
                        },
                        "type": "bar"
                      }
                    ],
                    "barpolar": [
                      {
                        "marker": {
                          "line": {
                            "color": "#E5ECF6",
                            "width": 0.5
                          },
                          "pattern": {
                            "fillmode": "overlay",
                            "size": 10,
                            "solidity": 0.2
                          }
                        },
                        "type": "barpolar"
                      }
                    ],
                    "carpet": [
                      {
                        "aaxis": {
                          "endlinecolor": "#2a3f5f",
                          "gridcolor": "white",
                          "linecolor": "white",
                          "minorgridcolor": "white",
                          "startlinecolor": "#2a3f5f"
                        },
                        "baxis": {
                          "endlinecolor": "#2a3f5f",
                          "gridcolor": "white",
                          "linecolor": "white",
                          "minorgridcolor": "white",
                          "startlinecolor": "#2a3f5f"
                        },
                        "type": "carpet"
                      }
                    ],
                    "choropleth": [
                      {
                        "colorbar": {
                          "outlinewidth": 0,
                          "ticks": ""
                        },
                        "type": "choropleth"
                      }
                    ],
                    "contour": [
                      {
                        "colorbar": {
                          "outlinewidth": 0,
                          "ticks": ""
                        },
                        "colorscale": [
                          [
                            0,
                            "#0d0887"
                          ],
                          [
                            0.1111111111111111,
                            "#46039f"
                          ],
                          [
                            0.2222222222222222,
                            "#7201a8"
                          ],
                          [
                            0.3333333333333333,
                            "#9c179e"
                          ],
                          [
                            0.4444444444444444,
                            "#bd3786"
                          ],
                          [
                            0.5555555555555556,
                            "#d8576b"
                          ],
                          [
                            0.6666666666666666,
                            "#ed7953"
                          ],
                          [
                            0.7777777777777778,
                            "#fb9f3a"
                          ],
                          [
                            0.8888888888888888,
                            "#fdca26"
                          ],
                          [
                            1,
                            "#f0f921"
                          ]
                        ],
                        "type": "contour"
                      }
                    ],
                    "contourcarpet": [
                      {
                        "colorbar": {
                          "outlinewidth": 0,
                          "ticks": ""
                        },
                        "type": "contourcarpet"
                      }
                    ],
                    "heatmap": [
                      {
                        "colorbar": {
                          "outlinewidth": 0,
                          "ticks": ""
                        },
                        "colorscale": [
                          [
                            0,
                            "#0d0887"
                          ],
                          [
                            0.1111111111111111,
                            "#46039f"
                          ],
                          [
                            0.2222222222222222,
                            "#7201a8"
                          ],
                          [
                            0.3333333333333333,
                            "#9c179e"
                          ],
                          [
                            0.4444444444444444,
                            "#bd3786"
                          ],
                          [
                            0.5555555555555556,
                            "#d8576b"
                          ],
                          [
                            0.6666666666666666,
                            "#ed7953"
                          ],
                          [
                            0.7777777777777778,
                            "#fb9f3a"
                          ],
                          [
                            0.8888888888888888,
                            "#fdca26"
                          ],
                          [
                            1,
                            "#f0f921"
                          ]
                        ],
                        "type": "heatmap"
                      }
                    ],
                    "heatmapgl": [
                      {
                        "colorbar": {
                          "outlinewidth": 0,
                          "ticks": ""
                        },
                        "colorscale": [
                          [
                            0,
                            "#0d0887"
                          ],
                          [
                            0.1111111111111111,
                            "#46039f"
                          ],
                          [
                            0.2222222222222222,
                            "#7201a8"
                          ],
                          [
                            0.3333333333333333,
                            "#9c179e"
                          ],
                          [
                            0.4444444444444444,
                            "#bd3786"
                          ],
                          [
                            0.5555555555555556,
                            "#d8576b"
                          ],
                          [
                            0.6666666666666666,
                            "#ed7953"
                          ],
                          [
                            0.7777777777777778,
                            "#fb9f3a"
                          ],
                          [
                            0.8888888888888888,
                            "#fdca26"
                          ],
                          [
                            1,
                            "#f0f921"
                          ]
                        ],
                        "type": "heatmapgl"
                      }
                    ],
                    "histogram": [
                      {
                        "marker": {
                          "pattern": {
                            "fillmode": "overlay",
                            "size": 10,
                            "solidity": 0.2
                          }
                        },
                        "type": "histogram"
                      }
                    ],
                    "histogram2d": [
                      {
                        "colorbar": {
                          "outlinewidth": 0,
                          "ticks": ""
                        },
                        "colorscale": [
                          [
                            0,
                            "#0d0887"
                          ],
                          [
                            0.1111111111111111,
                            "#46039f"
                          ],
                          [
                            0.2222222222222222,
                            "#7201a8"
                          ],
                          [
                            0.3333333333333333,
                            "#9c179e"
                          ],
                          [
                            0.4444444444444444,
                            "#bd3786"
                          ],
                          [
                            0.5555555555555556,
                            "#d8576b"
                          ],
                          [
                            0.6666666666666666,
                            "#ed7953"
                          ],
                          [
                            0.7777777777777778,
                            "#fb9f3a"
                          ],
                          [
                            0.8888888888888888,
                            "#fdca26"
                          ],
                          [
                            1,
                            "#f0f921"
                          ]
                        ],
                        "type": "histogram2d"
                      }
                    ],
                    "histogram2dcontour": [
                      {
                        "colorbar": {
                          "outlinewidth": 0,
                          "ticks": ""
                        },
                        "colorscale": [
                          [
                            0,
                            "#0d0887"
                          ],
                          [
                            0.1111111111111111,
                            "#46039f"
                          ],
                          [
                            0.2222222222222222,
                            "#7201a8"
                          ],
                          [
                            0.3333333333333333,
                            "#9c179e"
                          ],
                          [
                            0.4444444444444444,
                            "#bd3786"
                          ],
                          [
                            0.5555555555555556,
                            "#d8576b"
                          ],
                          [
                            0.6666666666666666,
                            "#ed7953"
                          ],
                          [
                            0.7777777777777778,
                            "#fb9f3a"
                          ],
                          [
                            0.8888888888888888,
                            "#fdca26"
                          ],
                          [
                            1,
                            "#f0f921"
                          ]
                        ],
                        "type": "histogram2dcontour"
                      }
                    ],
                    "mesh3d": [
                      {
                        "colorbar": {
                          "outlinewidth": 0,
                          "ticks": ""
                        },
                        "type": "mesh3d"
                      }
                    ],
                    "parcoords": [
                      {
                        "line": {
                          "colorbar": {
                            "outlinewidth": 0,
                            "ticks": ""
                          }
                        },
                        "type": "parcoords"
                      }
                    ],
                    "pie": [
                      {
                        "automargin": true,
                        "type": "pie"
                      }
                    ],
                    "scatter": [
                      {
                        "fillpattern": {
                          "fillmode": "overlay",
                          "size": 10,
                          "solidity": 0.2
                        },
                        "type": "scatter"
                      }
                    ],
                    "scatter3d": [
                      {
                        "line": {
                          "colorbar": {
                            "outlinewidth": 0,
                            "ticks": ""
                          }
                        },
                        "marker": {
                          "colorbar": {
                            "outlinewidth": 0,
                            "ticks": ""
                          }
                        },
                        "type": "scatter3d"
                      }
                    ],
                    "scattercarpet": [
                      {
                        "marker": {
                          "colorbar": {
                            "outlinewidth": 0,
                            "ticks": ""
                          }
                        },
                        "type": "scattercarpet"
                      }
                    ],
                    "scattergeo": [
                      {
                        "marker": {
                          "colorbar": {
                            "outlinewidth": 0,
                            "ticks": ""
                          }
                        },
                        "type": "scattergeo"
                      }
                    ],
                    "scattergl": [
                      {
                        "marker": {
                          "colorbar": {
                            "outlinewidth": 0,
                            "ticks": ""
                          }
                        },
                        "type": "scattergl"
                      }
                    ],
                    "scattermapbox": [
                      {
                        "marker": {
                          "colorbar": {
                            "outlinewidth": 0,
                            "ticks": ""
                          }
                        },
                        "type": "scattermapbox"
                      }
                    ],
                    "scatterpolar": [
                      {
                        "marker": {
                          "colorbar": {
                            "outlinewidth": 0,
                            "ticks": ""
                          }
                        },
                        "type": "scatterpolar"
                      }
                    ],
                    "scatterpolargl": [
                      {
                        "marker": {
                          "colorbar": {
                            "outlinewidth": 0,
                            "ticks": ""
                          }
                        },
                        "type": "scatterpolargl"
                      }
                    ],
                    "scatterternary": [
                      {
                        "marker": {
                          "colorbar": {
                            "outlinewidth": 0,
                            "ticks": ""
                          }
                        },
                        "type": "scatterternary"
                      }
                    ],
                    "surface": [
                      {
                        "colorbar": {
                          "outlinewidth": 0,
                          "ticks": ""
                        },
                        "colorscale": [
                          [
                            0,
                            "#0d0887"
                          ],
                          [
                            0.1111111111111111,
                            "#46039f"
                          ],
                          [
                            0.2222222222222222,
                            "#7201a8"
                          ],
                          [
                            0.3333333333333333,
                            "#9c179e"
                          ],
                          [
                            0.4444444444444444,
                            "#bd3786"
                          ],
                          [
                            0.5555555555555556,
                            "#d8576b"
                          ],
                          [
                            0.6666666666666666,
                            "#ed7953"
                          ],
                          [
                            0.7777777777777778,
                            "#fb9f3a"
                          ],
                          [
                            0.8888888888888888,
                            "#fdca26"
                          ],
                          [
                            1,
                            "#f0f921"
                          ]
                        ],
                        "type": "surface"
                      }
                    ],
                    "table": [
                      {
                        "cells": {
                          "fill": {
                            "color": "#EBF0F8"
                          },
                          "line": {
                            "color": "white"
                          }
                        },
                        "header": {
                          "fill": {
                            "color": "#C8D4E3"
                          },
                          "line": {
                            "color": "white"
                          }
                        },
                        "type": "table"
                      }
                    ]
                  },
                  "layout": {
                    "annotationdefaults": {
                      "arrowcolor": "#2a3f5f",
                      "arrowhead": 0,
                      "arrowwidth": 1
                    },
                    "autotypenumbers": "strict",
                    "coloraxis": {
                      "colorbar": {
                        "outlinewidth": 0,
                        "ticks": ""
                      }
                    },
                    "colorscale": {
                      "diverging": [
                        [
                          0,
                          "#8e0152"
                        ],
                        [
                          0.1,
                          "#c51b7d"
                        ],
                        [
                          0.2,
                          "#de77ae"
                        ],
                        [
                          0.3,
                          "#f1b6da"
                        ],
                        [
                          0.4,
                          "#fde0ef"
                        ],
                        [
                          0.5,
                          "#f7f7f7"
                        ],
                        [
                          0.6,
                          "#e6f5d0"
                        ],
                        [
                          0.7,
                          "#b8e186"
                        ],
                        [
                          0.8,
                          "#7fbc41"
                        ],
                        [
                          0.9,
                          "#4d9221"
                        ],
                        [
                          1,
                          "#276419"
                        ]
                      ],
                      "sequential": [
                        [
                          0,
                          "#0d0887"
                        ],
                        [
                          0.1111111111111111,
                          "#46039f"
                        ],
                        [
                          0.2222222222222222,
                          "#7201a8"
                        ],
                        [
                          0.3333333333333333,
                          "#9c179e"
                        ],
                        [
                          0.4444444444444444,
                          "#bd3786"
                        ],
                        [
                          0.5555555555555556,
                          "#d8576b"
                        ],
                        [
                          0.6666666666666666,
                          "#ed7953"
                        ],
                        [
                          0.7777777777777778,
                          "#fb9f3a"
                        ],
                        [
                          0.8888888888888888,
                          "#fdca26"
                        ],
                        [
                          1,
                          "#f0f921"
                        ]
                      ],
                      "sequentialminus": [
                        [
                          0,
                          "#0d0887"
                        ],
                        [
                          0.1111111111111111,
                          "#46039f"
                        ],
                        [
                          0.2222222222222222,
                          "#7201a8"
                        ],
                        [
                          0.3333333333333333,
                          "#9c179e"
                        ],
                        [
                          0.4444444444444444,
                          "#bd3786"
                        ],
                        [
                          0.5555555555555556,
                          "#d8576b"
                        ],
                        [
                          0.6666666666666666,
                          "#ed7953"
                        ],
                        [
                          0.7777777777777778,
                          "#fb9f3a"
                        ],
                        [
                          0.8888888888888888,
                          "#fdca26"
                        ],
                        [
                          1,
                          "#f0f921"
                        ]
                      ]
                    },
                    "colorway": [
                      "#636efa",
                      "#EF553B",
                      "#00cc96",
                      "#ab63fa",
                      "#FFA15A",
                      "#19d3f3",
                      "#FF6692",
                      "#B6E880",
                      "#FF97FF",
                      "#FECB52"
                    ],
                    "font": {
                      "color": "#2a3f5f"
                    },
                    "geo": {
                      "bgcolor": "white",
                      "lakecolor": "white",
                      "landcolor": "#E5ECF6",
                      "showlakes": true,
                      "showland": true,
                      "subunitcolor": "white"
                    },
                    "hoverlabel": {
                      "align": "left"
                    },
                    "hovermode": "closest",
                    "mapbox": {
                      "style": "light"
                    },
                    "paper_bgcolor": "white",
                    "plot_bgcolor": "#E5ECF6",
                    "polar": {
                      "angularaxis": {
                        "gridcolor": "white",
                        "linecolor": "white",
                        "ticks": ""
                      },
                      "bgcolor": "#E5ECF6",
                      "radialaxis": {
                        "gridcolor": "white",
                        "linecolor": "white",
                        "ticks": ""
                      }
                    },
                    "scene": {
                      "xaxis": {
                        "backgroundcolor": "#E5ECF6",
                        "gridcolor": "white",
                        "gridwidth": 2,
                        "linecolor": "white",
                        "showbackground": true,
                        "ticks": "",
                        "zerolinecolor": "white"
                      },
                      "yaxis": {
                        "backgroundcolor": "#E5ECF6",
                        "gridcolor": "white",
                        "gridwidth": 2,
                        "linecolor": "white",
                        "showbackground": true,
                        "ticks": "",
                        "zerolinecolor": "white"
                      },
                      "zaxis": {
                        "backgroundcolor": "#E5ECF6",
                        "gridcolor": "white",
                        "gridwidth": 2,
                        "linecolor": "white",
                        "showbackground": true,
                        "ticks": "",
                        "zerolinecolor": "white"
                      }
                    },
                    "shapedefaults": {
                      "line": {
                        "color": "#2a3f5f"
                      }
                    },
                    "ternary": {
                      "aaxis": {
                        "gridcolor": "white",
                        "linecolor": "white",
                        "ticks": ""
                      },
                      "baxis": {
                        "gridcolor": "white",
                        "linecolor": "white",
                        "ticks": ""
                      },
                      "bgcolor": "#E5ECF6",
                      "caxis": {
                        "gridcolor": "white",
                        "linecolor": "white",
                        "ticks": ""
                      }
                    },
                    "title": {
                      "x": 0.05
                    },
                    "xaxis": {
                      "automargin": true,
                      "gridcolor": "white",
                      "linecolor": "white",
                      "ticks": "",
                      "title": {
                        "standoff": 15
                      },
                      "zerolinecolor": "white",
                      "zerolinewidth": 2
                    },
                    "yaxis": {
                      "automargin": true,
                      "gridcolor": "white",
                      "linecolor": "white",
                      "ticks": "",
                      "title": {
                        "standoff": 15
                      },
                      "zerolinecolor": "white",
                      "zerolinewidth": 2
                    }
                  }
                }
              }
            }
          },
          "metadata": {},
          "output_type": "display_data"
        },
        {
          "name": "stdout",
          "output_type": "stream",
          "text": [
            "Choropleth for community 10\n"
          ]
        },
        {
          "data": {
            "application/vnd.plotly.v1+json": {
              "config": {
                "plotlyServerURL": "https://plot.ly"
              },
              "data": [
                {
                  "coloraxis": "coloraxis",
                  "geo": "geo",
                  "hovertemplate": "Country=%{location}<br>Number of users=%{z}<extra></extra>",
                  "locationmode": "country names",
                  "locations": [
                    "United States",
                    "United Kingdom",
                    "South Africa",
                    "Nigeria",
                    "Canada",
                    "Kenya",
                    "India",
                    "Australia",
                    "France",
                    "Germany",
                    "Spain",
                    "Italy",
                    "United Arab Emirates",
                    "Netherlands",
                    "Pakistan",
                    "Uganda",
                    "Portugal",
                    "Mexico",
                    "Brazil",
                    "Ghana",
                    "Malaysia",
                    "Belgium",
                    "Ireland",
                    "Indonesia",
                    "Japan",
                    "Argentina",
                    "Russia",
                    "Greece",
                    "Colombia",
                    "Poland",
                    "New Zealand",
                    "Thailand",
                    "China",
                    "Sweden",
                    "Romania",
                    "Philippines",
                    "Switzerland",
                    "Czechia",
                    "Turkey",
                    "Singapore",
                    "Austria",
                    "Tanzania",
                    "Morocco",
                    "Chile",
                    "Denmark",
                    "Saudi Arabia",
                    "Norway",
                    "Finland",
                    "Chad",
                    "Venezuela",
                    "Sri Lanka",
                    "Costa Rica",
                    "Croatia",
                    "Qatar",
                    "Serbia",
                    "Zimbabwe",
                    "Trinidad and Tobago",
                    "Algeria",
                    "Israel",
                    "Bosnia and Herzegovina",
                    "Egypt",
                    "Myanmar",
                    "Hungary",
                    "Cyprus",
                    "South Korea",
                    "Nepal",
                    "Jamaica",
                    "Namibia",
                    "Ukraine",
                    "Albania",
                    "Taiwan",
                    "Panama",
                    "Vietnam",
                    "Dominican Republic",
                    "Ethiopia",
                    "Zambia",
                    "Iran",
                    "Peru",
                    "Guatemala",
                    "Slovakia",
                    "North Macedonia",
                    "Botswana",
                    "Ecuador",
                    "Maldives",
                    "Mozambique",
                    "Kazakhstan",
                    "Georgia",
                    "Palestinian Territory",
                    "Rwanda",
                    "Bulgaria",
                    "Iraq",
                    "Slovenia",
                    "Oman",
                    "Prague",
                    "Estonia",
                    "Warsaw",
                    "Seychelles",
                    "Belarus",
                    "Yemen",
                    "Mauritius",
                    "Jersey",
                    "Laos",
                    "Malawi",
                    "Lithuania",
                    "Cameroon",
                    "Papua New Guinea",
                    "Liberia",
                    "Bolivia",
                    "Afghanistan",
                    "Lebanon",
                    "Brunei",
                    "Luxembourg",
                    "Bahrain",
                    "Kuwait",
                    "Bangladesh",
                    "Sudan",
                    "Mongolia",
                    "Kosovo",
                    "Mali",
                    "Democratic Republic of the Congo",
                    "The Bahamas",
                    "Azerbaijan",
                    "Eswatini",
                    "Fiji",
                    "Malta",
                    "Monaco",
                    "South Sudan",
                    "Benin",
                    "Burkina Faso",
                    "Moldova",
                    "Iceland",
                    null,
                    "Uruguay",
                    "Tunisia",
                    "Isle of Man",
                    "Congo-Brazzaville",
                    "Libya",
                    "Cuba",
                    "North Korea",
                    "Belize",
                    "Gabon",
                    "Nomads Land",
                    "Jordan",
                    "Togo",
                    "Djibouti",
                    "Burundi",
                    "Barbados",
                    "El Salvador",
                    "Niger",
                    "Somalia",
                    "Tokelau",
                    "Haiti",
                    "Armenia",
                    "Turks and Caicos Islands",
                    "Latvia",
                    "Sierra Leone",
                    "Vatican City",
                    "Angola",
                    "Côte d'Ivoire",
                    "Federated States of Micronesia",
                    "Paraguay"
                  ],
                  "name": "",
                  "type": "choropleth",
                  "z": [
                    2105,
                    759,
                    256,
                    251,
                    249,
                    175,
                    161,
                    149,
                    104,
                    99,
                    79,
                    53,
                    46,
                    45,
                    43,
                    40,
                    40,
                    39,
                    39,
                    38,
                    37,
                    34,
                    33,
                    30,
                    28,
                    26,
                    24,
                    24,
                    24,
                    23,
                    22,
                    22,
                    21,
                    21,
                    21,
                    20,
                    20,
                    18,
                    17,
                    17,
                    17,
                    16,
                    15,
                    15,
                    14,
                    14,
                    13,
                    13,
                    12,
                    11,
                    10,
                    10,
                    9,
                    9,
                    9,
                    9,
                    8,
                    8,
                    8,
                    8,
                    8,
                    8,
                    7,
                    7,
                    7,
                    7,
                    7,
                    6,
                    6,
                    6,
                    6,
                    6,
                    6,
                    6,
                    6,
                    6,
                    6,
                    5,
                    5,
                    5,
                    5,
                    5,
                    5,
                    5,
                    5,
                    4,
                    4,
                    4,
                    4,
                    4,
                    4,
                    4,
                    4,
                    4,
                    4,
                    4,
                    4,
                    3,
                    3,
                    3,
                    3,
                    3,
                    3,
                    3,
                    3,
                    3,
                    3,
                    3,
                    3,
                    3,
                    3,
                    3,
                    3,
                    3,
                    2,
                    2,
                    2,
                    2,
                    2,
                    2,
                    2,
                    2,
                    2,
                    2,
                    2,
                    2,
                    2,
                    2,
                    2,
                    2,
                    2,
                    2,
                    2,
                    2,
                    1,
                    1,
                    1,
                    1,
                    1,
                    1,
                    1,
                    1,
                    1,
                    1,
                    1,
                    1,
                    1,
                    1,
                    1,
                    1,
                    1,
                    1,
                    1,
                    1,
                    1,
                    1,
                    1,
                    1,
                    1,
                    1,
                    1
                  ]
                }
              ],
              "layout": {
                "coloraxis": {
                  "colorbar": {
                    "title": {
                      "text": "Number of users"
                    }
                  },
                  "colorscale": [
                    [
                      0,
                      "rgb(255,255,204)"
                    ],
                    [
                      0.125,
                      "rgb(255,237,160)"
                    ],
                    [
                      0.25,
                      "rgb(254,217,118)"
                    ],
                    [
                      0.375,
                      "rgb(254,178,76)"
                    ],
                    [
                      0.5,
                      "rgb(253,141,60)"
                    ],
                    [
                      0.625,
                      "rgb(252,78,42)"
                    ],
                    [
                      0.75,
                      "rgb(227,26,28)"
                    ],
                    [
                      0.875,
                      "rgb(189,0,38)"
                    ],
                    [
                      1,
                      "rgb(128,0,38)"
                    ]
                  ]
                },
                "geo": {
                  "center": {},
                  "domain": {
                    "x": [
                      0,
                      1
                    ],
                    "y": [
                      0,
                      1
                    ]
                  },
                  "scope": "world"
                },
                "legend": {
                  "tracegroupgap": 0
                },
                "margin": {
                  "t": 60
                },
                "template": {
                  "data": {
                    "bar": [
                      {
                        "error_x": {
                          "color": "#2a3f5f"
                        },
                        "error_y": {
                          "color": "#2a3f5f"
                        },
                        "marker": {
                          "line": {
                            "color": "#E5ECF6",
                            "width": 0.5
                          },
                          "pattern": {
                            "fillmode": "overlay",
                            "size": 10,
                            "solidity": 0.2
                          }
                        },
                        "type": "bar"
                      }
                    ],
                    "barpolar": [
                      {
                        "marker": {
                          "line": {
                            "color": "#E5ECF6",
                            "width": 0.5
                          },
                          "pattern": {
                            "fillmode": "overlay",
                            "size": 10,
                            "solidity": 0.2
                          }
                        },
                        "type": "barpolar"
                      }
                    ],
                    "carpet": [
                      {
                        "aaxis": {
                          "endlinecolor": "#2a3f5f",
                          "gridcolor": "white",
                          "linecolor": "white",
                          "minorgridcolor": "white",
                          "startlinecolor": "#2a3f5f"
                        },
                        "baxis": {
                          "endlinecolor": "#2a3f5f",
                          "gridcolor": "white",
                          "linecolor": "white",
                          "minorgridcolor": "white",
                          "startlinecolor": "#2a3f5f"
                        },
                        "type": "carpet"
                      }
                    ],
                    "choropleth": [
                      {
                        "colorbar": {
                          "outlinewidth": 0,
                          "ticks": ""
                        },
                        "type": "choropleth"
                      }
                    ],
                    "contour": [
                      {
                        "colorbar": {
                          "outlinewidth": 0,
                          "ticks": ""
                        },
                        "colorscale": [
                          [
                            0,
                            "#0d0887"
                          ],
                          [
                            0.1111111111111111,
                            "#46039f"
                          ],
                          [
                            0.2222222222222222,
                            "#7201a8"
                          ],
                          [
                            0.3333333333333333,
                            "#9c179e"
                          ],
                          [
                            0.4444444444444444,
                            "#bd3786"
                          ],
                          [
                            0.5555555555555556,
                            "#d8576b"
                          ],
                          [
                            0.6666666666666666,
                            "#ed7953"
                          ],
                          [
                            0.7777777777777778,
                            "#fb9f3a"
                          ],
                          [
                            0.8888888888888888,
                            "#fdca26"
                          ],
                          [
                            1,
                            "#f0f921"
                          ]
                        ],
                        "type": "contour"
                      }
                    ],
                    "contourcarpet": [
                      {
                        "colorbar": {
                          "outlinewidth": 0,
                          "ticks": ""
                        },
                        "type": "contourcarpet"
                      }
                    ],
                    "heatmap": [
                      {
                        "colorbar": {
                          "outlinewidth": 0,
                          "ticks": ""
                        },
                        "colorscale": [
                          [
                            0,
                            "#0d0887"
                          ],
                          [
                            0.1111111111111111,
                            "#46039f"
                          ],
                          [
                            0.2222222222222222,
                            "#7201a8"
                          ],
                          [
                            0.3333333333333333,
                            "#9c179e"
                          ],
                          [
                            0.4444444444444444,
                            "#bd3786"
                          ],
                          [
                            0.5555555555555556,
                            "#d8576b"
                          ],
                          [
                            0.6666666666666666,
                            "#ed7953"
                          ],
                          [
                            0.7777777777777778,
                            "#fb9f3a"
                          ],
                          [
                            0.8888888888888888,
                            "#fdca26"
                          ],
                          [
                            1,
                            "#f0f921"
                          ]
                        ],
                        "type": "heatmap"
                      }
                    ],
                    "heatmapgl": [
                      {
                        "colorbar": {
                          "outlinewidth": 0,
                          "ticks": ""
                        },
                        "colorscale": [
                          [
                            0,
                            "#0d0887"
                          ],
                          [
                            0.1111111111111111,
                            "#46039f"
                          ],
                          [
                            0.2222222222222222,
                            "#7201a8"
                          ],
                          [
                            0.3333333333333333,
                            "#9c179e"
                          ],
                          [
                            0.4444444444444444,
                            "#bd3786"
                          ],
                          [
                            0.5555555555555556,
                            "#d8576b"
                          ],
                          [
                            0.6666666666666666,
                            "#ed7953"
                          ],
                          [
                            0.7777777777777778,
                            "#fb9f3a"
                          ],
                          [
                            0.8888888888888888,
                            "#fdca26"
                          ],
                          [
                            1,
                            "#f0f921"
                          ]
                        ],
                        "type": "heatmapgl"
                      }
                    ],
                    "histogram": [
                      {
                        "marker": {
                          "pattern": {
                            "fillmode": "overlay",
                            "size": 10,
                            "solidity": 0.2
                          }
                        },
                        "type": "histogram"
                      }
                    ],
                    "histogram2d": [
                      {
                        "colorbar": {
                          "outlinewidth": 0,
                          "ticks": ""
                        },
                        "colorscale": [
                          [
                            0,
                            "#0d0887"
                          ],
                          [
                            0.1111111111111111,
                            "#46039f"
                          ],
                          [
                            0.2222222222222222,
                            "#7201a8"
                          ],
                          [
                            0.3333333333333333,
                            "#9c179e"
                          ],
                          [
                            0.4444444444444444,
                            "#bd3786"
                          ],
                          [
                            0.5555555555555556,
                            "#d8576b"
                          ],
                          [
                            0.6666666666666666,
                            "#ed7953"
                          ],
                          [
                            0.7777777777777778,
                            "#fb9f3a"
                          ],
                          [
                            0.8888888888888888,
                            "#fdca26"
                          ],
                          [
                            1,
                            "#f0f921"
                          ]
                        ],
                        "type": "histogram2d"
                      }
                    ],
                    "histogram2dcontour": [
                      {
                        "colorbar": {
                          "outlinewidth": 0,
                          "ticks": ""
                        },
                        "colorscale": [
                          [
                            0,
                            "#0d0887"
                          ],
                          [
                            0.1111111111111111,
                            "#46039f"
                          ],
                          [
                            0.2222222222222222,
                            "#7201a8"
                          ],
                          [
                            0.3333333333333333,
                            "#9c179e"
                          ],
                          [
                            0.4444444444444444,
                            "#bd3786"
                          ],
                          [
                            0.5555555555555556,
                            "#d8576b"
                          ],
                          [
                            0.6666666666666666,
                            "#ed7953"
                          ],
                          [
                            0.7777777777777778,
                            "#fb9f3a"
                          ],
                          [
                            0.8888888888888888,
                            "#fdca26"
                          ],
                          [
                            1,
                            "#f0f921"
                          ]
                        ],
                        "type": "histogram2dcontour"
                      }
                    ],
                    "mesh3d": [
                      {
                        "colorbar": {
                          "outlinewidth": 0,
                          "ticks": ""
                        },
                        "type": "mesh3d"
                      }
                    ],
                    "parcoords": [
                      {
                        "line": {
                          "colorbar": {
                            "outlinewidth": 0,
                            "ticks": ""
                          }
                        },
                        "type": "parcoords"
                      }
                    ],
                    "pie": [
                      {
                        "automargin": true,
                        "type": "pie"
                      }
                    ],
                    "scatter": [
                      {
                        "fillpattern": {
                          "fillmode": "overlay",
                          "size": 10,
                          "solidity": 0.2
                        },
                        "type": "scatter"
                      }
                    ],
                    "scatter3d": [
                      {
                        "line": {
                          "colorbar": {
                            "outlinewidth": 0,
                            "ticks": ""
                          }
                        },
                        "marker": {
                          "colorbar": {
                            "outlinewidth": 0,
                            "ticks": ""
                          }
                        },
                        "type": "scatter3d"
                      }
                    ],
                    "scattercarpet": [
                      {
                        "marker": {
                          "colorbar": {
                            "outlinewidth": 0,
                            "ticks": ""
                          }
                        },
                        "type": "scattercarpet"
                      }
                    ],
                    "scattergeo": [
                      {
                        "marker": {
                          "colorbar": {
                            "outlinewidth": 0,
                            "ticks": ""
                          }
                        },
                        "type": "scattergeo"
                      }
                    ],
                    "scattergl": [
                      {
                        "marker": {
                          "colorbar": {
                            "outlinewidth": 0,
                            "ticks": ""
                          }
                        },
                        "type": "scattergl"
                      }
                    ],
                    "scattermapbox": [
                      {
                        "marker": {
                          "colorbar": {
                            "outlinewidth": 0,
                            "ticks": ""
                          }
                        },
                        "type": "scattermapbox"
                      }
                    ],
                    "scatterpolar": [
                      {
                        "marker": {
                          "colorbar": {
                            "outlinewidth": 0,
                            "ticks": ""
                          }
                        },
                        "type": "scatterpolar"
                      }
                    ],
                    "scatterpolargl": [
                      {
                        "marker": {
                          "colorbar": {
                            "outlinewidth": 0,
                            "ticks": ""
                          }
                        },
                        "type": "scatterpolargl"
                      }
                    ],
                    "scatterternary": [
                      {
                        "marker": {
                          "colorbar": {
                            "outlinewidth": 0,
                            "ticks": ""
                          }
                        },
                        "type": "scatterternary"
                      }
                    ],
                    "surface": [
                      {
                        "colorbar": {
                          "outlinewidth": 0,
                          "ticks": ""
                        },
                        "colorscale": [
                          [
                            0,
                            "#0d0887"
                          ],
                          [
                            0.1111111111111111,
                            "#46039f"
                          ],
                          [
                            0.2222222222222222,
                            "#7201a8"
                          ],
                          [
                            0.3333333333333333,
                            "#9c179e"
                          ],
                          [
                            0.4444444444444444,
                            "#bd3786"
                          ],
                          [
                            0.5555555555555556,
                            "#d8576b"
                          ],
                          [
                            0.6666666666666666,
                            "#ed7953"
                          ],
                          [
                            0.7777777777777778,
                            "#fb9f3a"
                          ],
                          [
                            0.8888888888888888,
                            "#fdca26"
                          ],
                          [
                            1,
                            "#f0f921"
                          ]
                        ],
                        "type": "surface"
                      }
                    ],
                    "table": [
                      {
                        "cells": {
                          "fill": {
                            "color": "#EBF0F8"
                          },
                          "line": {
                            "color": "white"
                          }
                        },
                        "header": {
                          "fill": {
                            "color": "#C8D4E3"
                          },
                          "line": {
                            "color": "white"
                          }
                        },
                        "type": "table"
                      }
                    ]
                  },
                  "layout": {
                    "annotationdefaults": {
                      "arrowcolor": "#2a3f5f",
                      "arrowhead": 0,
                      "arrowwidth": 1
                    },
                    "autotypenumbers": "strict",
                    "coloraxis": {
                      "colorbar": {
                        "outlinewidth": 0,
                        "ticks": ""
                      }
                    },
                    "colorscale": {
                      "diverging": [
                        [
                          0,
                          "#8e0152"
                        ],
                        [
                          0.1,
                          "#c51b7d"
                        ],
                        [
                          0.2,
                          "#de77ae"
                        ],
                        [
                          0.3,
                          "#f1b6da"
                        ],
                        [
                          0.4,
                          "#fde0ef"
                        ],
                        [
                          0.5,
                          "#f7f7f7"
                        ],
                        [
                          0.6,
                          "#e6f5d0"
                        ],
                        [
                          0.7,
                          "#b8e186"
                        ],
                        [
                          0.8,
                          "#7fbc41"
                        ],
                        [
                          0.9,
                          "#4d9221"
                        ],
                        [
                          1,
                          "#276419"
                        ]
                      ],
                      "sequential": [
                        [
                          0,
                          "#0d0887"
                        ],
                        [
                          0.1111111111111111,
                          "#46039f"
                        ],
                        [
                          0.2222222222222222,
                          "#7201a8"
                        ],
                        [
                          0.3333333333333333,
                          "#9c179e"
                        ],
                        [
                          0.4444444444444444,
                          "#bd3786"
                        ],
                        [
                          0.5555555555555556,
                          "#d8576b"
                        ],
                        [
                          0.6666666666666666,
                          "#ed7953"
                        ],
                        [
                          0.7777777777777778,
                          "#fb9f3a"
                        ],
                        [
                          0.8888888888888888,
                          "#fdca26"
                        ],
                        [
                          1,
                          "#f0f921"
                        ]
                      ],
                      "sequentialminus": [
                        [
                          0,
                          "#0d0887"
                        ],
                        [
                          0.1111111111111111,
                          "#46039f"
                        ],
                        [
                          0.2222222222222222,
                          "#7201a8"
                        ],
                        [
                          0.3333333333333333,
                          "#9c179e"
                        ],
                        [
                          0.4444444444444444,
                          "#bd3786"
                        ],
                        [
                          0.5555555555555556,
                          "#d8576b"
                        ],
                        [
                          0.6666666666666666,
                          "#ed7953"
                        ],
                        [
                          0.7777777777777778,
                          "#fb9f3a"
                        ],
                        [
                          0.8888888888888888,
                          "#fdca26"
                        ],
                        [
                          1,
                          "#f0f921"
                        ]
                      ]
                    },
                    "colorway": [
                      "#636efa",
                      "#EF553B",
                      "#00cc96",
                      "#ab63fa",
                      "#FFA15A",
                      "#19d3f3",
                      "#FF6692",
                      "#B6E880",
                      "#FF97FF",
                      "#FECB52"
                    ],
                    "font": {
                      "color": "#2a3f5f"
                    },
                    "geo": {
                      "bgcolor": "white",
                      "lakecolor": "white",
                      "landcolor": "#E5ECF6",
                      "showlakes": true,
                      "showland": true,
                      "subunitcolor": "white"
                    },
                    "hoverlabel": {
                      "align": "left"
                    },
                    "hovermode": "closest",
                    "mapbox": {
                      "style": "light"
                    },
                    "paper_bgcolor": "white",
                    "plot_bgcolor": "#E5ECF6",
                    "polar": {
                      "angularaxis": {
                        "gridcolor": "white",
                        "linecolor": "white",
                        "ticks": ""
                      },
                      "bgcolor": "#E5ECF6",
                      "radialaxis": {
                        "gridcolor": "white",
                        "linecolor": "white",
                        "ticks": ""
                      }
                    },
                    "scene": {
                      "xaxis": {
                        "backgroundcolor": "#E5ECF6",
                        "gridcolor": "white",
                        "gridwidth": 2,
                        "linecolor": "white",
                        "showbackground": true,
                        "ticks": "",
                        "zerolinecolor": "white"
                      },
                      "yaxis": {
                        "backgroundcolor": "#E5ECF6",
                        "gridcolor": "white",
                        "gridwidth": 2,
                        "linecolor": "white",
                        "showbackground": true,
                        "ticks": "",
                        "zerolinecolor": "white"
                      },
                      "zaxis": {
                        "backgroundcolor": "#E5ECF6",
                        "gridcolor": "white",
                        "gridwidth": 2,
                        "linecolor": "white",
                        "showbackground": true,
                        "ticks": "",
                        "zerolinecolor": "white"
                      }
                    },
                    "shapedefaults": {
                      "line": {
                        "color": "#2a3f5f"
                      }
                    },
                    "ternary": {
                      "aaxis": {
                        "gridcolor": "white",
                        "linecolor": "white",
                        "ticks": ""
                      },
                      "baxis": {
                        "gridcolor": "white",
                        "linecolor": "white",
                        "ticks": ""
                      },
                      "bgcolor": "#E5ECF6",
                      "caxis": {
                        "gridcolor": "white",
                        "linecolor": "white",
                        "ticks": ""
                      }
                    },
                    "title": {
                      "x": 0.05
                    },
                    "xaxis": {
                      "automargin": true,
                      "gridcolor": "white",
                      "linecolor": "white",
                      "ticks": "",
                      "title": {
                        "standoff": 15
                      },
                      "zerolinecolor": "white",
                      "zerolinewidth": 2
                    },
                    "yaxis": {
                      "automargin": true,
                      "gridcolor": "white",
                      "linecolor": "white",
                      "ticks": "",
                      "title": {
                        "standoff": 15
                      },
                      "zerolinecolor": "white",
                      "zerolinewidth": 2
                    }
                  }
                }
              }
            }
          },
          "metadata": {},
          "output_type": "display_data"
        }
      ],
      "source": [
        "for i in range(1,11):\n",
        "    print(f\"Choropleth for community {i}\")\n",
        "    choropleth(i, location_df, list_of_country_dict)"
      ]
    },
    {
      "cell_type": "markdown",
      "metadata": {
        "id": "NwdeGECk6y47"
      },
      "source": [
        "for 10 largest communities all location data with counts"
      ]
    },
    {
      "cell_type": "code",
      "execution_count": null,
      "metadata": {
        "id": "T9ZSATyI6y47",
        "outputId": "42efb6a2-5136-4a89-b8af-e7c7c576e8ba"
      },
      "outputs": [
        {
          "name": "stdout",
          "output_type": "stream",
          "text": [
            "25978\n",
            "182575\n"
          ]
        }
      ],
      "source": [
        "list_of_country_dict = []\n",
        "\n",
        "for i in range(len(sorted_communities)):\n",
        "\n",
        "\n",
        "    country_dict = {}\n",
        "\n",
        "    for node in sorted_communities[i]:\n",
        "\n",
        "        if str(node) in node_geo_data:\n",
        "            country = node_geo_data[str(node)]\n",
        "            if country not in country_dict:\n",
        "                country_dict[country] = 1\n",
        "            else:\n",
        "                country_dict[country] += 1\n",
        "\n",
        "\n",
        "    country_dict = {k: v for k, v in sorted(country_dict.items(), key=lambda item: item[1], reverse=True)}\n",
        "\n",
        "    list_of_country_dict.append(country_dict)\n",
        "\n",
        "    #print(f\"Community {i}:{country_dict}\")\n",
        "\n",
        "print(len(list_of_country_dict))\n",
        "\n",
        "\n",
        "unique_keys = set().union(*(d.keys() for d in list_of_country_dict))\n",
        "print(len(unique_keys))\n"
      ]
    },
    {
      "cell_type": "markdown",
      "metadata": {
        "id": "ZCEoy4fi6y4-"
      },
      "source": [
        "dictionary for entire dataset, twitter location names with counts"
      ]
    },
    {
      "cell_type": "code",
      "execution_count": null,
      "metadata": {
        "id": "o4ZC1R5F6y4-",
        "outputId": "12367811-79a2-49e2-9f39-57edcef1b6d7"
      },
      "outputs": [
        {
          "name": "stdout",
          "output_type": "stream",
          "text": [
            "182575\n"
          ]
        }
      ],
      "source": [
        "country_dict_full = {}\n",
        "\n",
        "for i in range(len(sorted_communities)):\n",
        "\n",
        "\n",
        "    for node in sorted_communities[i]:\n",
        "        if str(node) in node_geo_data:\n",
        "          #if location data is available\n",
        "            country = node_geo_data[str(node)]\n",
        "            if country not in country_dict_full:\n",
        "              # if new country not in dict initialize count\n",
        "                country_dict_full[country] = 1\n",
        "            else:\n",
        "                country_dict_full[country] += 1\n",
        "\n",
        "\n",
        "country_dict_full = {k: v for k, v in sorted(country_dict_full.items(), key=lambda item: item[1], reverse=True)}\n",
        "\n",
        "print(len(country_dict_full))"
      ]
    },
    {
      "cell_type": "code",
      "execution_count": null,
      "metadata": {
        "id": "t8qIgepa6y4_",
        "outputId": "b5855fda-4051-4633-c0cc-16384493d5ef"
      },
      "outputs": [
        {
          "name": "stdout",
          "output_type": "stream",
          "text": [
            "56700\n",
            "125875\n"
          ]
        }
      ],
      "source": [
        "\n",
        "for key in country_dict.keys():\n",
        "    if key in country_dict_full.keys():\n",
        "        del country_dict_full[key]\n",
        "\n",
        "print(len(country_dict))\n",
        "print(len(country_dict_full))"
      ]
    },
    {
      "cell_type": "markdown",
      "metadata": {
        "id": "VGWdOlyU6y5C"
      },
      "source": [
        "#### Choropleth map for whole network"
      ]
    },
    {
      "cell_type": "code",
      "execution_count": null,
      "metadata": {
        "id": "Sze7y-lv6y5C"
      },
      "outputs": [],
      "source": [
        "df_largest_community_full = pd.DataFrame(columns=['Country','Count'])  # dataframe of countries and counts for full network\n",
        "location_df = location_df.reset_index(drop=True)\n",
        "\n",
        "for community in range(1,len(list_of_country_dict)+1):\n",
        "    # loop over communities\n",
        "    for location in list_of_country_dict[community-1].keys():\n",
        "        # loop over locations in communities\n",
        "        count = list_of_country_dict[community-1][location]\n",
        "        index = location_df.index[location_df['Twitter_Name']==location]\n",
        "        if index.size != 0:\n",
        "            # if location data exists\n",
        "            country = location_df['Country'].iloc[index].tolist()[0]\n",
        "            if len(df_largest_community_full) == 0:\n",
        "                # initialise dataframe\n",
        "                inter_df = pd.DataFrame(columns=['Country','Count'])\n",
        "                inter_df.at[0,'Country'] = country\n",
        "                inter_df.at[0,'Count'] = count\n",
        "                df_largest_community_full = pd.concat([df_largest_community_full, inter_df], ignore_index=True)\n",
        "            else:\n",
        "                if country not in df_largest_community_full['Country'].to_list():\n",
        "                    # initialise country\n",
        "                    inter_df = pd.DataFrame(columns=['Country','Count'])\n",
        "                    inter_df.at[0,'Country'] = country\n",
        "                    inter_df.at[0,'Count'] = count\n",
        "                    df_largest_community_full = pd.concat([df_largest_community_full, inter_df], ignore_index=True)\n",
        "                else:\n",
        "                    # add count to existing country\n",
        "                    index = df_largest_community_full.index[df_largest_community_full['Country']==country]\n",
        "                    df_largest_community_full['Count'].iloc[index] += count\n",
        "\n",
        "df_largest_community_full = df_largest_community_full.sort_values(by=['Count'], ascending=False)\n"
      ]
    },
    {
      "cell_type": "code",
      "execution_count": null,
      "metadata": {
        "id": "0G36XvI16y5D",
        "outputId": "b48b7ff1-db79-4647-eae9-13bc097aa674"
      },
      "outputs": [
        {
          "name": "stdout",
          "output_type": "stream",
          "text": [
            "           Country   Count\n",
            "0    United States  218926\n",
            "3   United Kingdom   44151\n",
            "1           Canada   25504\n",
            "2        Australia   10731\n",
            "13           India    9517\n"
          ]
        }
      ],
      "source": [
        "print(df_largest_community_full.head())"
      ]
    },
    {
      "cell_type": "code",
      "execution_count": null,
      "metadata": {
        "id": "NZIa7oJV6y5D"
      },
      "outputs": [],
      "source": [
        "# same search as before but for entire network location information this time\n",
        "\n",
        "from geopy.exc import GeocoderTimedOut\n",
        "from geopy.geocoders import Nominatim\n",
        "import pickle\n",
        "import json\n",
        "import pandas as pd\n",
        "from geopy.exc import GeocoderServiceError\n",
        "geolocator = Nominatim(user_agent=\"pinda@seznam.cz\")\n",
        "\n",
        "def getcoordinates(location):\n",
        "    try:\n",
        "        return geolocator.geocode(location, timeout=1, language='en')\n",
        "    except GeocoderTimedOut:\n",
        "        return getcoordinates(location)\n",
        "\n",
        "def getaddress(coordinates):\n",
        "    try:\n",
        "        return geolocator.reverse(coordinates, timeout=1, language='en')\n",
        "    except GeocoderTimedOut:\n",
        "        return getaddress(coordinates)\n",
        "\n",
        "\n",
        "with open('D:\\\\M4R_oskar\\\\User_Network\\\\country_dict_full_split_0.pickle', 'rb') as fp:\n",
        "    country_dict = pickle.load(fp)\n",
        "\n",
        "\n",
        "country_dict = dict(country_dict)\n",
        "\n",
        "from geopy.exc import GeocoderUnavailable\n",
        "\n",
        "location_dict_full = {}\n",
        "i = 0\n",
        "\n",
        "for key in list(country_dict.keys()):\n",
        "    i += 1\n",
        "    if i % 100 == 0:\n",
        "        #print(i)\n",
        "    try:\n",
        "        location = getcoordinates(key)\n",
        "        latitude = location.latitude\n",
        "        longitude = location.longitude\n",
        "        location_dict_full[key] = [latitude, longitude]\n",
        "    except AttributeError:\n",
        "        pass\n",
        "    except GeocoderUnavailable:\n",
        "        #print(key)\n",
        "        #print(i)\n",
        "    except GeocoderServiceError:\n",
        "        #print(i)\n",
        "\n",
        "\n",
        "\n",
        "with open('D:\\\\M4R_oskar\\\\User_Network\\\\location_dict_full_0.json', 'w') as fp:\n",
        "    json.dump(location_dict_full, fp)\n",
        "\n",
        "\n",
        "import numpy as np\n",
        "\n",
        "twitter_names = location_dict_full.keys()\n",
        "coordinates = location_dict_full.values()\n",
        "location_dict_for_df = {'Twitter_Name': list(twitter_names), 'Coordinates': list(coordinates)}\n",
        "location_df = pd.DataFrame(location_dict_for_df)\n",
        "\n",
        "location_df['Country'] = np.nan\n",
        "#print(location_df.head())\n",
        "\n",
        "\n",
        "i = 0\n",
        "for name in location_df['Twitter_Name']:\n",
        "    index = location_df.index[location_df['Twitter_Name']==name].tolist()\n",
        "    coordinates = location_df['Coordinates'].iloc[index].tolist()\n",
        "    i += 1\n",
        "    if i % 100 == 0:\n",
        "        print(i)\n",
        "    try:\n",
        "        location = getaddress(coordinates)\n",
        "        country = location.address.split(\",\")[-1].strip()\n",
        "        #print(country)\n",
        "        location_df['Country'].iloc[index] = country\n",
        "    except AttributeError:\n",
        "        pass\n",
        "    except GeocoderUnavailable:\n",
        "        #print(i)\n",
        "        #print(coordinates)\n",
        "    except GeocoderServiceError:\n",
        "        #print(i)\n",
        "\n",
        "\n",
        "location_df.to_csv('D:\\\\M4R_oskar\\\\User_Network\\\\location_df_full.csv')"
      ]
    },
    {
      "cell_type": "markdown",
      "metadata": {
        "id": "0LGf8eS26y5E"
      },
      "source": [
        "choropleth for full network"
      ]
    },
    {
      "cell_type": "code",
      "execution_count": null,
      "metadata": {
        "id": "kCMCAVmK6y5F",
        "outputId": "188be6cf-abc0-4d46-b4d0-64be2fb7b58c"
      },
      "outputs": [
        {
          "data": {
            "application/vnd.plotly.v1+json": {
              "config": {
                "plotlyServerURL": "https://plot.ly"
              },
              "data": [
                {
                  "coloraxis": "coloraxis",
                  "geo": "geo",
                  "hovertemplate": "Country=%{location}<br>Number of users=%{z}<extra></extra>",
                  "locationmode": "country names",
                  "locations": [
                    "United States",
                    "United Kingdom",
                    "Canada",
                    "Australia",
                    "India",
                    "France",
                    "Brazil",
                    "South Africa",
                    "Germany",
                    "Spain",
                    "Netherlands",
                    "Japan",
                    "Italy",
                    "Mexico",
                    "Ireland",
                    "Nigeria",
                    "Kenya",
                    "New Zealand",
                    "Thailand",
                    "Philippines",
                    "China",
                    "Pakistan",
                    "Argentina",
                    "Sweden",
                    "Malaysia",
                    "Belgium",
                    "Colombia",
                    "Switzerland",
                    "Indonesia",
                    "Chile",
                    "Poland",
                    "Portugal",
                    "Ghana",
                    "Greece",
                    "Warsaw",
                    "Turkey",
                    "Denmark",
                    "Finland",
                    "Uganda",
                    "Russia",
                    "Norway",
                    "Venezuela",
                    "Austria",
                    "Laos",
                    "United Arab Emirates",
                    "Peru",
                    "Taiwan",
                    "Panama",
                    "Iran",
                    "Romania",
                    "Singapore",
                    "Israel",
                    "Serbia",
                    "Bosnia and Herzegovina",
                    "Ecuador",
                    "Ukraine",
                    "South Korea",
                    "Costa Rica",
                    "Paraguay",
                    "Zimbabwe",
                    "Saudi Arabia",
                    "Vietnam",
                    "Tanzania",
                    "Estonia",
                    "Guatemala",
                    "Liberia",
                    "Czechia",
                    "Dominican Republic",
                    "Azerbaijan",
                    "Egypt",
                    "Nepal",
                    "Hungary",
                    "Croatia",
                    "Chad",
                    "Jamaica",
                    "Myanmar",
                    "Botswana",
                    "Bulgaria",
                    null,
                    "Slovenia",
                    "Cyprus",
                    "Morocco",
                    "Trinidad and Tobago",
                    "Haiti",
                    "Uruguay",
                    "El Salvador",
                    "Cameroon",
                    "Latvia",
                    "Bangladesh",
                    "Sri Lanka",
                    "Slovakia",
                    "Namibia",
                    "Zambia",
                    "Tunisia",
                    "Qatar",
                    "Jersey",
                    "Albania",
                    "Iraq",
                    "Ethiopia",
                    "Algeria",
                    "Lebanon",
                    "Kazakhstan",
                    "Iceland",
                    "Cuba",
                    "Kuwait",
                    "Prague",
                    "Belarus",
                    "Vatican City",
                    "Mongolia",
                    "The Bahamas",
                    "North Macedonia",
                    "Georgia",
                    "Gabon",
                    "Seychelles",
                    "Luxembourg",
                    "Sudan",
                    "Bolivia",
                    "Democratic Republic of the Congo",
                    "Papua New Guinea",
                    "Afghanistan",
                    "Rwanda",
                    "Mali",
                    "Honduras",
                    "Somalia",
                    "Nicaragua",
                    "Yemen",
                    "Oman",
                    "Malta",
                    "Cayman Islands",
                    "Bahrain",
                    "Tajikistan",
                    "Fiji",
                    "Lithuania",
                    "Mauritius",
                    "North Korea",
                    "Sierra Leone",
                    "Palestinian Territory",
                    "Moldova",
                    "Falkland Islands",
                    "Cambodia",
                    "Isle of Man",
                    "Malawi",
                    "Guernsey",
                    "Burkina Faso",
                    "Uzbekistan",
                    "Jordan",
                    "Barbados",
                    "Angola",
                    "Côte d'Ivoire",
                    "Madagascar",
                    "South Sudan",
                    "Greenland",
                    "Guyana",
                    "Syria",
                    "Gibraltar",
                    "Senegal",
                    "Mozambique",
                    "Montenegro",
                    "Armenia",
                    "Kosovo",
                    "Eswatini",
                    "Belize",
                    "Togo",
                    "Maldives",
                    "Bermuda",
                    "Libya",
                    "Andorra",
                    "Congo-Brazzaville",
                    "The Gambia",
                    "Benin",
                    "Lesotho",
                    "Saint Lucia",
                    "Niger",
                    "Djibouti",
                    "Faroe Islands",
                    "Suriname",
                    "Brunei",
                    "Eritrea",
                    "Dominica",
                    "Cape Verde",
                    "Grenada",
                    "Turkmenistan",
                    "Anguilla",
                    "Liechtenstein",
                    "Vanuatu",
                    "Antigua and Barbuda",
                    "Tonga",
                    "Federated States of Micronesia",
                    "81-130",
                    "Guinea",
                    "South Georgia and the South Sandwich Islands",
                    "Monaco",
                    "Samoa",
                    "Turks and Caicos Islands",
                    "Saint Kitts and Nevis",
                    "British Virgin Islands",
                    "Niue",
                    "Burundi",
                    "Kyrgyzstan",
                    "East Timor",
                    "Bhutan",
                    "Kiribati",
                    "Ascension and Tristan da Cunha",
                    "Central African Republic",
                    "Solomon Islands",
                    "British Indian Ocean Territory",
                    "Marshall Islands",
                    "Equatorial Guinea",
                    "Cook Islands",
                    "San Marino",
                    "Palau",
                    "Mauritania",
                    "Haaksbergen",
                    "São Tomé and Príncipe",
                    "Pitcairn Islands",
                    "Nauru",
                    "Montserrat",
                    "Saint Vincent and the Grenadines",
                    "Debris Field",
                    "Tokelau",
                    "Tuvalu",
                    "Soul Buoy",
                    "Sahrawi Arab Democratic Republic",
                    "McMurdo Station",
                    "Mirny Station",
                    "Troll",
                    "Eldey",
                    "Zackenberg",
                    "Juan Carlos I Antarctic Base",
                    "Guinea-Bissau",
                    "Zielona Góra",
                    "Cap Prud'homme Camp",
                    "Rockabill Lighthouse",
                    "Johnston Atoll Airport (closed)",
                    "Nomads Land",
                    "Palma",
                    "Gulf of Thailand",
                    "Zeewolde",
                    "County Roscommon",
                    "La Navase Haiti"
                  ],
                  "name": "",
                  "type": "choropleth",
                  "z": [
                    255385,
                    50071,
                    30228,
                    12863,
                    12740,
                    8024,
                    7820,
                    7742,
                    6899,
                    5229,
                    4454,
                    4095,
                    3599,
                    3182,
                    3016,
                    3009,
                    2449,
                    2420,
                    2297,
                    2206,
                    1858,
                    1762,
                    1725,
                    1659,
                    1547,
                    1476,
                    1443,
                    1391,
                    1344,
                    1338,
                    1250,
                    1206,
                    1106,
                    1087,
                    1085,
                    1068,
                    1042,
                    1040,
                    1030,
                    1006,
                    962,
                    891,
                    883,
                    766,
                    681,
                    641,
                    615,
                    588,
                    581,
                    574,
                    549,
                    522,
                    509,
                    505,
                    480,
                    453,
                    439,
                    381,
                    373,
                    349,
                    341,
                    335,
                    334,
                    320,
                    309,
                    304,
                    297,
                    281,
                    273,
                    270,
                    269,
                    256,
                    247,
                    246,
                    239,
                    239,
                    228,
                    227,
                    224,
                    216,
                    215,
                    209,
                    205,
                    194,
                    190,
                    186,
                    182,
                    178,
                    165,
                    160,
                    158,
                    156,
                    155,
                    155,
                    149,
                    146,
                    144,
                    144,
                    143,
                    141,
                    138,
                    138,
                    132,
                    123,
                    119,
                    115,
                    115,
                    114,
                    113,
                    112,
                    111,
                    108,
                    106,
                    105,
                    102,
                    101,
                    99,
                    98,
                    91,
                    90,
                    88,
                    87,
                    87,
                    85,
                    83,
                    77,
                    74,
                    73,
                    71,
                    70,
                    69,
                    68,
                    67,
                    65,
                    64,
                    61,
                    60,
                    59,
                    58,
                    55,
                    55,
                    55,
                    54,
                    51,
                    50,
                    50,
                    49,
                    48,
                    48,
                    46,
                    45,
                    41,
                    40,
                    39,
                    39,
                    38,
                    37,
                    36,
                    35,
                    35,
                    33,
                    31,
                    31,
                    30,
                    28,
                    27,
                    26,
                    25,
                    25,
                    24,
                    22,
                    22,
                    21,
                    20,
                    18,
                    18,
                    16,
                    14,
                    14,
                    13,
                    13,
                    12,
                    12,
                    12,
                    12,
                    12,
                    11,
                    11,
                    11,
                    11,
                    11,
                    10,
                    10,
                    10,
                    10,
                    9,
                    9,
                    9,
                    8,
                    8,
                    8,
                    8,
                    8,
                    7,
                    7,
                    7,
                    7,
                    6,
                    6,
                    6,
                    5,
                    5,
                    4,
                    3,
                    3,
                    3,
                    3,
                    3,
                    2,
                    2,
                    2,
                    2,
                    2,
                    2,
                    1,
                    1,
                    1,
                    1,
                    1,
                    1,
                    1,
                    1,
                    1,
                    1,
                    1,
                    1,
                    1,
                    1,
                    1,
                    1
                  ]
                }
              ],
              "layout": {
                "coloraxis": {
                  "colorbar": {
                    "title": {
                      "text": "Number of users"
                    }
                  },
                  "colorscale": [
                    [
                      0,
                      "rgb(255,255,204)"
                    ],
                    [
                      0.125,
                      "rgb(255,237,160)"
                    ],
                    [
                      0.25,
                      "rgb(254,217,118)"
                    ],
                    [
                      0.375,
                      "rgb(254,178,76)"
                    ],
                    [
                      0.5,
                      "rgb(253,141,60)"
                    ],
                    [
                      0.625,
                      "rgb(252,78,42)"
                    ],
                    [
                      0.75,
                      "rgb(227,26,28)"
                    ],
                    [
                      0.875,
                      "rgb(189,0,38)"
                    ],
                    [
                      1,
                      "rgb(128,0,38)"
                    ]
                  ]
                },
                "geo": {
                  "center": {},
                  "domain": {
                    "x": [
                      0,
                      1
                    ],
                    "y": [
                      0,
                      1
                    ]
                  },
                  "scope": "world"
                },
                "legend": {
                  "tracegroupgap": 0
                },
                "margin": {
                  "t": 60
                },
                "template": {
                  "data": {
                    "bar": [
                      {
                        "error_x": {
                          "color": "#2a3f5f"
                        },
                        "error_y": {
                          "color": "#2a3f5f"
                        },
                        "marker": {
                          "line": {
                            "color": "#E5ECF6",
                            "width": 0.5
                          },
                          "pattern": {
                            "fillmode": "overlay",
                            "size": 10,
                            "solidity": 0.2
                          }
                        },
                        "type": "bar"
                      }
                    ],
                    "barpolar": [
                      {
                        "marker": {
                          "line": {
                            "color": "#E5ECF6",
                            "width": 0.5
                          },
                          "pattern": {
                            "fillmode": "overlay",
                            "size": 10,
                            "solidity": 0.2
                          }
                        },
                        "type": "barpolar"
                      }
                    ],
                    "carpet": [
                      {
                        "aaxis": {
                          "endlinecolor": "#2a3f5f",
                          "gridcolor": "white",
                          "linecolor": "white",
                          "minorgridcolor": "white",
                          "startlinecolor": "#2a3f5f"
                        },
                        "baxis": {
                          "endlinecolor": "#2a3f5f",
                          "gridcolor": "white",
                          "linecolor": "white",
                          "minorgridcolor": "white",
                          "startlinecolor": "#2a3f5f"
                        },
                        "type": "carpet"
                      }
                    ],
                    "choropleth": [
                      {
                        "colorbar": {
                          "outlinewidth": 0,
                          "ticks": ""
                        },
                        "type": "choropleth"
                      }
                    ],
                    "contour": [
                      {
                        "colorbar": {
                          "outlinewidth": 0,
                          "ticks": ""
                        },
                        "colorscale": [
                          [
                            0,
                            "#0d0887"
                          ],
                          [
                            0.1111111111111111,
                            "#46039f"
                          ],
                          [
                            0.2222222222222222,
                            "#7201a8"
                          ],
                          [
                            0.3333333333333333,
                            "#9c179e"
                          ],
                          [
                            0.4444444444444444,
                            "#bd3786"
                          ],
                          [
                            0.5555555555555556,
                            "#d8576b"
                          ],
                          [
                            0.6666666666666666,
                            "#ed7953"
                          ],
                          [
                            0.7777777777777778,
                            "#fb9f3a"
                          ],
                          [
                            0.8888888888888888,
                            "#fdca26"
                          ],
                          [
                            1,
                            "#f0f921"
                          ]
                        ],
                        "type": "contour"
                      }
                    ],
                    "contourcarpet": [
                      {
                        "colorbar": {
                          "outlinewidth": 0,
                          "ticks": ""
                        },
                        "type": "contourcarpet"
                      }
                    ],
                    "heatmap": [
                      {
                        "colorbar": {
                          "outlinewidth": 0,
                          "ticks": ""
                        },
                        "colorscale": [
                          [
                            0,
                            "#0d0887"
                          ],
                          [
                            0.1111111111111111,
                            "#46039f"
                          ],
                          [
                            0.2222222222222222,
                            "#7201a8"
                          ],
                          [
                            0.3333333333333333,
                            "#9c179e"
                          ],
                          [
                            0.4444444444444444,
                            "#bd3786"
                          ],
                          [
                            0.5555555555555556,
                            "#d8576b"
                          ],
                          [
                            0.6666666666666666,
                            "#ed7953"
                          ],
                          [
                            0.7777777777777778,
                            "#fb9f3a"
                          ],
                          [
                            0.8888888888888888,
                            "#fdca26"
                          ],
                          [
                            1,
                            "#f0f921"
                          ]
                        ],
                        "type": "heatmap"
                      }
                    ],
                    "heatmapgl": [
                      {
                        "colorbar": {
                          "outlinewidth": 0,
                          "ticks": ""
                        },
                        "colorscale": [
                          [
                            0,
                            "#0d0887"
                          ],
                          [
                            0.1111111111111111,
                            "#46039f"
                          ],
                          [
                            0.2222222222222222,
                            "#7201a8"
                          ],
                          [
                            0.3333333333333333,
                            "#9c179e"
                          ],
                          [
                            0.4444444444444444,
                            "#bd3786"
                          ],
                          [
                            0.5555555555555556,
                            "#d8576b"
                          ],
                          [
                            0.6666666666666666,
                            "#ed7953"
                          ],
                          [
                            0.7777777777777778,
                            "#fb9f3a"
                          ],
                          [
                            0.8888888888888888,
                            "#fdca26"
                          ],
                          [
                            1,
                            "#f0f921"
                          ]
                        ],
                        "type": "heatmapgl"
                      }
                    ],
                    "histogram": [
                      {
                        "marker": {
                          "pattern": {
                            "fillmode": "overlay",
                            "size": 10,
                            "solidity": 0.2
                          }
                        },
                        "type": "histogram"
                      }
                    ],
                    "histogram2d": [
                      {
                        "colorbar": {
                          "outlinewidth": 0,
                          "ticks": ""
                        },
                        "colorscale": [
                          [
                            0,
                            "#0d0887"
                          ],
                          [
                            0.1111111111111111,
                            "#46039f"
                          ],
                          [
                            0.2222222222222222,
                            "#7201a8"
                          ],
                          [
                            0.3333333333333333,
                            "#9c179e"
                          ],
                          [
                            0.4444444444444444,
                            "#bd3786"
                          ],
                          [
                            0.5555555555555556,
                            "#d8576b"
                          ],
                          [
                            0.6666666666666666,
                            "#ed7953"
                          ],
                          [
                            0.7777777777777778,
                            "#fb9f3a"
                          ],
                          [
                            0.8888888888888888,
                            "#fdca26"
                          ],
                          [
                            1,
                            "#f0f921"
                          ]
                        ],
                        "type": "histogram2d"
                      }
                    ],
                    "histogram2dcontour": [
                      {
                        "colorbar": {
                          "outlinewidth": 0,
                          "ticks": ""
                        },
                        "colorscale": [
                          [
                            0,
                            "#0d0887"
                          ],
                          [
                            0.1111111111111111,
                            "#46039f"
                          ],
                          [
                            0.2222222222222222,
                            "#7201a8"
                          ],
                          [
                            0.3333333333333333,
                            "#9c179e"
                          ],
                          [
                            0.4444444444444444,
                            "#bd3786"
                          ],
                          [
                            0.5555555555555556,
                            "#d8576b"
                          ],
                          [
                            0.6666666666666666,
                            "#ed7953"
                          ],
                          [
                            0.7777777777777778,
                            "#fb9f3a"
                          ],
                          [
                            0.8888888888888888,
                            "#fdca26"
                          ],
                          [
                            1,
                            "#f0f921"
                          ]
                        ],
                        "type": "histogram2dcontour"
                      }
                    ],
                    "mesh3d": [
                      {
                        "colorbar": {
                          "outlinewidth": 0,
                          "ticks": ""
                        },
                        "type": "mesh3d"
                      }
                    ],
                    "parcoords": [
                      {
                        "line": {
                          "colorbar": {
                            "outlinewidth": 0,
                            "ticks": ""
                          }
                        },
                        "type": "parcoords"
                      }
                    ],
                    "pie": [
                      {
                        "automargin": true,
                        "type": "pie"
                      }
                    ],
                    "scatter": [
                      {
                        "fillpattern": {
                          "fillmode": "overlay",
                          "size": 10,
                          "solidity": 0.2
                        },
                        "type": "scatter"
                      }
                    ],
                    "scatter3d": [
                      {
                        "line": {
                          "colorbar": {
                            "outlinewidth": 0,
                            "ticks": ""
                          }
                        },
                        "marker": {
                          "colorbar": {
                            "outlinewidth": 0,
                            "ticks": ""
                          }
                        },
                        "type": "scatter3d"
                      }
                    ],
                    "scattercarpet": [
                      {
                        "marker": {
                          "colorbar": {
                            "outlinewidth": 0,
                            "ticks": ""
                          }
                        },
                        "type": "scattercarpet"
                      }
                    ],
                    "scattergeo": [
                      {
                        "marker": {
                          "colorbar": {
                            "outlinewidth": 0,
                            "ticks": ""
                          }
                        },
                        "type": "scattergeo"
                      }
                    ],
                    "scattergl": [
                      {
                        "marker": {
                          "colorbar": {
                            "outlinewidth": 0,
                            "ticks": ""
                          }
                        },
                        "type": "scattergl"
                      }
                    ],
                    "scattermapbox": [
                      {
                        "marker": {
                          "colorbar": {
                            "outlinewidth": 0,
                            "ticks": ""
                          }
                        },
                        "type": "scattermapbox"
                      }
                    ],
                    "scatterpolar": [
                      {
                        "marker": {
                          "colorbar": {
                            "outlinewidth": 0,
                            "ticks": ""
                          }
                        },
                        "type": "scatterpolar"
                      }
                    ],
                    "scatterpolargl": [
                      {
                        "marker": {
                          "colorbar": {
                            "outlinewidth": 0,
                            "ticks": ""
                          }
                        },
                        "type": "scatterpolargl"
                      }
                    ],
                    "scatterternary": [
                      {
                        "marker": {
                          "colorbar": {
                            "outlinewidth": 0,
                            "ticks": ""
                          }
                        },
                        "type": "scatterternary"
                      }
                    ],
                    "surface": [
                      {
                        "colorbar": {
                          "outlinewidth": 0,
                          "ticks": ""
                        },
                        "colorscale": [
                          [
                            0,
                            "#0d0887"
                          ],
                          [
                            0.1111111111111111,
                            "#46039f"
                          ],
                          [
                            0.2222222222222222,
                            "#7201a8"
                          ],
                          [
                            0.3333333333333333,
                            "#9c179e"
                          ],
                          [
                            0.4444444444444444,
                            "#bd3786"
                          ],
                          [
                            0.5555555555555556,
                            "#d8576b"
                          ],
                          [
                            0.6666666666666666,
                            "#ed7953"
                          ],
                          [
                            0.7777777777777778,
                            "#fb9f3a"
                          ],
                          [
                            0.8888888888888888,
                            "#fdca26"
                          ],
                          [
                            1,
                            "#f0f921"
                          ]
                        ],
                        "type": "surface"
                      }
                    ],
                    "table": [
                      {
                        "cells": {
                          "fill": {
                            "color": "#EBF0F8"
                          },
                          "line": {
                            "color": "white"
                          }
                        },
                        "header": {
                          "fill": {
                            "color": "#C8D4E3"
                          },
                          "line": {
                            "color": "white"
                          }
                        },
                        "type": "table"
                      }
                    ]
                  },
                  "layout": {
                    "annotationdefaults": {
                      "arrowcolor": "#2a3f5f",
                      "arrowhead": 0,
                      "arrowwidth": 1
                    },
                    "autotypenumbers": "strict",
                    "coloraxis": {
                      "colorbar": {
                        "outlinewidth": 0,
                        "ticks": ""
                      }
                    },
                    "colorscale": {
                      "diverging": [
                        [
                          0,
                          "#8e0152"
                        ],
                        [
                          0.1,
                          "#c51b7d"
                        ],
                        [
                          0.2,
                          "#de77ae"
                        ],
                        [
                          0.3,
                          "#f1b6da"
                        ],
                        [
                          0.4,
                          "#fde0ef"
                        ],
                        [
                          0.5,
                          "#f7f7f7"
                        ],
                        [
                          0.6,
                          "#e6f5d0"
                        ],
                        [
                          0.7,
                          "#b8e186"
                        ],
                        [
                          0.8,
                          "#7fbc41"
                        ],
                        [
                          0.9,
                          "#4d9221"
                        ],
                        [
                          1,
                          "#276419"
                        ]
                      ],
                      "sequential": [
                        [
                          0,
                          "#0d0887"
                        ],
                        [
                          0.1111111111111111,
                          "#46039f"
                        ],
                        [
                          0.2222222222222222,
                          "#7201a8"
                        ],
                        [
                          0.3333333333333333,
                          "#9c179e"
                        ],
                        [
                          0.4444444444444444,
                          "#bd3786"
                        ],
                        [
                          0.5555555555555556,
                          "#d8576b"
                        ],
                        [
                          0.6666666666666666,
                          "#ed7953"
                        ],
                        [
                          0.7777777777777778,
                          "#fb9f3a"
                        ],
                        [
                          0.8888888888888888,
                          "#fdca26"
                        ],
                        [
                          1,
                          "#f0f921"
                        ]
                      ],
                      "sequentialminus": [
                        [
                          0,
                          "#0d0887"
                        ],
                        [
                          0.1111111111111111,
                          "#46039f"
                        ],
                        [
                          0.2222222222222222,
                          "#7201a8"
                        ],
                        [
                          0.3333333333333333,
                          "#9c179e"
                        ],
                        [
                          0.4444444444444444,
                          "#bd3786"
                        ],
                        [
                          0.5555555555555556,
                          "#d8576b"
                        ],
                        [
                          0.6666666666666666,
                          "#ed7953"
                        ],
                        [
                          0.7777777777777778,
                          "#fb9f3a"
                        ],
                        [
                          0.8888888888888888,
                          "#fdca26"
                        ],
                        [
                          1,
                          "#f0f921"
                        ]
                      ]
                    },
                    "colorway": [
                      "#636efa",
                      "#EF553B",
                      "#00cc96",
                      "#ab63fa",
                      "#FFA15A",
                      "#19d3f3",
                      "#FF6692",
                      "#B6E880",
                      "#FF97FF",
                      "#FECB52"
                    ],
                    "font": {
                      "color": "#2a3f5f"
                    },
                    "geo": {
                      "bgcolor": "white",
                      "lakecolor": "white",
                      "landcolor": "#E5ECF6",
                      "showlakes": true,
                      "showland": true,
                      "subunitcolor": "white"
                    },
                    "hoverlabel": {
                      "align": "left"
                    },
                    "hovermode": "closest",
                    "mapbox": {
                      "style": "light"
                    },
                    "paper_bgcolor": "white",
                    "plot_bgcolor": "#E5ECF6",
                    "polar": {
                      "angularaxis": {
                        "gridcolor": "white",
                        "linecolor": "white",
                        "ticks": ""
                      },
                      "bgcolor": "#E5ECF6",
                      "radialaxis": {
                        "gridcolor": "white",
                        "linecolor": "white",
                        "ticks": ""
                      }
                    },
                    "scene": {
                      "xaxis": {
                        "backgroundcolor": "#E5ECF6",
                        "gridcolor": "white",
                        "gridwidth": 2,
                        "linecolor": "white",
                        "showbackground": true,
                        "ticks": "",
                        "zerolinecolor": "white"
                      },
                      "yaxis": {
                        "backgroundcolor": "#E5ECF6",
                        "gridcolor": "white",
                        "gridwidth": 2,
                        "linecolor": "white",
                        "showbackground": true,
                        "ticks": "",
                        "zerolinecolor": "white"
                      },
                      "zaxis": {
                        "backgroundcolor": "#E5ECF6",
                        "gridcolor": "white",
                        "gridwidth": 2,
                        "linecolor": "white",
                        "showbackground": true,
                        "ticks": "",
                        "zerolinecolor": "white"
                      }
                    },
                    "shapedefaults": {
                      "line": {
                        "color": "#2a3f5f"
                      }
                    },
                    "ternary": {
                      "aaxis": {
                        "gridcolor": "white",
                        "linecolor": "white",
                        "ticks": ""
                      },
                      "baxis": {
                        "gridcolor": "white",
                        "linecolor": "white",
                        "ticks": ""
                      },
                      "bgcolor": "#E5ECF6",
                      "caxis": {
                        "gridcolor": "white",
                        "linecolor": "white",
                        "ticks": ""
                      }
                    },
                    "title": {
                      "x": 0.05
                    },
                    "xaxis": {
                      "automargin": true,
                      "gridcolor": "white",
                      "linecolor": "white",
                      "ticks": "",
                      "title": {
                        "standoff": 15
                      },
                      "zerolinecolor": "white",
                      "zerolinewidth": 2
                    },
                    "yaxis": {
                      "automargin": true,
                      "gridcolor": "white",
                      "linecolor": "white",
                      "ticks": "",
                      "title": {
                        "standoff": 15
                      },
                      "zerolinecolor": "white",
                      "zerolinewidth": 2
                    }
                  }
                }
              }
            }
          },
          "metadata": {},
          "output_type": "display_data"
        }
      ],
      "source": [
        "df_full = pd.DataFrame(columns=['Country','Count'])  # dataframe for choropleth\n",
        "location_df_full = location_df_full.reset_index(drop=True)\n",
        "\n",
        "for location in country_dict_full.keys():\n",
        "    # loop over location\n",
        "    count = country_dict_full[location]\n",
        "    index = location_df_full.index[location_df_full['Twitter_Name']==location]\n",
        "    if index.size != 0:\n",
        "        # if location exists\n",
        "        country = location_df_full['Country'].iloc[index].tolist()[0]\n",
        "\n",
        "        if len(df_full) == 0:\n",
        "            # if dataframe empty initialise\n",
        "            inter_df = pd.DataFrame(columns=['Country','Count'])\n",
        "            inter_df.at[0,'Country'] = country\n",
        "            inter_df.at[0,'Count'] = count\n",
        "            df_full = pd.concat([df_full, inter_df], ignore_index=True)\n",
        "        else:\n",
        "            if country not in df_full['Country'].to_list():\n",
        "                # initialise country entry\n",
        "                inter_df = pd.DataFrame(columns=['Country','Count'])\n",
        "                inter_df.at[0,'Country'] = country\n",
        "                inter_df.at[0,'Count'] = count\n",
        "                df_full = pd.concat([df_full, inter_df], ignore_index=True)\n",
        "            else:\n",
        "                # add count\n",
        "                index = df_full.index[df_full['Country']==country]\n",
        "                df_full['Count'].iloc[index] += count\n",
        "\n",
        "df_full = df_full.sort_values(by=['Count'], ascending=False)\n",
        "fig = px.choropleth(df_full, locations=\"Country\",color=df_full[\"Count\"].astype(float),\n",
        "                        locationmode=\"country names\", scope=\"world\",color_continuous_scale = 'ylorrd',\n",
        "                        labels={'color':'Number of users'})\n",
        "fig.show()\n",
        "fig.write_html('D:\\\\M4R_oskar\\\\Figures\\\\Choropleth_communities\\\\Louvain\\\\choropleth_full_network_lcc.html')"
      ]
    },
    {
      "cell_type": "markdown",
      "metadata": {
        "id": "eR3hiP9I6y5c"
      },
      "source": [
        "## Infomap partitioning"
      ]
    },
    {
      "cell_type": "markdown",
      "metadata": {
        "id": "u6frEQLV6y5d"
      },
      "source": [
        "create a dict of user id to assigned number so that we can use it in infomap as infomap does not allow node values with large numbers which happens with user_ids"
      ]
    },
    {
      "cell_type": "code",
      "execution_count": null,
      "metadata": {
        "id": "MSg5qTdR6y5d"
      },
      "outputs": [],
      "source": [
        "import pandas as pd\n",
        "\n",
        "nodes_list = list(G_weighted.nodes)\n",
        "nodes_label_list = list(range(1, len(nodes_list)+1))  # nodes have labels 1,..., number of nodes\n",
        "nodes_dict = dict(zip(nodes_list, nodes_label_list))\n",
        "node_to_userid_dict = dict(zip(nodes_label_list, nodes_list))"
      ]
    },
    {
      "cell_type": "code",
      "execution_count": null,
      "metadata": {
        "id": "XKEcZooK6y5d",
        "outputId": "5a816d9d-7446-45d0-df44-63ee3e7db62d"
      },
      "outputs": [
        {
          "name": "stdout",
          "output_type": "stream",
          "text": [
            "1000000\n",
            "2000000\n",
            "3000000\n",
            "4000000\n"
          ]
        }
      ],
      "source": [
        "infomap_graph = infomap.Infomap()\n",
        "i=0\n",
        "\n",
        "for edge in G_weighted.edges():\n",
        "    # turn G_weighted into infomap graph\n",
        "    i+=1\n",
        "    if i%1000000==0:\n",
        "        print(i)\n",
        "    source = nodes_dict[edge[0]]\n",
        "    target = nodes_dict[edge[1]]\n",
        "    weight = G_weighted[edge[0]][edge[1]]['weight']\n",
        "    infomap_graph.add_link(source, target, weight)"
      ]
    },
    {
      "cell_type": "markdown",
      "metadata": {
        "id": "x_iKcDu-6y5e"
      },
      "source": [
        "now run infomap algorithm on graph and collect resulting communities"
      ]
    },
    {
      "cell_type": "code",
      "execution_count": null,
      "metadata": {
        "id": "2EHed0_J6y5e"
      },
      "outputs": [],
      "source": [
        "infomap_graph.run()  # run infomap algorithm"
      ]
    },
    {
      "cell_type": "code",
      "execution_count": null,
      "metadata": {
        "id": "8HD9skBK6y5e"
      },
      "outputs": [],
      "source": [
        "tree = infomap_graph.tree  # get the resulting tree"
      ]
    },
    {
      "cell_type": "code",
      "execution_count": null,
      "metadata": {
        "id": "rH23X0T56y5f",
        "outputId": "3f5009a8-4859-45d8-892c-0fa3d4259db9"
      },
      "outputs": [
        {
          "name": "stdout",
          "output_type": "stream",
          "text": [
            "[676848, 195390, 86610, 28005, 12164, 7737, 2537, 3078, 2992, 1933, 2176, 1270, 1510, 1128, 1178, 924, 1437, 719, 617, 714, 597, 472, 631, 349, 322, 325, 378, 126, 289, 216, 107, 110, 169, 103, 164, 87, 84, 30, 88, 28, 18, 22, 32, 46, 33, 43, 26, 52, 36, 41, 11, 39, 14, 17, 17, 37, 11, 12, 26, 18, 27, 27, 9, 24, 6, 7, 7, 8, 7, 5, 6, 6, 3, 2]\n",
            "74\n"
          ]
        }
      ],
      "source": [
        "list_modules = [[] for i in range(74)]  # communities resulting from infomap\n",
        "\n",
        "for node,module in infomap_graph.getModules().items():\n",
        "\t#loop over all nodes of graph and associated community\n",
        "\tuser_id = node_to_userid_dict[node]\n",
        "\tlist_modules[module-1].append(user_id)\n",
        "\n",
        "module_sizes = [len(i) for i in list_modules]\n",
        "\n",
        "print(module_sizes)\n",
        "print(len(list_modules))"
      ]
    },
    {
      "cell_type": "code",
      "execution_count": null,
      "metadata": {
        "id": "oEvOArfi6y5f"
      },
      "outputs": [],
      "source": [
        "sorted_communities_infomap = sorted(list_modules, key=len, reverse=True)\n",
        "\n",
        "with open('D:\\\\M4R_oskar\\\\User_Network\\\\Communities_Infomap\\\\sorted_communities_infomap.pickle', 'wb') as fp:\n",
        "    pickle.dump(sorted_communities_infomap, fp)"
      ]
    },
    {
      "cell_type": "markdown",
      "metadata": {
        "id": "lwk2ACkt6y5g"
      },
      "source": [
        "### Performance measures of Infomap"
      ]
    },
    {
      "cell_type": "code",
      "execution_count": null,
      "metadata": {
        "id": "P-IkT0JJ6y5h"
      },
      "outputs": [],
      "source": [
        "with open('D:\\\\M4R_oskar\\\\User_Network\\\\Communities_Infomap\\\\sorted_communities_infomap.pickle', 'rb') as fp:\n",
        "    sorted_communities_infomap = pickle.load(fp)"
      ]
    },
    {
      "cell_type": "code",
      "execution_count": null,
      "metadata": {
        "id": "3D4B_c5p6y5h"
      },
      "outputs": [],
      "source": [
        "print(nx.community.modularity(G_weighted, sorted_communities_infomap))\n",
        "print(nx.algorithms.community.quality.coverage(G_weighted, sorted_communities_infomap))"
      ]
    },
    {
      "cell_type": "markdown",
      "metadata": {
        "id": "NzmBk_sR6y5h"
      },
      "source": [
        "### Pagerank in Infomap communities"
      ]
    },
    {
      "cell_type": "code",
      "execution_count": null,
      "metadata": {
        "id": "TGc7RTS76y5i"
      },
      "outputs": [],
      "source": [
        "for i in range(3):\n",
        "  G_community = G_weighted.copy()\n",
        "  #print(G_community.number_of_nodes())\n",
        "  nodes_to_remove = []\n",
        "  for j in range(len(sorted_communities_infomap)):\n",
        "    if j != i:\n",
        "      nodes_to_remove.extend([node for node in sorted_communities_infomap[j]])\n",
        "  #print(len(nodes_to_remove))\n",
        "  G_community.remove_nodes_from(nodes_to_remove)\n",
        "  #print(G_community.number_of_nodes())\n",
        "  pagerank = nx.pagerank(G_community, weight='weight')\n",
        "  pagerank_list = sorted(list(pagerank.items()), key=lambda x: x[1], reverse=True)\n",
        "  if i == 0:\n",
        "    # first community\n",
        "    for user in pagerank_list[0:10]:\n",
        "      index = np.where(user_text_data_misinf2['User_ID']==user[0])[0][0]\n",
        "      print(f\"{username[str(user[0])]}: {user_text_data_misinf2['Misinformation'][index]}\")\n",
        "      print(user_text_data_misinf2['Cleaned_Tweets'][index])\n",
        "  elif i == 1:\n",
        "    # second community\n",
        "    for user in pagerank_list[0:10]:\n",
        "      index = np.where(user_text_data_misinf2['User_ID']==user[0])[0][0]\n",
        "      print(f\"{username[str(user[0])]}: {user_text_data_misinf2['Misinformation'][index]}\")\n",
        "      print(user_text_data_misinf2['Cleaned_Tweets'][index])\n",
        "  elif i == 2:\n",
        "    # third community\n",
        "    for user in pagerank_list[0:10]:\n",
        "      try:\n",
        "        index = np.where(user_text_data_misinf2['User_ID']==user[0])[0][0]\n",
        "        print(f\"{username[str(user[0])]}: {user_text_data_misinf2['Misinformation'][index]}\")\n",
        "        print(user_text_data_misinf2['Cleaned_Tweets'][index])\n",
        "      except IndexError:\n",
        "        pass\n",
        "  print(f'{i+1} largest community, {len(sorted_communities_infomap[i])} nodes')\n",
        "  print('Pagerank for 10 most central nodes')\n",
        "  print(pagerank_list[0:10])\n",
        "  print('----------------------------------------------')"
      ]
    },
    {
      "cell_type": "markdown",
      "metadata": {
        "id": "XO1F7yEb6y5i"
      },
      "source": [
        "### Misinformation in infomap communities"
      ]
    },
    {
      "cell_type": "code",
      "execution_count": null,
      "metadata": {
        "id": "M8x4qles6y5j",
        "outputId": "150c455f-0bf5-45f0-a225-35e15ca96f93"
      },
      "outputs": [
        {
          "name": "stdout",
          "output_type": "stream",
          "text": [
            "1\n",
            "2\n",
            "3\n",
            "4\n",
            "5\n",
            "6\n",
            "7\n",
            "8\n",
            "9\n",
            "10\n",
            "11\n",
            "12\n",
            "13\n",
            "14\n",
            "15\n",
            "16\n",
            "17\n",
            "18\n",
            "19\n",
            "20\n",
            "21\n",
            "22\n",
            "23\n",
            "24\n",
            "25\n",
            "26\n",
            "27\n",
            "28\n",
            "29\n",
            "30\n",
            "31\n",
            "32\n",
            "33\n",
            "34\n",
            "35\n",
            "36\n",
            "37\n",
            "38\n",
            "39\n",
            "40\n",
            "41\n",
            "42\n",
            "43\n",
            "44\n",
            "45\n",
            "46\n",
            "47\n",
            "48\n",
            "49\n",
            "50\n",
            "51\n",
            "52\n",
            "53\n",
            "54\n",
            "55\n",
            "56\n",
            "57\n",
            "58\n",
            "59\n",
            "60\n",
            "61\n",
            "62\n",
            "63\n",
            "64\n",
            "65\n",
            "66\n",
            "67\n",
            "68\n",
            "69\n",
            "70\n",
            "71\n",
            "72\n",
            "73\n",
            "74\n",
            "[0.5104149890120268, 0.29475449733716136, 0.259810896484057, 0.32425179677249116, 0.24254642787830016, 0.250997281364755, 0.12813055664855688, 0.37358107701200105, 0.0, 0.1377014097903604, 0.2827285549429414, 0.23487788275880986, 0.21273784098531331, 0.14666169761033565, 0.339684871528978, 0.3291403615106208, 0.21183890431324867, 0.21667851606944158, 0.0, 0.24743477323576024, 0.19234800838574423, 0.10202155158927494, 0.0, 0.004247084841174105, 0.10295628082978579, 0.26400949919716843, 0.3903948143783147, 0.3994725968019737, 0.0, 0.3238962125967776, 0.019186420173150354, 0.5188269998264793, 0.2616822429906542, 0.1306878306878307, 0.0, 0.4855597170203912, 0.0, 0.0, 0, 0.3595032840722496, 0.17054263565891473, 0.30333478957332166, 0.7, 0.3323045267489712, 0.7699115044247787, 0.5966863631097208, 0.7633587786259542, 0.08892921960072596, 0.1532258064516129, 0.0, 0.5145536869340233, 0.4090909090909091, 0.0, 0.19002822201317027, 0.2905982905982906, 0.0, 0, 0.2672190574831693, 0.04074955383700178, 0.0, 0.0, 0.0, 0.6, 0.0, 0, 0.0, 0, 0.1184593023255814, 0.3333333333333333, 0.0, 0.0, 0, 0.0, 0]\n"
          ]
        }
      ],
      "source": [
        "misinf_quotient_community_infomap = []  # misinformation quotient for infomap communities\n",
        "\n",
        "for i in range(len(list_modules)):\n",
        "    # loop over communities\n",
        "    community = list_modules[i] # current community\n",
        "    total_misinf = 0\n",
        "    total_tweets = 0\n",
        "    for user in community:\n",
        "        try:\n",
        "            # if user is an original tweeter\n",
        "            index = np.where(user_text_data_misinf2['User_ID']==user)[0][0]  # index of user\n",
        "            total_misinf += user_text_data_misinf2['Misinformation'][index] * len(user_text_data_misinf2['Cleaned_Tweets'][index]) # update total tweets containing misinformation\n",
        "            total_tweets += len(user_text_data_misinf2['Cleaned_Tweets'][index])  # update total tweets\n",
        "        except IndexError:\n",
        "            pass\n",
        "    if total_tweets == 0:\n",
        "        misinf_quotient_community_infomap.append(0)\n",
        "    else:\n",
        "        misinf_quotient_community_infomap.append(total_misinf/total_tweets)  # append misinf quotient\n",
        "\n",
        "print(misinf_quotient_community_infomap)"
      ]
    },
    {
      "cell_type": "markdown",
      "metadata": {
        "id": "lFRA5-Vf6y5j"
      },
      "source": [
        "## Comparing Infomap and Louvain"
      ]
    },
    {
      "cell_type": "code",
      "execution_count": null,
      "metadata": {
        "id": "cxM3NY7X6y5j"
      },
      "outputs": [],
      "source": [
        "sorted_communities_louvain = pickle.load(open('D:\\\\M4R_oskar\\\\User_Network\\\\Communities_Base_Louvain\\\\base_louvain_sorted_communities.pickle', 'rb'))"
      ]
    },
    {
      "cell_type": "code",
      "execution_count": null,
      "metadata": {
        "id": "NAORfHyi6y5k",
        "outputId": "bd532f41-b4c5-4072-b8c1-c5e7cefe5f9e"
      },
      "outputs": [
        {
          "name": "stdout",
          "output_type": "stream",
          "text": [
            "1034337\n",
            "1034337\n"
          ]
        }
      ],
      "source": [
        "dict_labels_infomap = {}  # for all users get corresponding infomap community label\n",
        "\n",
        "for i in range(len(list_modules)):\n",
        "  # loop over infomap communties\n",
        "    for user in list_modules[i]:\n",
        "        # loop over users in community\n",
        "        dict_labels_infomap[user] = i+1\n",
        "\n",
        "dict_labels_louvain = {}  # for all users get corresponding louvain community label\n",
        "\n",
        "for i in range(len(sorted_communities_louvain)):\n",
        "   # loop over louvain communities\n",
        "    for user in sorted_communities_louvain[i]:\n",
        "      # loop over users in community\n",
        "        dict_labels_louvain[user] = i+1\n",
        "\n",
        "print(len(dict_labels_infomap))\n",
        "print(len(dict_labels_louvain))\n",
        "\n",
        "community_labels_infomap = []\n",
        "community_labels_louvain = []\n",
        "\n",
        "for node in G_weighted.nodes():\n",
        "    community_labels_infomap.append(dict_labels_infomap[node])\n",
        "    community_labels_louvain.append(dict_labels_louvain[node])"
      ]
    },
    {
      "cell_type": "code",
      "execution_count": null,
      "metadata": {
        "id": "XnnTqUhb6y5k"
      },
      "outputs": [],
      "source": [
        "from sklearn.metrics import adjusted_rand_score, normalized_mutual_info_score\n",
        "\n",
        "# ari score for louvain and infomap communities\n",
        "print(adjusted_rand_score(community_labels_infomap, community_labels_louvain))"
      ]
    }
  ],
  "metadata": {
    "colab": {
      "provenance": [],
      "toc_visible": true
    },
    "kernelspec": {
      "display_name": "Python 3",
      "name": "python3"
    },
    "language_info": {
      "codemirror_mode": {
        "name": "ipython",
        "version": 3
      },
      "file_extension": ".py",
      "mimetype": "text/x-python",
      "name": "python",
      "nbconvert_exporter": "python",
      "pygments_lexer": "ipython3",
      "version": "3.8.5"
    }
  },
  "nbformat": 4,
  "nbformat_minor": 0
}